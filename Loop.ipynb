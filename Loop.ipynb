{
 "cells": [
  {
   "cell_type": "raw",
   "id": "d7f91f99-9fec-4c37-b51d-ace4b8c3868c",
   "metadata": {},
   "source": [
    "> Loop\n",
    "    > for loop\n",
    "        > break\n",
    "        > continue\n",
    "        > pass\n",
    "        > pattern\n",
    "            > single loop pattern\n",
    "            > multi loop pattern\n",
    "        > list comprehenseion\n",
    "        > dictronary comprehension\n",
    "        > set comprehension\n",
    "        > tuple comprehension(create generator)\n",
    "        > frozenset comprehension\n",
    "        \n",
    "    > while loop\n",
    "        > nested while loop\n",
    "        > pattern\n",
    "        > single loop pattern\n",
    "        > multiloop pattern"
   ]
  },
  {
   "cell_type": "code",
   "execution_count": 2,
   "id": "ae5b5482-e667-475e-83e2-32c3071bf9f6",
   "metadata": {},
   "outputs": [
    {
     "name": "stdout",
     "output_type": "stream",
     "text": [
      "Hello world\n",
      "hello world\n",
      "Hello world\n",
      "hello world\n",
      "Hello world\n"
     ]
    }
   ],
   "source": [
    "print(\"Hello world\")\n",
    "print(\"hello world\")\n",
    "print(\"Hello world\")\n",
    "print(\"hello world\")\n",
    "print(\"Hello world\")"
   ]
  },
  {
   "cell_type": "code",
   "execution_count": 8,
   "id": "50aca25b-161c-48a7-9de5-f8c149b9fcc7",
   "metadata": {},
   "outputs": [
    {
     "name": "stdout",
     "output_type": "stream",
     "text": [
      "Hello world\n",
      "I am krishna\n",
      "Hello world\n",
      "I am krishna\n",
      "Hello world\n",
      "I am krishna\n",
      "Hello world\n",
      "I am krishna\n",
      "Hello world\n",
      "I am krishna\n"
     ]
    }
   ],
   "source": [
    "for i in range(5):\n",
    "    print(\"Hello world\")\n",
    "    print(\"I am krishna\")"
   ]
  },
  {
   "cell_type": "code",
   "execution_count": 3,
   "id": "35907344-789f-4a57-a597-1fd853b3ddd7",
   "metadata": {},
   "outputs": [
    {
     "data": {
      "text/plain": [
       "True"
      ]
     },
     "execution_count": 3,
     "metadata": {},
     "output_type": "execute_result"
    }
   ],
   "source": [
    "1 in range(5)  #[0,1,2,3,4]"
   ]
  },
  {
   "cell_type": "code",
   "execution_count": 4,
   "id": "531cfd84-5e38-4f93-8c18-3126271b1c6c",
   "metadata": {},
   "outputs": [
    {
     "data": {
      "text/plain": [
       "True"
      ]
     },
     "execution_count": 4,
     "metadata": {},
     "output_type": "execute_result"
    }
   ],
   "source": [
    "2 in range(5)  #[0,1,2,3,4]"
   ]
  },
  {
   "cell_type": "code",
   "execution_count": 5,
   "id": "aa46d687-963d-4114-9cbf-e8fba93c5a61",
   "metadata": {},
   "outputs": [
    {
     "data": {
      "text/plain": [
       "False"
      ]
     },
     "execution_count": 5,
     "metadata": {},
     "output_type": "execute_result"
    }
   ],
   "source": [
    "5 in range(5)  #[0,1,2,3,4]"
   ]
  },
  {
   "cell_type": "code",
   "execution_count": 9,
   "id": "8b14a1cf-10aa-4c74-8a2f-5b4dcf5c5fa6",
   "metadata": {},
   "outputs": [
    {
     "name": "stdout",
     "output_type": "stream",
     "text": [
      "Hello world\n",
      "I am krishna\n",
      "Hello world\n",
      "I am krishna\n",
      "Hello world\n",
      "I am krishna\n",
      "Hello world\n",
      "I am krishna\n",
      "Hello world\n",
      "I am krishna\n"
     ]
    }
   ],
   "source": [
    "for i in [1,2,3,4,5]:\n",
    "    print(\"Hello world\")\n",
    "    print(\"I am krishna\")"
   ]
  },
  {
   "cell_type": "code",
   "execution_count": 10,
   "id": "f8ad40ed-1619-4d5d-bce3-4897892ea5a8",
   "metadata": {},
   "outputs": [
    {
     "name": "stdout",
     "output_type": "stream",
     "text": [
      "1 Hello world\n",
      "2 Hello world\n",
      "3 Hello world\n",
      "4 Hello world\n",
      "5 Hello world\n"
     ]
    }
   ],
   "source": [
    "for i in [1,2,3,4,5]:\n",
    "    print(i,\"Hello world\")"
   ]
  },
  {
   "cell_type": "raw",
   "id": "5cc4f162-5165-4388-8fd7-65202c7b6240",
   "metadata": {},
   "source": [
    "# iterable : a datatype which contain a magic method/ dunder method (def __iter__()) called iterable.\n",
    "example: list, tuple,set, frozenset,dict"
   ]
  },
  {
   "cell_type": "raw",
   "id": "64c80ce1-b1f9-4795-94d8-8eb096bf1eab",
   "metadata": {},
   "source": [
    "datatype:\n",
    "\n",
    "int \n",
    "float \n",
    "str\n",
    "list\n",
    "tuple\n",
    "set \n",
    "forzenset\n",
    "dict\n",
    "complex \n",
    "bool"
   ]
  },
  {
   "cell_type": "code",
   "execution_count": 21,
   "id": "48056ee9-62af-425a-b9e5-ed7f97eca16b",
   "metadata": {},
   "outputs": [],
   "source": [
    "a=dict()"
   ]
  },
  {
   "cell_type": "code",
   "execution_count": 22,
   "id": "515bb6f0-5028-4063-9d0f-722516c5403e",
   "metadata": {},
   "outputs": [
    {
     "data": {
      "text/plain": [
       "['__class__',\n",
       " '__class_getitem__',\n",
       " '__contains__',\n",
       " '__delattr__',\n",
       " '__delitem__',\n",
       " '__dir__',\n",
       " '__doc__',\n",
       " '__eq__',\n",
       " '__format__',\n",
       " '__ge__',\n",
       " '__getattribute__',\n",
       " '__getitem__',\n",
       " '__getstate__',\n",
       " '__gt__',\n",
       " '__hash__',\n",
       " '__init__',\n",
       " '__init_subclass__',\n",
       " '__ior__',\n",
       " '__iter__',\n",
       " '__le__',\n",
       " '__len__',\n",
       " '__lt__',\n",
       " '__ne__',\n",
       " '__new__',\n",
       " '__or__',\n",
       " '__reduce__',\n",
       " '__reduce_ex__',\n",
       " '__repr__',\n",
       " '__reversed__',\n",
       " '__ror__',\n",
       " '__setattr__',\n",
       " '__setitem__',\n",
       " '__sizeof__',\n",
       " '__str__',\n",
       " '__subclasshook__',\n",
       " 'clear',\n",
       " 'copy',\n",
       " 'fromkeys',\n",
       " 'get',\n",
       " 'items',\n",
       " 'keys',\n",
       " 'pop',\n",
       " 'popitem',\n",
       " 'setdefault',\n",
       " 'update',\n",
       " 'values']"
      ]
     },
     "execution_count": 22,
     "metadata": {},
     "output_type": "execute_result"
    }
   ],
   "source": [
    "dir(a)"
   ]
  },
  {
   "cell_type": "code",
   "execution_count": null,
   "id": "9660288c-6362-4f2c-afa2-00e119721abc",
   "metadata": {},
   "outputs": [],
   "source": [
    "for i in [1,2,3,4,5]:\n",
    "    print(i,\"Hello world\")"
   ]
  },
  {
   "cell_type": "code",
   "execution_count": 23,
   "id": "037dd444-20df-439b-941a-9117618c0f80",
   "metadata": {},
   "outputs": [
    {
     "data": {
      "text/plain": [
       "range(0, 10)"
      ]
     },
     "execution_count": 23,
     "metadata": {},
     "output_type": "execute_result"
    }
   ],
   "source": [
    "range(10)"
   ]
  },
  {
   "cell_type": "code",
   "execution_count": 26,
   "id": "f8a9749e-5bfc-42dc-aa23-02f351a07782",
   "metadata": {},
   "outputs": [
    {
     "name": "stdout",
     "output_type": "stream",
     "text": [
      "1 Hello world\n",
      "2 Hello world\n",
      "3 Hello world\n",
      "4 Hello world\n",
      "5 Hello world\n",
      "6 Hello world\n",
      "7 Hello world\n",
      "8 Hello world\n",
      "9 Hello world\n",
      "10 Hello world\n"
     ]
    }
   ],
   "source": [
    "for i in range(1,11):\n",
    "    print(i,\"Hello world\")"
   ]
  },
  {
   "cell_type": "code",
   "execution_count": 29,
   "id": "41b602af-7894-41bc-9c2c-e2d912248347",
   "metadata": {},
   "outputs": [
    {
     "name": "stdout",
     "output_type": "stream",
     "text": [
      "0 Hello world\n",
      "3 Hello world\n",
      "6 Hello world\n",
      "9 Hello world\n"
     ]
    }
   ],
   "source": [
    "for i in range(0,11,3):\n",
    "    print(i,\"Hello world\")"
   ]
  },
  {
   "cell_type": "code",
   "execution_count": 32,
   "id": "3ddf26a5-01f7-469a-882f-a26ce9e25a7d",
   "metadata": {},
   "outputs": [
    {
     "name": "stdout",
     "output_type": "stream",
     "text": [
      "9 Hello world\n",
      "8 Hello world\n",
      "7 Hello world\n",
      "6 Hello world\n",
      "5 Hello world\n",
      "4 Hello world\n",
      "3 Hello world\n",
      "2 Hello world\n",
      "1 Hello world\n",
      "0 Hello world\n"
     ]
    }
   ],
   "source": [
    "for i in range(9,-1,-1):\n",
    "    print(i,\"Hello world\")"
   ]
  },
  {
   "cell_type": "code",
   "execution_count": 34,
   "id": "385fbd8c-fe14-4f5c-9443-2e078ec56818",
   "metadata": {},
   "outputs": [
    {
     "data": {
      "text/plain": [
       "range(0, 10, 2)"
      ]
     },
     "execution_count": 34,
     "metadata": {},
     "output_type": "execute_result"
    }
   ],
   "source": [
    "range(0,10,2)"
   ]
  },
  {
   "cell_type": "markdown",
   "id": "e29520be-2560-4424-9d95-f27a31c5c0a9",
   "metadata": {},
   "source": [
    "# Date: 9/8/2023"
   ]
  },
  {
   "cell_type": "markdown",
   "id": "18b21d2c-5f25-4892-bbdc-9fb19fe900d9",
   "metadata": {},
   "source": [
    "continue(always work inside loop)\n",
    "\n",
    "break(always work inside loop)\n",
    "\n",
    "pass"
   ]
  },
  {
   "cell_type": "markdown",
   "id": "70711914-fb48-4d78-8579-e8d549442438",
   "metadata": {},
   "source": [
    "# continue(always work inside loop)"
   ]
  },
  {
   "cell_type": "code",
   "execution_count": 2,
   "id": "eb0dd3ee-1177-4e9e-9068-ab7f2908e3ac",
   "metadata": {},
   "outputs": [
    {
     "name": "stdout",
     "output_type": "stream",
     "text": [
      "0 Hello world\n",
      "1 Hello world\n",
      "2 Hello world\n",
      "3 Hello world\n",
      "4 Hello world\n"
     ]
    }
   ],
   "source": [
    "for i in range(5):\n",
    "    print(i,\"Hello world\")"
   ]
  },
  {
   "cell_type": "code",
   "execution_count": 4,
   "id": "8ce11958-8703-46ee-b030-c965e2361fa3",
   "metadata": {},
   "outputs": [
    {
     "name": "stdout",
     "output_type": "stream",
     "text": [
      "0 Hello world\n",
      "1 Hello world\n",
      "2 Hello world\n",
      "4 Hello world\n"
     ]
    }
   ],
   "source": [
    "for i in range(0,5,1):\n",
    "    if i==3:\n",
    "        continue\n",
    "    print(i,\"Hello world\")"
   ]
  },
  {
   "cell_type": "code",
   "execution_count": 6,
   "id": "509cb35e-5211-44fc-a709-263e0d697937",
   "metadata": {},
   "outputs": [
    {
     "name": "stdout",
     "output_type": "stream",
     "text": [
      "0 Hello world\n",
      "1 Hello world\n",
      "2 Hello world\n",
      "3 Hello world\n",
      "4 Hello world\n"
     ]
    }
   ],
   "source": [
    "for i in range(0,5,1):\n",
    "    print(i,\"Hello world\")\n",
    "    if i==3:\n",
    "        continue\n",
    "        print(\"hello world\")\n",
    "    "
   ]
  },
  {
   "cell_type": "code",
   "execution_count": 12,
   "id": "95efd542-9e53-4933-a6c9-2a209a51ad7e",
   "metadata": {},
   "outputs": [
    {
     "name": "stdout",
     "output_type": "stream",
     "text": [
      "0 Hello world\n",
      "1 Hello world\n",
      "3 Hello world\n",
      "5 Hello world\n",
      "7 Hello world\n",
      "8 Hello world\n",
      "9 Hello world\n"
     ]
    }
   ],
   "source": [
    "for i in range(0,10,1):\n",
    "    if i==2 or i==4 or i==6:\n",
    "        continue\n",
    "    print(i,\"Hello world\")"
   ]
  },
  {
   "cell_type": "code",
   "execution_count": 10,
   "id": "9aec28db-e5da-4d44-b79e-de3f3e34cec0",
   "metadata": {},
   "outputs": [
    {
     "data": {
      "text/plain": [
       "True"
      ]
     },
     "execution_count": 10,
     "metadata": {},
     "output_type": "execute_result"
    }
   ],
   "source": [
    "2==2 or 2==3"
   ]
  },
  {
   "cell_type": "code",
   "execution_count": 11,
   "id": "35176033-2cba-4b8b-b8a7-2d3de2137862",
   "metadata": {},
   "outputs": [
    {
     "data": {
      "text/plain": [
       "False"
      ]
     },
     "execution_count": 11,
     "metadata": {},
     "output_type": "execute_result"
    }
   ],
   "source": [
    "2==2 and 2==3"
   ]
  },
  {
   "cell_type": "code",
   "execution_count": 13,
   "id": "44b3bd1e-10cc-48f7-a2e8-69ffe94337bb",
   "metadata": {},
   "outputs": [
    {
     "name": "stdout",
     "output_type": "stream",
     "text": [
      "0 Hello world\n",
      "1 Hello world\n",
      "3 Hello world\n",
      "5 Hello world\n",
      "7 Hello world\n",
      "8 Hello world\n",
      "9 Hello world\n"
     ]
    }
   ],
   "source": [
    "for i in range(0,10,1):\n",
    "    if i in [2,4,6]:\n",
    "        continue\n",
    "    print(i,\"Hello world\")"
   ]
  },
  {
   "cell_type": "code",
   "execution_count": 17,
   "id": "b4af264e-69cc-48a5-9144-1a4ffe109b21",
   "metadata": {},
   "outputs": [
    {
     "data": {
      "text/plain": [
       "False"
      ]
     },
     "execution_count": 17,
     "metadata": {},
     "output_type": "execute_result"
    }
   ],
   "source": [
    "3 in [2,4,6]"
   ]
  },
  {
   "cell_type": "code",
   "execution_count": 18,
   "id": "9088a6f4-a787-4f22-911b-e57563f8d02a",
   "metadata": {},
   "outputs": [
    {
     "name": "stdout",
     "output_type": "stream",
     "text": [
      "k Hello world\n",
      "r Hello world\n",
      "i Hello world\n",
      "s Hello world\n",
      "h Hello world\n",
      "n Hello world\n",
      "a Hello world\n"
     ]
    }
   ],
   "source": [
    "for i in \"krishna\":\n",
    "    print(i,\"Hello world\")"
   ]
  },
  {
   "cell_type": "code",
   "execution_count": 19,
   "id": "c08202cd-ec6f-443d-ac91-388498ee9e6c",
   "metadata": {},
   "outputs": [
    {
     "name": "stdout",
     "output_type": "stream",
     "text": [
      "k Hello world\n",
      "i Hello world\n",
      "s Hello world\n",
      "h Hello world\n",
      "a Hello world\n"
     ]
    }
   ],
   "source": [
    "for i in \"krishna\":\n",
    "    if i in \"rn\":\n",
    "        continue\n",
    "    print(i,\"Hello world\")"
   ]
  },
  {
   "cell_type": "markdown",
   "id": "5a0e3431-efa8-4895-8fa7-54cbbacacceb",
   "metadata": {},
   "source": [
    "# break "
   ]
  },
  {
   "cell_type": "code",
   "execution_count": 22,
   "id": "7001b0b7-b6a7-4229-8424-a2831b315e88",
   "metadata": {},
   "outputs": [
    {
     "name": "stdout",
     "output_type": "stream",
     "text": [
      "0 hello world\n",
      "1 hello world\n",
      "2 hello world\n"
     ]
    }
   ],
   "source": [
    "for i in range(0,5,1):\n",
    "    if i==3:\n",
    "        break\n",
    "    print(i,\"hello world\")"
   ]
  },
  {
   "cell_type": "markdown",
   "id": "b06f7699-53f1-4b22-b566-0c3bf53aa6d6",
   "metadata": {},
   "source": [
    "# pass"
   ]
  },
  {
   "cell_type": "code",
   "execution_count": 27,
   "id": "0cb18c10-e2d6-4529-9229-b281e945185c",
   "metadata": {},
   "outputs": [
    {
     "name": "stdout",
     "output_type": "stream",
     "text": [
      "I am krishna\n"
     ]
    }
   ],
   "source": [
    "if 10==10:\n",
    "    pass\n",
    "else:\n",
    "    print(\"bye\")\n",
    "print(\"I am krishna\")"
   ]
  },
  {
   "cell_type": "code",
   "execution_count": 31,
   "id": "90f83518-d984-43a6-a9e5-d35229e75f43",
   "metadata": {},
   "outputs": [
    {
     "name": "stdout",
     "output_type": "stream",
     "text": [
      "0 hello world\n",
      "1 hello world\n",
      "2 hello world\n",
      "hello world\n"
     ]
    }
   ],
   "source": [
    "for i in range(0,5,1):\n",
    "    if i==3:\n",
    "        break\n",
    "    print(i,\"hello world\")\n",
    "\n",
    "\n",
    "print(\"hello world\")"
   ]
  },
  {
   "cell_type": "markdown",
   "id": "803547d0-eccc-4753-b645-c42362693d71",
   "metadata": {},
   "source": [
    "# pattern\n",
    "\n",
    "> single loop pattern"
   ]
  },
  {
   "cell_type": "code",
   "execution_count": 1,
   "id": "17ef795e-cfce-4fe0-85f4-867fcc4140ba",
   "metadata": {},
   "outputs": [
    {
     "name": "stdout",
     "output_type": "stream",
     "text": [
      "*\n",
      "**\n",
      "***\n",
      "****\n",
      "*****\n"
     ]
    }
   ],
   "source": [
    "print(\"*\")\n",
    "print(\"**\")\n",
    "print(\"***\")\n",
    "print(\"****\")\n",
    "print(\"*****\")"
   ]
  },
  {
   "cell_type": "code",
   "execution_count": 9,
   "id": "0a48b4cd-7ce6-4e0a-a41b-3cb65ecdbe02",
   "metadata": {},
   "outputs": [
    {
     "name": "stdout",
     "output_type": "stream",
     "text": [
      "*\n",
      "**\n",
      "***\n",
      "****\n",
      "*****\n"
     ]
    }
   ],
   "source": [
    "print(\"*\"*1)\n",
    "print(\"*\"*2)\n",
    "print(\"*\"*3)\n",
    "print(\"*\"*4)\n",
    "print(\"*\"*5)"
   ]
  },
  {
   "cell_type": "code",
   "execution_count": 10,
   "id": "75d429b3-c865-49e7-ad68-447f2c7635a1",
   "metadata": {},
   "outputs": [
    {
     "name": "stdout",
     "output_type": "stream",
     "text": [
      "*\n",
      "**\n",
      "***\n",
      "****\n",
      "*****\n"
     ]
    }
   ],
   "source": [
    "for i in range(1,6):\n",
    "    print(\"*\"*i)"
   ]
  },
  {
   "cell_type": "code",
   "execution_count": 12,
   "id": "b8fc71a8-5879-437a-8bb1-caeb186fceb7",
   "metadata": {},
   "outputs": [
    {
     "name": "stdout",
     "output_type": "stream",
     "text": [
      "*\n",
      "**\n",
      "***\n",
      "****\n",
      "*****\n"
     ]
    }
   ],
   "source": [
    "for i in range(5):\n",
    "    print(\"*\"*(i+1))"
   ]
  },
  {
   "cell_type": "code",
   "execution_count": 13,
   "id": "8c6ab239-227f-438b-abf1-695f28aff74d",
   "metadata": {},
   "outputs": [
    {
     "name": "stdout",
     "output_type": "stream",
     "text": [
      " *\n",
      " * *\n",
      " * * *\n",
      " * * * *\n",
      " * * * * *\n"
     ]
    }
   ],
   "source": [
    "for i in range(5):\n",
    "    print(\"*\"*(i+1))"
   ]
  },
  {
   "cell_type": "code",
   "execution_count": 14,
   "id": "20453552-3fca-4f29-9786-56cbbaaaa37a",
   "metadata": {},
   "outputs": [
    {
     "name": "stdout",
     "output_type": "stream",
     "text": [
      "    *\n",
      "   **\n",
      "  ***\n",
      " ****\n",
      "*****\n"
     ]
    }
   ],
   "source": [
    "print(\"    \"+\"*\")\n",
    "print(\"   \"+\"**\")\n",
    "print(\"  \"+\"***\")\n",
    "print(\" \"+\"****\")\n",
    "print(\"\"+\"*****\")"
   ]
  },
  {
   "cell_type": "code",
   "execution_count": 15,
   "id": "1c833638-8322-40b2-b625-62cf1c3b4dcb",
   "metadata": {},
   "outputs": [
    {
     "name": "stdout",
     "output_type": "stream",
     "text": [
      "    *\n",
      "   **\n",
      "  ***\n",
      " ****\n",
      "*****\n"
     ]
    }
   ],
   "source": [
    "print(\" \"*4+\"*\"*1)\n",
    "print(\" \"*3+\"*\"*2)\n",
    "print(\" \"*2+\"*\"*3)\n",
    "print(\" \"*1+\"*\"*4)\n",
    "print(\" \"*0+\"*\"*5)"
   ]
  },
  {
   "cell_type": "code",
   "execution_count": 18,
   "id": "6ebc557f-8483-4d0e-8259-ae5a0953b70c",
   "metadata": {},
   "outputs": [
    {
     "name": "stdout",
     "output_type": "stream",
     "text": [
      "    *\n",
      "   **\n",
      "  ***\n",
      " ****\n",
      "*****\n"
     ]
    }
   ],
   "source": [
    "for i in range(5):\n",
    "    print(\" \"*(4-i)+\"*\"*(i+1))"
   ]
  },
  {
   "cell_type": "code",
   "execution_count": 19,
   "id": "87bcc7d1-97ed-40ff-bdb6-dd89fcbc3db4",
   "metadata": {},
   "outputs": [
    {
     "name": "stdout",
     "output_type": "stream",
     "text": [
      "    *\n",
      "   **\n",
      " ****\n",
      "*****\n"
     ]
    }
   ],
   "source": [
    "for i in range(5):\n",
    "    if i==2:\n",
    "        continue\n",
    "    print(\" \"*(4-i)+\"*\"*(i+1))"
   ]
  },
  {
   "cell_type": "code",
   "execution_count": 20,
   "id": "1b500126-93b9-40be-afd1-363f04d00f36",
   "metadata": {},
   "outputs": [
    {
     "name": "stdout",
     "output_type": "stream",
     "text": [
      "    *\n",
      "  ***\n",
      "*****\n"
     ]
    }
   ],
   "source": [
    "for i in range(5):\n",
    "    if i==1 or i==3:\n",
    "        continue\n",
    "    print(\" \"*(4-i)+\"*\"*(i+1))"
   ]
  },
  {
   "cell_type": "code",
   "execution_count": 23,
   "id": "5b1fb323-0069-4b45-ad64-7aec201bf938",
   "metadata": {},
   "outputs": [
    {
     "name": "stdout",
     "output_type": "stream",
     "text": [
      "    *\n",
      "   ***\n",
      "  *****\n",
      " *******\n",
      "*********\n"
     ]
    }
   ],
   "source": [
    "for i in range(5):\n",
    "    # if i==1 or i==3:\n",
    "    #     continue\n",
    "    print(\" \"*(4-i)+\"*\"*(i+1)+\"*\"*(i))"
   ]
  },
  {
   "cell_type": "code",
   "execution_count": 32,
   "id": "dec5f8ca-1cf0-4394-9c25-b13f0ef18691",
   "metadata": {},
   "outputs": [
    {
     "name": "stdout",
     "output_type": "stream",
     "text": [
      "    * \n",
      "  * * * \n",
      "* * * * * \n"
     ]
    }
   ],
   "source": [
    "for i in range(5):\n",
    "    if i==1 or i==3:\n",
    "        continue\n",
    "    print(\" \"*(4-i)+\"* \"*(i+1))"
   ]
  },
  {
   "cell_type": "code",
   "execution_count": 39,
   "id": "22e6fc37-fb5c-4d98-85eb-31f2164949ed",
   "metadata": {},
   "outputs": [
    {
     "name": "stdout",
     "output_type": "stream",
     "text": [
      " * * * * \n",
      "   * * \n",
      "     \n"
     ]
    }
   ],
   "source": [
    "for i in range(5):\n",
    "    if i==1 or i==3:\n",
    "        continue\n",
    "    print(\" \"*(i+1)+\"* \"*(4-i))\n",
    "print()"
   ]
  },
  {
   "cell_type": "code",
   "execution_count": 33,
   "id": "221c0584-7899-4698-993a-4f0d02724208",
   "metadata": {},
   "outputs": [
    {
     "name": "stdout",
     "output_type": "stream",
     "text": [
      "*****\n",
      " ****\n",
      "  ***\n",
      "   **\n",
      "    *\n"
     ]
    }
   ],
   "source": [
    "print(\" \"*0+\"*\"*5)\n",
    "print(\" \"*1+\"*\"*4)\n",
    "print(\" \"*2+\"*\"*3)\n",
    "print(\" \"*3+\"*\"*2)\n",
    "print(\" \"*4+\"*\"*1)"
   ]
  },
  {
   "cell_type": "code",
   "execution_count": 40,
   "id": "f9fb0709-5612-4c01-9a66-bb5f99a47c9e",
   "metadata": {},
   "outputs": [
    {
     "name": "stdout",
     "output_type": "stream",
     "text": [
      "* * * * * \n",
      "  * * * * * \n",
      "    * * * * * \n"
     ]
    }
   ],
   "source": [
    "for i in range(5):\n",
    "    if i==1 or i==3:\n",
    "        continue\n",
    "    print(\" \"*(0+i)+\"* \"*(5))"
   ]
  },
  {
   "cell_type": "code",
   "execution_count": 46,
   "id": "6ea54ae2-00fc-4a7d-868b-85757a84a6c3",
   "metadata": {},
   "outputs": [
    {
     "name": "stdout",
     "output_type": "stream",
     "text": [
      "* * * * * \n",
      "  * * * * * \n",
      "    * * * * * \n",
      "      * * * * * \n",
      "        * * * * * \n"
     ]
    }
   ],
   "source": [
    "for i in range(5):\n",
    "    print(((\" \"*(i+1)+\" \"*(0+i)+\"* \"*(5)))[1:])"
   ]
  },
  {
   "cell_type": "code",
   "execution_count": 42,
   "id": "58e96374-46e8-4c46-bcb4-c821d305eef1",
   "metadata": {},
   "outputs": [
    {
     "name": "stdout",
     "output_type": "stream",
     "text": [
      "* * * * * \n",
      " * * * * * \n",
      "  * * * * * \n"
     ]
    }
   ],
   "source": [
    "for i in range(3):\n",
    "    print(\" \"*(0+i)+\"* \"*(5))"
   ]
  },
  {
   "cell_type": "markdown",
   "id": "f7bb5efb-c2b6-46b4-9ac9-2d341c0cf60f",
   "metadata": {},
   "source": [
    "# Pattern using nested for loop"
   ]
  },
  {
   "cell_type": "code",
   "execution_count": 1,
   "id": "73ce5472-3b4f-4854-a8fb-b08953f42440",
   "metadata": {},
   "outputs": [
    {
     "name": "stdout",
     "output_type": "stream",
     "text": [
      "    *\n",
      "   **\n",
      "  ***\n",
      " ****\n",
      "*****\n"
     ]
    }
   ],
   "source": [
    "for i in range(5):\n",
    "    for j in range(5):\n",
    "        if j<(4-i):\n",
    "            print(\" \",end=\"\")\n",
    "        else:\n",
    "            print(\"*\",end=\"\")\n",
    "    print()\n",
    "    "
   ]
  },
  {
   "cell_type": "markdown",
   "id": "38e1d6b9-6dfb-4c8d-be95-cbb53932a290",
   "metadata": {},
   "source": [
    "> list comprehension\n",
    "    \n",
    "> dictronary comprehension\n",
    "\n",
    "> set comprehension\n",
    "\n",
    "> tuple comprehension(create generator)\n",
    "\n",
    "> frozenset comprehension"
   ]
  },
  {
   "cell_type": "markdown",
   "id": "839bfac7-1a32-47e2-9dfd-1b80159283fc",
   "metadata": {},
   "source": [
    "# list comprehension"
   ]
  },
  {
   "cell_type": "code",
   "execution_count": 3,
   "id": "58fd212e-8900-4f7d-9515-9d09f66cff70",
   "metadata": {},
   "outputs": [
    {
     "name": "stdout",
     "output_type": "stream",
     "text": [
      "[0, 1, 2, 3, 4, 5, 6, 7, 8, 9]\n"
     ]
    }
   ],
   "source": [
    "a=[]\n",
    "for i in range(10):\n",
    "    a.append(i)\n",
    "print(a)"
   ]
  },
  {
   "cell_type": "code",
   "execution_count": 4,
   "id": "aaadac02-14e2-4656-a403-66f6403d7a97",
   "metadata": {},
   "outputs": [
    {
     "name": "stdout",
     "output_type": "stream",
     "text": [
      "[0, 1, 2, 3, 4, 5, 6, 7, 8, 9]\n"
     ]
    }
   ],
   "source": [
    "b=[i for i in range(10)]\n",
    "print(b)"
   ]
  },
  {
   "cell_type": "code",
   "execution_count": 5,
   "id": "7c742cb4-0fd0-4316-a7ba-96de929e1199",
   "metadata": {},
   "outputs": [
    {
     "name": "stdout",
     "output_type": "stream",
     "text": [
      "[0, 1, 2, 3, 4, 5, 6, 7, 8, 9]\n"
     ]
    }
   ],
   "source": [
    "print([i for i in range(10)])"
   ]
  },
  {
   "cell_type": "markdown",
   "id": "50f3985c-56d9-46ab-a8ce-0057a6aef05b",
   "metadata": {},
   "source": [
    "# set comprehension"
   ]
  },
  {
   "cell_type": "code",
   "execution_count": 6,
   "id": "60c87184-3c2f-415d-a7e6-fe0cdd4fd91a",
   "metadata": {},
   "outputs": [
    {
     "name": "stdout",
     "output_type": "stream",
     "text": [
      "{0, 1, 2, 3, 4, 5, 6, 7, 8, 9}\n"
     ]
    }
   ],
   "source": [
    "a=set()\n",
    "for i in range(10):\n",
    "    a.add(i)\n",
    "print(a)"
   ]
  },
  {
   "cell_type": "code",
   "execution_count": 10,
   "id": "9391e1b1-99ce-4462-9a30-8d83741e8e72",
   "metadata": {},
   "outputs": [
    {
     "name": "stdout",
     "output_type": "stream",
     "text": [
      "{0, 1, 2, 3, 4, 5, 6, 7, 8, 9}\n"
     ]
    }
   ],
   "source": [
    "b={i for i in range(10)}\n",
    "print(b)"
   ]
  },
  {
   "cell_type": "markdown",
   "id": "303a858e-825c-44bf-9b80-a9ff175d280b",
   "metadata": {},
   "source": [
    "# frozenset comprehension"
   ]
  },
  {
   "cell_type": "code",
   "execution_count": 11,
   "id": "fd38fb95-f63c-4d20-8b5b-3706c0c2f8de",
   "metadata": {},
   "outputs": [
    {
     "name": "stdout",
     "output_type": "stream",
     "text": [
      "frozenset({0, 1, 2, 3, 4, 5, 6, 7, 8, 9})\n"
     ]
    }
   ],
   "source": [
    "a=frozenset()\n",
    "for i in range(10):\n",
    "    a=a.union(frozenset({i}))\n",
    "print(a)"
   ]
  },
  {
   "cell_type": "code",
   "execution_count": 12,
   "id": "3db20b83-e704-4d57-b28a-453f769fd83d",
   "metadata": {},
   "outputs": [],
   "source": [
    "b=frozenset({i for i in range(10)})"
   ]
  },
  {
   "cell_type": "code",
   "execution_count": 13,
   "id": "8483a2fd-e5e4-47d1-9fd4-f4833001a878",
   "metadata": {},
   "outputs": [
    {
     "name": "stdout",
     "output_type": "stream",
     "text": [
      "frozenset({0, 1, 2, 3, 4, 5, 6, 7, 8, 9})\n"
     ]
    }
   ],
   "source": [
    "print(b)"
   ]
  },
  {
   "cell_type": "markdown",
   "id": "9182d9d0-0af9-47da-9451-090cf0f324cf",
   "metadata": {},
   "source": [
    "# tuple comprehension(create generator object)"
   ]
  },
  {
   "cell_type": "code",
   "execution_count": 14,
   "id": "e419953d-ed21-4753-80d8-db4f9ca307d4",
   "metadata": {},
   "outputs": [
    {
     "name": "stdout",
     "output_type": "stream",
     "text": [
      "(0, 1, 2, 3, 4, 5, 6, 7, 8, 9)\n"
     ]
    }
   ],
   "source": [
    "a=()\n",
    "for i in range(10):\n",
    "    a=a+(i,)\n",
    "print(a)"
   ]
  },
  {
   "cell_type": "code",
   "execution_count": 15,
   "id": "ea634feb-5645-406d-bea8-41d6b4d1f426",
   "metadata": {},
   "outputs": [],
   "source": [
    "b=(i for i in range(10))"
   ]
  },
  {
   "cell_type": "code",
   "execution_count": 16,
   "id": "cd8f9565-9e3c-4158-b7ff-60d15c24e413",
   "metadata": {},
   "outputs": [
    {
     "name": "stdout",
     "output_type": "stream",
     "text": [
      "<generator object <genexpr> at 0x000002115D1D5BE0>\n"
     ]
    }
   ],
   "source": [
    "print(b)"
   ]
  },
  {
   "cell_type": "code",
   "execution_count": 17,
   "id": "3122d3fd-cdd7-4571-b747-b00d2da58088",
   "metadata": {},
   "outputs": [
    {
     "data": {
      "text/plain": [
       "0"
      ]
     },
     "execution_count": 17,
     "metadata": {},
     "output_type": "execute_result"
    }
   ],
   "source": [
    "next(b)"
   ]
  },
  {
   "cell_type": "code",
   "execution_count": 27,
   "id": "1756fe7e-6f2f-456b-8629-980ae5bbb13b",
   "metadata": {},
   "outputs": [
    {
     "ename": "StopIteration",
     "evalue": "",
     "output_type": "error",
     "traceback": [
      "\u001b[1;31m---------------------------------------------------------------------------\u001b[0m",
      "\u001b[1;31mStopIteration\u001b[0m                             Traceback (most recent call last)",
      "Cell \u001b[1;32mIn[27], line 1\u001b[0m\n\u001b[1;32m----> 1\u001b[0m \u001b[38;5;28;43mnext\u001b[39;49m\u001b[43m(\u001b[49m\u001b[43mb\u001b[49m\u001b[43m)\u001b[49m\n",
      "\u001b[1;31mStopIteration\u001b[0m: "
     ]
    }
   ],
   "source": [
    "next(b)"
   ]
  },
  {
   "cell_type": "code",
   "execution_count": 1,
   "id": "500dd493-99a5-4ea6-b818-3910f02fa6fa",
   "metadata": {},
   "outputs": [],
   "source": [
    "enrollment=[1,2,3,4,5]\n",
    "name=[\"krishna\",\"shyam\",\"radhey\",\"Mohan\",\"Sohan\"]"
   ]
  },
  {
   "cell_type": "code",
   "execution_count": 2,
   "id": "0753b4b0-6cc6-4765-a136-09ab66227779",
   "metadata": {},
   "outputs": [
    {
     "name": "stdout",
     "output_type": "stream",
     "text": [
      "1\n",
      "2\n",
      "3\n",
      "4\n",
      "5\n"
     ]
    }
   ],
   "source": [
    "for i in enrollment:\n",
    "    print(i)"
   ]
  },
  {
   "cell_type": "code",
   "execution_count": 5,
   "id": "dc9a573f-75aa-43b3-91da-74e4b7bac606",
   "metadata": {},
   "outputs": [
    {
     "ename": "ValueError",
     "evalue": "too many values to unpack (expected 2)",
     "output_type": "error",
     "traceback": [
      "\u001b[1;31m---------------------------------------------------------------------------\u001b[0m",
      "\u001b[1;31mValueError\u001b[0m                                Traceback (most recent call last)",
      "Cell \u001b[1;32mIn[5], line 1\u001b[0m\n\u001b[1;32m----> 1\u001b[0m \u001b[38;5;28;01mfor\u001b[39;00m i,j \u001b[38;5;129;01min\u001b[39;00m enrollment,name:\n\u001b[0;32m      2\u001b[0m     \u001b[38;5;28mprint\u001b[39m(\u001b[38;5;124mf\u001b[39m\u001b[38;5;124m\"\u001b[39m\u001b[38;5;132;01m{\u001b[39;00mi\u001b[38;5;132;01m}\u001b[39;00m\u001b[38;5;124m:\u001b[39m\u001b[38;5;132;01m{\u001b[39;00mj\u001b[38;5;132;01m}\u001b[39;00m\u001b[38;5;124m\"\u001b[39m)\n",
      "\u001b[1;31mValueError\u001b[0m: too many values to unpack (expected 2)"
     ]
    }
   ],
   "source": [
    "for i,j in enrollment,name:\n",
    "    print(f\"{i}:{j}\")"
   ]
  },
  {
   "cell_type": "code",
   "execution_count": 6,
   "id": "3fd5d97d-5089-432d-8133-22833faebfae",
   "metadata": {},
   "outputs": [
    {
     "name": "stdout",
     "output_type": "stream",
     "text": [
      "1:krishna\n",
      "2:shyam\n",
      "3:radhey\n",
      "4:Mohan\n",
      "5:Sohan\n"
     ]
    }
   ],
   "source": [
    "for i,j in zip(enrollment,name):\n",
    "    print(f\"{i}:{j}\")"
   ]
  },
  {
   "cell_type": "code",
   "execution_count": 7,
   "id": "b91eb97e-0a0d-4197-82d3-817944fd09b8",
   "metadata": {},
   "outputs": [],
   "source": [
    "new_dict={}\n",
    "for i,j in zip(enrollment,name):\n",
    "    new_dict.update({i:j})"
   ]
  },
  {
   "cell_type": "code",
   "execution_count": 8,
   "id": "1c23dae2-65a2-4061-8ecc-c56031dc6a5d",
   "metadata": {},
   "outputs": [
    {
     "data": {
      "text/plain": [
       "{1: 'krishna', 2: 'shyam', 3: 'radhey', 4: 'Mohan', 5: 'Sohan'}"
      ]
     },
     "execution_count": 8,
     "metadata": {},
     "output_type": "execute_result"
    }
   ],
   "source": [
    "new_dict"
   ]
  },
  {
   "cell_type": "code",
   "execution_count": 9,
   "id": "fbfb6432-d9c3-4613-8eec-5204aa69fd59",
   "metadata": {},
   "outputs": [],
   "source": [
    "new_dict_comp={i:j for i,j in zip(enrollment,name)}"
   ]
  },
  {
   "cell_type": "code",
   "execution_count": 10,
   "id": "9cf32ca2-b8c4-4a15-9ea0-f0426eb5613e",
   "metadata": {},
   "outputs": [
    {
     "data": {
      "text/plain": [
       "{1: 'krishna', 2: 'shyam', 3: 'radhey', 4: 'Mohan', 5: 'Sohan'}"
      ]
     },
     "execution_count": 10,
     "metadata": {},
     "output_type": "execute_result"
    }
   ],
   "source": [
    "new_dict_comp"
   ]
  },
  {
   "cell_type": "raw",
   "id": "a1788912-3e04-4f39-adbe-32aed6ef70e8",
   "metadata": {},
   "source": [
    "> while loop\n",
    "    > single while loop \n",
    "    > pattern\n",
    "        > single loop pattern\n",
    "        > multiloop pattern\n",
    "    > continue\n",
    "    > break \n",
    "    > pass"
   ]
  },
  {
   "cell_type": "raw",
   "id": "1d49b026-ade9-40a4-84d8-f46d731a61bd",
   "metadata": {},
   "source": [
    "initializer\n",
    "while condition:\n",
    "    statement(s)\n",
    "    increment/decrement"
   ]
  },
  {
   "cell_type": "code",
   "execution_count": 11,
   "id": "64242e42-01de-459e-a4dc-25b1cd899f5a",
   "metadata": {},
   "outputs": [
    {
     "name": "stdout",
     "output_type": "stream",
     "text": [
      "1 hello world\n",
      "2 hello world\n",
      "3 hello world\n",
      "4 hello world\n",
      "5 hello world\n"
     ]
    }
   ],
   "source": [
    "i=1\n",
    "while i<=5:\n",
    "    print(i,\"hello world\")\n",
    "    i=i+1"
   ]
  },
  {
   "cell_type": "code",
   "execution_count": 12,
   "id": "d6a157ad-9ea7-4fc4-a4ea-1750de2346a8",
   "metadata": {},
   "outputs": [
    {
     "name": "stdout",
     "output_type": "stream",
     "text": [
      "*\n",
      "**\n",
      "***\n",
      "****\n",
      "*****\n"
     ]
    }
   ],
   "source": [
    "for i in range(5):\n",
    "    print(\"*\"*(i+1))"
   ]
  },
  {
   "cell_type": "code",
   "execution_count": 13,
   "id": "d2ebe053-bc4b-40dc-80f8-bce987ca1b74",
   "metadata": {},
   "outputs": [
    {
     "name": "stdout",
     "output_type": "stream",
     "text": [
      "*\n",
      "**\n",
      "***\n",
      "****\n",
      "*****\n"
     ]
    }
   ],
   "source": [
    "i=1\n",
    "while i<=5:\n",
    "    print(\"*\"*i)\n",
    "    i=i+1"
   ]
  },
  {
   "cell_type": "code",
   "execution_count": 14,
   "id": "50c12cb1-904d-447e-acd5-a6fbfdb1010c",
   "metadata": {},
   "outputs": [
    {
     "name": "stdout",
     "output_type": "stream",
     "text": [
      "    *\n",
      "   **\n",
      "  ***\n",
      " ****\n",
      "*****\n"
     ]
    }
   ],
   "source": [
    "for i in range(5):\n",
    "    print(\" \"*(4-i)+\"*\"*(i+1))"
   ]
  },
  {
   "cell_type": "code",
   "execution_count": 15,
   "id": "f02edac6-2be3-4374-aa4d-e43a0d8a2ead",
   "metadata": {},
   "outputs": [
    {
     "name": "stdout",
     "output_type": "stream",
     "text": [
      "    *\n",
      "   **\n",
      "  ***\n",
      " ****\n",
      "*****\n"
     ]
    }
   ],
   "source": [
    "i=0\n",
    "while i<5:\n",
    "    print(\" \"*(4-i)+\"*\"*(i+1))\n",
    "    i=i+1"
   ]
  },
  {
   "cell_type": "code",
   "execution_count": 2,
   "id": "313566af-9e93-4927-a8dd-6ab0ba3c2293",
   "metadata": {},
   "outputs": [
    {
     "name": "stdout",
     "output_type": "stream",
     "text": [
      "    *\n",
      "   **\n",
      "  ***\n",
      " ****\n",
      "*****\n"
     ]
    }
   ],
   "source": [
    "i=0\n",
    "while i<5:\n",
    "    j=1\n",
    "    while j<=5:\n",
    "        if j<=(4-i):\n",
    "            print(\" \",end=\"\")\n",
    "        else:\n",
    "            print(\"*\",end=\"\")\n",
    "        j=j+1\n",
    "    print()\n",
    "    i=i+1"
   ]
  },
  {
   "cell_type": "code",
   "execution_count": 7,
   "id": "b0f4248f-c8e9-4e95-a8aa-7b88d6dd68fc",
   "metadata": {},
   "outputs": [
    {
     "name": "stdout",
     "output_type": "stream",
     "text": [
      "Hello world\n",
      "Hello world\n",
      "Hello world\n",
      "Hello world\n",
      "Hello world\n",
      "bye\n"
     ]
    }
   ],
   "source": [
    "krishna=1\n",
    "while krishna<=5:\n",
    "    print(\"Hello world\")\n",
    "    krishna+=1\n",
    "print(\"bye\")"
   ]
  },
  {
   "cell_type": "code",
   "execution_count": 9,
   "id": "49da2ed6-80f2-44d7-b5e2-23d208824ebd",
   "metadata": {},
   "outputs": [
    {
     "name": "stdout",
     "output_type": "stream",
     "text": [
      "1 Hello world\n",
      "2 Hello world\n",
      "3 Hello world\n",
      "5 Hello world\n",
      "bye\n"
     ]
    }
   ],
   "source": [
    "krishna=1\n",
    "while krishna<=5:\n",
    "    if krishna==4:\n",
    "        krishna+=1\n",
    "        continue\n",
    "        \n",
    "    print(krishna,\"Hello world\")\n",
    "    krishna+=1\n",
    "print(\"bye\")"
   ]
  },
  {
   "cell_type": "code",
   "execution_count": 10,
   "id": "0620a67e-69fb-49cc-885b-cd1686d4bba9",
   "metadata": {},
   "outputs": [
    {
     "name": "stdout",
     "output_type": "stream",
     "text": [
      "1 Hello world\n",
      "2 Hello world\n",
      "3 Hello world\n",
      "bye\n"
     ]
    }
   ],
   "source": [
    "krishna=1\n",
    "while krishna<=5:\n",
    "    if krishna==4:\n",
    "        krishna+=1\n",
    "        break\n",
    "        \n",
    "    print(krishna,\"Hello world\")\n",
    "    krishna+=1\n",
    "print(\"bye\")"
   ]
  },
  {
   "cell_type": "code",
   "execution_count": 11,
   "id": "6c569181-e340-4b03-a4cb-4a1a1d56ad30",
   "metadata": {},
   "outputs": [
    {
     "name": "stdout",
     "output_type": "stream",
     "text": [
      "1 Hello world\n",
      "2 Hello world\n",
      "3 Hello world\n",
      "4 Hello world\n",
      "bye\n"
     ]
    }
   ],
   "source": [
    "krishna=1\n",
    "while krishna<=5:\n",
    "    print(krishna,\"Hello world\")\n",
    "    if krishna==4:\n",
    "        krishna+=1\n",
    "        break\n",
    "        \n",
    "    \n",
    "    krishna+=1\n",
    "print(\"bye\")"
   ]
  },
  {
   "cell_type": "code",
   "execution_count": 15,
   "id": "611fa045-2c96-46ee-b81a-5f28704aceed",
   "metadata": {},
   "outputs": [
    {
     "name": "stdout",
     "output_type": "stream",
     "text": [
      "I am Rohan kumar\n"
     ]
    }
   ],
   "source": [
    "name=\"Rohan\"\n",
    "print(f\"I am {name} kumar\")"
   ]
  },
  {
   "cell_type": "code",
   "execution_count": 16,
   "id": "4117ff6d-9eb2-4df1-9926-a0db4d885348",
   "metadata": {},
   "outputs": [
    {
     "name": "stdout",
     "output_type": "stream",
     "text": [
      "I am Rohan kumar\n"
     ]
    }
   ],
   "source": [
    "name=\"Rohan\"\n",
    "print(\"I am {} kumar\".format(name))"
   ]
  },
  {
   "cell_type": "code",
   "execution_count": 17,
   "id": "91dd30cc-f741-4134-8015-ea8706221d6d",
   "metadata": {},
   "outputs": [],
   "source": [
    "a=\"123456789\""
   ]
  },
  {
   "cell_type": "code",
   "execution_count": 18,
   "id": "77793931-4d4a-44c5-b3af-6918f5895ee4",
   "metadata": {},
   "outputs": [
    {
     "data": {
      "text/plain": [
       "'13579'"
      ]
     },
     "execution_count": 18,
     "metadata": {},
     "output_type": "execute_result"
    }
   ],
   "source": [
    "a[0:9:2]"
   ]
  },
  {
   "cell_type": "code",
   "execution_count": 19,
   "id": "e92d98ac-97c9-4dbb-b5ee-c23f68094e13",
   "metadata": {},
   "outputs": [],
   "source": [
    "a={1}"
   ]
  },
  {
   "cell_type": "code",
   "execution_count": 21,
   "id": "81e1ade2-8d17-45a5-b9bc-e07bc7f32c13",
   "metadata": {},
   "outputs": [
    {
     "name": "stdout",
     "output_type": "stream",
     "text": [
      "<class 'set'>\n"
     ]
    }
   ],
   "source": [
    "print(type(a))"
   ]
  },
  {
   "cell_type": "code",
   "execution_count": null,
   "id": "667e968d-5f4b-4b1e-8e6b-d1a22c3a144d",
   "metadata": {},
   "outputs": [],
   "source": [
    "{{}}"
   ]
  }
 ],
 "metadata": {
  "kernelspec": {
   "display_name": "Python 3 (ipykernel)",
   "language": "python",
   "name": "python3"
  },
  "language_info": {
   "codemirror_mode": {
    "name": "ipython",
    "version": 3
   },
   "file_extension": ".py",
   "mimetype": "text/x-python",
   "name": "python",
   "nbconvert_exporter": "python",
   "pygments_lexer": "ipython3",
   "version": "3.11.4"
  }
 },
 "nbformat": 4,
 "nbformat_minor": 5
}
