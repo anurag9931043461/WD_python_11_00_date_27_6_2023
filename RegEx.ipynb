{
 "cells": [
  {
   "cell_type": "markdown",
   "id": "c8539ae8-2be0-456e-8a6a-e0035210779f",
   "metadata": {},
   "source": [
    "# RegEx is a concept\n",
    "\n",
    "> Regular expression: RegEx : It is used to filter a string\n",
    "\n",
    "> sub() : substitution\n",
    "\n",
    "> split(): \n",
    "\n",
    "> search():\n",
    "\n",
    "> findall():\n",
    "\n",
    "> module of regular expression is \"re\""
   ]
  },
  {
   "cell_type": "code",
   "execution_count": 2,
   "id": "9e98ff91-3ed6-4f5d-a3f5-42b5f827740d",
   "metadata": {},
   "outputs": [],
   "source": [
    "import re"
   ]
  },
  {
   "cell_type": "code",
   "execution_count": 3,
   "id": "27e87115-d359-405b-9c7a-2293e3aa22fe",
   "metadata": {},
   "outputs": [],
   "source": [
    "a=\"Foo#$@#$d i342s N4234oT423 gOO3423d432:(@@@@@@&*(&$#(*$@#\""
   ]
  },
  {
   "cell_type": "code",
   "execution_count": 4,
   "id": "ae47543a-0318-426d-9e66-bf74c491c9be",
   "metadata": {},
   "outputs": [
    {
     "data": {
      "text/plain": [
       "'Foo.....d.i...s.N....oT....gOO....d......................'"
      ]
     },
     "execution_count": 4,
     "metadata": {},
     "output_type": "execute_result"
    }
   ],
   "source": [
    "re.sub(\"[^A-z]\",\".\",a)"
   ]
  },
  {
   "cell_type": "code",
   "execution_count": 5,
   "id": "4e8fe9e6-eb18-42f4-b8a0-9678f6e5aa66",
   "metadata": {},
   "outputs": [
    {
     "data": {
      "text/plain": [
       "'FoodisNoTgOOd'"
      ]
     },
     "execution_count": 5,
     "metadata": {},
     "output_type": "execute_result"
    }
   ],
   "source": [
    "re.sub(\"[^A-z]\",\"\",a)"
   ]
  },
  {
   "cell_type": "code",
   "execution_count": 6,
   "id": "bd8f005d-590c-48cd-9692-bc70af40498c",
   "metadata": {},
   "outputs": [
    {
     "data": {
      "text/plain": [
       "'food is not good'"
      ]
     },
     "execution_count": 6,
     "metadata": {},
     "output_type": "execute_result"
    }
   ],
   "source": [
    "re.sub(\"[^A-z ]\",\"\",a).casefold()\n"
   ]
  },
  {
   "cell_type": "code",
   "execution_count": 7,
   "id": "fa0132df-5699-424c-98e7-9ed695f6c084",
   "metadata": {},
   "outputs": [
    {
     "data": {
      "text/plain": [
       "'Foo.....d.i...s.N....oT....gOO....d......................'"
      ]
     },
     "execution_count": 7,
     "metadata": {},
     "output_type": "execute_result"
    }
   ],
   "source": [
    "re.sub(\"[^A-z]\",\".\",a)"
   ]
  },
  {
   "cell_type": "code",
   "execution_count": 8,
   "id": "e5a7b305-eb46-4a47-b49e-89cdea7bf4c8",
   "metadata": {},
   "outputs": [
    {
     "data": {
      "text/plain": [
       "'Foo#$@#$d i342s N4234oT423 gOO3423d432:(@@@@@@&*(&$#(*$@#'"
      ]
     },
     "execution_count": 8,
     "metadata": {},
     "output_type": "execute_result"
    }
   ],
   "source": [
    "a"
   ]
  },
  {
   "cell_type": "code",
   "execution_count": 9,
   "id": "0a712dae-d872-4f06-b2bf-ff8c95d129ba",
   "metadata": {},
   "outputs": [
    {
     "name": "stdout",
     "output_type": "stream",
     "text": [
      "Food is NoT gOOd"
     ]
    }
   ],
   "source": [
    "for i in a:\n",
    "    if i not in \"1234567890!#$%&\\'()*+,-./:;<=>?@[\\\\]^_`{|}~\\\"\":\n",
    "        print(i,end=\"\")"
   ]
  },
  {
   "cell_type": "code",
   "execution_count": 10,
   "id": "b4ec746c-b93d-42b1-9321-8c8397af171c",
   "metadata": {},
   "outputs": [
    {
     "data": {
      "text/plain": [
       "'!\"#$%&\\'()*+,-./:;<=>?@[\\\\]^_`{|}~'"
      ]
     },
     "execution_count": 10,
     "metadata": {},
     "output_type": "execute_result"
    }
   ],
   "source": [
    "import string\n",
    "string.punctuation"
   ]
  },
  {
   "cell_type": "code",
   "execution_count": 11,
   "id": "69bad60b-a11a-421a-bd32-edb358356861",
   "metadata": {},
   "outputs": [
    {
     "ename": "NameError",
     "evalue": "name 'krishna' is not defined",
     "output_type": "error",
     "traceback": [
      "\u001b[1;31m---------------------------------------------------------------------------\u001b[0m",
      "\u001b[1;31mNameError\u001b[0m                                 Traceback (most recent call last)",
      "Cell \u001b[1;32mIn[11], line 1\u001b[0m\n\u001b[1;32m----> 1\u001b[0m \u001b[43mkrishna\u001b[49m()\n",
      "\u001b[1;31mNameError\u001b[0m: name 'krishna' is not defined"
     ]
    }
   ],
   "source": [
    "krishna()"
   ]
  },
  {
   "cell_type": "code",
   "execution_count": 12,
   "id": "5eba7e7c-9570-464d-9994-cf552a8c558a",
   "metadata": {},
   "outputs": [
    {
     "data": {
      "text/plain": [
       "0"
      ]
     },
     "execution_count": 12,
     "metadata": {},
     "output_type": "execute_result"
    }
   ],
   "source": [
    "a=\"python is funny language\"\n",
    "a=re.search(\"python\",a)\n",
    "a.start()"
   ]
  },
  {
   "cell_type": "code",
   "execution_count": 13,
   "id": "15781e81-95fa-420b-9f7f-17979a95bd1b",
   "metadata": {},
   "outputs": [
    {
     "data": {
      "text/plain": [
       "[' ', ' ', ' ']"
      ]
     },
     "execution_count": 13,
     "metadata": {},
     "output_type": "execute_result"
    }
   ],
   "source": [
    "a=\"python is funny language\"\n",
    "re.findall(\" \",a)"
   ]
  },
  {
   "cell_type": "code",
   "execution_count": 14,
   "id": "db03eb5c-9e21-44f8-bb0c-53337461ef67",
   "metadata": {},
   "outputs": [
    {
     "data": {
      "text/plain": [
       "['python', 'is', 'funny', 'language']"
      ]
     },
     "execution_count": 14,
     "metadata": {},
     "output_type": "execute_result"
    }
   ],
   "source": [
    "re.split(\" \",a)"
   ]
  },
  {
   "cell_type": "code",
   "execution_count": null,
   "id": "db0db9fc-f1ea-41e0-bce3-d7a9eeff4697",
   "metadata": {},
   "outputs": [],
   "source": []
  },
  {
   "cell_type": "code",
   "execution_count": 17,
   "id": "ca22b42e-c225-43b8-9ae5-4e4c5d420648",
   "metadata": {},
   "outputs": [
    {
     "name": "stdout",
     "output_type": "stream",
     "text": [
      "Food is NoT gOOd"
     ]
    }
   ],
   "source": [
    "a=\"Foo#$@#$d i342s N4234oT423 gOO3423d432:(@@@@@@&*(&$#(*$@#\"\n",
    "def substitute():\n",
    "    for i in a:\n",
    "        if i not in \"1234567890!#$%&\\'()*+,-./:;<=>?@[\\\\]^_`{|}~\\\"\":\n",
    "            print(i,end=\"\")"
   ]
  },
  {
   "cell_type": "code",
   "execution_count": 23,
   "id": "3eb8497e-1593-4775-b1bd-9589456c311e",
   "metadata": {},
   "outputs": [
    {
     "name": "stdout",
     "output_type": "stream",
     "text": [
      "Food is NoT gOOd\n"
     ]
    }
   ],
   "source": [
    "a=\"Foo#$@#$d i342s N4234oT423 gOO3423d432:(@@@@@@&*(&$#(*$@#\"\n",
    "string=\"\"\n",
    "for i in a:\n",
    "    if i not in \"1234567890!#$%&\\'()*+,-./:;<=>?@[\\\\]^_`{|}~\\\"\":\n",
    "        string=string+i\n",
    "print(string)"
   ]
  },
  {
   "cell_type": "code",
   "execution_count": 24,
   "id": "fbebf42f-760e-4102-9e9d-09e024f21115",
   "metadata": {},
   "outputs": [],
   "source": [
    "a=\"Foo#$@#$d i342s N4234oT423 gOO3423d432:(@@@@@@&*(&$#(*$@#\"\n",
    "def substitute(arg):\n",
    "    string=\"\"\n",
    "    for i in arg:\n",
    "        if i not in \"1234567890!#$%&\\'()*+,-./:;<=>?@[\\\\]^_`{|}~\\\"\":\n",
    "            string=string+i\n",
    "    print(string)"
   ]
  },
  {
   "cell_type": "code",
   "execution_count": 25,
   "id": "822546c8-126d-42eb-b349-83d45f238147",
   "metadata": {},
   "outputs": [
    {
     "name": "stdout",
     "output_type": "stream",
     "text": [
      "Food is NoT gOOd\n"
     ]
    }
   ],
   "source": [
    "substitute(a)"
   ]
  },
  {
   "cell_type": "code",
   "execution_count": 26,
   "id": "deb0ebe8-dc9e-4d3c-99bf-15fbce1dc7a2",
   "metadata": {},
   "outputs": [
    {
     "name": "stdout",
     "output_type": "stream",
     "text": [
      "jhfhdkljhhjkjbnyyhghiu\n"
     ]
    }
   ],
   "source": [
    "substitute(\"8370482jhfhdkljh23847203hjk42987jbn3284982y(*&^(yh*ghiu\")"
   ]
  },
  {
   "cell_type": "code",
   "execution_count": 36,
   "id": "b311385a-7d20-4bea-a6e8-e4866f3f9560",
   "metadata": {},
   "outputs": [],
   "source": [
    "def substitute(Pattern,replace_value,arg):\n",
    "    string=\"\"\n",
    "    \n",
    "    for i in arg:\n",
    "        if i not in Pattern:\n",
    "            string=string+i\n",
    "        else:\n",
    "            string=string+replace_value        \n",
    "    print(string)"
   ]
  },
  {
   "cell_type": "code",
   "execution_count": 39,
   "id": "8c2bbb71-f685-4239-8850-4dbde3fbdb31",
   "metadata": {},
   "outputs": [
    {
     "name": "stdout",
     "output_type": "stream",
     "text": [
      "HJHI....h.hiHIUHi\n"
     ]
    }
   ],
   "source": [
    "substitute(\"1234\",\".\",\"HJHI3242h3hiHIUHi\")"
   ]
  },
  {
   "cell_type": "code",
   "execution_count": 40,
   "id": "413f2e51-2b27-45aa-b6eb-2e08191046c7",
   "metadata": {},
   "outputs": [],
   "source": [
    "import krishna_re"
   ]
  },
  {
   "cell_type": "code",
   "execution_count": 47,
   "id": "b81f2dac-e26a-4b06-aa57-412a3bdfe63d",
   "metadata": {},
   "outputs": [
    {
     "name": "stdout",
     "output_type": "stream",
     "text": [
      "jhfhdkljhhjkjbnyyhghiu\n"
     ]
    }
   ],
   "source": [
    "a=\"8370482jhfhdkljh23847203hjk42987jbn3284982y(*&^(yh*ghiu\"\n",
    "\n",
    "krishna_re.substitute(\"1234567890!#$%&\\'()*+,-./:;<=>?@[\\\\]^_`{|}~\",\"\",a)"
   ]
  },
  {
   "cell_type": "code",
   "execution_count": 43,
   "id": "7a503ae1-c957-46a2-88b6-7879ff7de3e8",
   "metadata": {},
   "outputs": [],
   "source": [
    "import string"
   ]
  },
  {
   "cell_type": "code",
   "execution_count": 44,
   "id": "121f3e17-92fe-45d1-ac40-6a07083f5c0c",
   "metadata": {},
   "outputs": [
    {
     "data": {
      "text/plain": [
       "'!\"#$%&\\'()*+,-./:;<=>?@[\\\\]^_`{|}~'"
      ]
     },
     "execution_count": 44,
     "metadata": {},
     "output_type": "execute_result"
    }
   ],
   "source": [
    "string.punctuation"
   ]
  },
  {
   "cell_type": "code",
   "execution_count": null,
   "id": "1191b3c6-f8eb-42ab-bea4-89f648f221a7",
   "metadata": {},
   "outputs": [],
   "source": []
  }
 ],
 "metadata": {
  "kernelspec": {
   "display_name": "Python 3 (ipykernel)",
   "language": "python",
   "name": "python3"
  },
  "language_info": {
   "codemirror_mode": {
    "name": "ipython",
    "version": 3
   },
   "file_extension": ".py",
   "mimetype": "text/x-python",
   "name": "python",
   "nbconvert_exporter": "python",
   "pygments_lexer": "ipython3",
   "version": "3.11.5"
  }
 },
 "nbformat": 4,
 "nbformat_minor": 5
}
