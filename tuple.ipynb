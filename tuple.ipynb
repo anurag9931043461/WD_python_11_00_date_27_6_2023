{
 "cells": [
  {
   "cell_type": "markdown",
   "id": "7c6dfa0e-5502-4c78-a19b-b79c4071cbc2",
   "metadata": {},
   "source": [
    "# tuple\n",
    "\n",
    "> tuple constructor is tuple()\n",
    "\n",
    "> tuple literal is ()\n",
    "\n",
    "> tuple is a set of sequence of elements.\n",
    "\n",
    "> tuple support indexing \n",
    "\n",
    "> tuple support slicing \n",
    "\n",
    "> tuple support concatination \n",
    "\n",
    "> tuple support nested tuple.\n",
    "\n",
    "> tuple methods.index(),count()"
   ]
  },
  {
   "cell_type": "code",
   "execution_count": 1,
   "id": "2bb92a13-78d6-4a3b-b368-bfcdf8d18a07",
   "metadata": {},
   "outputs": [],
   "source": [
    "a=(10,10.0,\"10\",[1,2,3],(1,2,3,4))"
   ]
  },
  {
   "cell_type": "code",
   "execution_count": 2,
   "id": "7568da96-e415-4149-9e2e-1b052823021c",
   "metadata": {},
   "outputs": [
    {
     "name": "stdout",
     "output_type": "stream",
     "text": [
      "(10, 10.0, '10', [1, 2, 3], (1, 2, 3, 4))\n"
     ]
    }
   ],
   "source": [
    "print(a)"
   ]
  },
  {
   "cell_type": "code",
   "execution_count": 10,
   "id": "2f38b9aa-a8a3-4790-9fa0-8065eb0151f1",
   "metadata": {},
   "outputs": [
    {
     "name": "stdout",
     "output_type": "stream",
     "text": [
      "<class 'tuple'>\n",
      "(['10.0'],)\n"
     ]
    }
   ],
   "source": [
    "b=([\"10.0\"],)\n",
    "print(type(b))\n",
    "print(b)"
   ]
  },
  {
   "cell_type": "code",
   "execution_count": 13,
   "id": "ba22ee71-a992-4d43-9e77-19f2be819bbf",
   "metadata": {},
   "outputs": [
    {
     "name": "stdout",
     "output_type": "stream",
     "text": [
      "<class 'tuple'>\n",
      "(1,)\n"
     ]
    }
   ],
   "source": [
    "b=(1,)\n",
    "print(type(b))\n",
    "print(b)"
   ]
  },
  {
   "cell_type": "code",
   "execution_count": 15,
   "id": "de91b04b-0544-4cec-a378-48ccd59beef2",
   "metadata": {},
   "outputs": [
    {
     "name": "stdout",
     "output_type": "stream",
     "text": [
      "<class 'tuple'>\n",
      "()\n"
     ]
    }
   ],
   "source": [
    "a=tuple()\n",
    "print(type(a))\n",
    "print(a)"
   ]
  },
  {
   "cell_type": "code",
   "execution_count": 16,
   "id": "fd5783b6-cc72-4dc4-88bd-74b0290acca0",
   "metadata": {},
   "outputs": [],
   "source": [
    "a=(10,10.0,\"10\",[1,2,3],(1,2,3,4))"
   ]
  },
  {
   "cell_type": "code",
   "execution_count": 17,
   "id": "c1121242-72cd-41d0-aa38-69ccec0295f0",
   "metadata": {},
   "outputs": [
    {
     "name": "stdout",
     "output_type": "stream",
     "text": [
      "(10, 10.0, '10', [1, 2, 3], (1, 2, 3, 4))\n"
     ]
    }
   ],
   "source": [
    "print(a)"
   ]
  },
  {
   "cell_type": "code",
   "execution_count": 18,
   "id": "e3c25f1f-3025-4283-ba69-b75a168be903",
   "metadata": {},
   "outputs": [
    {
     "data": {
      "text/plain": [
       "(1, 2, 3, 4)"
      ]
     },
     "execution_count": 18,
     "metadata": {},
     "output_type": "execute_result"
    }
   ],
   "source": [
    "a[4]"
   ]
  },
  {
   "cell_type": "code",
   "execution_count": 19,
   "id": "6c9449cd-87e7-47d1-ae08-4c4647b25a99",
   "metadata": {},
   "outputs": [
    {
     "data": {
      "text/plain": [
       "(2, 3)"
      ]
     },
     "execution_count": 19,
     "metadata": {},
     "output_type": "execute_result"
    }
   ],
   "source": [
    "a[4][1:3:1]"
   ]
  },
  {
   "cell_type": "code",
   "execution_count": 20,
   "id": "4240bdf3-ae16-40b3-8f02-284ebf3540fb",
   "metadata": {},
   "outputs": [
    {
     "data": {
      "text/plain": [
       "(4, 3, 2, 1)"
      ]
     },
     "execution_count": 20,
     "metadata": {},
     "output_type": "execute_result"
    }
   ],
   "source": [
    "a[4][::-1]"
   ]
  },
  {
   "cell_type": "code",
   "execution_count": 21,
   "id": "3a069513-4ff1-450b-a07b-d9987001ea6b",
   "metadata": {},
   "outputs": [
    {
     "data": {
      "text/plain": [
       "(10, 10.0, '10', [1, 2, 3], (1, 2, 3, 4))"
      ]
     },
     "execution_count": 21,
     "metadata": {},
     "output_type": "execute_result"
    }
   ],
   "source": [
    "a"
   ]
  },
  {
   "cell_type": "code",
   "execution_count": 22,
   "id": "bcee6be4-b98f-43bd-90ce-103fdb7c83c8",
   "metadata": {},
   "outputs": [
    {
     "data": {
      "text/plain": [
       "('10', [1, 2, 3], (1, 2, 3, 4))"
      ]
     },
     "execution_count": 22,
     "metadata": {},
     "output_type": "execute_result"
    }
   ],
   "source": [
    "a[2:5:1]"
   ]
  },
  {
   "cell_type": "code",
   "execution_count": 23,
   "id": "87663549-e0c1-4a26-9eec-5251475ab4fb",
   "metadata": {},
   "outputs": [
    {
     "data": {
      "text/plain": [
       "(1, 2, 3, 5, 6, 7, 7, 8)"
      ]
     },
     "execution_count": 23,
     "metadata": {},
     "output_type": "execute_result"
    }
   ],
   "source": [
    "(1,2,3)+(5,6,7,7,8)"
   ]
  },
  {
   "cell_type": "code",
   "execution_count": 24,
   "id": "4cc3d890-5854-424b-9df2-a9549cfa968e",
   "metadata": {},
   "outputs": [],
   "source": [
    "a=(1,2,2,2,2,3,3,3,4,4,5,6,7)"
   ]
  },
  {
   "cell_type": "code",
   "execution_count": 25,
   "id": "466fab8e-3586-4dcd-8854-8bbab2c96ad2",
   "metadata": {},
   "outputs": [
    {
     "data": {
      "text/plain": [
       "4"
      ]
     },
     "execution_count": 25,
     "metadata": {},
     "output_type": "execute_result"
    }
   ],
   "source": [
    "a.count(2)"
   ]
  },
  {
   "cell_type": "code",
   "execution_count": 26,
   "id": "7bd99361-7a52-4568-8ff5-852a541e2ab6",
   "metadata": {},
   "outputs": [
    {
     "data": {
      "text/plain": [
       "1"
      ]
     },
     "execution_count": 26,
     "metadata": {},
     "output_type": "execute_result"
    }
   ],
   "source": [
    "a.index(2)"
   ]
  },
  {
   "cell_type": "markdown",
   "id": "46dec927-ab18-4991-9f7d-675f8a7a6bf8",
   "metadata": {},
   "source": [
    "# packing and unpacking"
   ]
  },
  {
   "cell_type": "code",
   "execution_count": 27,
   "id": "d5dfd732-8963-49f1-bb01-1f60067da601",
   "metadata": {},
   "outputs": [],
   "source": [
    "a=10,10.0,'10'"
   ]
  },
  {
   "cell_type": "code",
   "execution_count": 30,
   "id": "b58b0fb0-f8ad-4a7e-9802-a01dc79009b4",
   "metadata": {},
   "outputs": [
    {
     "name": "stdout",
     "output_type": "stream",
     "text": [
      "(10, 10.0, '10')\n",
      "<class 'tuple'>\n"
     ]
    }
   ],
   "source": [
    "print(a)\n",
    "print(type(a))"
   ]
  },
  {
   "cell_type": "code",
   "execution_count": 31,
   "id": "3ea17c95-8095-4a6b-bd73-6a0a57109257",
   "metadata": {},
   "outputs": [],
   "source": [
    "pintu,tinku,chintu=(10, 10.0, '10')"
   ]
  },
  {
   "cell_type": "code",
   "execution_count": 32,
   "id": "35956f9d-1a9c-4f2e-9d9c-2ec4a8481d23",
   "metadata": {},
   "outputs": [
    {
     "data": {
      "text/plain": [
       "10"
      ]
     },
     "execution_count": 32,
     "metadata": {},
     "output_type": "execute_result"
    }
   ],
   "source": [
    "pintu"
   ]
  },
  {
   "cell_type": "code",
   "execution_count": 33,
   "id": "55b349bf-0ef7-44ca-b3f1-7caa15e0abf5",
   "metadata": {},
   "outputs": [
    {
     "data": {
      "text/plain": [
       "10.0"
      ]
     },
     "execution_count": 33,
     "metadata": {},
     "output_type": "execute_result"
    }
   ],
   "source": [
    "tinku"
   ]
  },
  {
   "cell_type": "code",
   "execution_count": 34,
   "id": "44073a56-1e3e-4f13-9ea1-ea9da62929a6",
   "metadata": {},
   "outputs": [
    {
     "data": {
      "text/plain": [
       "'10'"
      ]
     },
     "execution_count": 34,
     "metadata": {},
     "output_type": "execute_result"
    }
   ],
   "source": [
    "chintu"
   ]
  },
  {
   "cell_type": "code",
   "execution_count": 35,
   "id": "d039d4a0-c080-4830-b705-cb9e34f07e45",
   "metadata": {},
   "outputs": [
    {
     "ename": "ValueError",
     "evalue": "too many values to unpack (expected 3)",
     "output_type": "error",
     "traceback": [
      "\u001b[1;31m---------------------------------------------------------------------------\u001b[0m",
      "\u001b[1;31mValueError\u001b[0m                                Traceback (most recent call last)",
      "Cell \u001b[1;32mIn[35], line 1\u001b[0m\n\u001b[1;32m----> 1\u001b[0m pintu,tinku,chintu\u001b[38;5;241m=\u001b[39m(\u001b[38;5;241m10\u001b[39m, \u001b[38;5;241m10.0\u001b[39m, \u001b[38;5;124m'\u001b[39m\u001b[38;5;124m10\u001b[39m\u001b[38;5;124m'\u001b[39m,\u001b[38;5;124m\"\u001b[39m\u001b[38;5;124m10.009\u001b[39m\u001b[38;5;124m\"\u001b[39m)\n",
      "\u001b[1;31mValueError\u001b[0m: too many values to unpack (expected 3)"
     ]
    }
   ],
   "source": [
    "pintu,tinku,chintu=(10, 10.0, '10',\"10.009\")"
   ]
  },
  {
   "cell_type": "code",
   "execution_count": 37,
   "id": "ef0160c2-8520-499e-9343-26115070bc83",
   "metadata": {},
   "outputs": [],
   "source": [
    "pintu,tinku,*chintu=(10, 10.0, '10',\"10.009\")"
   ]
  },
  {
   "cell_type": "code",
   "execution_count": 38,
   "id": "02f548c6-bf44-478d-8898-f72b0c812aa5",
   "metadata": {},
   "outputs": [
    {
     "data": {
      "text/plain": [
       "10"
      ]
     },
     "execution_count": 38,
     "metadata": {},
     "output_type": "execute_result"
    }
   ],
   "source": [
    "pintu"
   ]
  },
  {
   "cell_type": "code",
   "execution_count": 39,
   "id": "5c2bdf25-e347-4e83-860a-64391aef23e6",
   "metadata": {},
   "outputs": [
    {
     "data": {
      "text/plain": [
       "10.0"
      ]
     },
     "execution_count": 39,
     "metadata": {},
     "output_type": "execute_result"
    }
   ],
   "source": [
    "tinku"
   ]
  },
  {
   "cell_type": "code",
   "execution_count": 40,
   "id": "b375294c-539c-4dcc-b3d5-efa43c35d03c",
   "metadata": {},
   "outputs": [
    {
     "data": {
      "text/plain": [
       "['10', '10.009']"
      ]
     },
     "execution_count": 40,
     "metadata": {},
     "output_type": "execute_result"
    }
   ],
   "source": [
    "chintu"
   ]
  },
  {
   "cell_type": "code",
   "execution_count": 41,
   "id": "9a2b51c0-17dd-451a-8de1-5122412c1f0b",
   "metadata": {},
   "outputs": [
    {
     "ename": "SyntaxError",
     "evalue": "multiple starred expressions in assignment (2323465925.py, line 1)",
     "output_type": "error",
     "traceback": [
      "\u001b[1;36m  Cell \u001b[1;32mIn[41], line 1\u001b[1;36m\u001b[0m\n\u001b[1;33m    pintu,*tinku,*chintu=(10, 10.0, '10',\"10.009\")\u001b[0m\n\u001b[1;37m    ^\u001b[0m\n\u001b[1;31mSyntaxError\u001b[0m\u001b[1;31m:\u001b[0m multiple starred expressions in assignment\n"
     ]
    }
   ],
   "source": [
    "pintu,*tinku,*chintu=(10, 10.0, '10',\"10.009\")"
   ]
  },
  {
   "cell_type": "code",
   "execution_count": 42,
   "id": "34971aed-a84b-456a-bd02-72e175dfa7f8",
   "metadata": {},
   "outputs": [],
   "source": [
    "pintu,*tinku,chintu=(10, 10.0, '10',\"10.009\")"
   ]
  },
  {
   "cell_type": "code",
   "execution_count": 43,
   "id": "959f4880-c491-4a3a-87e5-ae04bca6c0fb",
   "metadata": {},
   "outputs": [
    {
     "data": {
      "text/plain": [
       "[10.0, '10']"
      ]
     },
     "execution_count": 43,
     "metadata": {},
     "output_type": "execute_result"
    }
   ],
   "source": [
    "tinku"
   ]
  },
  {
   "cell_type": "code",
   "execution_count": 44,
   "id": "0cb595f2-e5e2-45bf-9e66-7b9572a46f35",
   "metadata": {},
   "outputs": [
    {
     "data": {
      "text/plain": [
       "10"
      ]
     },
     "execution_count": 44,
     "metadata": {},
     "output_type": "execute_result"
    }
   ],
   "source": [
    "pintu"
   ]
  },
  {
   "cell_type": "code",
   "execution_count": 45,
   "id": "e67ec2ce-75fc-4c84-9d22-570607419223",
   "metadata": {},
   "outputs": [
    {
     "data": {
      "text/plain": [
       "'10.009'"
      ]
     },
     "execution_count": 45,
     "metadata": {},
     "output_type": "execute_result"
    }
   ],
   "source": [
    "chintu"
   ]
  },
  {
   "cell_type": "code",
   "execution_count": 5,
   "id": "e01820af-a16c-4770-8b30-d9c296735575",
   "metadata": {},
   "outputs": [],
   "source": [
    "a=(1,2,1,4,1,1,1,2,2,2,2,3,3,3)"
   ]
  },
  {
   "cell_type": "code",
   "execution_count": 6,
   "id": "1b853e6d-d22e-494c-976c-5bf79bcaab5a",
   "metadata": {},
   "outputs": [
    {
     "data": {
      "text/plain": [
       "0"
      ]
     },
     "execution_count": 6,
     "metadata": {},
     "output_type": "execute_result"
    }
   ],
   "source": [
    "a.index(1)"
   ]
  },
  {
   "cell_type": "code",
   "execution_count": 8,
   "id": "5dc18846-ef50-4737-80f9-1bb7fa81efc4",
   "metadata": {},
   "outputs": [
    {
     "data": {
      "text/plain": [
       "2"
      ]
     },
     "execution_count": 8,
     "metadata": {},
     "output_type": "execute_result"
    }
   ],
   "source": [
    "a.index(1,1,100000)"
   ]
  },
  {
   "cell_type": "code",
   "execution_count": 9,
   "id": "fcde1ec3-7c0a-4ad6-b449-3af880e8ab72",
   "metadata": {},
   "outputs": [
    {
     "data": {
      "text/plain": [
       "4"
      ]
     },
     "execution_count": 9,
     "metadata": {},
     "output_type": "execute_result"
    }
   ],
   "source": [
    "a.index(1,3,100000)"
   ]
  },
  {
   "cell_type": "code",
   "execution_count": null,
   "id": "93abff72-042e-4b9d-b62f-7897ff315770",
   "metadata": {},
   "outputs": [],
   "source": []
  }
 ],
 "metadata": {
  "kernelspec": {
   "display_name": "Python 3 (ipykernel)",
   "language": "python",
   "name": "python3"
  },
  "language_info": {
   "codemirror_mode": {
    "name": "ipython",
    "version": 3
   },
   "file_extension": ".py",
   "mimetype": "text/x-python",
   "name": "python",
   "nbconvert_exporter": "python",
   "pygments_lexer": "ipython3",
   "version": "3.11.4"
  }
 },
 "nbformat": 4,
 "nbformat_minor": 5
}
