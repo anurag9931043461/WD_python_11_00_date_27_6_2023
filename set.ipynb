{
 "cells": [
  {
   "cell_type": "markdown",
   "id": "b02d8ee6-d36e-4db0-9e03-bbacab951546",
   "metadata": {},
   "source": [
    "# set\n",
    "\n",
    "> set constructor is set()\n",
    "\n",
    "> set literal is not available \n",
    "\n",
    "> set is unordered set of sequence of elements.\n",
    "\n",
    "> set does not support indexing\n",
    "\n",
    "> set does not support slicing \n",
    "\n",
    "> set does not support concatination\n",
    "\n",
    "> set does not support duplicate values.\n",
    "\n",
    "> set remove duplicate values using hashing table.\n",
    "\n",
    "> set is mutable(unhashable)\n",
    "\n",
    "> set always support immutable datatype.\n",
    "\n",
    "> set does not support nested set.\n",
    "\n",
    "> set methods.--> 16"
   ]
  },
  {
   "cell_type": "code",
   "execution_count": 13,
   "id": "e7f98f8b-3d1a-4f10-9165-3f3a1337dc2a",
   "metadata": {
    "tags": []
   },
   "outputs": [],
   "source": [
    "a={1,1,1,1,2,2,2,23,3,3,3,3,4,4,4,7,7,7,6,6,6}"
   ]
  },
  {
   "cell_type": "code",
   "execution_count": 14,
   "id": "e6704f67-9dbe-4fcb-a578-a6fec10b522d",
   "metadata": {
    "tags": []
   },
   "outputs": [
    {
     "name": "stdout",
     "output_type": "stream",
     "text": [
      "{1, 2, 3, 4, 23, 6, 7}\n"
     ]
    }
   ],
   "source": [
    "print(a)"
   ]
  },
  {
   "cell_type": "code",
   "execution_count": 15,
   "id": "ca9fe387-31f7-4f55-a8c9-0ef287b59c8e",
   "metadata": {
    "tags": []
   },
   "outputs": [
    {
     "ename": "TypeError",
     "evalue": "'set' object is not subscriptable",
     "output_type": "error",
     "traceback": [
      "\u001b[1;31m---------------------------------------------------------------------------\u001b[0m",
      "\u001b[1;31mTypeError\u001b[0m                                 Traceback (most recent call last)",
      "Cell \u001b[1;32mIn[15], line 1\u001b[0m\n\u001b[1;32m----> 1\u001b[0m a[\u001b[38;5;241m0\u001b[39m]\n",
      "\u001b[1;31mTypeError\u001b[0m: 'set' object is not subscriptable"
     ]
    }
   ],
   "source": [
    "a[0]  # set doesnot support indexing"
   ]
  },
  {
   "cell_type": "code",
   "execution_count": 16,
   "id": "fba83c1f-e608-4f92-b8bc-3b332a8643ce",
   "metadata": {
    "tags": []
   },
   "outputs": [
    {
     "name": "stdout",
     "output_type": "stream",
     "text": [
      "140718092293192\n"
     ]
    }
   ],
   "source": [
    "c=10\n",
    "print(id(c))"
   ]
  },
  {
   "cell_type": "code",
   "execution_count": 17,
   "id": "ae61cb53-00e9-42c4-ae59-27385d9663c7",
   "metadata": {
    "tags": []
   },
   "outputs": [
    {
     "name": "stdout",
     "output_type": "stream",
     "text": [
      "140718092293192\n"
     ]
    }
   ],
   "source": [
    "d=10\n",
    "print(id(d))"
   ]
  },
  {
   "cell_type": "code",
   "execution_count": 18,
   "id": "d36c66e6-86cc-4a15-903c-69d9151d0f66",
   "metadata": {
    "tags": []
   },
   "outputs": [
    {
     "data": {
      "text/plain": [
       "{1, 2, 3, 4, 6, 7, 23}"
      ]
     },
     "execution_count": 18,
     "metadata": {},
     "output_type": "execute_result"
    }
   ],
   "source": [
    "a"
   ]
  },
  {
   "cell_type": "code",
   "execution_count": 31,
   "id": "21bccea6-a1e8-4536-98dd-c91c11934d2b",
   "metadata": {
    "tags": []
   },
   "outputs": [
    {
     "ename": "TypeError",
     "evalue": "unhashable type: 'list'",
     "output_type": "error",
     "traceback": [
      "\u001b[1;31m---------------------------------------------------------------------------\u001b[0m",
      "\u001b[1;31mTypeError\u001b[0m                                 Traceback (most recent call last)",
      "Cell \u001b[1;32mIn[31], line 1\u001b[0m\n\u001b[1;32m----> 1\u001b[0m a\u001b[38;5;241m=\u001b[39m{[\u001b[38;5;241m10.0\u001b[39m]}\n",
      "\u001b[1;31mTypeError\u001b[0m: unhashable type: 'list'"
     ]
    }
   ],
   "source": [
    "a={[10.0]}"
   ]
  },
  {
   "cell_type": "code",
   "execution_count": 32,
   "id": "45e05a63-5f74-4879-b5c8-7855f8b1dc19",
   "metadata": {
    "tags": []
   },
   "outputs": [
    {
     "name": "stdout",
     "output_type": "stream",
     "text": [
      "{'10.0'}\n"
     ]
    }
   ],
   "source": [
    "print(a)"
   ]
  },
  {
   "cell_type": "code",
   "execution_count": null,
   "id": "024d63bf-9e67-476b-a286-3af9e713c82f",
   "metadata": {},
   "outputs": [],
   "source": [
    "> mutable datatype(unhashable): A datatype whose struture and id doesnot get \n",
    "change after applying any methods called mutable datatype, example: list, set\n",
    "\n",
    "> immutable datatype(hashable): A datatype whose struture doesnot change but id get \n",
    "change after applying any methods called immutable datatype, example: int, float, str, tuple,\n"
   ]
  },
  {
   "cell_type": "code",
   "execution_count": 34,
   "id": "ab6ece84-5fcb-47eb-9466-ef66d65bf627",
   "metadata": {
    "tags": []
   },
   "outputs": [
    {
     "ename": "TypeError",
     "evalue": "unhashable type: 'set'",
     "output_type": "error",
     "traceback": [
      "\u001b[1;31m---------------------------------------------------------------------------\u001b[0m",
      "\u001b[1;31mTypeError\u001b[0m                                 Traceback (most recent call last)",
      "Cell \u001b[1;32mIn[34], line 1\u001b[0m\n\u001b[1;32m----> 1\u001b[0m a\u001b[38;5;241m=\u001b[39m{\u001b[38;5;241m1\u001b[39m,\u001b[38;5;241m2\u001b[39m,\u001b[38;5;241m3\u001b[39m,\u001b[38;5;241m4\u001b[39m,{\u001b[38;5;241m1\u001b[39m,\u001b[38;5;241m3\u001b[39m,\u001b[38;5;241m4\u001b[39m,\u001b[38;5;241m56\u001b[39m}}\n",
      "\u001b[1;31mTypeError\u001b[0m: unhashable type: 'set'"
     ]
    }
   ],
   "source": [
    "a={1,2,3,4,{1,3,4,56}}  # set doesnot support nested set"
   ]
  },
  {
   "cell_type": "code",
   "execution_count": 35,
   "id": "609e2489-1731-4490-b9a8-eb68f860a8da",
   "metadata": {
    "tags": []
   },
   "outputs": [],
   "source": [
    "a=set()"
   ]
  },
  {
   "cell_type": "code",
   "execution_count": 39,
   "id": "3619efec-4085-4549-89a5-f303ff97001c",
   "metadata": {
    "tags": []
   },
   "outputs": [
    {
     "name": "stdout",
     "output_type": "stream",
     "text": [
      "set()\n"
     ]
    },
    {
     "data": {
      "text/plain": [
       "0"
      ]
     },
     "execution_count": 39,
     "metadata": {},
     "output_type": "execute_result"
    }
   ],
   "source": [
    "print(a)\n",
    "len(a)"
   ]
  },
  {
   "cell_type": "code",
   "execution_count": 38,
   "id": "8ce3423e-cf9f-4f83-ae5f-48d9b3805bbd",
   "metadata": {
    "tags": []
   },
   "outputs": [
    {
     "data": {
      "text/plain": [
       "0"
      ]
     },
     "execution_count": 38,
     "metadata": {},
     "output_type": "execute_result"
    }
   ],
   "source": [
    "c=[]\n",
    "len(c)"
   ]
  },
  {
   "cell_type": "code",
   "execution_count": 40,
   "id": "f3f9d784-986f-4ed6-b0bb-b25797c3170b",
   "metadata": {
    "tags": []
   },
   "outputs": [],
   "source": [
    "# Methods of set"
   ]
  },
  {
   "cell_type": "markdown",
   "id": "1ad45a27-016e-4070-aa0d-beccc67dc46c",
   "metadata": {},
   "source": [
    "# methods to add elements in set"
   ]
  },
  {
   "cell_type": "code",
   "execution_count": 41,
   "id": "64cfad6d-b5c2-4457-885c-d263ab8389b8",
   "metadata": {
    "tags": []
   },
   "outputs": [
    {
     "data": {
      "text/plain": [
       "set()"
      ]
     },
     "execution_count": 41,
     "metadata": {},
     "output_type": "execute_result"
    }
   ],
   "source": [
    "a"
   ]
  },
  {
   "cell_type": "code",
   "execution_count": 42,
   "id": "633e1472-ad43-475b-bc13-88824a21d804",
   "metadata": {
    "tags": []
   },
   "outputs": [],
   "source": [
    "a.add(10)"
   ]
  },
  {
   "cell_type": "code",
   "execution_count": 43,
   "id": "eccec121-625e-44ae-82fe-a9dd77cd0a16",
   "metadata": {
    "tags": []
   },
   "outputs": [
    {
     "name": "stdout",
     "output_type": "stream",
     "text": [
      "{10}\n"
     ]
    }
   ],
   "source": [
    "print(a)"
   ]
  },
  {
   "cell_type": "code",
   "execution_count": 44,
   "id": "8186650f-4856-46e2-ab8a-edab82c43d77",
   "metadata": {
    "tags": []
   },
   "outputs": [],
   "source": [
    "a.add(10.55)"
   ]
  },
  {
   "cell_type": "code",
   "execution_count": 45,
   "id": "146f50d1-46a2-4d8c-a6f1-5fd9abe57ce9",
   "metadata": {
    "tags": []
   },
   "outputs": [
    {
     "name": "stdout",
     "output_type": "stream",
     "text": [
      "{10, 10.55}\n"
     ]
    }
   ],
   "source": [
    "print(a)"
   ]
  },
  {
   "cell_type": "code",
   "execution_count": 46,
   "id": "d33d7b08-0527-48b4-bced-2f3fd78c9fb7",
   "metadata": {
    "tags": []
   },
   "outputs": [],
   "source": [
    "a.add(\"krishna\")"
   ]
  },
  {
   "cell_type": "code",
   "execution_count": 47,
   "id": "f36123d8-65d5-4dc7-bb40-a40231b1332e",
   "metadata": {
    "tags": []
   },
   "outputs": [
    {
     "name": "stdout",
     "output_type": "stream",
     "text": [
      "{10, 10.55, 'krishna'}\n"
     ]
    }
   ],
   "source": [
    "print(a)"
   ]
  },
  {
   "cell_type": "code",
   "execution_count": 48,
   "id": "53bca1e5-cbff-462d-9363-db93e83b3944",
   "metadata": {
    "tags": []
   },
   "outputs": [],
   "source": [
    "a.add((1,))"
   ]
  },
  {
   "cell_type": "code",
   "execution_count": 49,
   "id": "80ea2358-5d61-479b-bfe2-01d9fac0e561",
   "metadata": {
    "tags": []
   },
   "outputs": [
    {
     "name": "stdout",
     "output_type": "stream",
     "text": [
      "{(1,), 10, 10.55, 'krishna'}\n"
     ]
    }
   ],
   "source": [
    "print(a)"
   ]
  },
  {
   "cell_type": "code",
   "execution_count": 50,
   "id": "062cd7a1-ef11-491c-8088-7ae2abc7895e",
   "metadata": {
    "tags": []
   },
   "outputs": [
    {
     "ename": "TypeError",
     "evalue": "unhashable type: 'list'",
     "output_type": "error",
     "traceback": [
      "\u001b[1;31m---------------------------------------------------------------------------\u001b[0m",
      "\u001b[1;31mTypeError\u001b[0m                                 Traceback (most recent call last)",
      "Cell \u001b[1;32mIn[50], line 1\u001b[0m\n\u001b[1;32m----> 1\u001b[0m a\u001b[38;5;241m.\u001b[39madd([\u001b[38;5;241m1\u001b[39m,\u001b[38;5;241m2\u001b[39m,\u001b[38;5;241m3\u001b[39m,\u001b[38;5;241m4\u001b[39m])\n",
      "\u001b[1;31mTypeError\u001b[0m: unhashable type: 'list'"
     ]
    }
   ],
   "source": [
    "a.add([1,2,3,4])"
   ]
  },
  {
   "cell_type": "code",
   "execution_count": 51,
   "id": "976b2596-0efa-4cc2-9f1a-37a38bdc6e1c",
   "metadata": {
    "tags": []
   },
   "outputs": [],
   "source": [
    "a.add((1,2,3,4,5,6))"
   ]
  },
  {
   "cell_type": "code",
   "execution_count": 52,
   "id": "82f89466-657a-42ee-bf14-48b376fa3c8b",
   "metadata": {
    "tags": []
   },
   "outputs": [
    {
     "name": "stdout",
     "output_type": "stream",
     "text": [
      "{10, 10.55, 'krishna', (1,), (1, 2, 3, 4, 5, 6)}\n"
     ]
    }
   ],
   "source": [
    "print(a)"
   ]
  },
  {
   "cell_type": "code",
   "execution_count": 53,
   "id": "963a729c-c7ad-47bb-9819-70e4feb45908",
   "metadata": {
    "tags": []
   },
   "outputs": [],
   "source": [
    "a.update((1, 2, 3, 4, 5, 6))"
   ]
  },
  {
   "cell_type": "code",
   "execution_count": 54,
   "id": "0c3bf3e0-5959-4fc6-9a65-ffc8b2aea4a3",
   "metadata": {
    "tags": []
   },
   "outputs": [
    {
     "name": "stdout",
     "output_type": "stream",
     "text": [
      "{1, 2, 3, 4, 5, 6, 10, 10.55, 'krishna', (1,), (1, 2, 3, 4, 5, 6)}\n"
     ]
    }
   ],
   "source": [
    "print(a)"
   ]
  },
  {
   "cell_type": "code",
   "execution_count": 55,
   "id": "7069cc60-b1b1-4d23-834d-898a63087df7",
   "metadata": {
    "tags": []
   },
   "outputs": [],
   "source": [
    "a.update([65,6,7,8,8,9,0])"
   ]
  },
  {
   "cell_type": "code",
   "execution_count": 56,
   "id": "65ace582-9c33-4a8d-bd95-464a1d20a271",
   "metadata": {
    "tags": []
   },
   "outputs": [
    {
     "name": "stdout",
     "output_type": "stream",
     "text": [
      "{0, 1, 2, 3, 4, 5, 6, 65, 7, 8, 10, 10.55, 'krishna', 9, (1,), (1, 2, 3, 4, 5, 6)}\n"
     ]
    }
   ],
   "source": [
    "print(a)"
   ]
  },
  {
   "cell_type": "markdown",
   "id": "01091278-0624-4f9e-993a-42cf06c56593",
   "metadata": {},
   "source": [
    "# set remove methods."
   ]
  },
  {
   "cell_type": "code",
   "execution_count": 1,
   "id": "d7ca5796-7318-452c-b999-69a00e90eac1",
   "metadata": {},
   "outputs": [],
   "source": [
    "a={0, 1, 2, 3, 4, 5, 6, 65, 7, 8, 10, 10.55, 'krishna', 9, (1,), (1, 2, 3, 4, 5, 6)}"
   ]
  },
  {
   "cell_type": "code",
   "execution_count": 2,
   "id": "d5b0ec4f-cbb4-46e8-a122-7c9083bbdd21",
   "metadata": {},
   "outputs": [
    {
     "name": "stdout",
     "output_type": "stream",
     "text": [
      "{0, 1, 2, 3, 4, 5, 6, 65, 7, 8, 10, 10.55, 9, 'krishna', (1,), (1, 2, 3, 4, 5, 6)}\n"
     ]
    }
   ],
   "source": [
    "print(a)"
   ]
  },
  {
   "cell_type": "code",
   "execution_count": 3,
   "id": "7f94377d-15e3-42c9-97c2-2293e00b1c7d",
   "metadata": {},
   "outputs": [
    {
     "data": {
      "text/plain": [
       "0"
      ]
     },
     "execution_count": 3,
     "metadata": {},
     "output_type": "execute_result"
    }
   ],
   "source": [
    "a.pop()"
   ]
  },
  {
   "cell_type": "code",
   "execution_count": 4,
   "id": "257cd302-1b78-401e-95c1-32f156a6a34f",
   "metadata": {},
   "outputs": [
    {
     "name": "stdout",
     "output_type": "stream",
     "text": [
      "{1, 2, 3, 4, 5, 6, 65, 7, 8, 10, 10.55, 9, 'krishna', (1,), (1, 2, 3, 4, 5, 6)}\n"
     ]
    }
   ],
   "source": [
    "print(a)"
   ]
  },
  {
   "cell_type": "code",
   "execution_count": 5,
   "id": "1f330300-d352-4ee0-920e-b15f46780ffe",
   "metadata": {},
   "outputs": [],
   "source": [
    "a.remove('krishna')"
   ]
  },
  {
   "cell_type": "code",
   "execution_count": 6,
   "id": "665f4437-e5df-449b-a01e-e5fc8b2ef9a3",
   "metadata": {},
   "outputs": [
    {
     "name": "stdout",
     "output_type": "stream",
     "text": [
      "{1, 2, 3, 4, 5, 6, 65, 7, 8, 10, 10.55, 9, (1,), (1, 2, 3, 4, 5, 6)}\n"
     ]
    }
   ],
   "source": [
    "print(a)"
   ]
  },
  {
   "cell_type": "code",
   "execution_count": 7,
   "id": "9b6066be-906a-4254-b9e8-9388a934385b",
   "metadata": {},
   "outputs": [
    {
     "ename": "KeyError",
     "evalue": "'krishna'",
     "output_type": "error",
     "traceback": [
      "\u001b[1;31m---------------------------------------------------------------------------\u001b[0m",
      "\u001b[1;31mKeyError\u001b[0m                                  Traceback (most recent call last)",
      "Cell \u001b[1;32mIn[7], line 1\u001b[0m\n\u001b[1;32m----> 1\u001b[0m \u001b[43ma\u001b[49m\u001b[38;5;241;43m.\u001b[39;49m\u001b[43mremove\u001b[49m\u001b[43m(\u001b[49m\u001b[38;5;124;43m\"\u001b[39;49m\u001b[38;5;124;43mkrishna\u001b[39;49m\u001b[38;5;124;43m\"\u001b[39;49m\u001b[43m)\u001b[49m\n",
      "\u001b[1;31mKeyError\u001b[0m: 'krishna'"
     ]
    }
   ],
   "source": [
    "a.remove(\"krishna\")"
   ]
  },
  {
   "cell_type": "code",
   "execution_count": 8,
   "id": "e0441c9e-b447-460f-b6ef-06719ab39c90",
   "metadata": {},
   "outputs": [],
   "source": [
    "a.discard(\"krishna\")"
   ]
  },
  {
   "cell_type": "code",
   "execution_count": 9,
   "id": "82974f34-f7b5-4ec9-9d3a-5e14e0cac67e",
   "metadata": {},
   "outputs": [],
   "source": [
    "a.discard(1)"
   ]
  },
  {
   "cell_type": "code",
   "execution_count": 10,
   "id": "6721e8bd-8ea1-4fee-8497-147b44617248",
   "metadata": {},
   "outputs": [
    {
     "name": "stdout",
     "output_type": "stream",
     "text": [
      "{2, 3, 4, 5, 6, 65, 7, 8, 10, 10.55, 9, (1,), (1, 2, 3, 4, 5, 6)}\n"
     ]
    }
   ],
   "source": [
    "print(a)"
   ]
  },
  {
   "cell_type": "code",
   "execution_count": 11,
   "id": "2e898da0-585a-40a7-88cf-1a55e423d7b3",
   "metadata": {},
   "outputs": [],
   "source": [
    "a.discard(1)"
   ]
  },
  {
   "cell_type": "code",
   "execution_count": 12,
   "id": "3e6f56c4-e2de-438c-b8bb-2dc272628f14",
   "metadata": {},
   "outputs": [],
   "source": [
    "a.clear()"
   ]
  },
  {
   "cell_type": "code",
   "execution_count": 13,
   "id": "9c294073-0938-4785-9c3c-6a7b283db29b",
   "metadata": {},
   "outputs": [
    {
     "name": "stdout",
     "output_type": "stream",
     "text": [
      "set()\n"
     ]
    }
   ],
   "source": [
    "print(a)"
   ]
  },
  {
   "cell_type": "code",
   "execution_count": 14,
   "id": "c05047fc-57a7-40c8-a7c5-c699a36fc91e",
   "metadata": {},
   "outputs": [],
   "source": [
    "a.add((1,2,3,4,5))"
   ]
  },
  {
   "cell_type": "code",
   "execution_count": 15,
   "id": "11478650-871c-4c67-8ce4-c2706d88c03e",
   "metadata": {},
   "outputs": [
    {
     "name": "stdout",
     "output_type": "stream",
     "text": [
      "{(1, 2, 3, 4, 5)}\n"
     ]
    }
   ],
   "source": [
    "print(a)"
   ]
  },
  {
   "cell_type": "code",
   "execution_count": 16,
   "id": "f5f2bc03-5d82-447d-a0dc-460cfd655646",
   "metadata": {},
   "outputs": [],
   "source": [
    "a.update((1,2,3,4,5,6))"
   ]
  },
  {
   "cell_type": "code",
   "execution_count": 17,
   "id": "5bfffa8b-869d-4ea8-8696-5e1fc10312ec",
   "metadata": {},
   "outputs": [
    {
     "name": "stdout",
     "output_type": "stream",
     "text": [
      "{1, 2, 3, 4, 5, 6, (1, 2, 3, 4, 5)}\n"
     ]
    }
   ],
   "source": [
    "print(a)"
   ]
  },
  {
   "cell_type": "code",
   "execution_count": 18,
   "id": "6acacbfd-753f-4d71-b032-68c14b2a47d4",
   "metadata": {},
   "outputs": [],
   "source": [
    "a={1,2,3,4,5,6}\n",
    "b={4,5,6,7,8,9}"
   ]
  },
  {
   "cell_type": "code",
   "execution_count": 19,
   "id": "6fca8534-80cc-4e4d-bf9f-88746210c97c",
   "metadata": {},
   "outputs": [
    {
     "data": {
      "text/plain": [
       "{4, 5, 6}"
      ]
     },
     "execution_count": 19,
     "metadata": {},
     "output_type": "execute_result"
    }
   ],
   "source": [
    "a.intersection(b)"
   ]
  },
  {
   "cell_type": "code",
   "execution_count": 20,
   "id": "7ace52b6-9b98-4d30-a0c1-7d4fde834aef",
   "metadata": {},
   "outputs": [
    {
     "name": "stdout",
     "output_type": "stream",
     "text": [
      "{1, 2, 3, 4, 5, 6}\n"
     ]
    }
   ],
   "source": [
    "print(a)"
   ]
  },
  {
   "cell_type": "code",
   "execution_count": 21,
   "id": "728d947b-b698-4faa-8740-a720fb97f9a4",
   "metadata": {},
   "outputs": [
    {
     "name": "stdout",
     "output_type": "stream",
     "text": [
      "{4, 5, 6, 7, 8, 9}\n"
     ]
    }
   ],
   "source": [
    "print(b)"
   ]
  },
  {
   "cell_type": "code",
   "execution_count": 22,
   "id": "7953634d-4e9d-4c52-bfc6-d9ce1a64ea82",
   "metadata": {},
   "outputs": [],
   "source": [
    "a.intersection_update(b)"
   ]
  },
  {
   "cell_type": "code",
   "execution_count": 23,
   "id": "be3dccff-36f7-4a3d-b411-c3090ec7cf0c",
   "metadata": {},
   "outputs": [
    {
     "name": "stdout",
     "output_type": "stream",
     "text": [
      "{4, 5, 6}\n"
     ]
    }
   ],
   "source": [
    "print(a)"
   ]
  },
  {
   "cell_type": "code",
   "execution_count": 24,
   "id": "806f28e3-c5ac-4536-a77b-b685cea13036",
   "metadata": {},
   "outputs": [
    {
     "name": "stdout",
     "output_type": "stream",
     "text": [
      "{4, 5, 6, 7, 8, 9}\n"
     ]
    }
   ],
   "source": [
    "print(b)"
   ]
  },
  {
   "cell_type": "code",
   "execution_count": 25,
   "id": "22e99d55-a5da-4c11-8045-2bc534fa27af",
   "metadata": {},
   "outputs": [],
   "source": [
    "a={1,2,3,4,5,6}"
   ]
  },
  {
   "cell_type": "code",
   "execution_count": 26,
   "id": "007f9797-4fce-4024-8e4d-3d1ace04d839",
   "metadata": {},
   "outputs": [
    {
     "name": "stdout",
     "output_type": "stream",
     "text": [
      "{1, 2, 3, 4, 5, 6}\n"
     ]
    }
   ],
   "source": [
    "print(a)"
   ]
  },
  {
   "cell_type": "code",
   "execution_count": 27,
   "id": "d43067b7-c25d-407a-961f-8384652afe5b",
   "metadata": {},
   "outputs": [
    {
     "name": "stdout",
     "output_type": "stream",
     "text": [
      "{4, 5, 6, 7, 8, 9}\n"
     ]
    }
   ],
   "source": [
    "print(b)"
   ]
  },
  {
   "cell_type": "code",
   "execution_count": 28,
   "id": "1ab620ba-77e5-4d2d-b098-4528bf004c5e",
   "metadata": {},
   "outputs": [
    {
     "data": {
      "text/plain": [
       "{1, 2, 3}"
      ]
     },
     "execution_count": 28,
     "metadata": {},
     "output_type": "execute_result"
    }
   ],
   "source": [
    "a-b"
   ]
  },
  {
   "cell_type": "code",
   "execution_count": 29,
   "id": "08de5d2c-447a-478e-9147-27adff364a46",
   "metadata": {},
   "outputs": [
    {
     "name": "stdout",
     "output_type": "stream",
     "text": [
      "{1, 2, 3, 4, 5, 6}\n"
     ]
    }
   ],
   "source": [
    "print(a)"
   ]
  },
  {
   "cell_type": "code",
   "execution_count": 30,
   "id": "836fe04c-c37f-44bf-a144-91ac9b11f52b",
   "metadata": {},
   "outputs": [
    {
     "name": "stdout",
     "output_type": "stream",
     "text": [
      "{4, 5, 6, 7, 8, 9}\n"
     ]
    }
   ],
   "source": [
    "print(b)"
   ]
  },
  {
   "cell_type": "code",
   "execution_count": 31,
   "id": "8b8f6ef6-dd53-4116-9cab-7880462760f3",
   "metadata": {},
   "outputs": [
    {
     "data": {
      "text/plain": [
       "{1, 2, 3}"
      ]
     },
     "execution_count": 31,
     "metadata": {},
     "output_type": "execute_result"
    }
   ],
   "source": [
    "a.difference(b)"
   ]
  },
  {
   "cell_type": "code",
   "execution_count": 32,
   "id": "4eb4b25b-6749-41eb-b0f9-8583b3746570",
   "metadata": {},
   "outputs": [
    {
     "data": {
      "text/plain": [
       "{1, 2, 3, 4, 5, 6}"
      ]
     },
     "execution_count": 32,
     "metadata": {},
     "output_type": "execute_result"
    }
   ],
   "source": [
    "a"
   ]
  },
  {
   "cell_type": "code",
   "execution_count": 33,
   "id": "cae5195a-398a-46a3-9d49-18854f05bfff",
   "metadata": {},
   "outputs": [
    {
     "data": {
      "text/plain": [
       "{4, 5, 6, 7, 8, 9}"
      ]
     },
     "execution_count": 33,
     "metadata": {},
     "output_type": "execute_result"
    }
   ],
   "source": [
    "b"
   ]
  },
  {
   "cell_type": "code",
   "execution_count": 34,
   "id": "15f2da30-0cba-4b3e-b805-ff68e16f5dbd",
   "metadata": {},
   "outputs": [
    {
     "data": {
      "text/plain": [
       "{1, 2, 3}"
      ]
     },
     "execution_count": 34,
     "metadata": {},
     "output_type": "execute_result"
    }
   ],
   "source": [
    "a.difference(b)"
   ]
  },
  {
   "cell_type": "code",
   "execution_count": 35,
   "id": "6bd9f5b3-2cc8-40a9-aacb-caaa398aa22f",
   "metadata": {},
   "outputs": [
    {
     "data": {
      "text/plain": [
       "{7, 8, 9}"
      ]
     },
     "execution_count": 35,
     "metadata": {},
     "output_type": "execute_result"
    }
   ],
   "source": [
    "b.difference(a)"
   ]
  },
  {
   "cell_type": "code",
   "execution_count": 36,
   "id": "13edc42f-cc1f-451c-b518-de8ea6a17078",
   "metadata": {},
   "outputs": [
    {
     "data": {
      "text/plain": [
       "{1, 2, 3, 7, 8, 9}"
      ]
     },
     "execution_count": 36,
     "metadata": {},
     "output_type": "execute_result"
    }
   ],
   "source": [
    "a.symmetric_difference(b)"
   ]
  },
  {
   "cell_type": "code",
   "execution_count": 38,
   "id": "909e0147-6817-4765-89a3-af718f720c2d",
   "metadata": {},
   "outputs": [
    {
     "data": {
      "text/plain": [
       "{1, 2, 3, 7, 8, 9}"
      ]
     },
     "execution_count": 38,
     "metadata": {},
     "output_type": "execute_result"
    }
   ],
   "source": [
    "b.symmetric_difference(a)"
   ]
  },
  {
   "cell_type": "code",
   "execution_count": 39,
   "id": "43d788af-3928-47a8-bad8-921e08a245bd",
   "metadata": {},
   "outputs": [
    {
     "name": "stdout",
     "output_type": "stream",
     "text": [
      "{1, 2, 3, 4, 5, 6}\n"
     ]
    }
   ],
   "source": [
    "print(a)"
   ]
  },
  {
   "cell_type": "code",
   "execution_count": 40,
   "id": "d8843afe-bf5a-4edb-809f-4222f7f5c4f4",
   "metadata": {},
   "outputs": [
    {
     "name": "stdout",
     "output_type": "stream",
     "text": [
      "{4, 5, 6, 7, 8, 9}\n"
     ]
    }
   ],
   "source": [
    "print(b)"
   ]
  },
  {
   "cell_type": "code",
   "execution_count": 41,
   "id": "ff78b116-f5f1-4c55-80fa-5bf170ac0730",
   "metadata": {},
   "outputs": [],
   "source": [
    "a.symmetric_difference_update(b)"
   ]
  },
  {
   "cell_type": "code",
   "execution_count": 42,
   "id": "7617601c-e728-4182-8d8f-1118b4fe354b",
   "metadata": {
    "scrolled": true
   },
   "outputs": [
    {
     "name": "stdout",
     "output_type": "stream",
     "text": [
      "{1, 2, 3, 7, 8, 9}\n"
     ]
    }
   ],
   "source": [
    "print(a)"
   ]
  },
  {
   "cell_type": "code",
   "execution_count": 43,
   "id": "6a677c0a-0db0-43a4-8f44-c641dde9ffe2",
   "metadata": {},
   "outputs": [
    {
     "name": "stdout",
     "output_type": "stream",
     "text": [
      "{4, 5, 6, 7, 8, 9}\n"
     ]
    }
   ],
   "source": [
    "print(b)"
   ]
  },
  {
   "cell_type": "code",
   "execution_count": 44,
   "id": "cd530aa9-1547-4849-ae0d-35efa217b9a2",
   "metadata": {},
   "outputs": [],
   "source": [
    "c=a"
   ]
  },
  {
   "cell_type": "code",
   "execution_count": 45,
   "id": "f4cda273-c32b-4205-bf8c-9afee268bf66",
   "metadata": {},
   "outputs": [
    {
     "data": {
      "text/plain": [
       "{1, 2, 3, 7, 8, 9}"
      ]
     },
     "execution_count": 45,
     "metadata": {},
     "output_type": "execute_result"
    }
   ],
   "source": [
    "c"
   ]
  },
  {
   "cell_type": "code",
   "execution_count": 46,
   "id": "d08966a5-e460-4223-b897-f38cbb5346de",
   "metadata": {},
   "outputs": [
    {
     "data": {
      "text/plain": [
       "{1, 2, 3, 7, 8, 9}"
      ]
     },
     "execution_count": 46,
     "metadata": {},
     "output_type": "execute_result"
    }
   ],
   "source": [
    "a"
   ]
  },
  {
   "cell_type": "code",
   "execution_count": 47,
   "id": "e73a96f0-3651-426d-bddb-9dd8ea54e267",
   "metadata": {},
   "outputs": [],
   "source": [
    "c.add(1000)"
   ]
  },
  {
   "cell_type": "code",
   "execution_count": 48,
   "id": "b1f33e2e-92f8-4323-8340-cdc91af2b0b5",
   "metadata": {},
   "outputs": [
    {
     "name": "stdout",
     "output_type": "stream",
     "text": [
      "{1, 2, 3, 7, 8, 9, 1000}\n"
     ]
    }
   ],
   "source": [
    "print(c)"
   ]
  },
  {
   "cell_type": "code",
   "execution_count": 50,
   "id": "8c0dde4a-75a7-45e8-867b-d3a012862072",
   "metadata": {},
   "outputs": [
    {
     "name": "stdout",
     "output_type": "stream",
     "text": [
      "{1, 2, 3, 7, 8, 9, 1000}\n"
     ]
    }
   ],
   "source": [
    "print(a)"
   ]
  },
  {
   "cell_type": "code",
   "execution_count": 51,
   "id": "73c6c4bc-da3d-4d2b-ad35-36d99ec160f1",
   "metadata": {},
   "outputs": [
    {
     "name": "stdout",
     "output_type": "stream",
     "text": [
      "2425674883008\n"
     ]
    }
   ],
   "source": [
    "print(id(c))"
   ]
  },
  {
   "cell_type": "code",
   "execution_count": 52,
   "id": "99220637-1dc5-4e6f-9be7-df33d2460f33",
   "metadata": {},
   "outputs": [
    {
     "name": "stdout",
     "output_type": "stream",
     "text": [
      "2425674883008\n"
     ]
    }
   ],
   "source": [
    "print(id(a))"
   ]
  },
  {
   "cell_type": "code",
   "execution_count": 53,
   "id": "a97e6c38-2aaf-461c-b135-65a0387ffce2",
   "metadata": {},
   "outputs": [
    {
     "data": {
      "text/plain": [
       "{1, 2, 3, 7, 8, 9, 1000}"
      ]
     },
     "execution_count": 53,
     "metadata": {},
     "output_type": "execute_result"
    }
   ],
   "source": [
    "a"
   ]
  },
  {
   "cell_type": "code",
   "execution_count": 54,
   "id": "b7c5193a-eb64-4a5f-8aba-c465ee30c4db",
   "metadata": {},
   "outputs": [],
   "source": [
    "d=a.copy()"
   ]
  },
  {
   "cell_type": "code",
   "execution_count": 55,
   "id": "202f01aa-1637-41fd-b0a0-b45e0547faea",
   "metadata": {},
   "outputs": [
    {
     "name": "stdout",
     "output_type": "stream",
     "text": [
      "{1, 2, 3, 7, 8, 9, 1000}\n"
     ]
    }
   ],
   "source": [
    "print(a)"
   ]
  },
  {
   "cell_type": "code",
   "execution_count": 56,
   "id": "095a68cd-1e42-4199-8d8d-24546462b54c",
   "metadata": {},
   "outputs": [
    {
     "name": "stdout",
     "output_type": "stream",
     "text": [
      "{1, 2, 3, 7, 8, 9, 1000}\n"
     ]
    }
   ],
   "source": [
    "print(d)"
   ]
  },
  {
   "cell_type": "code",
   "execution_count": 57,
   "id": "1e2f3009-b073-43fb-84cc-56115f476c08",
   "metadata": {},
   "outputs": [],
   "source": [
    "a.add(9999)"
   ]
  },
  {
   "cell_type": "code",
   "execution_count": 58,
   "id": "492b6d7e-15db-414a-aa53-bb3f7f57a903",
   "metadata": {},
   "outputs": [
    {
     "name": "stdout",
     "output_type": "stream",
     "text": [
      "{1, 2, 3, 7, 8, 9, 1000, 9999}\n"
     ]
    }
   ],
   "source": [
    "print(a)"
   ]
  },
  {
   "cell_type": "code",
   "execution_count": 59,
   "id": "3d0e0f05-98ba-423e-8a42-744a05ef6c52",
   "metadata": {},
   "outputs": [
    {
     "name": "stdout",
     "output_type": "stream",
     "text": [
      "{1, 2, 3, 7, 8, 9, 1000}\n"
     ]
    }
   ],
   "source": [
    "print(d)"
   ]
  },
  {
   "cell_type": "code",
   "execution_count": 60,
   "id": "787caeb5-4896-4c56-ab92-889f76e6ff6e",
   "metadata": {},
   "outputs": [
    {
     "data": {
      "text/plain": [
       "2425674883008"
      ]
     },
     "execution_count": 60,
     "metadata": {},
     "output_type": "execute_result"
    }
   ],
   "source": [
    "id(a)"
   ]
  },
  {
   "cell_type": "code",
   "execution_count": 61,
   "id": "b4d63b52-cea4-4bd2-a467-26672fa123e0",
   "metadata": {},
   "outputs": [
    {
     "data": {
      "text/plain": [
       "2425675118656"
      ]
     },
     "execution_count": 61,
     "metadata": {},
     "output_type": "execute_result"
    }
   ],
   "source": [
    "id(d)"
   ]
  },
  {
   "cell_type": "code",
   "execution_count": 62,
   "id": "fc3bfdf4-c780-4618-afcb-d659b0da5ae0",
   "metadata": {},
   "outputs": [
    {
     "ename": "TypeError",
     "evalue": "unhashable type: 'list'",
     "output_type": "error",
     "traceback": [
      "\u001b[1;31m---------------------------------------------------------------------------\u001b[0m",
      "\u001b[1;31mTypeError\u001b[0m                                 Traceback (most recent call last)",
      "Cell \u001b[1;32mIn[62], line 1\u001b[0m\n\u001b[1;32m----> 1\u001b[0m \u001b[43ma\u001b[49m\u001b[38;5;241;43m.\u001b[39;49m\u001b[43madd\u001b[49m\u001b[43m(\u001b[49m\u001b[43m[\u001b[49m\u001b[38;5;241;43m1\u001b[39;49m\u001b[43m,\u001b[49m\u001b[38;5;241;43m2\u001b[39;49m\u001b[43m,\u001b[49m\u001b[38;5;241;43m3\u001b[39;49m\u001b[43m,\u001b[49m\u001b[38;5;241;43m4\u001b[39;49m\u001b[43m]\u001b[49m\u001b[43m)\u001b[49m\n",
      "\u001b[1;31mTypeError\u001b[0m: unhashable type: 'list'"
     ]
    }
   ],
   "source": [
    "a.add([1,2,3,4])"
   ]
  },
  {
   "cell_type": "code",
   "execution_count": 63,
   "id": "8c1990e8-bb6d-4e94-9bf1-a25e724f9fa7",
   "metadata": {},
   "outputs": [
    {
     "data": {
      "text/plain": [
       "{1, 2, 3, 7, 8, 9, 1000, 9999}"
      ]
     },
     "execution_count": 63,
     "metadata": {},
     "output_type": "execute_result"
    }
   ],
   "source": [
    "a"
   ]
  },
  {
   "cell_type": "code",
   "execution_count": 64,
   "id": "f35c2fff-e0da-4967-8a2b-adfa412d1438",
   "metadata": {},
   "outputs": [],
   "source": [
    "a.remove(1000)"
   ]
  },
  {
   "cell_type": "code",
   "execution_count": 65,
   "id": "884e9a85-d1b0-43aa-9dbb-e7a48e594cc7",
   "metadata": {},
   "outputs": [
    {
     "name": "stdout",
     "output_type": "stream",
     "text": [
      "{1, 2, 3, 7, 8, 9, 9999}\n"
     ]
    }
   ],
   "source": [
    "print(a)"
   ]
  },
  {
   "cell_type": "code",
   "execution_count": 66,
   "id": "f9635102-aeb0-4e06-a124-c0685cbd6c68",
   "metadata": {},
   "outputs": [
    {
     "ename": "KeyError",
     "evalue": "100000000000",
     "output_type": "error",
     "traceback": [
      "\u001b[1;31m---------------------------------------------------------------------------\u001b[0m",
      "\u001b[1;31mKeyError\u001b[0m                                  Traceback (most recent call last)",
      "Cell \u001b[1;32mIn[66], line 1\u001b[0m\n\u001b[1;32m----> 1\u001b[0m \u001b[43ma\u001b[49m\u001b[38;5;241;43m.\u001b[39;49m\u001b[43mremove\u001b[49m\u001b[43m(\u001b[49m\u001b[38;5;241;43m100000000000\u001b[39;49m\u001b[43m)\u001b[49m\n",
      "\u001b[1;31mKeyError\u001b[0m: 100000000000"
     ]
    }
   ],
   "source": [
    "a.remove(100000000000)"
   ]
  },
  {
   "cell_type": "code",
   "execution_count": 67,
   "id": "428d49e5-3e40-4540-ba71-0be9c599d6e3",
   "metadata": {},
   "outputs": [],
   "source": [
    "a.discard(9999)"
   ]
  },
  {
   "cell_type": "code",
   "execution_count": 68,
   "id": "68c729a5-80f5-4ad2-87ef-65b377d92531",
   "metadata": {},
   "outputs": [
    {
     "name": "stdout",
     "output_type": "stream",
     "text": [
      "{1, 2, 3, 7, 8, 9}\n"
     ]
    }
   ],
   "source": [
    "print(a)"
   ]
  },
  {
   "cell_type": "code",
   "execution_count": 69,
   "id": "f169ec90-11d0-411b-8b08-c8b7b04fb663",
   "metadata": {},
   "outputs": [],
   "source": [
    "a.discard(9999999999)"
   ]
  },
  {
   "cell_type": "code",
   "execution_count": 70,
   "id": "23082944-31ba-42b9-a15b-07848cc3dbd1",
   "metadata": {},
   "outputs": [
    {
     "data": {
      "text/plain": [
       "{1, 2, 3, 7, 8, 9}"
      ]
     },
     "execution_count": 70,
     "metadata": {},
     "output_type": "execute_result"
    }
   ],
   "source": [
    "a"
   ]
  },
  {
   "cell_type": "code",
   "execution_count": 71,
   "id": "d0bd4355-91f9-4c33-8b21-ec2a5532bfaa",
   "metadata": {},
   "outputs": [
    {
     "data": {
      "text/plain": [
       "{4, 5, 6, 7, 8, 9}"
      ]
     },
     "execution_count": 71,
     "metadata": {},
     "output_type": "execute_result"
    }
   ],
   "source": [
    "b"
   ]
  },
  {
   "cell_type": "code",
   "execution_count": 72,
   "id": "06945013-e87b-4397-a696-0904a8713db5",
   "metadata": {},
   "outputs": [
    {
     "data": {
      "text/plain": [
       "{1, 2, 3, 4, 5, 6, 7, 8, 9}"
      ]
     },
     "execution_count": 72,
     "metadata": {},
     "output_type": "execute_result"
    }
   ],
   "source": [
    "a.union(b)"
   ]
  },
  {
   "cell_type": "code",
   "execution_count": 79,
   "id": "d5f3040b-2f72-4850-b8ff-c22cf8ae9a1b",
   "metadata": {},
   "outputs": [],
   "source": [
    "a={1,2,3,4,5,6}\n",
    "b={1,2}"
   ]
  },
  {
   "cell_type": "code",
   "execution_count": 80,
   "id": "27d3de2d-b56b-4f8d-a3bc-2a35b0e9fb39",
   "metadata": {},
   "outputs": [
    {
     "data": {
      "text/plain": [
       "True"
      ]
     },
     "execution_count": 80,
     "metadata": {},
     "output_type": "execute_result"
    }
   ],
   "source": [
    "a.issuperset(b)"
   ]
  },
  {
   "cell_type": "code",
   "execution_count": 81,
   "id": "7ccc8b31-b771-4ca9-a555-4139c3b6e2d1",
   "metadata": {},
   "outputs": [
    {
     "data": {
      "text/plain": [
       "True"
      ]
     },
     "execution_count": 81,
     "metadata": {},
     "output_type": "execute_result"
    }
   ],
   "source": [
    "b.issubset(a)"
   ]
  },
  {
   "cell_type": "code",
   "execution_count": 83,
   "id": "271c461d-f16b-4842-97e9-ad85305bbc6a",
   "metadata": {},
   "outputs": [],
   "source": [
    "a={1,2,3,4,5,6}\n",
    "b={10,11,13}"
   ]
  },
  {
   "cell_type": "code",
   "execution_count": 84,
   "id": "5d7e51bd-67d2-4ac4-be05-431947069c72",
   "metadata": {},
   "outputs": [
    {
     "data": {
      "text/plain": [
       "True"
      ]
     },
     "execution_count": 84,
     "metadata": {},
     "output_type": "execute_result"
    }
   ],
   "source": [
    "a.isdisjoint(b)"
   ]
  },
  {
   "cell_type": "code",
   "execution_count": 85,
   "id": "25edfd1d-c849-4f48-80ab-8e017de2ec70",
   "metadata": {},
   "outputs": [],
   "source": [
    "a={1,2,3,4,5,6}\n",
    "b={10,11,13,1}"
   ]
  },
  {
   "cell_type": "code",
   "execution_count": 86,
   "id": "f5254e1d-ac07-47eb-a6a2-94842b13f310",
   "metadata": {},
   "outputs": [
    {
     "data": {
      "text/plain": [
       "False"
      ]
     },
     "execution_count": 86,
     "metadata": {},
     "output_type": "execute_result"
    }
   ],
   "source": [
    "a.isdisjoint(b)"
   ]
  },
  {
   "cell_type": "code",
   "execution_count": null,
   "id": "959f43e1-a4ed-4d27-8b1a-a60ffc67c349",
   "metadata": {},
   "outputs": [],
   "source": []
  }
 ],
 "metadata": {
  "kernelspec": {
   "display_name": "Python 3 (ipykernel)",
   "language": "python",
   "name": "python3"
  },
  "language_info": {
   "codemirror_mode": {
    "name": "ipython",
    "version": 3
   },
   "file_extension": ".py",
   "mimetype": "text/x-python",
   "name": "python",
   "nbconvert_exporter": "python",
   "pygments_lexer": "ipython3",
   "version": "3.11.4"
  }
 },
 "nbformat": 4,
 "nbformat_minor": 5
}
