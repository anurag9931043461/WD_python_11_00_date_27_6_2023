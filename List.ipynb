{
 "cells": [
  {
   "cell_type": "markdown",
   "id": "abe5da4d-fe38-41a1-8504-676f0b236080",
   "metadata": {},
   "source": [
    "# List\n",
    "\n",
    "> List constructor is list()\n",
    "\n",
    "> List literal is []\n",
    "\n",
    "> List is a set of sequence of elements(datatypes)\n",
    "\n",
    "> List is mutable(unhashable)\n",
    "\n",
    "> List support indexing \n",
    "\n",
    "> List support slicing\n",
    "\n",
    "> List support concatination\n",
    "\n",
    "> List support nested list\n",
    "\n",
    "> List methods."
   ]
  },
  {
   "cell_type": "code",
   "execution_count": 1,
   "id": "75ae597d-153b-4e46-addd-208992ca3c22",
   "metadata": {},
   "outputs": [],
   "source": [
    "a=10\n",
    "b=10.0\n",
    "c=\"10\""
   ]
  },
  {
   "cell_type": "code",
   "execution_count": 2,
   "id": "f1c0d698-f1d0-4916-9879-2fa46b78655a",
   "metadata": {},
   "outputs": [],
   "source": [
    "e=[a,b,c]"
   ]
  },
  {
   "cell_type": "code",
   "execution_count": 3,
   "id": "37a25e79-ae9d-4c90-a2db-d56ba2de6770",
   "metadata": {},
   "outputs": [
    {
     "name": "stdout",
     "output_type": "stream",
     "text": [
      "[10, 10.0, '10']\n"
     ]
    }
   ],
   "source": [
    "print(e)"
   ]
  },
  {
   "cell_type": "code",
   "execution_count": 4,
   "id": "840a5248-b6cb-42e5-a1b4-527cbf9f27b7",
   "metadata": {},
   "outputs": [],
   "source": [
    "f=[10,10.0,\"10\"]"
   ]
  },
  {
   "cell_type": "code",
   "execution_count": 5,
   "id": "595c6c9c-cbbd-402a-b076-81ea93c48df6",
   "metadata": {},
   "outputs": [
    {
     "data": {
      "text/plain": [
       "[10, 10.0, '10']"
      ]
     },
     "execution_count": 5,
     "metadata": {},
     "output_type": "execute_result"
    }
   ],
   "source": [
    "f"
   ]
  },
  {
   "cell_type": "code",
   "execution_count": 7,
   "id": "502fadc1-5cf6-4e6b-bda6-c7488dbb69a8",
   "metadata": {},
   "outputs": [
    {
     "data": {
      "text/plain": [
       "10"
      ]
     },
     "execution_count": 7,
     "metadata": {},
     "output_type": "execute_result"
    }
   ],
   "source": [
    "g=f[0]\n",
    "g"
   ]
  },
  {
   "cell_type": "code",
   "execution_count": 8,
   "id": "3291181e-b722-4bde-96c4-021f3e5798d1",
   "metadata": {},
   "outputs": [
    {
     "data": {
      "text/plain": [
       "int"
      ]
     },
     "execution_count": 8,
     "metadata": {},
     "output_type": "execute_result"
    }
   ],
   "source": [
    "type(g)"
   ]
  },
  {
   "cell_type": "code",
   "execution_count": 9,
   "id": "03b640b2-8117-437b-9dab-c5f8ef023007",
   "metadata": {},
   "outputs": [
    {
     "name": "stdout",
     "output_type": "stream",
     "text": [
      "[10.0, '10']\n"
     ]
    }
   ],
   "source": [
    "print(f[1:3:1])"
   ]
  },
  {
   "cell_type": "code",
   "execution_count": 10,
   "id": "b7c3f0ec-f045-4f15-98bb-5022af265f9e",
   "metadata": {},
   "outputs": [],
   "source": [
    "a=[2,3,4,1,32,4]"
   ]
  },
  {
   "cell_type": "code",
   "execution_count": 11,
   "id": "184601a3-d813-4291-b740-41efc82eb6fd",
   "metadata": {},
   "outputs": [
    {
     "name": "stdout",
     "output_type": "stream",
     "text": [
      "[3, 4, 1]\n"
     ]
    }
   ],
   "source": [
    "print(a[1:4:1])"
   ]
  },
  {
   "cell_type": "code",
   "execution_count": 12,
   "id": "2af3bea2-4bc6-4edf-81ef-0f4804d5d076",
   "metadata": {},
   "outputs": [
    {
     "name": "stdout",
     "output_type": "stream",
     "text": [
      "[2, 3, 4, 1, 32, 4]\n"
     ]
    }
   ],
   "source": [
    "print(a)"
   ]
  },
  {
   "cell_type": "code",
   "execution_count": 13,
   "id": "8c4dc263-9be1-4cdb-a344-4f4d8efa583a",
   "metadata": {},
   "outputs": [
    {
     "data": {
      "text/plain": [
       "[2, 3, 4, 1, 32]"
      ]
     },
     "execution_count": 13,
     "metadata": {},
     "output_type": "execute_result"
    }
   ],
   "source": [
    "a[0:5:1]"
   ]
  },
  {
   "cell_type": "code",
   "execution_count": 14,
   "id": "0f0857b0-763c-42d0-bc31-649bf3cdaaaa",
   "metadata": {},
   "outputs": [
    {
     "data": {
      "text/plain": [
       "[2, 4, 32]"
      ]
     },
     "execution_count": 14,
     "metadata": {},
     "output_type": "execute_result"
    }
   ],
   "source": [
    "a[0:5:2]"
   ]
  },
  {
   "cell_type": "code",
   "execution_count": 17,
   "id": "2912b6ff-7dde-4d3c-bda7-ea31f5a17468",
   "metadata": {},
   "outputs": [
    {
     "data": {
      "text/plain": [
       "[2, 3, 4]"
      ]
     },
     "execution_count": 17,
     "metadata": {},
     "output_type": "execute_result"
    }
   ],
   "source": [
    "a[0:3:1]"
   ]
  },
  {
   "cell_type": "code",
   "execution_count": 18,
   "id": "deb66a9a-c060-4f0b-9b0a-875679773b7a",
   "metadata": {},
   "outputs": [
    {
     "data": {
      "text/plain": [
       "[2, 3, 4, 1]"
      ]
     },
     "execution_count": 18,
     "metadata": {},
     "output_type": "execute_result"
    }
   ],
   "source": [
    "a[0:4:1]"
   ]
  },
  {
   "cell_type": "code",
   "execution_count": 19,
   "id": "e90ebbc4-936f-44f8-aa74-7b12d29abc59",
   "metadata": {},
   "outputs": [
    {
     "data": {
      "text/plain": [
       "[2, 4]"
      ]
     },
     "execution_count": 19,
     "metadata": {},
     "output_type": "execute_result"
    }
   ],
   "source": [
    "a[0:4:2]"
   ]
  },
  {
   "cell_type": "code",
   "execution_count": 20,
   "id": "83debb7e-93f2-4ba0-aef5-933f93f1e020",
   "metadata": {},
   "outputs": [
    {
     "name": "stdout",
     "output_type": "stream",
     "text": [
      "[2, 3, 4, 1]\n"
     ]
    }
   ],
   "source": [
    "print(a[0:4:1])"
   ]
  },
  {
   "cell_type": "code",
   "execution_count": 21,
   "id": "41322ead-1c57-4ef0-92d4-7ae7ae32ae2d",
   "metadata": {},
   "outputs": [
    {
     "name": "stdout",
     "output_type": "stream",
     "text": [
      "[2, 3, 4, 1, 32, 4]\n"
     ]
    }
   ],
   "source": [
    "print(a[0:6:1])"
   ]
  },
  {
   "cell_type": "code",
   "execution_count": 22,
   "id": "56409f0a-9dee-45b6-927d-0bb2b5b93ef2",
   "metadata": {},
   "outputs": [
    {
     "name": "stdout",
     "output_type": "stream",
     "text": [
      "[2, 3, 4, 1, 32, 4]\n"
     ]
    }
   ],
   "source": [
    "print(a[0::1])"
   ]
  },
  {
   "cell_type": "code",
   "execution_count": 23,
   "id": "a4096a5f-c35c-4a25-bf62-6e3d7718294e",
   "metadata": {},
   "outputs": [
    {
     "name": "stdout",
     "output_type": "stream",
     "text": [
      "[2, 3, 4, 1, 32, 4]\n"
     ]
    }
   ],
   "source": [
    "print(a[::1])"
   ]
  },
  {
   "cell_type": "code",
   "execution_count": 24,
   "id": "e2e31419-d36d-4cd8-a749-ede12b1f5f0f",
   "metadata": {},
   "outputs": [
    {
     "name": "stdout",
     "output_type": "stream",
     "text": [
      "[2, 3, 4, 1, 32, 4]\n"
     ]
    }
   ],
   "source": [
    "print(a[::])"
   ]
  },
  {
   "cell_type": "code",
   "execution_count": 25,
   "id": "76f0a140-7e2e-443f-ac60-e99626348b9d",
   "metadata": {},
   "outputs": [
    {
     "name": "stdout",
     "output_type": "stream",
     "text": [
      "[2, 3, 4, 1, 32, 4]\n"
     ]
    }
   ],
   "source": [
    "print(a[:])"
   ]
  },
  {
   "cell_type": "code",
   "execution_count": 1,
   "id": "28e34df1-ef0c-45f4-b052-87f3d8c66385",
   "metadata": {},
   "outputs": [],
   "source": [
    "a=[1,2,3,[4,5,6,7],3,3,4]"
   ]
  },
  {
   "cell_type": "code",
   "execution_count": 2,
   "id": "3eb94dcf-cbbd-4a61-b7e5-2d9048b003b5",
   "metadata": {},
   "outputs": [
    {
     "name": "stdout",
     "output_type": "stream",
     "text": [
      "[1, 2, 3, [4, 5, 6, 7], 3, 3, 4]\n"
     ]
    }
   ],
   "source": [
    "print(a)"
   ]
  },
  {
   "cell_type": "code",
   "execution_count": 3,
   "id": "ab49fa66-e787-4a19-8d38-491316d172a9",
   "metadata": {},
   "outputs": [
    {
     "data": {
      "text/plain": [
       "7"
      ]
     },
     "execution_count": 3,
     "metadata": {},
     "output_type": "execute_result"
    }
   ],
   "source": [
    "len(a)"
   ]
  },
  {
   "cell_type": "code",
   "execution_count": 5,
   "id": "68b49754-3964-48ee-84db-45b94a5bb9a6",
   "metadata": {},
   "outputs": [
    {
     "data": {
      "text/plain": [
       "[4, 5, 6, 7]"
      ]
     },
     "execution_count": 5,
     "metadata": {},
     "output_type": "execute_result"
    }
   ],
   "source": [
    "b=a[3]\n",
    "b"
   ]
  },
  {
   "cell_type": "code",
   "execution_count": 6,
   "id": "399a828f-5f85-425d-bd57-fe7023399184",
   "metadata": {},
   "outputs": [
    {
     "data": {
      "text/plain": [
       "6"
      ]
     },
     "execution_count": 6,
     "metadata": {},
     "output_type": "execute_result"
    }
   ],
   "source": [
    "b[2]"
   ]
  },
  {
   "cell_type": "code",
   "execution_count": 7,
   "id": "31eb220c-5b88-4e80-a3eb-24a9cef6441d",
   "metadata": {},
   "outputs": [
    {
     "data": {
      "text/plain": [
       "6"
      ]
     },
     "execution_count": 7,
     "metadata": {},
     "output_type": "execute_result"
    }
   ],
   "source": [
    "a[3][2]"
   ]
  },
  {
   "cell_type": "code",
   "execution_count": 8,
   "id": "f4a946f8-9b80-4a78-b6dd-a19cf8c09dba",
   "metadata": {},
   "outputs": [],
   "source": [
    "a=[1,2,3,[4,5,6,[1,2,3,4],7],3,3,4]"
   ]
  },
  {
   "cell_type": "code",
   "execution_count": 9,
   "id": "91bd0a51-d15d-4081-a70e-ee04e7a50dd5",
   "metadata": {},
   "outputs": [
    {
     "data": {
      "text/plain": [
       "2"
      ]
     },
     "execution_count": 9,
     "metadata": {},
     "output_type": "execute_result"
    }
   ],
   "source": [
    "a[3][3][1]"
   ]
  },
  {
   "cell_type": "code",
   "execution_count": 11,
   "id": "0aa227ef-57e4-49e7-8c72-4bca70ca8ceb",
   "metadata": {},
   "outputs": [
    {
     "data": {
      "text/plain": [
       "[2, 3]"
      ]
     },
     "execution_count": 11,
     "metadata": {},
     "output_type": "execute_result"
    }
   ],
   "source": [
    "a[3][3][1:3]"
   ]
  },
  {
   "cell_type": "code",
   "execution_count": 12,
   "id": "c3489c2d-2c86-418e-84e6-f259548b32a9",
   "metadata": {},
   "outputs": [
    {
     "data": {
      "text/plain": [
       "[1, 3]"
      ]
     },
     "execution_count": 12,
     "metadata": {},
     "output_type": "execute_result"
    }
   ],
   "source": [
    "a[3][3][0:100:2]"
   ]
  },
  {
   "cell_type": "code",
   "execution_count": 13,
   "id": "3fa37c75-bb64-433d-a428-11bd512a8229",
   "metadata": {},
   "outputs": [
    {
     "data": {
      "text/plain": [
       "[1, 3]"
      ]
     },
     "execution_count": 13,
     "metadata": {},
     "output_type": "execute_result"
    }
   ],
   "source": [
    "a[3][3][0::2]"
   ]
  },
  {
   "cell_type": "code",
   "execution_count": 14,
   "id": "f5f62aec-eafc-4734-af1e-7935d29a9739",
   "metadata": {},
   "outputs": [
    {
     "data": {
      "text/plain": [
       "[1, 2, 3, 4, 4, 5, 6, 7]"
      ]
     },
     "execution_count": 14,
     "metadata": {},
     "output_type": "execute_result"
    }
   ],
   "source": [
    "[1,2,3,4]+[4,5,6,7]"
   ]
  },
  {
   "cell_type": "code",
   "execution_count": 16,
   "id": "36dc9f2a-83c5-4b37-8351-1cf080df407a",
   "metadata": {},
   "outputs": [
    {
     "name": "stdout",
     "output_type": "stream",
     "text": [
      "<class 'list'>\n",
      "[]\n"
     ]
    }
   ],
   "source": [
    "a=list()\n",
    "print(type(a))\n",
    "print(a)"
   ]
  },
  {
   "cell_type": "code",
   "execution_count": 18,
   "id": "7348d8d9-2801-4c7b-b34a-28443808d4ca",
   "metadata": {},
   "outputs": [
    {
     "name": "stdout",
     "output_type": "stream",
     "text": [
      "<class 'list'>\n",
      "[]\n"
     ]
    }
   ],
   "source": [
    "b=[]\n",
    "print(type(b))\n",
    "print(b)"
   ]
  },
  {
   "cell_type": "code",
   "execution_count": 20,
   "id": "f456d200-6e72-4a54-bf8d-c0708ad4ddc6",
   "metadata": {},
   "outputs": [
    {
     "name": "stdout",
     "output_type": "stream",
     "text": [
      "<class 'str'>\n",
      "[]\n"
     ]
    }
   ],
   "source": [
    "a=\"[]\"\n",
    "print(type(a))\n",
    "print(a)"
   ]
  },
  {
   "cell_type": "markdown",
   "id": "5826c35d-d4df-48fd-8583-4fe5facccf2a",
   "metadata": {},
   "source": [
    "# methods of list"
   ]
  },
  {
   "cell_type": "code",
   "execution_count": 25,
   "id": "9e02f1a6-93a4-45d0-9cbd-848ce8e6dc1c",
   "metadata": {},
   "outputs": [],
   "source": [
    "a=[1,2,3,4,5]"
   ]
  },
  {
   "cell_type": "code",
   "execution_count": 27,
   "id": "6bdcd87e-e5a5-4da7-9ce2-604a3aef232f",
   "metadata": {},
   "outputs": [
    {
     "name": "stdout",
     "output_type": "stream",
     "text": [
      "[1, 2, 3, 4, 5]\n",
      "2153769121216\n"
     ]
    }
   ],
   "source": [
    "print(a)\n",
    "print(id(a))"
   ]
  },
  {
   "cell_type": "code",
   "execution_count": 28,
   "id": "04ae712e-12dc-40e2-9041-37190a903354",
   "metadata": {},
   "outputs": [],
   "source": [
    "a.append(10)"
   ]
  },
  {
   "cell_type": "code",
   "execution_count": 29,
   "id": "cd7f6a4a-f216-4b55-abf1-8c404c81ec85",
   "metadata": {},
   "outputs": [
    {
     "name": "stdout",
     "output_type": "stream",
     "text": [
      "[1, 2, 3, 4, 5, 10]\n"
     ]
    }
   ],
   "source": [
    "print(a)"
   ]
  },
  {
   "cell_type": "code",
   "execution_count": 30,
   "id": "5628b7e0-ea5f-484e-8c3e-1bb3e4f98c59",
   "metadata": {},
   "outputs": [
    {
     "name": "stdout",
     "output_type": "stream",
     "text": [
      "2153769121216\n"
     ]
    }
   ],
   "source": [
    "print(id(a))"
   ]
  },
  {
   "cell_type": "code",
   "execution_count": 32,
   "id": "b0478105-bf4a-4140-8dc1-86c1ea04f409",
   "metadata": {},
   "outputs": [],
   "source": [
    "a.clear()"
   ]
  },
  {
   "cell_type": "code",
   "execution_count": 33,
   "id": "1633fcf6-aa22-4a17-9d4b-9614fb110e48",
   "metadata": {},
   "outputs": [
    {
     "name": "stdout",
     "output_type": "stream",
     "text": [
      "[]\n"
     ]
    }
   ],
   "source": [
    "print(a)"
   ]
  },
  {
   "cell_type": "code",
   "execution_count": 34,
   "id": "c8b95ae3-6f72-48d3-b61f-64ac62857d9b",
   "metadata": {},
   "outputs": [
    {
     "data": {
      "text/plain": [
       "2153769121216"
      ]
     },
     "execution_count": 34,
     "metadata": {},
     "output_type": "execute_result"
    }
   ],
   "source": [
    "id(a)"
   ]
  },
  {
   "cell_type": "code",
   "execution_count": 35,
   "id": "c56347bb-45bc-4310-9bc7-2206bb860a8e",
   "metadata": {},
   "outputs": [],
   "source": [
    "a=10\n",
    "b=10.0\n",
    "c=\"10\"\n",
    "d=[1,2,3,4,5]"
   ]
  },
  {
   "cell_type": "code",
   "execution_count": 36,
   "id": "d06fd91e-c763-408d-87eb-3e2bd7811f72",
   "metadata": {},
   "outputs": [
    {
     "name": "stdout",
     "output_type": "stream",
     "text": [
      "[]\n"
     ]
    }
   ],
   "source": [
    "z=[]\n",
    "print(z)"
   ]
  },
  {
   "cell_type": "code",
   "execution_count": 37,
   "id": "03dcb4e3-b677-4e11-9f82-a8d9635d46b6",
   "metadata": {},
   "outputs": [],
   "source": [
    "z.append(a)"
   ]
  },
  {
   "cell_type": "code",
   "execution_count": 38,
   "id": "9791507d-671a-483a-b26c-968ffe01688d",
   "metadata": {},
   "outputs": [
    {
     "name": "stdout",
     "output_type": "stream",
     "text": [
      "[10]\n"
     ]
    }
   ],
   "source": [
    "print(z)"
   ]
  },
  {
   "cell_type": "code",
   "execution_count": 40,
   "id": "f1247a06-4c6a-4b7d-8f0e-6d76a4869261",
   "metadata": {},
   "outputs": [],
   "source": [
    "z.append(d)"
   ]
  },
  {
   "cell_type": "code",
   "execution_count": 41,
   "id": "093e065c-296b-46a8-a41f-e6b034df6af4",
   "metadata": {},
   "outputs": [
    {
     "data": {
      "text/plain": [
       "[10, [1, 2, 3, 4, 5]]"
      ]
     },
     "execution_count": 41,
     "metadata": {},
     "output_type": "execute_result"
    }
   ],
   "source": [
    "z"
   ]
  },
  {
   "cell_type": "code",
   "execution_count": 42,
   "id": "f01c66e7-ba3b-4371-a359-8093fad8f7bc",
   "metadata": {},
   "outputs": [],
   "source": [
    "z.append(b)"
   ]
  },
  {
   "cell_type": "code",
   "execution_count": 43,
   "id": "0990e84d-3d72-44f8-86d5-5dd27ea00883",
   "metadata": {},
   "outputs": [
    {
     "data": {
      "text/plain": [
       "[10, [1, 2, 3, 4, 5], 10.0]"
      ]
     },
     "execution_count": 43,
     "metadata": {},
     "output_type": "execute_result"
    }
   ],
   "source": [
    "z"
   ]
  },
  {
   "cell_type": "code",
   "execution_count": 44,
   "id": "8964b098-f6eb-45f1-9ec2-a2b06fd3db94",
   "metadata": {},
   "outputs": [],
   "source": [
    "z.extend(d)"
   ]
  },
  {
   "cell_type": "code",
   "execution_count": 45,
   "id": "ee1f8da3-9039-4b71-89eb-25dc04ae9d26",
   "metadata": {},
   "outputs": [
    {
     "data": {
      "text/plain": [
       "[10, [1, 2, 3, 4, 5], 10.0, 1, 2, 3, 4, 5]"
      ]
     },
     "execution_count": 45,
     "metadata": {},
     "output_type": "execute_result"
    }
   ],
   "source": [
    "z"
   ]
  },
  {
   "cell_type": "code",
   "execution_count": 46,
   "id": "f9cf4edc-dda0-42e7-91fc-7366509c1aef",
   "metadata": {},
   "outputs": [
    {
     "data": {
      "text/plain": [
       "5"
      ]
     },
     "execution_count": 46,
     "metadata": {},
     "output_type": "execute_result"
    }
   ],
   "source": [
    "z.pop()"
   ]
  },
  {
   "cell_type": "code",
   "execution_count": 47,
   "id": "1303c91b-5064-4f85-b5d8-20ae249cf7f2",
   "metadata": {},
   "outputs": [
    {
     "data": {
      "text/plain": [
       "[10, [1, 2, 3, 4, 5], 10.0, 1, 2, 3, 4]"
      ]
     },
     "execution_count": 47,
     "metadata": {},
     "output_type": "execute_result"
    }
   ],
   "source": [
    "z"
   ]
  },
  {
   "cell_type": "code",
   "execution_count": 48,
   "id": "0c0cae7c-2d32-4758-9317-6843375300d3",
   "metadata": {},
   "outputs": [
    {
     "data": {
      "text/plain": [
       "[1, 2, 3, 4, 5]"
      ]
     },
     "execution_count": 48,
     "metadata": {},
     "output_type": "execute_result"
    }
   ],
   "source": [
    "z.pop(1)"
   ]
  },
  {
   "cell_type": "code",
   "execution_count": 49,
   "id": "5f494752-d661-4a0c-bf4f-328e61100228",
   "metadata": {},
   "outputs": [
    {
     "data": {
      "text/plain": [
       "[10, 10.0, 1, 2, 3, 4]"
      ]
     },
     "execution_count": 49,
     "metadata": {},
     "output_type": "execute_result"
    }
   ],
   "source": [
    "z"
   ]
  },
  {
   "cell_type": "code",
   "execution_count": 50,
   "id": "00526c97-d3b3-441d-9461-014116062d0a",
   "metadata": {},
   "outputs": [
    {
     "ename": "IndexError",
     "evalue": "pop index out of range",
     "output_type": "error",
     "traceback": [
      "\u001b[1;31m---------------------------------------------------------------------------\u001b[0m",
      "\u001b[1;31mIndexError\u001b[0m                                Traceback (most recent call last)",
      "Cell \u001b[1;32mIn[50], line 1\u001b[0m\n\u001b[1;32m----> 1\u001b[0m \u001b[43mz\u001b[49m\u001b[38;5;241;43m.\u001b[39;49m\u001b[43mpop\u001b[49m\u001b[43m(\u001b[49m\u001b[38;5;241;43m10\u001b[39;49m\u001b[43m)\u001b[49m\n",
      "\u001b[1;31mIndexError\u001b[0m: pop index out of range"
     ]
    }
   ],
   "source": [
    "z.pop(10)"
   ]
  },
  {
   "cell_type": "code",
   "execution_count": 51,
   "id": "0cb7589f-0bc8-4056-9af6-649b662ebf03",
   "metadata": {},
   "outputs": [
    {
     "data": {
      "text/plain": [
       "[10, 10.0, 1, 2, 3, 4]"
      ]
     },
     "execution_count": 51,
     "metadata": {},
     "output_type": "execute_result"
    }
   ],
   "source": [
    "z"
   ]
  },
  {
   "cell_type": "code",
   "execution_count": 52,
   "id": "20561cd0-0c11-4b42-90bf-409ee9674d73",
   "metadata": {},
   "outputs": [
    {
     "data": {
      "text/plain": [
       "1"
      ]
     },
     "execution_count": 52,
     "metadata": {},
     "output_type": "execute_result"
    }
   ],
   "source": [
    "z.count(1)"
   ]
  },
  {
   "cell_type": "code",
   "execution_count": 53,
   "id": "572de7a1-40e6-47fc-b38d-cff73fabbd8c",
   "metadata": {},
   "outputs": [
    {
     "data": {
      "text/plain": [
       "2"
      ]
     },
     "execution_count": 53,
     "metadata": {},
     "output_type": "execute_result"
    }
   ],
   "source": [
    "z.count(10)"
   ]
  },
  {
   "cell_type": "code",
   "execution_count": 54,
   "id": "295a3f5d-9cc9-4a05-ba44-a5c5b219c6ad",
   "metadata": {},
   "outputs": [],
   "source": [
    "z.remove(10)"
   ]
  },
  {
   "cell_type": "code",
   "execution_count": 55,
   "id": "d0195f3c-5e1b-40ae-9b64-9ca88223c2af",
   "metadata": {},
   "outputs": [
    {
     "data": {
      "text/plain": [
       "[10.0, 1, 2, 3, 4]"
      ]
     },
     "execution_count": 55,
     "metadata": {},
     "output_type": "execute_result"
    }
   ],
   "source": [
    "z"
   ]
  },
  {
   "cell_type": "code",
   "execution_count": 56,
   "id": "708ba5c4-1a63-4544-a0d5-d44554a056de",
   "metadata": {},
   "outputs": [
    {
     "ename": "ValueError",
     "evalue": "list.remove(x): x not in list",
     "output_type": "error",
     "traceback": [
      "\u001b[1;31m---------------------------------------------------------------------------\u001b[0m",
      "\u001b[1;31mValueError\u001b[0m                                Traceback (most recent call last)",
      "Cell \u001b[1;32mIn[56], line 1\u001b[0m\n\u001b[1;32m----> 1\u001b[0m \u001b[43mz\u001b[49m\u001b[38;5;241;43m.\u001b[39;49m\u001b[43mremove\u001b[49m\u001b[43m(\u001b[49m\u001b[38;5;241;43m1000\u001b[39;49m\u001b[43m)\u001b[49m\n",
      "\u001b[1;31mValueError\u001b[0m: list.remove(x): x not in list"
     ]
    }
   ],
   "source": [
    "z.remove(1000)"
   ]
  },
  {
   "cell_type": "code",
   "execution_count": 57,
   "id": "fbd84ae4-487c-493a-b6af-4416a2e847c4",
   "metadata": {},
   "outputs": [],
   "source": [
    "z.reverse()"
   ]
  },
  {
   "cell_type": "code",
   "execution_count": 58,
   "id": "151995e3-f29f-43d5-9220-b4e9b65295b7",
   "metadata": {},
   "outputs": [
    {
     "data": {
      "text/plain": [
       "[4, 3, 2, 1, 10.0]"
      ]
     },
     "execution_count": 58,
     "metadata": {},
     "output_type": "execute_result"
    }
   ],
   "source": [
    "z"
   ]
  },
  {
   "cell_type": "code",
   "execution_count": 59,
   "id": "1723d5c0-7f90-46bf-a23f-b2a63ed5622f",
   "metadata": {},
   "outputs": [],
   "source": [
    "z.sort()"
   ]
  },
  {
   "cell_type": "code",
   "execution_count": 60,
   "id": "55ef9c4e-8dce-44aa-85c7-9e3eb26df41a",
   "metadata": {},
   "outputs": [
    {
     "data": {
      "text/plain": [
       "[1, 2, 3, 4, 10.0]"
      ]
     },
     "execution_count": 60,
     "metadata": {},
     "output_type": "execute_result"
    }
   ],
   "source": [
    "z"
   ]
  },
  {
   "cell_type": "code",
   "execution_count": 61,
   "id": "69627753-81d0-4d57-a35b-fa6fbea24a12",
   "metadata": {},
   "outputs": [],
   "source": [
    "z.sort(reverse=True)"
   ]
  },
  {
   "cell_type": "code",
   "execution_count": 62,
   "id": "63927fce-98f4-4923-b77f-73fcfe66f731",
   "metadata": {},
   "outputs": [
    {
     "data": {
      "text/plain": [
       "[10.0, 4, 3, 2, 1]"
      ]
     },
     "execution_count": 62,
     "metadata": {},
     "output_type": "execute_result"
    }
   ],
   "source": [
    "z"
   ]
  },
  {
   "cell_type": "code",
   "execution_count": 63,
   "id": "20f47535-a515-43c6-997d-b3a060353569",
   "metadata": {},
   "outputs": [
    {
     "data": {
      "text/plain": [
       "[10.0, 4, 3, 2, 1]"
      ]
     },
     "execution_count": 63,
     "metadata": {},
     "output_type": "execute_result"
    }
   ],
   "source": [
    "z"
   ]
  },
  {
   "cell_type": "code",
   "execution_count": 64,
   "id": "2200c8f7-50fb-4221-8a93-193600097357",
   "metadata": {},
   "outputs": [],
   "source": [
    "b=z"
   ]
  },
  {
   "cell_type": "code",
   "execution_count": 65,
   "id": "c9963aa2-f144-4b25-a2b1-dd90a77c90e9",
   "metadata": {},
   "outputs": [
    {
     "name": "stdout",
     "output_type": "stream",
     "text": [
      "[10.0, 4, 3, 2, 1]\n"
     ]
    }
   ],
   "source": [
    "print(b)"
   ]
  },
  {
   "cell_type": "code",
   "execution_count": 66,
   "id": "7eae159e-7d5b-42bc-a3ae-b459a853c4d3",
   "metadata": {},
   "outputs": [],
   "source": [
    "b.append(1000)"
   ]
  },
  {
   "cell_type": "code",
   "execution_count": 70,
   "id": "0a6875fe-6fdf-48f5-84ec-f7165cf9d071",
   "metadata": {},
   "outputs": [
    {
     "name": "stdout",
     "output_type": "stream",
     "text": [
      "[10.0, 4, 3, 2, 1, 1000]\n",
      "2153769712384\n"
     ]
    }
   ],
   "source": [
    "print(b)\n",
    "print(id(b))"
   ]
  },
  {
   "cell_type": "code",
   "execution_count": 71,
   "id": "ade57857-f24a-490a-9ad7-4dfb8fb1de3a",
   "metadata": {},
   "outputs": [
    {
     "name": "stdout",
     "output_type": "stream",
     "text": [
      "[10.0, 4, 3, 2, 1, 1000]\n",
      "2153769712384\n"
     ]
    }
   ],
   "source": [
    "print(z)\n",
    "print(id(z))"
   ]
  },
  {
   "cell_type": "code",
   "execution_count": 72,
   "id": "1eb3024e-4a85-4c83-b709-af82a140e0cc",
   "metadata": {},
   "outputs": [
    {
     "data": {
      "text/plain": [
       "[10.0, 4, 3, 2, 1, 1000]"
      ]
     },
     "execution_count": 72,
     "metadata": {},
     "output_type": "execute_result"
    }
   ],
   "source": [
    "z"
   ]
  },
  {
   "cell_type": "code",
   "execution_count": 73,
   "id": "52329383-08fb-4a69-852a-29ea889ac3e1",
   "metadata": {},
   "outputs": [],
   "source": [
    "c=z.copy()"
   ]
  },
  {
   "cell_type": "code",
   "execution_count": 74,
   "id": "3f126c91-f632-4de2-8a03-a50840d86a63",
   "metadata": {},
   "outputs": [
    {
     "data": {
      "text/plain": [
       "[10.0, 4, 3, 2, 1, 1000]"
      ]
     },
     "execution_count": 74,
     "metadata": {},
     "output_type": "execute_result"
    }
   ],
   "source": [
    "c"
   ]
  },
  {
   "cell_type": "code",
   "execution_count": 75,
   "id": "e6b93f21-cdc9-4bcc-80bd-2eb8627bfbce",
   "metadata": {},
   "outputs": [
    {
     "data": {
      "text/plain": [
       "[10.0, 4, 3, 2, 1, 1000]"
      ]
     },
     "execution_count": 75,
     "metadata": {},
     "output_type": "execute_result"
    }
   ],
   "source": [
    "z"
   ]
  },
  {
   "cell_type": "code",
   "execution_count": 76,
   "id": "4c00ff34-e997-4a79-810d-8a7ef74bf963",
   "metadata": {},
   "outputs": [],
   "source": [
    "c.append(9999)"
   ]
  },
  {
   "cell_type": "code",
   "execution_count": 79,
   "id": "1b4bed72-cfd6-4ddd-9dae-3167b287b05e",
   "metadata": {},
   "outputs": [
    {
     "name": "stdout",
     "output_type": "stream",
     "text": [
      "[10.0, 4, 3, 2, 1, 1000, 9999]\n",
      "2153755051968\n"
     ]
    }
   ],
   "source": [
    "print(c)\n",
    "print(id(c))\n"
   ]
  },
  {
   "cell_type": "code",
   "execution_count": 80,
   "id": "6f4f2704-c6af-45a3-a77e-417065c35fb4",
   "metadata": {},
   "outputs": [
    {
     "name": "stdout",
     "output_type": "stream",
     "text": [
      "[10.0, 4, 3, 2, 1, 1000]\n",
      "2153769712384\n"
     ]
    }
   ],
   "source": [
    "print(z)\n",
    "print(id(z))"
   ]
  },
  {
   "cell_type": "code",
   "execution_count": null,
   "id": "6b3d7cf9-ce59-4506-9af1-44dbf715e7fc",
   "metadata": {},
   "outputs": [],
   "source": []
  }
 ],
 "metadata": {
  "kernelspec": {
   "display_name": "Python 3 (ipykernel)",
   "language": "python",
   "name": "python3"
  },
  "language_info": {
   "codemirror_mode": {
    "name": "ipython",
    "version": 3
   },
   "file_extension": ".py",
   "mimetype": "text/x-python",
   "name": "python",
   "nbconvert_exporter": "python",
   "pygments_lexer": "ipython3",
   "version": "3.10.9"
  }
 },
 "nbformat": 4,
 "nbformat_minor": 5
}
