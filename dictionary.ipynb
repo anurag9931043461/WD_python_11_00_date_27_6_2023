{
 "cells": [
  {
   "cell_type": "markdown",
   "id": "119517e7-5656-4032-9766-411dcf8bc662",
   "metadata": {},
   "source": [
    "# dictionary\n",
    "\n",
    "> dictionary constructor is dict()\n",
    "\n",
    "> dictionary literal is {}\n",
    "\n",
    "> dictionary is combination of key and value pair called item\n",
    "\n",
    "> dictionary is ordered set of sequence of items since version 3.6\n",
    "\n",
    "> dictionary key must be immutable\n",
    "\n",
    "> dictionary support indexing\n",
    "\n",
    "> dictionary doesnot support slicing \n",
    "\n",
    "> dictionary doesnot support concatination \n",
    "\n",
    "> dictionary support nested dictionary\n",
    "\n",
    "> dictionary is mutable.\n",
    "\n",
    "> dictionary methods."
   ]
  },
  {
   "cell_type": "code",
   "execution_count": 1,
   "id": "34511993-57ab-46c4-92f3-6b2aa2899f47",
   "metadata": {},
   "outputs": [],
   "source": [
    "a={2:\"krishna\",1:\"Mohan\",3:\"krishna\", 4:\"Shyam\"}"
   ]
  },
  {
   "cell_type": "code",
   "execution_count": 2,
   "id": "921d3758-10af-47af-802f-fb3d6d6c5633",
   "metadata": {},
   "outputs": [
    {
     "name": "stdout",
     "output_type": "stream",
     "text": [
      "{2: 'krishna', 1: 'Mohan', 3: 'krishna', 4: 'Shyam'}\n"
     ]
    }
   ],
   "source": [
    "print(a)"
   ]
  },
  {
   "cell_type": "code",
   "execution_count": 3,
   "id": "fdff3f2c-4ca7-44b6-8380-ba2200be0823",
   "metadata": {},
   "outputs": [
    {
     "name": "stdout",
     "output_type": "stream",
     "text": [
      "<class 'dict'>\n"
     ]
    }
   ],
   "source": [
    "print(type(a))"
   ]
  },
  {
   "cell_type": "code",
   "execution_count": 4,
   "id": "5bc6f2e3-6912-4e6c-8217-a359c36da750",
   "metadata": {},
   "outputs": [
    {
     "data": {
      "text/plain": [
       "'Mohan'"
      ]
     },
     "execution_count": 4,
     "metadata": {},
     "output_type": "execute_result"
    }
   ],
   "source": [
    "a[1]"
   ]
  },
  {
   "cell_type": "code",
   "execution_count": 5,
   "id": "a152a303-a77a-40bd-8a77-f73934847421",
   "metadata": {},
   "outputs": [],
   "source": [
    "a={1:\"krishna\",1:\"Mohan\",3:\"krishna\", 4:\"Shyam\"}"
   ]
  },
  {
   "cell_type": "code",
   "execution_count": 6,
   "id": "f0201634-7aa1-4671-81c4-a3e78d413bf2",
   "metadata": {},
   "outputs": [
    {
     "name": "stdout",
     "output_type": "stream",
     "text": [
      "{1: 'Mohan', 3: 'krishna', 4: 'Shyam'}\n"
     ]
    }
   ],
   "source": [
    "print(a)"
   ]
  },
  {
   "cell_type": "code",
   "execution_count": 7,
   "id": "cc3fa207-69b0-4ed1-92e7-27a385fd6624",
   "metadata": {},
   "outputs": [
    {
     "data": {
      "text/plain": [
       "{'krishna'}"
      ]
     },
     "execution_count": 7,
     "metadata": {},
     "output_type": "execute_result"
    }
   ],
   "source": [
    "{\"krishna\"}"
   ]
  },
  {
   "cell_type": "code",
   "execution_count": 8,
   "id": "d253e7fe-fccf-43a7-8092-9b381546e74c",
   "metadata": {},
   "outputs": [],
   "source": [
    "b={1:\"abc\",10.99:\"xyz\",\"10\":\"klm\",(10,11):\"mno\",frozenset({1,2}):\"lmno\"}"
   ]
  },
  {
   "cell_type": "code",
   "execution_count": 9,
   "id": "02a45114-476c-4c42-913b-98e084ac655f",
   "metadata": {},
   "outputs": [
    {
     "name": "stdout",
     "output_type": "stream",
     "text": [
      "{1: 'abc', 10.99: 'xyz', '10': 'klm', (10, 11): 'mno', frozenset({1, 2}): 'lmno'}\n"
     ]
    }
   ],
   "source": [
    "print(b)"
   ]
  },
  {
   "cell_type": "code",
   "execution_count": 11,
   "id": "d06637ee-0abf-4292-a634-c70da9b5a14a",
   "metadata": {},
   "outputs": [
    {
     "data": {
      "text/plain": [
       "dict_keys([1, 10.99, '10', (10, 11), frozenset({1, 2})])"
      ]
     },
     "execution_count": 11,
     "metadata": {},
     "output_type": "execute_result"
    }
   ],
   "source": [
    "b.keys()"
   ]
  },
  {
   "cell_type": "code",
   "execution_count": 12,
   "id": "bd78332e-fc22-4c8d-a171-05b7d73e7549",
   "metadata": {},
   "outputs": [
    {
     "data": {
      "text/plain": [
       "dict_values(['abc', 'xyz', 'klm', 'mno', 'lmno'])"
      ]
     },
     "execution_count": 12,
     "metadata": {},
     "output_type": "execute_result"
    }
   ],
   "source": [
    "b.values()"
   ]
  },
  {
   "cell_type": "code",
   "execution_count": 13,
   "id": "dc22042f-bc36-43a7-bab1-d53f0d088117",
   "metadata": {},
   "outputs": [],
   "source": [
    "c={1:{\"student\":\"Krishna\",\"mother\":\"Suman\",\"father\":\"Sunil\"},\n",
    "  2:{\"student\":\"Vishnu\",\"mother\":\"Suman\",\"father\":\"Sunil\"}}"
   ]
  },
  {
   "cell_type": "code",
   "execution_count": 15,
   "id": "bd324684-4f94-44b0-8b87-c928da3c4a07",
   "metadata": {},
   "outputs": [
    {
     "data": {
      "text/plain": [
       "{1: {'student': 'Krishna', 'mother': 'Suman', 'father': 'Sunil'},\n",
       " 2: {'student': 'Vishnu', 'mother': 'Suman', 'father': 'Sunil'}}"
      ]
     },
     "execution_count": 15,
     "metadata": {},
     "output_type": "execute_result"
    }
   ],
   "source": [
    "c"
   ]
  },
  {
   "cell_type": "code",
   "execution_count": 17,
   "id": "46ee002c-02ca-4588-8b57-31a3d4b2d0a3",
   "metadata": {},
   "outputs": [
    {
     "data": {
      "text/plain": [
       "'Krishna'"
      ]
     },
     "execution_count": 17,
     "metadata": {},
     "output_type": "execute_result"
    }
   ],
   "source": [
    "c[1][\"student\"]"
   ]
  },
  {
   "cell_type": "code",
   "execution_count": 19,
   "id": "c217e42f-41f5-41f0-b3b2-917ed1a64dd0",
   "metadata": {},
   "outputs": [
    {
     "data": {
      "text/plain": [
       "'Sunil'"
      ]
     },
     "execution_count": 19,
     "metadata": {},
     "output_type": "execute_result"
    }
   ],
   "source": [
    "c[1][\"father\"]"
   ]
  },
  {
   "cell_type": "code",
   "execution_count": 20,
   "id": "3f4868b0-7678-474a-91e6-1f830021bec6",
   "metadata": {},
   "outputs": [
    {
     "ename": "TypeError",
     "evalue": "unsupported operand type(s) for +: 'dict' and 'dict'",
     "output_type": "error",
     "traceback": [
      "\u001b[1;31m---------------------------------------------------------------------------\u001b[0m",
      "\u001b[1;31mTypeError\u001b[0m                                 Traceback (most recent call last)",
      "Cell \u001b[1;32mIn[20], line 1\u001b[0m\n\u001b[1;32m----> 1\u001b[0m \u001b[43m{\u001b[49m\u001b[38;5;241;43m1\u001b[39;49m\u001b[43m:\u001b[49m\u001b[38;5;124;43m\"\u001b[39;49m\u001b[38;5;124;43mkrishna\u001b[39;49m\u001b[38;5;124;43m\"\u001b[39;49m\u001b[43m}\u001b[49m\u001b[38;5;241;43m+\u001b[39;49m\u001b[43m{\u001b[49m\u001b[38;5;241;43m1\u001b[39;49m\u001b[43m:\u001b[49m\u001b[38;5;124;43m\"\u001b[39;49m\u001b[38;5;124;43mSunil\u001b[39;49m\u001b[38;5;124;43m\"\u001b[39;49m\u001b[43m}\u001b[49m\n",
      "\u001b[1;31mTypeError\u001b[0m: unsupported operand type(s) for +: 'dict' and 'dict'"
     ]
    }
   ],
   "source": [
    "{1:\"krishna\"}+{1:\"Sunil\"}"
   ]
  },
  {
   "cell_type": "code",
   "execution_count": 21,
   "id": "c09c8ab8-366e-4c61-bba4-cd8dd26f0f0a",
   "metadata": {},
   "outputs": [
    {
     "ename": "TypeError",
     "evalue": "unsupported operand type(s) for +: 'dict' and 'dict'",
     "output_type": "error",
     "traceback": [
      "\u001b[1;31m---------------------------------------------------------------------------\u001b[0m",
      "\u001b[1;31mTypeError\u001b[0m                                 Traceback (most recent call last)",
      "Cell \u001b[1;32mIn[21], line 1\u001b[0m\n\u001b[1;32m----> 1\u001b[0m \u001b[43m{\u001b[49m\u001b[38;5;241;43m1\u001b[39;49m\u001b[43m:\u001b[49m\u001b[38;5;124;43m\"\u001b[39;49m\u001b[38;5;124;43mkrishna\u001b[39;49m\u001b[38;5;124;43m\"\u001b[39;49m\u001b[43m}\u001b[49m\u001b[38;5;241;43m+\u001b[39;49m\u001b[43m{\u001b[49m\u001b[38;5;241;43m2\u001b[39;49m\u001b[43m:\u001b[49m\u001b[38;5;124;43m\"\u001b[39;49m\u001b[38;5;124;43mSunil\u001b[39;49m\u001b[38;5;124;43m\"\u001b[39;49m\u001b[43m}\u001b[49m\n",
      "\u001b[1;31mTypeError\u001b[0m: unsupported operand type(s) for +: 'dict' and 'dict'"
     ]
    }
   ],
   "source": [
    "{1:\"krishna\"}+{2:\"Sunil\"}"
   ]
  },
  {
   "cell_type": "code",
   "execution_count": 22,
   "id": "8b19aedb-339b-4185-b882-d2b4f13f0c60",
   "metadata": {},
   "outputs": [
    {
     "name": "stdout",
     "output_type": "stream",
     "text": [
      "{}\n"
     ]
    }
   ],
   "source": [
    "a=dict()\n",
    "print(a)"
   ]
  },
  {
   "cell_type": "code",
   "execution_count": 23,
   "id": "00e424a9-b9f7-4e5b-8bcb-a3032fa3ef48",
   "metadata": {},
   "outputs": [
    {
     "name": "stdout",
     "output_type": "stream",
     "text": [
      "{}\n"
     ]
    }
   ],
   "source": [
    "d={}\n",
    "print(d)"
   ]
  },
  {
   "cell_type": "code",
   "execution_count": 24,
   "id": "c403f317-0036-4509-8006-4b5ef2f6679e",
   "metadata": {},
   "outputs": [],
   "source": [
    "# add methods in dictionary"
   ]
  },
  {
   "cell_type": "code",
   "execution_count": 25,
   "id": "9a3a236c-6a23-42a3-b9a1-295d7690dd40",
   "metadata": {},
   "outputs": [],
   "source": [
    "a.update({2:\"krishna\",1:\"Mohan\",3:\"krishna\", 4:\"Shyam\"})"
   ]
  },
  {
   "cell_type": "code",
   "execution_count": 26,
   "id": "8819d2be-167c-46b7-bbe4-54e90c42e5b9",
   "metadata": {},
   "outputs": [
    {
     "name": "stdout",
     "output_type": "stream",
     "text": [
      "{2: 'krishna', 1: 'Mohan', 3: 'krishna', 4: 'Shyam'}\n"
     ]
    }
   ],
   "source": [
    "print(a)"
   ]
  },
  {
   "cell_type": "code",
   "execution_count": 27,
   "id": "9e86f132-705f-4985-a125-db8bc70a1f88",
   "metadata": {},
   "outputs": [
    {
     "data": {
      "text/plain": [
       "'krishna'"
      ]
     },
     "execution_count": 27,
     "metadata": {},
     "output_type": "execute_result"
    }
   ],
   "source": [
    "a[2]"
   ]
  },
  {
   "cell_type": "code",
   "execution_count": 29,
   "id": "539705dd-cd85-4e00-bc7b-914fc8c40384",
   "metadata": {},
   "outputs": [],
   "source": [
    "a[2]=\"Modi\""
   ]
  },
  {
   "cell_type": "code",
   "execution_count": 30,
   "id": "cf3e859b-dfb3-4003-bddb-c86938875b60",
   "metadata": {},
   "outputs": [
    {
     "name": "stdout",
     "output_type": "stream",
     "text": [
      "{2: 'Modi', 1: 'Mohan', 3: 'krishna', 4: 'Shyam'}\n"
     ]
    }
   ],
   "source": [
    "print(a)"
   ]
  },
  {
   "cell_type": "code",
   "execution_count": 32,
   "id": "80cc54db-cd6a-4aef-95c0-831bb8c4ef47",
   "metadata": {},
   "outputs": [],
   "source": [
    "a.update({2:\"krishna\"})"
   ]
  },
  {
   "cell_type": "code",
   "execution_count": 33,
   "id": "ba77e074-67eb-40e1-9c01-85e8e7a46ec3",
   "metadata": {},
   "outputs": [
    {
     "name": "stdout",
     "output_type": "stream",
     "text": [
      "{2: 'krishna', 1: 'Mohan', 3: 'krishna', 4: 'Shyam'}\n"
     ]
    }
   ],
   "source": [
    "print(a)"
   ]
  },
  {
   "cell_type": "code",
   "execution_count": 34,
   "id": "9a21e98b-2eef-45b5-b047-6c6528a495bf",
   "metadata": {},
   "outputs": [
    {
     "ename": "KeyError",
     "evalue": "10",
     "output_type": "error",
     "traceback": [
      "\u001b[1;31m---------------------------------------------------------------------------\u001b[0m",
      "\u001b[1;31mKeyError\u001b[0m                                  Traceback (most recent call last)",
      "Cell \u001b[1;32mIn[34], line 1\u001b[0m\n\u001b[1;32m----> 1\u001b[0m \u001b[43ma\u001b[49m\u001b[43m[\u001b[49m\u001b[38;5;241;43m10\u001b[39;49m\u001b[43m]\u001b[49m\n",
      "\u001b[1;31mKeyError\u001b[0m: 10"
     ]
    }
   ],
   "source": [
    "a[10]"
   ]
  },
  {
   "cell_type": "code",
   "execution_count": 35,
   "id": "aff6c468-0e8b-4c29-8e3f-fcc1ffbb4e7a",
   "metadata": {},
   "outputs": [
    {
     "data": {
      "text/plain": [
       "'krishna'"
      ]
     },
     "execution_count": 35,
     "metadata": {},
     "output_type": "execute_result"
    }
   ],
   "source": [
    "a.get(2)"
   ]
  },
  {
   "cell_type": "code",
   "execution_count": 36,
   "id": "6312a21a-4238-4c8e-a850-76e772b8ff60",
   "metadata": {},
   "outputs": [],
   "source": [
    "a.get(10)"
   ]
  },
  {
   "cell_type": "code",
   "execution_count": 37,
   "id": "ac30c727-d873-469a-bc44-c33b25b19765",
   "metadata": {},
   "outputs": [
    {
     "data": {
      "text/plain": [
       "'this values is not available'"
      ]
     },
     "execution_count": 37,
     "metadata": {},
     "output_type": "execute_result"
    }
   ],
   "source": [
    "a.get(10,\"this values is not available\")"
   ]
  },
  {
   "cell_type": "code",
   "execution_count": 38,
   "id": "41ed956e-0d62-4252-beb5-53e7b5d876e1",
   "metadata": {},
   "outputs": [
    {
     "data": {
      "text/plain": [
       "'krishna'"
      ]
     },
     "execution_count": 38,
     "metadata": {},
     "output_type": "execute_result"
    }
   ],
   "source": [
    "a.get(2,\"this values is not available\")"
   ]
  },
  {
   "cell_type": "code",
   "execution_count": 39,
   "id": "d2f0dae9-0f0d-43a6-b234-97c1f7604d91",
   "metadata": {},
   "outputs": [
    {
     "ename": "KeyError",
     "evalue": "10",
     "output_type": "error",
     "traceback": [
      "\u001b[1;31m---------------------------------------------------------------------------\u001b[0m",
      "\u001b[1;31mKeyError\u001b[0m                                  Traceback (most recent call last)",
      "Cell \u001b[1;32mIn[39], line 1\u001b[0m\n\u001b[1;32m----> 1\u001b[0m \u001b[43ma\u001b[49m\u001b[38;5;241;43m.\u001b[39;49m\u001b[43mpop\u001b[49m\u001b[43m(\u001b[49m\u001b[38;5;241;43m10\u001b[39;49m\u001b[43m)\u001b[49m\n",
      "\u001b[1;31mKeyError\u001b[0m: 10"
     ]
    }
   ],
   "source": [
    "a.pop(10)"
   ]
  },
  {
   "cell_type": "code",
   "execution_count": 40,
   "id": "4915051e-ded4-4461-abe1-e8446ed2b808",
   "metadata": {},
   "outputs": [
    {
     "ename": "TypeError",
     "evalue": "pop expected at least 1 argument, got 0",
     "output_type": "error",
     "traceback": [
      "\u001b[1;31m---------------------------------------------------------------------------\u001b[0m",
      "\u001b[1;31mTypeError\u001b[0m                                 Traceback (most recent call last)",
      "Cell \u001b[1;32mIn[40], line 1\u001b[0m\n\u001b[1;32m----> 1\u001b[0m \u001b[43ma\u001b[49m\u001b[38;5;241;43m.\u001b[39;49m\u001b[43mpop\u001b[49m\u001b[43m(\u001b[49m\u001b[43m)\u001b[49m\n",
      "\u001b[1;31mTypeError\u001b[0m: pop expected at least 1 argument, got 0"
     ]
    }
   ],
   "source": [
    "a.pop()"
   ]
  },
  {
   "cell_type": "code",
   "execution_count": 41,
   "id": "c581691d-f3b5-4d0b-a2e3-fe2baceb7a88",
   "metadata": {},
   "outputs": [
    {
     "data": {
      "text/plain": [
       "'krishna'"
      ]
     },
     "execution_count": 41,
     "metadata": {},
     "output_type": "execute_result"
    }
   ],
   "source": [
    "a.pop(2)"
   ]
  },
  {
   "cell_type": "code",
   "execution_count": 42,
   "id": "bbcb5945-0430-4427-8f90-d44998cedd4c",
   "metadata": {},
   "outputs": [
    {
     "name": "stdout",
     "output_type": "stream",
     "text": [
      "{1: 'Mohan', 3: 'krishna', 4: 'Shyam'}\n"
     ]
    }
   ],
   "source": [
    "print(a)"
   ]
  },
  {
   "cell_type": "code",
   "execution_count": 43,
   "id": "c38db835-7db8-4e94-a619-b33a8de571df",
   "metadata": {},
   "outputs": [
    {
     "data": {
      "text/plain": [
       "(4, 'Shyam')"
      ]
     },
     "execution_count": 43,
     "metadata": {},
     "output_type": "execute_result"
    }
   ],
   "source": [
    "a.popitem()"
   ]
  },
  {
   "cell_type": "code",
   "execution_count": 44,
   "id": "0028f5d8-9f16-47da-93dc-9a892348bbe9",
   "metadata": {},
   "outputs": [
    {
     "name": "stdout",
     "output_type": "stream",
     "text": [
      "{1: 'Mohan', 3: 'krishna'}\n"
     ]
    }
   ],
   "source": [
    "print(a)"
   ]
  },
  {
   "cell_type": "code",
   "execution_count": 45,
   "id": "9413a2d2-b3a8-4f33-916d-de29be4ea531",
   "metadata": {},
   "outputs": [],
   "source": [
    "a.clear()"
   ]
  },
  {
   "cell_type": "code",
   "execution_count": 46,
   "id": "f1c3b704-e351-4f9a-b2c6-60aa7eb2c08f",
   "metadata": {},
   "outputs": [
    {
     "name": "stdout",
     "output_type": "stream",
     "text": [
      "{}\n"
     ]
    }
   ],
   "source": [
    "print(a)"
   ]
  },
  {
   "cell_type": "code",
   "execution_count": 47,
   "id": "ff8b4cb2-47e6-4d01-aac2-f1a1e2c22063",
   "metadata": {},
   "outputs": [],
   "source": [
    "a.update({2:\"krishna\",1:\"Mohan\",3:\"krishna\", 4:\"Shyam\"})"
   ]
  },
  {
   "cell_type": "code",
   "execution_count": 48,
   "id": "d092067d-31f9-4303-95f0-6ccfa207168a",
   "metadata": {},
   "outputs": [
    {
     "name": "stdout",
     "output_type": "stream",
     "text": [
      "{2: 'krishna', 1: 'Mohan', 3: 'krishna', 4: 'Shyam'}\n"
     ]
    }
   ],
   "source": [
    "print(a)"
   ]
  },
  {
   "cell_type": "code",
   "execution_count": 51,
   "id": "e43d5b45-cd71-49e2-9cfa-6e18be46a292",
   "metadata": {},
   "outputs": [],
   "source": [
    "b=a.copy()"
   ]
  },
  {
   "cell_type": "code",
   "execution_count": 52,
   "id": "ef2260b7-645a-482b-afc8-f30572cf4d1f",
   "metadata": {},
   "outputs": [
    {
     "name": "stdout",
     "output_type": "stream",
     "text": [
      "{2: 'krishna', 1: 'Mohan', 3: 'krishna', 4: 'Shyam'}\n"
     ]
    }
   ],
   "source": [
    "print(b)"
   ]
  },
  {
   "cell_type": "code",
   "execution_count": 53,
   "id": "76450525-3831-4bca-8a1c-311f48568698",
   "metadata": {},
   "outputs": [],
   "source": [
    "b.update({10:\"mohan bhagwat\"})"
   ]
  },
  {
   "cell_type": "code",
   "execution_count": 55,
   "id": "76982b2d-1aa0-4ea5-86ec-70aa631a1741",
   "metadata": {},
   "outputs": [
    {
     "name": "stdout",
     "output_type": "stream",
     "text": [
      "{2: 'krishna', 1: 'Mohan', 3: 'krishna', 4: 'Shyam', 10: 'mohan bhagwat'}\n"
     ]
    }
   ],
   "source": [
    "print(b)"
   ]
  },
  {
   "cell_type": "code",
   "execution_count": 56,
   "id": "b71c8f84-78df-4a03-932a-6d015fa94c44",
   "metadata": {},
   "outputs": [
    {
     "name": "stdout",
     "output_type": "stream",
     "text": [
      "2430731998208\n"
     ]
    }
   ],
   "source": [
    "print(id(b))"
   ]
  },
  {
   "cell_type": "code",
   "execution_count": 57,
   "id": "79d63522-2f70-43f4-9701-755fc6229153",
   "metadata": {},
   "outputs": [
    {
     "name": "stdout",
     "output_type": "stream",
     "text": [
      "{2: 'krishna', 1: 'Mohan', 3: 'krishna', 4: 'Shyam'}\n"
     ]
    }
   ],
   "source": [
    "print(a)"
   ]
  },
  {
   "cell_type": "code",
   "execution_count": 58,
   "id": "030c4ccf-5a3b-44c0-9bac-fb6954a490fc",
   "metadata": {},
   "outputs": [
    {
     "name": "stdout",
     "output_type": "stream",
     "text": [
      "2430724162240\n"
     ]
    }
   ],
   "source": [
    "print(id(a))"
   ]
  },
  {
   "cell_type": "code",
   "execution_count": 59,
   "id": "f05fe75d-698a-423c-9573-66d6f82cc83e",
   "metadata": {},
   "outputs": [
    {
     "data": {
      "text/plain": [
       "'required'"
      ]
     },
     "execution_count": 59,
     "metadata": {},
     "output_type": "execute_result"
    }
   ],
   "source": [
    "a.setdefault(\"Plumber\",\"required\")"
   ]
  },
  {
   "cell_type": "code",
   "execution_count": 60,
   "id": "6112a4fa-dee0-488b-8c9a-d34d25b678d5",
   "metadata": {},
   "outputs": [
    {
     "name": "stdout",
     "output_type": "stream",
     "text": [
      "{2: 'krishna', 1: 'Mohan', 3: 'krishna', 4: 'Shyam', 'Plumber': 'required'}\n"
     ]
    }
   ],
   "source": [
    "print(a)"
   ]
  },
  {
   "cell_type": "code",
   "execution_count": 61,
   "id": "ada92a5e-fc4b-4beb-8427-52c8e39acdfc",
   "metadata": {},
   "outputs": [],
   "source": [
    "a[\"Plumber\"]=\"krishna\""
   ]
  },
  {
   "cell_type": "code",
   "execution_count": 62,
   "id": "343ec49d-8b24-46c7-9090-72582c8f1cfe",
   "metadata": {},
   "outputs": [
    {
     "name": "stdout",
     "output_type": "stream",
     "text": [
      "{2: 'krishna', 1: 'Mohan', 3: 'krishna', 4: 'Shyam', 'Plumber': 'krishna'}\n"
     ]
    }
   ],
   "source": [
    "print(a)"
   ]
  },
  {
   "cell_type": "code",
   "execution_count": 64,
   "id": "13b5ea8a-0daa-47fc-85d2-16ef9654bfaa",
   "metadata": {},
   "outputs": [],
   "source": [
    "b=a.fromkeys([1,2,3,4,5,6,7,8,9],\"available\")"
   ]
  },
  {
   "cell_type": "code",
   "execution_count": 65,
   "id": "68edd18d-9b32-47de-b605-a40a29de347e",
   "metadata": {},
   "outputs": [
    {
     "name": "stdout",
     "output_type": "stream",
     "text": [
      "{1: 'available', 2: 'available', 3: 'available', 4: 'available', 5: 'available', 6: 'available', 7: 'available', 8: 'available', 9: 'available'}\n"
     ]
    }
   ],
   "source": [
    "print(b)"
   ]
  },
  {
   "cell_type": "code",
   "execution_count": 66,
   "id": "f438d01b-e693-4ea8-a1ee-3f41d2f3e477",
   "metadata": {},
   "outputs": [],
   "source": [
    "b[1]=\"krishna\""
   ]
  },
  {
   "cell_type": "code",
   "execution_count": 67,
   "id": "8382e031-60b1-4ade-a40a-d25dbd8ffcbc",
   "metadata": {},
   "outputs": [
    {
     "name": "stdout",
     "output_type": "stream",
     "text": [
      "{1: 'krishna', 2: 'available', 3: 'available', 4: 'available', 5: 'available', 6: 'available', 7: 'available', 8: 'available', 9: 'available'}\n"
     ]
    }
   ],
   "source": [
    "print(b)"
   ]
  },
  {
   "cell_type": "code",
   "execution_count": null,
   "id": "cf99b49e-2309-40b0-8e1c-e166b5d0b1a7",
   "metadata": {},
   "outputs": [],
   "source": []
  }
 ],
 "metadata": {
  "kernelspec": {
   "display_name": "Python 3 (ipykernel)",
   "language": "python",
   "name": "python3"
  },
  "language_info": {
   "codemirror_mode": {
    "name": "ipython",
    "version": 3
   },
   "file_extension": ".py",
   "mimetype": "text/x-python",
   "name": "python",
   "nbconvert_exporter": "python",
   "pygments_lexer": "ipython3",
   "version": "3.11.5"
  }
 },
 "nbformat": 4,
 "nbformat_minor": 5
}
