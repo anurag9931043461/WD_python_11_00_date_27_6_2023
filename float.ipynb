{
 "cells": [
  {
   "cell_type": "markdown",
   "id": "7a15d5d7-6955-445a-babb-a3ccc52a0da7",
   "metadata": {},
   "source": [
    "# float\n",
    "\n",
    "> float constructor is float()\n",
    "\n",
    "> float literal is 0.0"
   ]
  },
  {
   "cell_type": "code",
   "execution_count": 6,
   "id": "3b8c58b1-d473-4039-8c3f-f5f6f9418964",
   "metadata": {},
   "outputs": [],
   "source": [
    "a=0.0   # using float literal we can create empty float datatype"
   ]
  },
  {
   "cell_type": "code",
   "execution_count": 5,
   "id": "b2866f2e-27d5-4db6-9f6c-8e7a38d47da9",
   "metadata": {},
   "outputs": [
    {
     "name": "stdout",
     "output_type": "stream",
     "text": [
      "<class 'float'>\n"
     ]
    }
   ],
   "source": [
    "print(type(a))"
   ]
  },
  {
   "cell_type": "code",
   "execution_count": 7,
   "id": "2e7aeaad-5924-4ffd-81d4-a48418e79ecc",
   "metadata": {},
   "outputs": [],
   "source": [
    "b=float()"
   ]
  },
  {
   "cell_type": "code",
   "execution_count": 8,
   "id": "91f5b645-02ac-4126-8c8c-8e0a42779946",
   "metadata": {},
   "outputs": [
    {
     "name": "stdout",
     "output_type": "stream",
     "text": [
      "0.0\n"
     ]
    }
   ],
   "source": [
    "print(b)"
   ]
  },
  {
   "cell_type": "code",
   "execution_count": 9,
   "id": "d1bfcfd0-90f0-410a-b619-d352890f1303",
   "metadata": {},
   "outputs": [],
   "source": [
    "a=000000000.0000000020"
   ]
  },
  {
   "cell_type": "code",
   "execution_count": 10,
   "id": "c66babe4-fd63-4c61-abbb-955b2f68507d",
   "metadata": {},
   "outputs": [
    {
     "name": "stdout",
     "output_type": "stream",
     "text": [
      "2e-09\n"
     ]
    }
   ],
   "source": [
    "print(a)"
   ]
  },
  {
   "cell_type": "code",
   "execution_count": 11,
   "id": "4fd520b7-e04c-4853-a27a-69d3a1cbc4a7",
   "metadata": {},
   "outputs": [],
   "source": [
    "e=2e2"
   ]
  },
  {
   "cell_type": "code",
   "execution_count": 12,
   "id": "7ca0fd61-7203-4891-9e51-7434ba5271ce",
   "metadata": {},
   "outputs": [
    {
     "name": "stdout",
     "output_type": "stream",
     "text": [
      "200.0\n"
     ]
    }
   ],
   "source": [
    "print(e)"
   ]
  },
  {
   "cell_type": "code",
   "execution_count": 14,
   "id": "e21b3338-4cf4-4e4a-95f7-2504b28a3c1a",
   "metadata": {},
   "outputs": [
    {
     "data": {
      "text/plain": [
       "200"
      ]
     },
     "execution_count": 14,
     "metadata": {},
     "output_type": "execute_result"
    }
   ],
   "source": [
    "2*10**2"
   ]
  },
  {
   "cell_type": "code",
   "execution_count": null,
   "id": "a3d13062-07ac-43da-bf82-6ef0ebb25c37",
   "metadata": {},
   "outputs": [],
   "source": []
  }
 ],
 "metadata": {
  "kernelspec": {
   "display_name": "Python 3 (ipykernel)",
   "language": "python",
   "name": "python3"
  },
  "language_info": {
   "codemirror_mode": {
    "name": "ipython",
    "version": 3
   },
   "file_extension": ".py",
   "mimetype": "text/x-python",
   "name": "python",
   "nbconvert_exporter": "python",
   "pygments_lexer": "ipython3",
   "version": "3.10.9"
  }
 },
 "nbformat": 4,
 "nbformat_minor": 5
}
