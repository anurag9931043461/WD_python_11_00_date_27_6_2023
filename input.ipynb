{
 "cells": [
  {
   "cell_type": "code",
   "execution_count": 1,
   "id": "f3463265-3c9c-4414-b4f1-9f6a4ff23462",
   "metadata": {},
   "outputs": [
    {
     "name": "stdin",
     "output_type": "stream",
     "text": [
      " 987kjggftygfhgv\n"
     ]
    },
    {
     "data": {
      "text/plain": [
       "'987kjggftygfhgv'"
      ]
     },
     "execution_count": 1,
     "metadata": {},
     "output_type": "execute_result"
    }
   ],
   "source": [
    "input()"
   ]
  },
  {
   "cell_type": "code",
   "execution_count": null,
   "id": "2345e112-989a-4bbf-be7a-23ef8b6a440f",
   "metadata": {},
   "outputs": [],
   "source": []
  },
  {
   "cell_type": "code",
   "execution_count": 2,
   "id": "e5ce2b9e-bfdc-46da-9e93-614e7a4f6718",
   "metadata": {},
   "outputs": [
    {
     "name": "stdin",
     "output_type": "stream",
     "text": [
      "Enter your 4 digit atm pin : 9807\n"
     ]
    },
    {
     "data": {
      "text/plain": [
       "'9807'"
      ]
     },
     "execution_count": 2,
     "metadata": {},
     "output_type": "execute_result"
    }
   ],
   "source": [
    "input(\"Enter your 4 digit atm pin :\")"
   ]
  },
  {
   "cell_type": "code",
   "execution_count": 3,
   "id": "3e33e333-cf90-445f-9733-cd8b1250fec6",
   "metadata": {},
   "outputs": [
    {
     "name": "stdin",
     "output_type": "stream",
     "text": [
      "Enter your 4 digit atm pin : 9807\n"
     ]
    }
   ],
   "source": [
    "pin=input(\"Enter your 4 digit atm pin :\")"
   ]
  },
  {
   "cell_type": "code",
   "execution_count": 4,
   "id": "6d07c37b-74fe-478a-a9ee-d8d4634adfef",
   "metadata": {},
   "outputs": [
    {
     "data": {
      "text/plain": [
       "'9807'"
      ]
     },
     "execution_count": 4,
     "metadata": {},
     "output_type": "execute_result"
    }
   ],
   "source": [
    "pin"
   ]
  },
  {
   "cell_type": "markdown",
   "id": "540d57aa-b11e-48a4-a29c-0c4a2cb879a3",
   "metadata": {},
   "source": [
    "# input(): \n",
    "\n",
    "> it is used to accept input from the user in the form of string only."
   ]
  },
  {
   "cell_type": "code",
   "execution_count": 5,
   "id": "5921588e-42fa-4b44-8e07-58c6774bcba4",
   "metadata": {},
   "outputs": [
    {
     "name": "stdin",
     "output_type": "stream",
     "text": [
      "Enter your 1st number: 10\n",
      "Enter your 2nd number: 20\n"
     ]
    }
   ],
   "source": [
    "num1=input(\"Enter your 1st number:\")\n",
    "num2=input(\"Enter your 2nd number:\")\n"
   ]
  },
  {
   "cell_type": "code",
   "execution_count": 6,
   "id": "841fd97b-e8e6-4acf-a312-956d7861f169",
   "metadata": {},
   "outputs": [
    {
     "name": "stdin",
     "output_type": "stream",
     "text": [
      "Enter your 1st number: 10\n",
      "Enter your 2nd number: 20\n"
     ]
    },
    {
     "name": "stdout",
     "output_type": "stream",
     "text": [
      "1020\n"
     ]
    }
   ],
   "source": [
    "num1=input(\"Enter your 1st number:\")\n",
    "num2=input(\"Enter your 2nd number:\")\n",
    "print(num1+num2)"
   ]
  },
  {
   "cell_type": "code",
   "execution_count": 7,
   "id": "b1f26560-1023-44b1-9da6-9ddadeb9117e",
   "metadata": {},
   "outputs": [
    {
     "name": "stdin",
     "output_type": "stream",
     "text": [
      "Enter your 1st number: 10\n",
      "Enter your 2nd number: 20\n"
     ]
    },
    {
     "name": "stdout",
     "output_type": "stream",
     "text": [
      "30\n"
     ]
    }
   ],
   "source": [
    "num1=input(\"Enter your 1st number:\")\n",
    "num1_int=int(num1)\n",
    "num2=input(\"Enter your 2nd number:\")\n",
    "num2_int=int(num2)\n",
    "print(num1_int+num2)"
   ]
  },
  {
   "cell_type": "code",
   "execution_count": 8,
   "id": "a622acd0-1acc-4403-a2a9-7041446d2791",
   "metadata": {},
   "outputs": [
    {
     "name": "stdin",
     "output_type": "stream",
     "text": [
      "Enter your 1st number: 10\n",
      "Enter your 2nd number: 20\n"
     ]
    },
    {
     "name": "stdout",
     "output_type": "stream",
     "text": [
      "30\n"
     ]
    }
   ],
   "source": [
    "num1_int=int(input(\"Enter your 1st number:\"))\n",
    "num2_int=int(input(\"Enter your 2nd number:\"))\n",
    "print(num1_int+num2_int)"
   ]
  },
  {
   "cell_type": "code",
   "execution_count": 9,
   "id": "75787e02-7d78-493d-b1f5-052005003ff5",
   "metadata": {},
   "outputs": [
    {
     "name": "stdin",
     "output_type": "stream",
     "text": [
      "Enter your 1st number: 10\n",
      "Enter your 2nd number: 20\n"
     ]
    },
    {
     "name": "stdout",
     "output_type": "stream",
     "text": [
      "30\n"
     ]
    }
   ],
   "source": [
    "print(int(input(\"Enter your 1st number:\"))+int(input(\"Enter your 2nd number:\")))"
   ]
  },
  {
   "cell_type": "code",
   "execution_count": 10,
   "id": "edc530d0-f9d6-43f6-b2f6-e3bc22c52646",
   "metadata": {},
   "outputs": [
    {
     "name": "stdin",
     "output_type": "stream",
     "text": [
      "Enter your 1st number: 10.25\n"
     ]
    },
    {
     "ename": "ValueError",
     "evalue": "invalid literal for int() with base 10: '10.25'",
     "output_type": "error",
     "traceback": [
      "\u001b[1;31m---------------------------------------------------------------------------\u001b[0m",
      "\u001b[1;31mValueError\u001b[0m                                Traceback (most recent call last)",
      "Cell \u001b[1;32mIn[10], line 2\u001b[0m\n\u001b[0;32m      1\u001b[0m num1\u001b[38;5;241m=\u001b[39m\u001b[38;5;28minput\u001b[39m(\u001b[38;5;124m\"\u001b[39m\u001b[38;5;124mEnter your 1st number:\u001b[39m\u001b[38;5;124m\"\u001b[39m)\n\u001b[1;32m----> 2\u001b[0m num1_int\u001b[38;5;241m=\u001b[39m\u001b[38;5;28;43mint\u001b[39;49m\u001b[43m(\u001b[49m\u001b[43mnum1\u001b[49m\u001b[43m)\u001b[49m\n\u001b[0;32m      3\u001b[0m num2\u001b[38;5;241m=\u001b[39m\u001b[38;5;28minput\u001b[39m(\u001b[38;5;124m\"\u001b[39m\u001b[38;5;124mEnter your 2nd number:\u001b[39m\u001b[38;5;124m\"\u001b[39m)\n\u001b[0;32m      4\u001b[0m num2_int\u001b[38;5;241m=\u001b[39m\u001b[38;5;28mint\u001b[39m(num2)\n",
      "\u001b[1;31mValueError\u001b[0m: invalid literal for int() with base 10: '10.25'"
     ]
    }
   ],
   "source": [
    "num1=input(\"Enter your 1st number:\")\n",
    "num1_int=int(num1)\n",
    "num2=input(\"Enter your 2nd number:\")\n",
    "num2_int=int(num2)\n",
    "print(num1_int+num2)"
   ]
  },
  {
   "cell_type": "code",
   "execution_count": 12,
   "id": "c329df93-3773-40d5-883e-a539f87ef78d",
   "metadata": {},
   "outputs": [
    {
     "name": "stdin",
     "output_type": "stream",
     "text": [
      "Enter your 1st number: 10.25\n",
      "Enter your 2nd number: 10\n"
     ]
    },
    {
     "name": "stdout",
     "output_type": "stream",
     "text": [
      "20.25\n"
     ]
    }
   ],
   "source": [
    "num1=input(\"Enter your 1st number:\")\n",
    "num1_int=float(num1)\n",
    "num2=input(\"Enter your 2nd number:\")\n",
    "num2_int=float(num2)\n",
    "print(num1_int+num2_int)"
   ]
  },
  {
   "cell_type": "markdown",
   "id": "5d6bdc2d-00db-41af-a5d6-610e49a491f4",
   "metadata": {},
   "source": [
    "# eval()\n",
    "\n",
    "int--> int cast\n",
    "float--> float cast"
   ]
  },
  {
   "cell_type": "code",
   "execution_count": 13,
   "id": "0cff198f-5168-4a3f-9035-5b2d76e1281f",
   "metadata": {},
   "outputs": [
    {
     "name": "stdin",
     "output_type": "stream",
     "text": [
      "Enter your 1st number: 10.25\n",
      "Enter your 2nd number: 20\n"
     ]
    },
    {
     "name": "stdout",
     "output_type": "stream",
     "text": [
      "30.25\n"
     ]
    }
   ],
   "source": [
    "num1=input(\"Enter your 1st number:\")\n",
    "num1_int=eval(num1)\n",
    "num2=input(\"Enter your 2nd number:\")\n",
    "num2_int=eval(num2)\n",
    "print(num1_int+num2_int)"
   ]
  },
  {
   "cell_type": "code",
   "execution_count": 14,
   "id": "b5bcb1bb-4a94-4fe3-9b87-bd5a4d576d46",
   "metadata": {},
   "outputs": [
    {
     "name": "stdin",
     "output_type": "stream",
     "text": [
      "Enter your 1st number: 10\n",
      "Enter your 2nd number: 20\n"
     ]
    },
    {
     "name": "stdout",
     "output_type": "stream",
     "text": [
      "30\n"
     ]
    }
   ],
   "source": [
    "num1=input(\"Enter your 1st number:\")\n",
    "num1_int=eval(num1)\n",
    "num2=input(\"Enter your 2nd number:\")\n",
    "num2_int=eval(num2)\n",
    "print(num1_int+num2_int)"
   ]
  },
  {
   "cell_type": "code",
   "execution_count": null,
   "id": "31da489b-3ceb-444b-b754-217718021ddb",
   "metadata": {},
   "outputs": [],
   "source": []
  }
 ],
 "metadata": {
  "kernelspec": {
   "display_name": "Python 3 (ipykernel)",
   "language": "python",
   "name": "python3"
  },
  "language_info": {
   "codemirror_mode": {
    "name": "ipython",
    "version": 3
   },
   "file_extension": ".py",
   "mimetype": "text/x-python",
   "name": "python",
   "nbconvert_exporter": "python",
   "pygments_lexer": "ipython3",
   "version": "3.11.4"
  }
 },
 "nbformat": 4,
 "nbformat_minor": 5
}
