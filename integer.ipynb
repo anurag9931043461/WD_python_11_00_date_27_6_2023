{
 "cells": [
  {
   "cell_type": "code",
   "execution_count": 1,
   "id": "62a9eb1c-189e-4bfe-b8e2-bc7c8c66a100",
   "metadata": {},
   "outputs": [
    {
     "name": "stdout",
     "output_type": "stream",
     "text": [
      "hello world\n"
     ]
    }
   ],
   "source": [
    "print(\"hello world\")"
   ]
  },
  {
   "cell_type": "code",
   "execution_count": 2,
   "id": "0057966e-b505-4fae-af28-362d0159e21c",
   "metadata": {},
   "outputs": [
    {
     "name": "stdout",
     "output_type": "stream",
     "text": [
      "hello world\n",
      "hello world\n"
     ]
    }
   ],
   "source": [
    "print(\"hello world\")\n",
    "print(\"hello world\")"
   ]
  },
  {
   "cell_type": "markdown",
   "id": "abd685d7-f785-4b0c-8e1f-83f2163bc313",
   "metadata": {},
   "source": [
    "# integer\n",
    "> integer constructor is int()\n",
    "\n",
    "> integer literal is 0\n",
    "\n",
    "> integer contain 0,1,2,3,4,5,6,7,8,9 and it base is 10"
   ]
  },
  {
   "cell_type": "code",
   "execution_count": 17,
   "id": "6b0ca607-10d4-4906-bf3f-974e3c01fef1",
   "metadata": {},
   "outputs": [],
   "source": [
    "a= int()"
   ]
  },
  {
   "cell_type": "code",
   "execution_count": 18,
   "id": "fe2d6ba1-5400-4d8f-989c-77d2ec4eafde",
   "metadata": {},
   "outputs": [
    {
     "name": "stdout",
     "output_type": "stream",
     "text": [
      "0\n"
     ]
    }
   ],
   "source": [
    "print(a)"
   ]
  },
  {
   "cell_type": "code",
   "execution_count": 19,
   "id": "3f3ba2c1-dd08-4c77-b68a-1ce0578c607b",
   "metadata": {},
   "outputs": [
    {
     "name": "stdout",
     "output_type": "stream",
     "text": [
      "0\n"
     ]
    }
   ],
   "source": [
    "b=0\n",
    "print(b)"
   ]
  },
  {
   "cell_type": "code",
   "execution_count": 20,
   "id": "77796fae-3cc7-4974-84b9-5846190f3fbe",
   "metadata": {},
   "outputs": [
    {
     "name": "stdout",
     "output_type": "stream",
     "text": [
      "65\n"
     ]
    }
   ],
   "source": [
    "print(ord(\"A\"))"
   ]
  },
  {
   "cell_type": "code",
   "execution_count": 21,
   "id": "46a11f3b-9d0c-4458-8e5b-624a77916ea5",
   "metadata": {},
   "outputs": [
    {
     "name": "stdout",
     "output_type": "stream",
     "text": [
      "0b1000001\n"
     ]
    }
   ],
   "source": [
    "print(bin(65))"
   ]
  },
  {
   "cell_type": "code",
   "execution_count": 2,
   "id": "5e078acc-fa00-41e3-9e06-d28535fdc9a9",
   "metadata": {},
   "outputs": [],
   "source": [
    "a=01.0"
   ]
  },
  {
   "cell_type": "code",
   "execution_count": 3,
   "id": "ad8ef8a8-b6b3-4fd7-a923-76977eceb554",
   "metadata": {},
   "outputs": [
    {
     "ename": "SyntaxError",
     "evalue": "leading zeros in decimal integer literals are not permitted; use an 0o prefix for octal integers (3048870509.py, line 1)",
     "output_type": "error",
     "traceback": [
      "\u001b[1;36m  Cell \u001b[1;32mIn[3], line 1\u001b[1;36m\u001b[0m\n\u001b[1;33m    b=01\u001b[0m\n\u001b[1;37m      ^\u001b[0m\n\u001b[1;31mSyntaxError\u001b[0m\u001b[1;31m:\u001b[0m leading zeros in decimal integer literals are not permitted; use an 0o prefix for octal integers\n"
     ]
    }
   ],
   "source": [
    "b=01"
   ]
  },
  {
   "cell_type": "code",
   "execution_count": 4,
   "id": "61dacf5f-6c9d-40b3-a849-2b7f56cf8451",
   "metadata": {},
   "outputs": [
    {
     "data": {
      "text/plain": [
       "66"
      ]
     },
     "execution_count": 4,
     "metadata": {},
     "output_type": "execute_result"
    }
   ],
   "source": [
    "ord(\"B\")"
   ]
  },
  {
   "cell_type": "code",
   "execution_count": 5,
   "id": "913002b6-4c25-4c20-83a8-de5c92d0d448",
   "metadata": {},
   "outputs": [
    {
     "data": {
      "text/plain": [
       "32"
      ]
     },
     "execution_count": 5,
     "metadata": {},
     "output_type": "execute_result"
    }
   ],
   "source": [
    "ord(\" \")"
   ]
  },
  {
   "cell_type": "code",
   "execution_count": 6,
   "id": "4f71a60e-466c-4ec5-9678-63958744e43c",
   "metadata": {},
   "outputs": [
    {
     "data": {
      "text/plain": [
       "63"
      ]
     },
     "execution_count": 6,
     "metadata": {},
     "output_type": "execute_result"
    }
   ],
   "source": [
    "ord(\"?\")"
   ]
  },
  {
   "cell_type": "code",
   "execution_count": 9,
   "id": "9024b07a-8927-4ed9-a31b-f983a44f7184",
   "metadata": {},
   "outputs": [
    {
     "data": {
      "text/plain": [
       "'\\r'"
      ]
     },
     "execution_count": 9,
     "metadata": {},
     "output_type": "execute_result"
    }
   ],
   "source": [
    "chr(13)"
   ]
  },
  {
   "cell_type": "code",
   "execution_count": null,
   "id": "54a7b055-be75-452b-96d5-d4ecbd7212ca",
   "metadata": {},
   "outputs": [],
   "source": []
  }
 ],
 "metadata": {
  "kernelspec": {
   "display_name": "Python 3 (ipykernel)",
   "language": "python",
   "name": "python3"
  },
  "language_info": {
   "codemirror_mode": {
    "name": "ipython",
    "version": 3
   },
   "file_extension": ".py",
   "mimetype": "text/x-python",
   "name": "python",
   "nbconvert_exporter": "python",
   "pygments_lexer": "ipython3",
   "version": "3.10.9"
  }
 },
 "nbformat": 4,
 "nbformat_minor": 5
}
