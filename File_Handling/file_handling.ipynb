{
 "cells": [
  {
   "cell_type": "markdown",
   "id": "5e1aa9cf-c63b-4ba7-b2ba-0ef04f4ce0f0",
   "metadata": {},
   "source": [
    "x: create a file \n",
    "\n",
    "r: read a file\n",
    "\n",
    "w: write something on a file.\n",
    "\n",
    "a: append something on a file."
   ]
  },
  {
   "cell_type": "code",
   "execution_count": 5,
   "id": "1705529f-e17b-4efd-9e8f-1dff3cda1ae4",
   "metadata": {},
   "outputs": [
    {
     "ename": "FileExistsError",
     "evalue": "[Errno 17] File exists: 'krishna.txt'",
     "output_type": "error",
     "traceback": [
      "\u001b[1;31m---------------------------------------------------------------------------\u001b[0m",
      "\u001b[1;31mFileExistsError\u001b[0m                           Traceback (most recent call last)",
      "Cell \u001b[1;32mIn[5], line 1\u001b[0m\n\u001b[1;32m----> 1\u001b[0m f1\u001b[38;5;241m=\u001b[39m\u001b[38;5;28;43mopen\u001b[39;49m\u001b[43m(\u001b[49m\u001b[38;5;124;43m\"\u001b[39;49m\u001b[38;5;124;43mkrishna.txt\u001b[39;49m\u001b[38;5;124;43m\"\u001b[39;49m\u001b[43m,\u001b[49m\u001b[38;5;124;43m'\u001b[39;49m\u001b[38;5;124;43mx\u001b[39;49m\u001b[38;5;124;43m'\u001b[39;49m\u001b[43m)\u001b[49m\n",
      "File \u001b[1;32m~\\AppData\\Local\\Programs\\Python\\Python311\\Lib\\site-packages\\IPython\\core\\interactiveshell.py:284\u001b[0m, in \u001b[0;36m_modified_open\u001b[1;34m(file, *args, **kwargs)\u001b[0m\n\u001b[0;32m    277\u001b[0m \u001b[38;5;28;01mif\u001b[39;00m file \u001b[38;5;129;01min\u001b[39;00m {\u001b[38;5;241m0\u001b[39m, \u001b[38;5;241m1\u001b[39m, \u001b[38;5;241m2\u001b[39m}:\n\u001b[0;32m    278\u001b[0m     \u001b[38;5;28;01mraise\u001b[39;00m \u001b[38;5;167;01mValueError\u001b[39;00m(\n\u001b[0;32m    279\u001b[0m         \u001b[38;5;124mf\u001b[39m\u001b[38;5;124m\"\u001b[39m\u001b[38;5;124mIPython won\u001b[39m\u001b[38;5;124m'\u001b[39m\u001b[38;5;124mt let you open fd=\u001b[39m\u001b[38;5;132;01m{\u001b[39;00mfile\u001b[38;5;132;01m}\u001b[39;00m\u001b[38;5;124m by default \u001b[39m\u001b[38;5;124m\"\u001b[39m\n\u001b[0;32m    280\u001b[0m         \u001b[38;5;124m\"\u001b[39m\u001b[38;5;124mas it is likely to crash IPython. If you know what you are doing, \u001b[39m\u001b[38;5;124m\"\u001b[39m\n\u001b[0;32m    281\u001b[0m         \u001b[38;5;124m\"\u001b[39m\u001b[38;5;124myou can use builtins\u001b[39m\u001b[38;5;124m'\u001b[39m\u001b[38;5;124m open.\u001b[39m\u001b[38;5;124m\"\u001b[39m\n\u001b[0;32m    282\u001b[0m     )\n\u001b[1;32m--> 284\u001b[0m \u001b[38;5;28;01mreturn\u001b[39;00m \u001b[43mio_open\u001b[49m\u001b[43m(\u001b[49m\u001b[43mfile\u001b[49m\u001b[43m,\u001b[49m\u001b[43m \u001b[49m\u001b[38;5;241;43m*\u001b[39;49m\u001b[43margs\u001b[49m\u001b[43m,\u001b[49m\u001b[43m \u001b[49m\u001b[38;5;241;43m*\u001b[39;49m\u001b[38;5;241;43m*\u001b[39;49m\u001b[43mkwargs\u001b[49m\u001b[43m)\u001b[49m\n",
      "\u001b[1;31mFileExistsError\u001b[0m: [Errno 17] File exists: 'krishna.txt'"
     ]
    }
   ],
   "source": [
    "f1=open(\"krishna.txt\",'x')"
   ]
  },
  {
   "cell_type": "code",
   "execution_count": 6,
   "id": "d67a29de-528c-4f4c-b167-9ee474f47c8e",
   "metadata": {},
   "outputs": [],
   "source": [
    "f1.close()"
   ]
  },
  {
   "cell_type": "code",
   "execution_count": 7,
   "id": "7d17065a-5a78-495f-97fb-5a87497e573b",
   "metadata": {},
   "outputs": [],
   "source": [
    "f2=open(\"krishna.txt\",\"r\")"
   ]
  },
  {
   "cell_type": "code",
   "execution_count": 8,
   "id": "51fe8a3f-2451-403a-82b7-5b6bc8f5d521",
   "metadata": {},
   "outputs": [
    {
     "data": {
      "text/plain": [
       "'Somet'"
      ]
     },
     "execution_count": 8,
     "metadata": {},
     "output_type": "execute_result"
    }
   ],
   "source": [
    "f2.read(5)"
   ]
  },
  {
   "cell_type": "code",
   "execution_count": 9,
   "id": "2fa3fdf3-cdfc-44c0-958d-ddc817e4cb2b",
   "metadata": {},
   "outputs": [
    {
     "data": {
      "text/plain": [
       "'hing'"
      ]
     },
     "execution_count": 9,
     "metadata": {},
     "output_type": "execute_result"
    }
   ],
   "source": [
    "f2.read(4)"
   ]
  },
  {
   "cell_type": "code",
   "execution_count": 12,
   "id": "d851fe1a-f364-4f81-8a2c-e3e7f0f63016",
   "metadata": {},
   "outputs": [
    {
     "data": {
      "text/plain": [
       "0"
      ]
     },
     "execution_count": 12,
     "metadata": {},
     "output_type": "execute_result"
    }
   ],
   "source": [
    "f2.seek(0)"
   ]
  },
  {
   "cell_type": "code",
   "execution_count": 13,
   "id": "1b179259-549b-45f9-bfc3-8a8a5bb00fc2",
   "metadata": {},
   "outputs": [
    {
     "data": {
      "text/plain": [
       "'Something'"
      ]
     },
     "execution_count": 13,
     "metadata": {},
     "output_type": "execute_result"
    }
   ],
   "source": [
    "f2.readline()"
   ]
  },
  {
   "cell_type": "code",
   "execution_count": 14,
   "id": "3ca640ef-b025-4187-ab9d-271692d8955f",
   "metadata": {},
   "outputs": [],
   "source": [
    "f2.close()"
   ]
  },
  {
   "cell_type": "code",
   "execution_count": 17,
   "id": "b8c15b7e-8770-4546-b629-814fd049c680",
   "metadata": {},
   "outputs": [],
   "source": [
    "f3=open(\"krishna.txt\",\"w\")"
   ]
  },
  {
   "cell_type": "code",
   "execution_count": 16,
   "id": "130208c9-e1d4-493e-9caa-c680462de854",
   "metadata": {},
   "outputs": [],
   "source": [
    "f3.close()"
   ]
  },
  {
   "cell_type": "code",
   "execution_count": 18,
   "id": "ce6b47d8-96aa-471e-987d-538937f53c4c",
   "metadata": {},
   "outputs": [],
   "source": [
    "f4=open(\"krishna.txt\",\"w\")"
   ]
  },
  {
   "cell_type": "code",
   "execution_count": 19,
   "id": "42701c20-13d0-4014-a7ac-d081ff96143b",
   "metadata": {},
   "outputs": [
    {
     "data": {
      "text/plain": [
       "13"
      ]
     },
     "execution_count": 19,
     "metadata": {},
     "output_type": "execute_result"
    }
   ],
   "source": [
    "f4.write(\"I am krishna\\n\")"
   ]
  },
  {
   "cell_type": "code",
   "execution_count": 20,
   "id": "44f49db9-e311-4db0-a67a-7b73d773f5ae",
   "metadata": {},
   "outputs": [],
   "source": [
    "f4.close()"
   ]
  },
  {
   "cell_type": "code",
   "execution_count": 21,
   "id": "21f87d5e-b40b-4c47-b979-fcd4145af1cc",
   "metadata": {},
   "outputs": [],
   "source": [
    "f5=open(\"krishna.txt\",\"a\")"
   ]
  },
  {
   "cell_type": "code",
   "execution_count": 22,
   "id": "2fcb12c6-d6f0-4bb5-9c71-61a58a7e6286",
   "metadata": {},
   "outputs": [
    {
     "data": {
      "text/plain": [
       "38"
      ]
     },
     "execution_count": 22,
     "metadata": {},
     "output_type": "execute_result"
    }
   ],
   "source": [
    "f5.write(\"I am in MCA final year\\nI am AI trainer\")"
   ]
  },
  {
   "cell_type": "code",
   "execution_count": 23,
   "id": "fe4369fb-849e-4eca-8483-df1e28032f3f",
   "metadata": {},
   "outputs": [],
   "source": [
    "f5.close()"
   ]
  },
  {
   "cell_type": "code",
   "execution_count": 24,
   "id": "1434e5d1-927a-4afa-b7c8-792dc9d9d838",
   "metadata": {},
   "outputs": [],
   "source": [
    "f6=open(\"krishna.txt\",\"a\")\n",
    "f6.write(\"\\n\")\n",
    "for i in range(10):\n",
    "    f6.write(\"Hello world\\n\")\n",
    "f6.close()"
   ]
  },
  {
   "cell_type": "code",
   "execution_count": null,
   "id": "afd211ee-ae36-40cc-915b-cfd9aa82ad2d",
   "metadata": {},
   "outputs": [],
   "source": []
  }
 ],
 "metadata": {
  "kernelspec": {
   "display_name": "Python 3 (ipykernel)",
   "language": "python",
   "name": "python3"
  },
  "language_info": {
   "codemirror_mode": {
    "name": "ipython",
    "version": 3
   },
   "file_extension": ".py",
   "mimetype": "text/x-python",
   "name": "python",
   "nbconvert_exporter": "python",
   "pygments_lexer": "ipython3",
   "version": "3.11.5"
  }
 },
 "nbformat": 4,
 "nbformat_minor": 5
}
