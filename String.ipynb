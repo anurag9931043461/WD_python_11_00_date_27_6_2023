{
 "cells": [
  {
   "cell_type": "markdown",
   "id": "56772e0f-d875-45eb-ac69-f5451a45fe0f",
   "metadata": {},
   "source": [
    "# String\n",
    "\n",
    "> string constructor is str()\n",
    "\n",
    "> string literal is '',\"\",\"\"\"\"\"\",''''''\n",
    "\n",
    "> string is a set of sequence of character\n",
    "\n",
    "> string support indexing \n",
    "\n",
    "> string support slicing \n",
    "\n",
    "> string support concatination \n",
    "\n",
    "> string is immutable(also known as hashable)\n",
    "\n",
    "> string methods"
   ]
  },
  {
   "cell_type": "code",
   "execution_count": 10,
   "id": "1590c8ff-ad1c-437a-a36d-e15dc71c7dc6",
   "metadata": {},
   "outputs": [
    {
     "ename": "SyntaxError",
     "evalue": "unterminated string literal (detected at line 2) (615399331.py, line 2)",
     "output_type": "error",
     "traceback": [
      "\u001b[1;36m  Cell \u001b[1;32mIn[10], line 2\u001b[1;36m\u001b[0m\n\u001b[1;33m    print('hello\u001b[0m\n\u001b[1;37m          ^\u001b[0m\n\u001b[1;31mSyntaxError\u001b[0m\u001b[1;31m:\u001b[0m unterminated string literal (detected at line 2)\n"
     ]
    }
   ],
   "source": [
    "print(\"hello world\")\n",
    "\n",
    "print('hello world')"
   ]
  },
  {
   "cell_type": "code",
   "execution_count": 12,
   "id": "b42dd7ec-54ee-472f-a57a-9d89b1730d20",
   "metadata": {},
   "outputs": [
    {
     "name": "stdout",
     "output_type": "stream",
     "text": [
      "hello \n",
      "\n",
      "                world\n",
      "hello \n",
      "\n",
      "\n",
      "\n",
      "world\n"
     ]
    }
   ],
   "source": [
    "print(\"\"\"hello \n",
    "\n",
    "                world\"\"\")\n",
    "print('''hello \n",
    "\n",
    "\n",
    "\n",
    "world''')"
   ]
  },
  {
   "cell_type": "code",
   "execution_count": 28,
   "id": "ba1f5d0e-61e1-4b5d-af3f-6f1e0dfb2777",
   "metadata": {},
   "outputs": [
    {
     "name": "stdout",
     "output_type": "stream",
     "text": [
      "hello world$I am krishna\n",
      "I am in MCA final year\n"
     ]
    }
   ],
   "source": [
    "print(\"hello world\",end=\"$\");\n",
    "print(\"I am krishna\",end=\"\\n\")\n",
    "print(\"I am in MCA final year\")"
   ]
  },
  {
   "cell_type": "code",
   "execution_count": 34,
   "id": "d2ef5825-b32a-4f8f-bd79-fd557fbdc567",
   "metadata": {},
   "outputs": [
    {
     "name": "stdout",
     "output_type": "stream",
     "text": [
      "TajMahal$HumauTomb$Redfort\n"
     ]
    }
   ],
   "source": [
    "print(\"TajMahal\",\"HumauTomb\",\"Redfort\",sep=\"$\")"
   ]
  },
  {
   "cell_type": "code",
   "execution_count": 35,
   "id": "cec70559-dbc8-46d5-9e59-fbb2838d5581",
   "metadata": {},
   "outputs": [
    {
     "name": "stdout",
     "output_type": "stream",
     "text": [
      "TajMahal\n",
      "HumauTomb\n",
      "Redfort\n"
     ]
    }
   ],
   "source": [
    "print(\"TajMahal\",\"HumauTomb\",\"Redfort\",sep=\"\\n\")"
   ]
  },
  {
   "cell_type": "code",
   "execution_count": 36,
   "id": "f88a2f68-20e1-43e3-8727-99843ee9268c",
   "metadata": {},
   "outputs": [
    {
     "name": "stdout",
     "output_type": "stream",
     "text": [
      "this is \n",
      "swaminathan\n"
     ]
    }
   ],
   "source": [
    "print(\"this is \\nswaminathan\")"
   ]
  },
  {
   "cell_type": "code",
   "execution_count": 37,
   "id": "31cffe26-3440-4306-abc0-5425600c0362",
   "metadata": {},
   "outputs": [
    {
     "data": {
      "text/plain": [
       "'this is \\nswaminathan'"
      ]
     },
     "execution_count": 37,
     "metadata": {},
     "output_type": "execute_result"
    }
   ],
   "source": [
    "\"this is \\nswaminathan\""
   ]
  },
  {
   "cell_type": "code",
   "execution_count": 38,
   "id": "1315ae53-e2cf-480f-b524-9942b74df944",
   "metadata": {},
   "outputs": [
    {
     "name": "stdout",
     "output_type": "stream",
     "text": [
      "this is \n",
      "swaminathan\n"
     ]
    }
   ],
   "source": [
    "print(\"this is \\nswaminathan\")"
   ]
  },
  {
   "cell_type": "code",
   "execution_count": 41,
   "id": "96ff7153-c250-48f8-b7aa-c74a34bf5d84",
   "metadata": {},
   "outputs": [
    {
     "name": "stdout",
     "output_type": "stream",
     "text": [
      "this is \"laptop\"\n"
     ]
    }
   ],
   "source": [
    "print('this is \"laptop\"')"
   ]
  },
  {
   "cell_type": "code",
   "execution_count": 45,
   "id": "19f68387-4b4d-4e65-a298-4b2bf3fb6e37",
   "metadata": {},
   "outputs": [
    {
     "name": "stdout",
     "output_type": "stream",
     "text": [
      "this is \"laptop\"\n"
     ]
    }
   ],
   "source": [
    "print(\"this is \\\"laptop\\\"\")"
   ]
  },
  {
   "cell_type": "code",
   "execution_count": 46,
   "id": "1cc80e55-c756-4a6c-8c99-f2aa2c43c1d1",
   "metadata": {},
   "outputs": [
    {
     "name": "stdout",
     "output_type": "stream",
     "text": [
      "\n"
     ]
    }
   ],
   "source": [
    "a=str()\n",
    "print(a)"
   ]
  },
  {
   "cell_type": "code",
   "execution_count": 48,
   "id": "6ace9544-4556-4046-bd47-1ec3a9246f81",
   "metadata": {},
   "outputs": [
    {
     "name": "stdout",
     "output_type": "stream",
     "text": [
      "<class 'str'>\n"
     ]
    },
    {
     "data": {
      "text/plain": [
       "''"
      ]
     },
     "execution_count": 48,
     "metadata": {},
     "output_type": "execute_result"
    }
   ],
   "source": [
    "a=str()  # constructor is use to create empty string\n",
    "print(type(a))\n",
    "a"
   ]
  },
  {
   "cell_type": "code",
   "execution_count": 50,
   "id": "ee19b1f6-1e3c-4836-894d-60c16a99881b",
   "metadata": {},
   "outputs": [
    {
     "name": "stdout",
     "output_type": "stream",
     "text": [
      "<class 'str'>\n"
     ]
    },
    {
     "data": {
      "text/plain": [
       "''"
      ]
     },
     "execution_count": 50,
     "metadata": {},
     "output_type": "execute_result"
    }
   ],
   "source": [
    "b=''   # using literal of string '' creating empty string\n",
    "print(type(b))\n",
    "b"
   ]
  },
  {
   "cell_type": "code",
   "execution_count": 51,
   "id": "90b6c57a-9c55-4fe9-b8be-830f436c6eee",
   "metadata": {},
   "outputs": [
    {
     "data": {
      "text/plain": [
       "''"
      ]
     },
     "execution_count": 51,
     "metadata": {},
     "output_type": "execute_result"
    }
   ],
   "source": [
    "c=\"\"\n",
    "c"
   ]
  },
  {
   "cell_type": "code",
   "execution_count": 52,
   "id": "e42ddd27-caad-417a-9592-bbc947d31d62",
   "metadata": {},
   "outputs": [
    {
     "data": {
      "text/plain": [
       "''"
      ]
     },
     "execution_count": 52,
     "metadata": {},
     "output_type": "execute_result"
    }
   ],
   "source": [
    "d=\"\"\"\"\"\"\n",
    "d"
   ]
  },
  {
   "cell_type": "code",
   "execution_count": 53,
   "id": "2bfa0281-65eb-49b8-bb06-67278f2899f3",
   "metadata": {},
   "outputs": [
    {
     "data": {
      "text/plain": [
       "''"
      ]
     },
     "execution_count": 53,
     "metadata": {},
     "output_type": "execute_result"
    }
   ],
   "source": [
    "e=''''''\n",
    "e"
   ]
  },
  {
   "cell_type": "code",
   "execution_count": 54,
   "id": "aa2e9de1-bf91-42a5-84be-99025f1bfb8f",
   "metadata": {},
   "outputs": [],
   "source": [
    "a=\"KRISHNA\""
   ]
  },
  {
   "cell_type": "code",
   "execution_count": 55,
   "id": "f6707da9-6eae-4c31-a190-4ea44548e1fe",
   "metadata": {},
   "outputs": [
    {
     "name": "stdout",
     "output_type": "stream",
     "text": [
      "KRISHNA\n"
     ]
    }
   ],
   "source": [
    "print(a)"
   ]
  },
  {
   "cell_type": "code",
   "execution_count": 56,
   "id": "e55a9f96-bb03-400b-be07-b2f7e0589a09",
   "metadata": {},
   "outputs": [
    {
     "name": "stdout",
     "output_type": "stream",
     "text": [
      "K\n"
     ]
    }
   ],
   "source": [
    "print(a[0])"
   ]
  },
  {
   "cell_type": "code",
   "execution_count": 57,
   "id": "a35f4967-3e37-4822-8d99-7d21a82aaf66",
   "metadata": {},
   "outputs": [
    {
     "name": "stdout",
     "output_type": "stream",
     "text": [
      "K\n"
     ]
    }
   ],
   "source": [
    "print(a[-7])"
   ]
  },
  {
   "cell_type": "code",
   "execution_count": 58,
   "id": "08805f0a-156b-4d80-8cf4-0be17e893521",
   "metadata": {},
   "outputs": [
    {
     "name": "stdout",
     "output_type": "stream",
     "text": [
      "RISH\n"
     ]
    }
   ],
   "source": [
    "print(a[1:5])"
   ]
  },
  {
   "cell_type": "code",
   "execution_count": 59,
   "id": "762c082c-1c83-483a-91cb-1f4a7738dea1",
   "metadata": {},
   "outputs": [
    {
     "name": "stdout",
     "output_type": "stream",
     "text": [
      "RISH\n"
     ]
    }
   ],
   "source": [
    "print(a[1:5:1])"
   ]
  },
  {
   "cell_type": "code",
   "execution_count": 60,
   "id": "ee642116-f5ae-41d4-a624-04599bac9348",
   "metadata": {},
   "outputs": [
    {
     "name": "stdout",
     "output_type": "stream",
     "text": [
      "RS\n"
     ]
    }
   ],
   "source": [
    "print(a[1:5:2])"
   ]
  },
  {
   "cell_type": "markdown",
   "id": "1679d8ab-a917-427e-9d96-6251d3530154",
   "metadata": {},
   "source": [
    "# concatination"
   ]
  },
  {
   "cell_type": "code",
   "execution_count": 3,
   "id": "ca1d58ae-984d-4c3e-a457-373ed26c2e99",
   "metadata": {},
   "outputs": [
    {
     "data": {
      "text/plain": [
       "'krishnakumarPrajapati'"
      ]
     },
     "execution_count": 3,
     "metadata": {},
     "output_type": "execute_result"
    }
   ],
   "source": [
    "\"krishna\"+\"kumar\"+\"Prajapati\""
   ]
  },
  {
   "cell_type": "code",
   "execution_count": 4,
   "id": "59c65dc2-8ad5-42c7-aad9-521b0cfc05a2",
   "metadata": {},
   "outputs": [
    {
     "name": "stdout",
     "output_type": "stream",
     "text": [
      "krishnakumarPrajapati\n"
     ]
    }
   ],
   "source": [
    "print(\"krishna\"\"kumar\"\"Prajapati\")"
   ]
  },
  {
   "cell_type": "code",
   "execution_count": 5,
   "id": "ee84489e-5412-4e79-9f43-dadb207d637e",
   "metadata": {},
   "outputs": [
    {
     "name": "stdout",
     "output_type": "stream",
     "text": [
      "krishnakumarPrajapati\n"
     ]
    }
   ],
   "source": [
    "print(\"krishna\"\"kumar\"\"Prajapati\",sep=\"\")"
   ]
  },
  {
   "cell_type": "code",
   "execution_count": 6,
   "id": "b08bbc7f-9208-4606-a71d-7ed37a11cfa6",
   "metadata": {},
   "outputs": [
    {
     "ename": "TypeError",
     "evalue": "can only concatenate str (not \"int\") to str",
     "output_type": "error",
     "traceback": [
      "\u001b[1;31m---------------------------------------------------------------------------\u001b[0m",
      "\u001b[1;31mTypeError\u001b[0m                                 Traceback (most recent call last)",
      "Cell \u001b[1;32mIn[6], line 1\u001b[0m\n\u001b[1;32m----> 1\u001b[0m \u001b[38;5;124;43m\"\u001b[39;49m\u001b[38;5;124;43mkrishna\u001b[39;49m\u001b[38;5;124;43m\"\u001b[39;49m\u001b[38;5;241;43m+\u001b[39;49m\u001b[38;5;124;43m\"\u001b[39;49m\u001b[38;5;124;43mkumar\u001b[39;49m\u001b[38;5;124;43m\"\u001b[39;49m\u001b[38;5;241;43m+\u001b[39;49m\u001b[38;5;241;43m10\u001b[39;49m\n",
      "\u001b[1;31mTypeError\u001b[0m: can only concatenate str (not \"int\") to str"
     ]
    }
   ],
   "source": [
    "\"krishna\"+\"kumar\"+10"
   ]
  },
  {
   "cell_type": "code",
   "execution_count": 44,
   "id": "fe705650-4b00-4731-aa7f-ab3e868c8ca7",
   "metadata": {},
   "outputs": [],
   "source": [
    "a=\"Krishna\""
   ]
  },
  {
   "cell_type": "code",
   "execution_count": 48,
   "id": "cc78fb2c-4707-4445-9668-e45238810e5f",
   "metadata": {},
   "outputs": [
    {
     "data": {
      "text/plain": [
       "'KRISHNA'"
      ]
     },
     "execution_count": 48,
     "metadata": {},
     "output_type": "execute_result"
    }
   ],
   "source": [
    "c=a.upper()\n",
    "c"
   ]
  },
  {
   "cell_type": "code",
   "execution_count": 46,
   "id": "efc48a74-da11-49c7-af84-fb6a1dda906c",
   "metadata": {},
   "outputs": [
    {
     "data": {
      "text/plain": [
       "1138634757744"
      ]
     },
     "execution_count": 46,
     "metadata": {},
     "output_type": "execute_result"
    }
   ],
   "source": [
    "id(a)"
   ]
  },
  {
   "cell_type": "code",
   "execution_count": 49,
   "id": "ceb0b1ff-245b-4b86-9aaf-9cb06096141d",
   "metadata": {},
   "outputs": [
    {
     "data": {
      "text/plain": [
       "1138663454128"
      ]
     },
     "execution_count": 49,
     "metadata": {},
     "output_type": "execute_result"
    }
   ],
   "source": [
    "id(c)"
   ]
  },
  {
   "cell_type": "code",
   "execution_count": 50,
   "id": "16b0b0c7-ca31-471c-9a0e-3886ef9c41fb",
   "metadata": {},
   "outputs": [
    {
     "name": "stdout",
     "output_type": "stream",
     "text": [
      "Krishna\n"
     ]
    }
   ],
   "source": [
    "print(a)"
   ]
  },
  {
   "cell_type": "code",
   "execution_count": 52,
   "id": "b2109fad-85a0-4e93-8a44-4e2429debb59",
   "metadata": {},
   "outputs": [],
   "source": [
    "d=a.lower()"
   ]
  },
  {
   "cell_type": "code",
   "execution_count": 53,
   "id": "8eaaff7d-b331-4294-b819-19797cd24998",
   "metadata": {},
   "outputs": [
    {
     "data": {
      "text/plain": [
       "1138666872496"
      ]
     },
     "execution_count": 53,
     "metadata": {},
     "output_type": "execute_result"
    }
   ],
   "source": [
    "id(d)"
   ]
  },
  {
   "cell_type": "code",
   "execution_count": 54,
   "id": "03325fb7-2703-4253-aaaa-70d5759ba42e",
   "metadata": {},
   "outputs": [
    {
     "name": "stdout",
     "output_type": "stream",
     "text": [
      "Krishna\n"
     ]
    }
   ],
   "source": [
    "print(a)"
   ]
  },
  {
   "cell_type": "markdown",
   "id": "947cb12a-8d18-476d-a146-0d748ffe1539",
   "metadata": {},
   "source": [
    "> mutable datatype: when we can change structure of a data on same address, called mutable datatype\n",
    "\n",
    "> immutable datatype: when we cannot change structure of a data on same address, called immutable datatype\n",
    "\n"
   ]
  },
  {
   "cell_type": "code",
   "execution_count": 55,
   "id": "702683d3-c25a-4a2d-8610-249816fb002b",
   "metadata": {},
   "outputs": [
    {
     "name": "stdout",
     "output_type": "stream",
     "text": [
      "Krishna\n"
     ]
    }
   ],
   "source": [
    "print(a)"
   ]
  },
  {
   "cell_type": "code",
   "execution_count": 56,
   "id": "74005b47-9cc3-4591-9de3-c6a7ff752cbc",
   "metadata": {},
   "outputs": [],
   "source": [
    "a=\"     NnKrishna714@gmail.COM       \""
   ]
  },
  {
   "cell_type": "code",
   "execution_count": 57,
   "id": "5b499655-08c4-4fe0-bdbb-d320630893ee",
   "metadata": {},
   "outputs": [
    {
     "data": {
      "text/plain": [
       "'     NnKrishna714@gmail.COM       '"
      ]
     },
     "execution_count": 57,
     "metadata": {},
     "output_type": "execute_result"
    }
   ],
   "source": [
    "a"
   ]
  },
  {
   "cell_type": "code",
   "execution_count": 59,
   "id": "961f9718-5a05-435f-a1af-6aeb1c0f0be8",
   "metadata": {},
   "outputs": [],
   "source": [
    "b=a.casefold()\n"
   ]
  },
  {
   "cell_type": "code",
   "execution_count": 60,
   "id": "2d63c12c-0e46-4452-9258-04fdcfa09f23",
   "metadata": {},
   "outputs": [
    {
     "data": {
      "text/plain": [
       "'     nnkrishna714@gmail.com       '"
      ]
     },
     "execution_count": 60,
     "metadata": {},
     "output_type": "execute_result"
    }
   ],
   "source": [
    "b"
   ]
  },
  {
   "cell_type": "code",
   "execution_count": 62,
   "id": "a88449fb-929c-495a-ad10-f180f5d0db42",
   "metadata": {},
   "outputs": [],
   "source": [
    "c=b.strip()"
   ]
  },
  {
   "cell_type": "code",
   "execution_count": 63,
   "id": "ceb1cb9a-08b2-4181-a261-2b28aaafaaff",
   "metadata": {},
   "outputs": [
    {
     "data": {
      "text/plain": [
       "'nnkrishna714@gmail.com'"
      ]
     },
     "execution_count": 63,
     "metadata": {},
     "output_type": "execute_result"
    }
   ],
   "source": [
    "c"
   ]
  },
  {
   "cell_type": "code",
   "execution_count": 64,
   "id": "10f1de52-1472-4aab-9666-ca5580470c63",
   "metadata": {},
   "outputs": [
    {
     "data": {
      "text/plain": [
       "'nnkrishna714@gmail.com'"
      ]
     },
     "execution_count": 64,
     "metadata": {},
     "output_type": "execute_result"
    }
   ],
   "source": [
    "a=\"     NnKrishna714@gmail.COM       \"\n",
    "b=a.casefold()\n",
    "c=b.strip()\n",
    "c"
   ]
  },
  {
   "cell_type": "code",
   "execution_count": 65,
   "id": "120660e5-e188-4dbf-88f5-2a87df7e05ac",
   "metadata": {},
   "outputs": [
    {
     "data": {
      "text/plain": [
       "'nnkrishna714@gmail.com'"
      ]
     },
     "execution_count": 65,
     "metadata": {},
     "output_type": "execute_result"
    }
   ],
   "source": [
    "\"     NnKrishna714@gmail.COM       \".casefold().strip()"
   ]
  },
  {
   "cell_type": "code",
   "execution_count": 68,
   "id": "76e15db8-9b53-438d-a9e0-72c0d2cb6be9",
   "metadata": {},
   "outputs": [
    {
     "name": "stdout",
     "output_type": "stream",
     "text": [
      "nnkrishna714@gmail.com\n"
     ]
    }
   ],
   "source": [
    "print(\"     NnKrishna714@gmail.COM       \".strip().casefold())"
   ]
  },
  {
   "cell_type": "code",
   "execution_count": null,
   "id": "68053721-9a91-4531-b413-402b67ef8ce9",
   "metadata": {},
   "outputs": [],
   "source": [
    "https://www.w3schools.com/python/python_strings_methods.asp"
   ]
  }
 ],
 "metadata": {
  "kernelspec": {
   "display_name": "Python 3 (ipykernel)",
   "language": "python",
   "name": "python3"
  },
  "language_info": {
   "codemirror_mode": {
    "name": "ipython",
    "version": 3
   },
   "file_extension": ".py",
   "mimetype": "text/x-python",
   "name": "python",
   "nbconvert_exporter": "python",
   "pygments_lexer": "ipython3",
   "version": "3.11.4"
  }
 },
 "nbformat": 4,
 "nbformat_minor": 5
}
