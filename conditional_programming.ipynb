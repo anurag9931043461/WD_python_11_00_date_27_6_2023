{
 "cells": [
  {
   "cell_type": "markdown",
   "id": "abd2a5a5-1c4c-468b-aeaa-274d1488e169",
   "metadata": {},
   "source": [
    "# conditonal programming\n",
    "\n",
    "    > if else\n",
    "\n",
    "    > nested if else\n",
    "    \n",
    "    > if elif else\n",
    "    \n",
    "    > nested if elif else\n",
    "    \n",
    "    > ternary operator\n",
    "    \n",
    "    > nested ternary operator"
   ]
  },
  {
   "cell_type": "code",
   "execution_count": 4,
   "id": "dd8bad5b-8e70-4db9-aa1d-71ee732ef453",
   "metadata": {},
   "outputs": [
    {
     "ename": "IndentationError",
     "evalue": "unexpected indent (792845274.py, line 3)",
     "output_type": "error",
     "traceback": [
      "\u001b[1;36m  Cell \u001b[1;32mIn[4], line 3\u001b[1;36m\u001b[0m\n\u001b[1;33m    print(\"hello world\")\u001b[0m\n\u001b[1;37m    ^\u001b[0m\n\u001b[1;31mIndentationError\u001b[0m\u001b[1;31m:\u001b[0m unexpected indent\n"
     ]
    }
   ],
   "source": [
    "print(\"hello world\")\n",
    "print(\"hello world\")\n",
    " print(\"hello world\")\n",
    "print(\"hello world\")\n",
    "print(\"hello world\")"
   ]
  },
  {
   "cell_type": "code",
   "execution_count": 5,
   "id": "443bc742-8f71-44bc-ab58-fe3541cfc93a",
   "metadata": {},
   "outputs": [
    {
     "data": {
      "text/plain": [
       "5.0"
      ]
     },
     "execution_count": 5,
     "metadata": {},
     "output_type": "execute_result"
    }
   ],
   "source": [
    "10/2"
   ]
  },
  {
   "cell_type": "code",
   "execution_count": 6,
   "id": "248d194a-51e4-44ce-b2bc-9edb1767bfc3",
   "metadata": {},
   "outputs": [
    {
     "data": {
      "text/plain": [
       "0"
      ]
     },
     "execution_count": 6,
     "metadata": {},
     "output_type": "execute_result"
    }
   ],
   "source": [
    "10%2"
   ]
  },
  {
   "cell_type": "code",
   "execution_count": 7,
   "id": "ad416c2f-6403-43f6-9d42-f3a49c244398",
   "metadata": {},
   "outputs": [
    {
     "data": {
      "text/plain": [
       "True"
      ]
     },
     "execution_count": 7,
     "metadata": {},
     "output_type": "execute_result"
    }
   ],
   "source": []
  },
  {
   "cell_type": "code",
   "execution_count": 8,
   "id": "85603c29-3aaa-48e9-a8ba-833d7f362847",
   "metadata": {},
   "outputs": [
    {
     "name": "stdin",
     "output_type": "stream",
     "text": [
      " lkjdsfl;kjsdflkjf\n"
     ]
    }
   ],
   "source": [
    "user=input()"
   ]
  },
  {
   "cell_type": "code",
   "execution_count": 9,
   "id": "0bf6c470-6722-45c9-8e46-5da8411bc0f3",
   "metadata": {},
   "outputs": [
    {
     "name": "stdin",
     "output_type": "stream",
     "text": [
      "choose a path : goa\n"
     ]
    }
   ],
   "source": [
    "user=input(\"choose a path :\")"
   ]
  },
  {
   "cell_type": "code",
   "execution_count": 10,
   "id": "c1673aba-f6bd-4355-a604-f12b3c7f5c95",
   "metadata": {},
   "outputs": [
    {
     "data": {
      "text/plain": [
       "'goa'"
      ]
     },
     "execution_count": 10,
     "metadata": {},
     "output_type": "execute_result"
    }
   ],
   "source": [
    "user"
   ]
  },
  {
   "cell_type": "code",
   "execution_count": 15,
   "id": "04d0e5ca-f825-4a11-84be-388d64ae0422",
   "metadata": {},
   "outputs": [
    {
     "name": "stdout",
     "output_type": "stream",
     "text": [
      "I am going to goa\n",
      "I will buy a water bottle\n"
     ]
    }
   ],
   "source": [
    "if user==\"goa\":\n",
    "    print(\"I am going to goa\")\n",
    "    print(\"I will buy a water bottle\")\n"
   ]
  },
  {
   "cell_type": "code",
   "execution_count": 16,
   "id": "de4db6ef-eeda-4ea9-9a16-c45a51fd5bd5",
   "metadata": {},
   "outputs": [
    {
     "name": "stdin",
     "output_type": "stream",
     "text": [
      "choose a path : goa\n"
     ]
    },
    {
     "name": "stdout",
     "output_type": "stream",
     "text": [
      "I am going to goa\n",
      "I will buy a water bottle\n"
     ]
    }
   ],
   "source": [
    "user=input(\"choose a path :\")\n",
    "if user==\"goa\":\n",
    "    print(\"I am going to goa\")\n",
    "    print(\"I will buy a water bottle\")"
   ]
  },
  {
   "cell_type": "code",
   "execution_count": 18,
   "id": "5d98e976-44de-4bd5-8a58-d448c63a4abb",
   "metadata": {},
   "outputs": [
    {
     "name": "stdin",
     "output_type": "stream",
     "text": [
      "choose a path : kdlkfjslkfjlkdsf\n"
     ]
    },
    {
     "name": "stdout",
     "output_type": "stream",
     "text": [
      "I am going to home\n"
     ]
    }
   ],
   "source": [
    "user=input(\"choose a path :\")\n",
    "if user==\"goa\":\n",
    "    print(\"I am going to goa\")\n",
    "    print(\"I will buy a water bottle\")\n",
    "else:\n",
    "    print(\"I am going to home\")"
   ]
  },
  {
   "cell_type": "code",
   "execution_count": 20,
   "id": "628ef30f-a367-4611-a1fa-987d6a7e58dc",
   "metadata": {},
   "outputs": [
    {
     "name": "stdin",
     "output_type": "stream",
     "text": [
      "choose a path : Lucknow\n"
     ]
    },
    {
     "name": "stdout",
     "output_type": "stream",
     "text": [
      "I am going to home\n",
      "hello\n"
     ]
    }
   ],
   "source": [
    "user=input(\"choose a path :\")\n",
    "if user==\"goa\":\n",
    "    print(\"I am going to goa\")\n",
    "    print(\"I will buy a water bottle\")\n",
    "else:\n",
    "    print(\"I am going to home\")\n",
    "    print(\"hello\")"
   ]
  },
  {
   "cell_type": "code",
   "execution_count": 21,
   "id": "8b01cd61-7169-4432-8fed-8632e769a1cd",
   "metadata": {},
   "outputs": [
    {
     "name": "stdin",
     "output_type": "stream",
     "text": [
      "choose a path : goa\n"
     ]
    },
    {
     "name": "stdout",
     "output_type": "stream",
     "text": [
      "I am going to goa\n",
      "I will buy a water bottle\n",
      "This is abc\n"
     ]
    }
   ],
   "source": [
    "user=input(\"choose a path :\")\n",
    "if user==\"goa\":\n",
    "    print(\"I am going to goa\")\n",
    "    print(\"I will buy a water bottle\")\n",
    "else:\n",
    "    print(\"I am going to home\")\n",
    "    print(\"hello\")\n",
    "print(\"This is abc\")"
   ]
  },
  {
   "cell_type": "code",
   "execution_count": 22,
   "id": "27621d75-1bc5-4f7f-90b4-8de0e151e8bb",
   "metadata": {},
   "outputs": [
    {
     "name": "stdin",
     "output_type": "stream",
     "text": [
      "choose a path : Lucknow\n"
     ]
    },
    {
     "name": "stdout",
     "output_type": "stream",
     "text": [
      "I am going to home\n",
      "hello\n",
      "This is abc\n"
     ]
    }
   ],
   "source": [
    "user=input(\"choose a path :\")\n",
    "if user==\"goa\":\n",
    "    print(\"I am going to goa\")\n",
    "    print(\"I will buy a water bottle\")\n",
    "else:\n",
    "    print(\"I am going to home\")\n",
    "    print(\"hello\")\n",
    "print(\"This is abc\")"
   ]
  },
  {
   "cell_type": "code",
   "execution_count": 23,
   "id": "e1d5f0ff-1a1e-4780-8dfe-6155d3970e2c",
   "metadata": {},
   "outputs": [
    {
     "name": "stdin",
     "output_type": "stream",
     "text": [
      "choose a path : jhfdlksdf\n"
     ]
    },
    {
     "name": "stdout",
     "output_type": "stream",
     "text": [
      "I am going to home\n",
      "hello\n",
      "This is abc\n"
     ]
    }
   ],
   "source": [
    "user=input(\"choose a path :\")\n",
    "if user==\"goa\":\n",
    "    print(\"I am going to goa\")\n",
    "    print(\"I will buy a water bottle\")\n",
    "else:\n",
    "    print(\"I am going to home\")\n",
    "    print(\"hello\")\n",
    "    print(\"This is abc\")"
   ]
  },
  {
   "cell_type": "code",
   "execution_count": 25,
   "id": "e6882751-f78a-43f0-84bb-6a6683848404",
   "metadata": {},
   "outputs": [
    {
     "name": "stdin",
     "output_type": "stream",
     "text": [
      "choose a path : goa\n"
     ]
    },
    {
     "name": "stdout",
     "output_type": "stream",
     "text": [
      "I am going to goa\n",
      "I will buy a water bottle\n"
     ]
    }
   ],
   "source": [
    "user=input(\"choose a path :\")\n",
    "if user==\"goa\":\n",
    "    print(\"I am going to goa\")\n",
    "    print(\"I will buy a water bottle\")\n",
    "else:\n",
    "    print(\"I am going to home\")\n",
    "    print(\"hello\")\n",
    "    print(\"This is abc\")"
   ]
  },
  {
   "cell_type": "markdown",
   "id": "bef6525f-330a-43a7-a2ff-8bfaee049a92",
   "metadata": {},
   "source": [
    "# nested if else"
   ]
  },
  {
   "cell_type": "code",
   "execution_count": 28,
   "id": "1f9778f8-2460-4e5e-b7c9-6353ab4319cc",
   "metadata": {},
   "outputs": [
    {
     "name": "stdin",
     "output_type": "stream",
     "text": [
      "Enter a number: 11\n"
     ]
    }
   ],
   "source": [
    "num1=int(input(\"Enter a number:\"))"
   ]
  },
  {
   "cell_type": "code",
   "execution_count": 32,
   "id": "f1d49d20-8c83-4c91-9dae-d7af0b478163",
   "metadata": {},
   "outputs": [
    {
     "name": "stdout",
     "output_type": "stream",
     "text": [
      "The number is odd\n"
     ]
    }
   ],
   "source": [
    "if num1%2==0:\n",
    "    print(\"The number is even\")\n",
    "else:\n",
    "    print(\"The number is odd\")"
   ]
  },
  {
   "cell_type": "code",
   "execution_count": 34,
   "id": "609a5786-c66a-4ccc-b08b-415c3c34d4d2",
   "metadata": {},
   "outputs": [
    {
     "name": "stdin",
     "output_type": "stream",
     "text": [
      "Enter a number: 11\n"
     ]
    },
    {
     "name": "stdout",
     "output_type": "stream",
     "text": [
      "The number is odd\n"
     ]
    }
   ],
   "source": [
    "num1=int(input(\"Enter a number:\"))\n",
    "if num1%2==0:\n",
    "    print(\"The number is even\")\n",
    "else:\n",
    "    print(\"The number is odd\")"
   ]
  },
  {
   "cell_type": "code",
   "execution_count": 38,
   "id": "efe65063-d069-4601-bf31-a11ab89ebc65",
   "metadata": {},
   "outputs": [
    {
     "name": "stdin",
     "output_type": "stream",
     "text": [
      "Enter a number: 10\n"
     ]
    },
    {
     "name": "stdout",
     "output_type": "stream",
     "text": [
      "The number is even\n",
      "postive\n"
     ]
    }
   ],
   "source": [
    "num1=int(input(\"Enter a number:\"))\n",
    "if num1%2==0:\n",
    "    print(\"The number is even\")\n",
    "    if num1>=0:\n",
    "        print(\"postive\")\n",
    "    else:\n",
    "        print(\"negative\")\n",
    "else:\n",
    "    print(\"The number is odd\")"
   ]
  },
  {
   "cell_type": "code",
   "execution_count": 39,
   "id": "c39df01a-c193-4f37-b506-4d2b49dd7d5e",
   "metadata": {},
   "outputs": [
    {
     "name": "stdin",
     "output_type": "stream",
     "text": [
      "Enter a number: -10\n"
     ]
    },
    {
     "name": "stdout",
     "output_type": "stream",
     "text": [
      "The number is even\n",
      "negative\n"
     ]
    }
   ],
   "source": [
    "num1=int(input(\"Enter a number:\"))\n",
    "if num1%2==0:\n",
    "    print(\"The number is even\")\n",
    "    if num1>=0:\n",
    "        print(\"postive\")\n",
    "    else:\n",
    "        print(\"negative\")\n",
    "else:\n",
    "    print(\"The number is odd\")"
   ]
  },
  {
   "cell_type": "code",
   "execution_count": 43,
   "id": "c20753c4-0c24-4864-ac21-25f3b2aba714",
   "metadata": {},
   "outputs": [
    {
     "name": "stdin",
     "output_type": "stream",
     "text": [
      "Enter a number: -11\n"
     ]
    },
    {
     "name": "stdout",
     "output_type": "stream",
     "text": [
      "The number is odd\n",
      "The number is negative\n"
     ]
    }
   ],
   "source": [
    "num1=int(input(\"Enter a number:\"))\n",
    "if num1%2==0:\n",
    "    print(\"The number is even\")\n",
    "    if num1>=0:\n",
    "        print(\"postive\")\n",
    "    else:\n",
    "        print(\"negative\")\n",
    "else:\n",
    "    print(\"The number is odd\")\n",
    "    if num1>=0:\n",
    "        print(\"the number is positive\")\n",
    "    else:\n",
    "        print(\"The number is negative\")"
   ]
  },
  {
   "cell_type": "markdown",
   "id": "3887ef56-30be-41e5-8b55-bea05e19598c",
   "metadata": {},
   "source": [
    "# if elif else"
   ]
  },
  {
   "cell_type": "code",
   "execution_count": null,
   "id": "2f776082-9884-4b96-ac7f-1fe804b04aed",
   "metadata": {},
   "outputs": [],
   "source": [
    "if condition:\n",
    "    statment\n",
    "elif condition:\n",
    "    statment\n",
    "elif condition:\n",
    "    statment\n",
    "else:\n",
    "    statement"
   ]
  },
  {
   "cell_type": "code",
   "execution_count": 1,
   "id": "9db1aec5-0808-4c6c-8cc1-8ee10d67996f",
   "metadata": {},
   "outputs": [
    {
     "name": "stdin",
     "output_type": "stream",
     "text": [
      "Enter you age: 27\n"
     ]
    }
   ],
   "source": [
    "age=int(input(\"Enter you age:\"))"
   ]
  },
  {
   "cell_type": "code",
   "execution_count": 2,
   "id": "e044b3be-9d90-4d61-8ed0-4110a5809571",
   "metadata": {},
   "outputs": [
    {
     "data": {
      "text/plain": [
       "27"
      ]
     },
     "execution_count": 2,
     "metadata": {},
     "output_type": "execute_result"
    }
   ],
   "source": [
    "age"
   ]
  },
  {
   "cell_type": "code",
   "execution_count": 3,
   "id": "55d1379e-003f-4e33-b8b2-445349ab52ea",
   "metadata": {},
   "outputs": [
    {
     "data": {
      "text/plain": [
       "True"
      ]
     },
     "execution_count": 3,
     "metadata": {},
     "output_type": "execute_result"
    }
   ],
   "source": [
    "age>0"
   ]
  },
  {
   "cell_type": "code",
   "execution_count": 4,
   "id": "7d14caf4-b183-4851-978a-a3bfc6bb3921",
   "metadata": {},
   "outputs": [
    {
     "data": {
      "text/plain": [
       "False"
      ]
     },
     "execution_count": 4,
     "metadata": {},
     "output_type": "execute_result"
    }
   ],
   "source": [
    "age<18"
   ]
  },
  {
   "cell_type": "code",
   "execution_count": 7,
   "id": "ff16c1f7-ce41-4671-b07c-bcc979c74951",
   "metadata": {},
   "outputs": [
    {
     "name": "stdin",
     "output_type": "stream",
     "text": [
      "Enter you age: 35\n"
     ]
    },
    {
     "name": "stdout",
     "output_type": "stream",
     "text": [
      "I will give you vehicle\n"
     ]
    }
   ],
   "source": [
    "age=int(input(\"Enter you age:\"))\n",
    "if age>0 and age<18:\n",
    "    print(\"I will give you chocolate\")\n",
    "elif age>=18 and age<60:\n",
    "    print(\"I will give you vehicle\")\n",
    "elif age>=60 and age<=108:\n",
    "    print(\"I will give you pension\")\n",
    "else:\n",
    "    print(\"I will give you poison\")"
   ]
  },
  {
   "cell_type": "code",
   "execution_count": 10,
   "id": "453d700e-981f-464c-a001-b4220ad369e2",
   "metadata": {},
   "outputs": [
    {
     "name": "stdin",
     "output_type": "stream",
     "text": [
      "Enter you age: 31\n"
     ]
    },
    {
     "name": "stdout",
     "output_type": "stream",
     "text": [
      "I will give you pagani\n"
     ]
    }
   ],
   "source": [
    "age=int(input(\"Enter you age:\"))\n",
    "if age>0 and age<18:\n",
    "    if age>0 and age<=5:\n",
    "        print(\"I will give you chocolate\")\n",
    "    elif age>5 and age<=15:\n",
    "        print(\"I will give you cycle\")\n",
    "    else:\n",
    "        print(\"I will give you toy KTM\")\n",
    "elif age>=18 and age<60:\n",
    "    if age>=18 and age<=30:\n",
    "        print(\"I will give you Metor 650\")\n",
    "    else:\n",
    "        print(\"I will give you pagani\") \n",
    "elif age>=60 and age<=108:\n",
    "    print(\"I will give you pension\")\n",
    "else:\n",
    "    print(\"I will give you poison\")"
   ]
  },
  {
   "cell_type": "code",
   "execution_count": 14,
   "id": "feb3fac4-c431-45a7-b515-b8277e97c427",
   "metadata": {},
   "outputs": [
    {
     "name": "stdin",
     "output_type": "stream",
     "text": [
      "choose one option: A\n"
     ]
    },
    {
     "name": "stdout",
     "output_type": "stream",
     "text": [
      "option A\n"
     ]
    }
   ],
   "source": [
    "option=input(\"choose one option:\")\n",
    "if option==\"A\":\n",
    "    print(\"option A\")\n",
    "elif option==\"A\":\n",
    "    print(\"option B\")\n",
    "elif option==\"C\":\n",
    "    print(\"option C\")\n",
    "elif option==\"D\":\n",
    "    print(\"option D\")\n",
    "else:\n",
    "    print(\"go to hell\")"
   ]
  },
  {
   "cell_type": "markdown",
   "id": "b385f7d3-fd30-4a35-b532-d060bc5db20b",
   "metadata": {},
   "source": [
    "# if else : ternary operator"
   ]
  },
  {
   "cell_type": "code",
   "execution_count": 3,
   "id": "b094890b-b908-448e-85dc-809a4c65b6ac",
   "metadata": {},
   "outputs": [
    {
     "name": "stdin",
     "output_type": "stream",
     "text": [
      "choose a path : goa\n"
     ]
    },
    {
     "name": "stdout",
     "output_type": "stream",
     "text": [
      "I am going to goa\n"
     ]
    }
   ],
   "source": [
    "user=input(\"choose a path :\")\n",
    "if user==\"goa\":\n",
    "    print(\"I am going to goa\")\n",
    "else:\n",
    "    print(\"I am going to home\")"
   ]
  },
  {
   "cell_type": "code",
   "execution_count": 1,
   "id": "ca479a2d-7be6-4334-a4ce-93cb0d670ffe",
   "metadata": {},
   "outputs": [
    {
     "data": {
      "text/plain": [
       "True"
      ]
     },
     "execution_count": 1,
     "metadata": {},
     "output_type": "execute_result"
    }
   ],
   "source": [
    "\"goa\"==\"goa\""
   ]
  },
  {
   "cell_type": "code",
   "execution_count": 2,
   "id": "e385eef0-1228-4c51-b650-977c302b10b8",
   "metadata": {},
   "outputs": [
    {
     "data": {
      "text/plain": [
       "False"
      ]
     },
     "execution_count": 2,
     "metadata": {},
     "output_type": "execute_result"
    }
   ],
   "source": [
    "\"Goa\"==\"goa\""
   ]
  },
  {
   "cell_type": "code",
   "execution_count": 4,
   "id": "85050b5e-080a-4e9c-9a14-d557ced42e3e",
   "metadata": {},
   "outputs": [
    {
     "name": "stdin",
     "output_type": "stream",
     "text": [
      "choose a path : Goa\n"
     ]
    },
    {
     "name": "stdout",
     "output_type": "stream",
     "text": [
      "I am going to home\n"
     ]
    }
   ],
   "source": [
    "user=input(\"choose a path :\")\n",
    "if user==\"goa\":\n",
    "    print(\"I am going to goa\")\n",
    "else:\n",
    "    print(\"I am going to home\")"
   ]
  },
  {
   "cell_type": "code",
   "execution_count": 5,
   "id": "cc87658a-5a55-4cdc-8c35-3559b4ff25ee",
   "metadata": {},
   "outputs": [
    {
     "name": "stdin",
     "output_type": "stream",
     "text": [
      "choose a path : Lucknow\n"
     ]
    },
    {
     "name": "stdout",
     "output_type": "stream",
     "text": [
      "I am going to home\n"
     ]
    }
   ],
   "source": [
    "user=input(\"choose a path :\")\n",
    "if user==\"goa\":\n",
    "    print(\"I am going to goa\")\n",
    "else:\n",
    "    print(\"I am going to home\")"
   ]
  },
  {
   "cell_type": "code",
   "execution_count": 6,
   "id": "fd03edf1-6d40-4d98-a7d1-53603bb32cd6",
   "metadata": {},
   "outputs": [
    {
     "name": "stdin",
     "output_type": "stream",
     "text": [
      "choose a path : goa\n"
     ]
    },
    {
     "name": "stdout",
     "output_type": "stream",
     "text": [
      "I am going to goa\n"
     ]
    }
   ],
   "source": [
    "user=input(\"choose a path :\")\n",
    "print(\"I am going to goa\") if user==\"goa\" else print(\"I am going to home\")"
   ]
  },
  {
   "cell_type": "code",
   "execution_count": 7,
   "id": "68a77676-8f89-4e3d-8bed-a4cb32090465",
   "metadata": {},
   "outputs": [
    {
     "name": "stdin",
     "output_type": "stream",
     "text": [
      "choose a path : Lucknow\n"
     ]
    },
    {
     "name": "stdout",
     "output_type": "stream",
     "text": [
      "I am going to home\n"
     ]
    }
   ],
   "source": [
    "user=input(\"choose a path :\")\n",
    "print(\"I am going to goa\") if user==\"goa\" else print(\"I am going to home\")"
   ]
  },
  {
   "cell_type": "code",
   "execution_count": 9,
   "id": "a9a323fc-14b0-4d9a-91dc-62b29c1ffca8",
   "metadata": {},
   "outputs": [
    {
     "name": "stdin",
     "output_type": "stream",
     "text": [
      "Enter a number: 10\n"
     ]
    },
    {
     "name": "stdout",
     "output_type": "stream",
     "text": [
      "number is positve and even\n"
     ]
    }
   ],
   "source": [
    "num1=int(input(\"Enter a number:\"))\n",
    "if num1%2==0:\n",
    "    if num1>=0:\n",
    "        print(\"number is positve and even\")\n",
    "    else:\n",
    "        print(\"number is negative and even\")\n",
    "else:\n",
    "    print(\"The number is odd\")"
   ]
  },
  {
   "cell_type": "code",
   "execution_count": 10,
   "id": "5a74f25c-fff9-4214-bbe0-9231b670fa22",
   "metadata": {},
   "outputs": [
    {
     "name": "stdin",
     "output_type": "stream",
     "text": [
      "Enter a number: 11\n"
     ]
    },
    {
     "name": "stdout",
     "output_type": "stream",
     "text": [
      "The number is odd\n"
     ]
    }
   ],
   "source": [
    "num1=int(input(\"Enter a number:\"))\n",
    "if num1%2==0:\n",
    "    if num1>=0:\n",
    "        print(\"number is positve and even\")\n",
    "    else:\n",
    "        print(\"number is negative and even\")\n",
    "else:\n",
    "    print(\"The number is odd\")"
   ]
  },
  {
   "cell_type": "code",
   "execution_count": 11,
   "id": "d204b70c-e93f-4426-9f2d-f318e04784de",
   "metadata": {},
   "outputs": [
    {
     "name": "stdin",
     "output_type": "stream",
     "text": [
      "Enter a number: 11\n"
     ]
    },
    {
     "name": "stdout",
     "output_type": "stream",
     "text": [
      "The number is odd\n"
     ]
    }
   ],
   "source": [
    "num1=int(input(\"Enter a number:\"))\n",
    "(print(\"number is positve and even\") if num1>=0 else print(\"number is negative and even\"))if num1%2==0 else print(\"The number is odd\")"
   ]
  },
  {
   "cell_type": "code",
   "execution_count": 12,
   "id": "2c267cf1-498e-4715-a5fb-4a49c04ab70d",
   "metadata": {},
   "outputs": [
    {
     "name": "stdin",
     "output_type": "stream",
     "text": [
      "Enter a number: 10\n"
     ]
    },
    {
     "name": "stdout",
     "output_type": "stream",
     "text": [
      "number is positve and even\n"
     ]
    }
   ],
   "source": [
    "num1=int(input(\"Enter a number:\"))\n",
    "(print(\"number is positve and even\") if num1>=0 else print(\"number is negative and even\"))if num1%2==0 else print(\"The number is odd\")"
   ]
  },
  {
   "cell_type": "markdown",
   "id": "1226d4b9-d4ba-4c5f-a253-c22d08afc179",
   "metadata": {},
   "source": [
    "# calculator, +,-,/,*"
   ]
  },
  {
   "cell_type": "code",
   "execution_count": 14,
   "id": "55aa49fa-a533-49e5-81f8-12011f58f38a",
   "metadata": {},
   "outputs": [
    {
     "name": "stdin",
     "output_type": "stream",
     "text": [
      "Enter 1st number: 10\n",
      "Enter 2nd number: 20\n",
      "kindly choose one operation +,-,/,* :  +  \n"
     ]
    },
    {
     "name": "stdout",
     "output_type": "stream",
     "text": [
      "Go to hell\n"
     ]
    }
   ],
   "source": [
    "num1= int(input(\"Enter 1st number:\"))\n",
    "num2=int(input(\"Enter 2nd number:\"))\n",
    "option=input(\"kindly choose one operation +,-,/,* :\")\n",
    "if option==\"+\":\n",
    "    print(num1+num2)\n",
    "elif option==\"-\":\n",
    "    print(num1-num2)\n",
    "elif option==\"/\":\n",
    "    print(num1/num2)\n",
    "elif option==\"*\":\n",
    "    print(num1*num2)\n",
    "else:\n",
    "    print(\"Go to hell\")"
   ]
  },
  {
   "cell_type": "code",
   "execution_count": 15,
   "id": "2a6bdc70-9e00-429c-b4ea-5eb563c1b201",
   "metadata": {},
   "outputs": [
    {
     "name": "stdin",
     "output_type": "stream",
     "text": [
      "Enter 1st number: 10\n",
      "Enter 2nd number: 20\n",
      "kindly choose one operation +,-,/,* : +\n"
     ]
    },
    {
     "name": "stdout",
     "output_type": "stream",
     "text": [
      "30\n"
     ]
    }
   ],
   "source": [
    "num1= int(input(\"Enter 1st number:\"))\n",
    "num2=int(input(\"Enter 2nd number:\"))\n",
    "option=input(\"kindly choose one operation +,-,/,* :\")\n",
    "if option==\"+\":\n",
    "    print(num1+num2)\n",
    "elif option==\"-\":\n",
    "    print(num1-num2)\n",
    "elif option==\"/\":\n",
    "    print(num1/num2)\n",
    "elif option==\"*\":\n",
    "    print(num1*num2)\n",
    "else:\n",
    "    print(\"Go to hell\")"
   ]
  },
  {
   "cell_type": "code",
   "execution_count": 16,
   "id": "7f444806-7d92-400a-a9c5-4ed802136c28",
   "metadata": {},
   "outputs": [
    {
     "name": "stdin",
     "output_type": "stream",
     "text": [
      "Enter 1st number: 10\n",
      "Enter 2nd number: 20\n",
      "kindly choose one operation +,-,/,* : -\n"
     ]
    },
    {
     "name": "stdout",
     "output_type": "stream",
     "text": [
      "-10\n"
     ]
    }
   ],
   "source": [
    "num1= int(input(\"Enter 1st number:\"))\n",
    "num2=int(input(\"Enter 2nd number:\"))\n",
    "option=input(\"kindly choose one operation +,-,/,* :\")\n",
    "if option==\"+\":\n",
    "    print(num1+num2)\n",
    "elif option==\"-\":\n",
    "    print(num1-num2)\n",
    "elif option==\"/\":\n",
    "    print(num1/num2)\n",
    "elif option==\"*\":\n",
    "    print(num1*num2)\n",
    "else:\n",
    "    print(\"Go to hell\")"
   ]
  },
  {
   "cell_type": "code",
   "execution_count": 17,
   "id": "4225205e-40f7-429b-b60c-a2294c9cb22d",
   "metadata": {},
   "outputs": [
    {
     "name": "stdin",
     "output_type": "stream",
     "text": [
      "Enter 1st number: 10\n",
      "Enter 2nd number: 20\n",
      "kindly choose one operation +,-,/,* : /\n"
     ]
    },
    {
     "name": "stdout",
     "output_type": "stream",
     "text": [
      "The result is :  0.5\n"
     ]
    }
   ],
   "source": [
    "num1= int(input(\"Enter 1st number:\"))\n",
    "num2=int(input(\"Enter 2nd number:\"))\n",
    "option=input(\"kindly choose one operation +,-,/,* :\")\n",
    "if option==\"+\":\n",
    "    print(\"The result is : \",num1+num2)\n",
    "elif option==\"-\":\n",
    "    print(\"The result is : \",num1-num2)\n",
    "elif option==\"/\":\n",
    "    print(\"The result is : \",num1/num2)\n",
    "elif option==\"*\":\n",
    "    print(\"The result is : \",num1*num2)\n",
    "else:\n",
    "    print(\"Go to hell\")"
   ]
  },
  {
   "cell_type": "code",
   "execution_count": 18,
   "id": "b0ad2158-1e37-4c24-8985-773bce806f94",
   "metadata": {},
   "outputs": [
    {
     "name": "stdin",
     "output_type": "stream",
     "text": [
      "Enter 1st number: 20\n",
      "Enter 2nd number: 10\n",
      "kindly choose one operation +,-,/,* : *\n"
     ]
    },
    {
     "name": "stdout",
     "output_type": "stream",
     "text": [
      "The result is :  200\n"
     ]
    }
   ],
   "source": [
    "num1= int(input(\"Enter 1st number:\"))\n",
    "num2=int(input(\"Enter 2nd number:\"))\n",
    "option=input(\"kindly choose one operation +,-,/,* :\")\n",
    "if option==\"+\":\n",
    "    print(\"The result is : \",num1+num2)\n",
    "elif option==\"-\":\n",
    "    print(\"The result is : \",num1-num2)\n",
    "elif option==\"/\":\n",
    "    print(\"The result is : \",num1/num2)\n",
    "elif option==\"*\":\n",
    "    print(\"The result is : \",num1*num2)\n",
    "else:\n",
    "    print(\"Go to hell\")"
   ]
  },
  {
   "cell_type": "code",
   "execution_count": 19,
   "id": "25276d1f-19ea-4ec5-9fda-24b862fe965f",
   "metadata": {},
   "outputs": [],
   "source": [
    "a=10\n",
    "b=20"
   ]
  },
  {
   "cell_type": "code",
   "execution_count": 20,
   "id": "c72ab9a7-a8d1-4746-801b-a60437919295",
   "metadata": {},
   "outputs": [
    {
     "name": "stdout",
     "output_type": "stream",
     "text": [
      "10\n"
     ]
    }
   ],
   "source": [
    "print(a)"
   ]
  },
  {
   "cell_type": "code",
   "execution_count": 21,
   "id": "f6dc9679-634f-4a50-bb4f-9cdc633eb065",
   "metadata": {},
   "outputs": [
    {
     "name": "stdout",
     "output_type": "stream",
     "text": [
      "20\n"
     ]
    }
   ],
   "source": [
    "print(b)"
   ]
  },
  {
   "cell_type": "code",
   "execution_count": 22,
   "id": "f9dbaa9c-9211-4570-ab2b-b1b9ab29da53",
   "metadata": {},
   "outputs": [],
   "source": [
    "a,b=b,a"
   ]
  },
  {
   "cell_type": "code",
   "execution_count": 23,
   "id": "1588e97f-45a4-4518-bfd0-5a6d27af89ef",
   "metadata": {},
   "outputs": [
    {
     "name": "stdout",
     "output_type": "stream",
     "text": [
      "20\n"
     ]
    }
   ],
   "source": [
    "print(a)"
   ]
  },
  {
   "cell_type": "code",
   "execution_count": 24,
   "id": "b86bae0c-2042-44c4-a3e8-eefef2725af6",
   "metadata": {},
   "outputs": [
    {
     "name": "stdout",
     "output_type": "stream",
     "text": [
      "10\n"
     ]
    }
   ],
   "source": [
    "print(b)"
   ]
  },
  {
   "cell_type": "code",
   "execution_count": 25,
   "id": "0edd4e80-0920-46d9-8a03-c6897321f433",
   "metadata": {},
   "outputs": [
    {
     "name": "stdin",
     "output_type": "stream",
     "text": [
      "Enter 1st number: 10\n",
      "Enter 2nd number: 20\n",
      "kindly choose one operation +,-,/,* : -\n"
     ]
    },
    {
     "name": "stdout",
     "output_type": "stream",
     "text": [
      "The result is :  10\n"
     ]
    }
   ],
   "source": [
    "num1= int(input(\"Enter 1st number:\"))\n",
    "num2=int(input(\"Enter 2nd number:\"))\n",
    "option=input(\"kindly choose one operation +,-,/,* :\")\n",
    "if option==\"+\":\n",
    "    print(\"The result is : \",num1+num2)\n",
    "elif option==\"-\":\n",
    "    if num1<num2:\n",
    "        num1,num2=num2,num1\n",
    "        print(\"The result is : \",num1-num2)\n",
    "    else:\n",
    "        print(\"The result is : \",num1-num2)\n",
    "elif option==\"/\":\n",
    "    print(\"The result is : \",num1/num2)\n",
    "elif option==\"*\":\n",
    "    print(\"The result is : \",num1*num2)\n",
    "else:\n",
    "    print(\"Go to hell\")"
   ]
  },
  {
   "cell_type": "code",
   "execution_count": null,
   "id": "33766544-40ec-4251-b045-56da5028072f",
   "metadata": {},
   "outputs": [],
   "source": []
  }
 ],
 "metadata": {
  "kernelspec": {
   "display_name": "Python 3 (ipykernel)",
   "language": "python",
   "name": "python3"
  },
  "language_info": {
   "codemirror_mode": {
    "name": "ipython",
    "version": 3
   },
   "file_extension": ".py",
   "mimetype": "text/x-python",
   "name": "python",
   "nbconvert_exporter": "python",
   "pygments_lexer": "ipython3",
   "version": "3.11.4"
  }
 },
 "nbformat": 4,
 "nbformat_minor": 5
}
