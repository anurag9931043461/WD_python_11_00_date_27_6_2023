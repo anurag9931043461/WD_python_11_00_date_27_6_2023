{
 "cells": [
  {
   "cell_type": "markdown",
   "id": "b68ffa2e-ae91-4fe4-9289-984f0b96ee6e",
   "metadata": {},
   "source": [
    "# frozenset\n",
    "\n",
    "> frozenset constructor is frozenset()\n",
    "\n",
    "> frozenset literal is not available\n",
    "\n",
    "> frozenset is unordered set of sequence of elements.\n",
    "\n",
    "> frozenset does not support indexing\n",
    "\n",
    "> frozenset does not support slicing \n",
    "\n",
    "> frozenset does not support concatination\n",
    "\n",
    "> frozenset does not support duplicate values.\n",
    "\n",
    "> frozenset remove duplicate values using hashing table.\n",
    "\n",
    "> frozenset is immutable(hashable)\n",
    "\n",
    "> frozenset support nested frozenset.\n",
    "\n",
    "> frozenset methods.\n"
   ]
  },
  {
   "cell_type": "code",
   "execution_count": 1,
   "id": "b71e122c-ced5-48ed-b5a3-ec7c5a702241",
   "metadata": {},
   "outputs": [],
   "source": [
    "a=frozenset({1,1,1,1,2,2,2,3,3,3,4,4,4,5,5,6,6,6})"
   ]
  },
  {
   "cell_type": "code",
   "execution_count": 2,
   "id": "966f7dac-79d4-4acc-b752-343de99c136a",
   "metadata": {},
   "outputs": [
    {
     "name": "stdout",
     "output_type": "stream",
     "text": [
      "frozenset({1, 2, 3, 4, 5, 6})\n"
     ]
    }
   ],
   "source": [
    "print(a)"
   ]
  },
  {
   "cell_type": "code",
   "execution_count": 3,
   "id": "6956c363-bca1-4aa3-9abd-3fd5b950d89b",
   "metadata": {},
   "outputs": [],
   "source": [
    "b=frozenset([1,1,1,1,2,2,2,3,3,3,3,4,4,4,5,5,5])"
   ]
  },
  {
   "cell_type": "code",
   "execution_count": 4,
   "id": "15a7560c-412c-4f1a-b665-327626e23dca",
   "metadata": {},
   "outputs": [
    {
     "name": "stdout",
     "output_type": "stream",
     "text": [
      "frozenset({1, 2, 3, 4, 5})\n"
     ]
    }
   ],
   "source": [
    "print(b)"
   ]
  },
  {
   "cell_type": "code",
   "execution_count": 5,
   "id": "f63d04e4-c095-444f-9de7-8f52835f7084",
   "metadata": {},
   "outputs": [],
   "source": [
    "c=frozenset((1,1,1,1,2,2,2,3,3,3,4,4))"
   ]
  },
  {
   "cell_type": "code",
   "execution_count": 6,
   "id": "f099eb43-10c3-4986-8d16-804be22379d5",
   "metadata": {},
   "outputs": [
    {
     "name": "stdout",
     "output_type": "stream",
     "text": [
      "frozenset({1, 2, 3, 4})\n"
     ]
    }
   ],
   "source": [
    "print(c)"
   ]
  },
  {
   "cell_type": "code",
   "execution_count": 8,
   "id": "48976f85-873b-4315-ace2-55359990dc3a",
   "metadata": {},
   "outputs": [],
   "source": [
    "d=frozenset(\"krishna\")"
   ]
  },
  {
   "cell_type": "code",
   "execution_count": 9,
   "id": "90a40470-c8c9-4ea7-a5f8-b58a6b7aff80",
   "metadata": {},
   "outputs": [
    {
     "name": "stdout",
     "output_type": "stream",
     "text": [
      "frozenset({'h', 'r', 'i', 'k', 's', 'a', 'n'})\n"
     ]
    }
   ],
   "source": [
    "print(d)"
   ]
  },
  {
   "cell_type": "code",
   "execution_count": 10,
   "id": "ea853728-065b-4a39-ad76-6c2a1247feec",
   "metadata": {},
   "outputs": [
    {
     "data": {
      "text/plain": [
       "7"
      ]
     },
     "execution_count": 10,
     "metadata": {},
     "output_type": "execute_result"
    }
   ],
   "source": [
    "len(d)"
   ]
  },
  {
   "cell_type": "code",
   "execution_count": 11,
   "id": "4cc485c1-24de-4253-9b48-b473af258209",
   "metadata": {},
   "outputs": [],
   "source": [
    "e=frozenset()"
   ]
  },
  {
   "cell_type": "code",
   "execution_count": 12,
   "id": "da9efbc6-bdd8-4082-bcc5-bead0e91900a",
   "metadata": {},
   "outputs": [
    {
     "name": "stdout",
     "output_type": "stream",
     "text": [
      "frozenset()\n"
     ]
    }
   ],
   "source": [
    "print(e)"
   ]
  },
  {
   "cell_type": "code",
   "execution_count": 13,
   "id": "9654134a-249d-470f-8e9f-52b9ab650466",
   "metadata": {},
   "outputs": [
    {
     "data": {
      "text/plain": [
       "0"
      ]
     },
     "execution_count": 13,
     "metadata": {},
     "output_type": "execute_result"
    }
   ],
   "source": [
    "len(e)"
   ]
  },
  {
   "cell_type": "code",
   "execution_count": 14,
   "id": "798e80b1-265c-4e74-81a7-c50184090fbb",
   "metadata": {},
   "outputs": [
    {
     "ename": "TypeError",
     "evalue": "unhashable type: 'set'",
     "output_type": "error",
     "traceback": [
      "\u001b[1;31m---------------------------------------------------------------------------\u001b[0m",
      "\u001b[1;31mTypeError\u001b[0m                                 Traceback (most recent call last)",
      "Cell \u001b[1;32mIn[14], line 1\u001b[0m\n\u001b[1;32m----> 1\u001b[0m f\u001b[38;5;241m=\u001b[39m\u001b[38;5;28mfrozenset\u001b[39m({\u001b[38;5;241m1\u001b[39m,\u001b[38;5;241m2\u001b[39m,\u001b[38;5;241m3\u001b[39m,\u001b[38;5;241m4\u001b[39m,{\u001b[38;5;241m1\u001b[39m,\u001b[38;5;241m2\u001b[39m,\u001b[38;5;241m3\u001b[39m}})\n",
      "\u001b[1;31mTypeError\u001b[0m: unhashable type: 'set'"
     ]
    }
   ],
   "source": [
    "f=frozenset({1,2,3,4,{1,2,3}})"
   ]
  },
  {
   "cell_type": "code",
   "execution_count": 15,
   "id": "d4490b21-5baa-4398-b497-d128e69720a9",
   "metadata": {},
   "outputs": [],
   "source": [
    "f=frozenset({1,2,3,4,frozenset({1,2,3})})"
   ]
  },
  {
   "cell_type": "code",
   "execution_count": 16,
   "id": "bf06019b-e263-46bb-8cf1-98f50b620431",
   "metadata": {},
   "outputs": [
    {
     "name": "stdout",
     "output_type": "stream",
     "text": [
      "frozenset({1, 2, 3, 4, frozenset({1, 2, 3})})\n"
     ]
    }
   ],
   "source": [
    "print(f)"
   ]
  },
  {
   "cell_type": "code",
   "execution_count": 17,
   "id": "2daedbba-d090-48cd-b92d-88223c1ca0be",
   "metadata": {},
   "outputs": [
    {
     "name": "stdout",
     "output_type": "stream",
     "text": [
      "frozenset({1, 2, 3, 4, frozenset({1, 2, 3})})\n"
     ]
    }
   ],
   "source": [
    "print(f)"
   ]
  },
  {
   "cell_type": "code",
   "execution_count": 18,
   "id": "b92fbe27-58ca-474c-b072-5c3bce98ee87",
   "metadata": {},
   "outputs": [
    {
     "data": {
      "text/plain": [
       "frozenset({1, 2, 3, 4, frozenset({1, 2, 3})})"
      ]
     },
     "execution_count": 18,
     "metadata": {},
     "output_type": "execute_result"
    }
   ],
   "source": [
    "f"
   ]
  },
  {
   "cell_type": "code",
   "execution_count": 20,
   "id": "ebfc7b84-1005-49d1-b74a-67250614b933",
   "metadata": {},
   "outputs": [],
   "source": [
    "g=frozenset({1,2,3,4,5,6})"
   ]
  },
  {
   "cell_type": "code",
   "execution_count": 21,
   "id": "28d1c948-73cb-4f3e-adbd-fdf1c1a8b07b",
   "metadata": {},
   "outputs": [],
   "source": [
    "h=frozenset({4,5,6,7,8,9})"
   ]
  },
  {
   "cell_type": "code",
   "execution_count": 22,
   "id": "5b894e26-83ed-40ad-8635-0beec8d8e987",
   "metadata": {},
   "outputs": [
    {
     "data": {
      "text/plain": [
       "frozenset({1, 2, 3})"
      ]
     },
     "execution_count": 22,
     "metadata": {},
     "output_type": "execute_result"
    }
   ],
   "source": [
    "g-h"
   ]
  },
  {
   "cell_type": "code",
   "execution_count": 23,
   "id": "2c4dbd51-ffdb-4b3a-9c6e-8da61c724830",
   "metadata": {},
   "outputs": [
    {
     "name": "stdout",
     "output_type": "stream",
     "text": [
      "frozenset({1, 2, 3, 4, 5, 6})\n"
     ]
    }
   ],
   "source": [
    "print(g)"
   ]
  },
  {
   "cell_type": "code",
   "execution_count": 24,
   "id": "8a23fe27-2375-4c56-b93b-473bcd39d960",
   "metadata": {},
   "outputs": [
    {
     "name": "stdout",
     "output_type": "stream",
     "text": [
      "frozenset({4, 5, 6, 7, 8, 9})\n"
     ]
    }
   ],
   "source": [
    "print(h)"
   ]
  },
  {
   "cell_type": "code",
   "execution_count": 25,
   "id": "9d86c207-d67a-4df5-a184-b37aef79d15d",
   "metadata": {},
   "outputs": [
    {
     "data": {
      "text/plain": [
       "frozenset({1, 2, 3})"
      ]
     },
     "execution_count": 25,
     "metadata": {},
     "output_type": "execute_result"
    }
   ],
   "source": [
    "g.difference(h)"
   ]
  },
  {
   "cell_type": "code",
   "execution_count": 26,
   "id": "49970246-67a3-405f-9d88-b00bb950b2e9",
   "metadata": {},
   "outputs": [
    {
     "name": "stdout",
     "output_type": "stream",
     "text": [
      "frozenset({1, 2, 3, 4, 5, 6})\n"
     ]
    }
   ],
   "source": [
    "print(g)"
   ]
  },
  {
   "cell_type": "code",
   "execution_count": 27,
   "id": "31f3b5d0-381c-4813-85ff-a057722ff437",
   "metadata": {},
   "outputs": [
    {
     "name": "stdout",
     "output_type": "stream",
     "text": [
      "frozenset({4, 5, 6, 7, 8, 9})\n"
     ]
    }
   ],
   "source": [
    "print(h)"
   ]
  },
  {
   "cell_type": "code",
   "execution_count": 28,
   "id": "4caa83aa-e57e-4b66-be71-ccd7ed1d1093",
   "metadata": {},
   "outputs": [
    {
     "data": {
      "text/plain": [
       "frozenset({4, 5, 6})"
      ]
     },
     "execution_count": 28,
     "metadata": {},
     "output_type": "execute_result"
    }
   ],
   "source": [
    "g.intersection(h)"
   ]
  },
  {
   "cell_type": "code",
   "execution_count": 29,
   "id": "a1fb560a-152f-49cc-95ad-80d98698ef30",
   "metadata": {},
   "outputs": [
    {
     "name": "stdout",
     "output_type": "stream",
     "text": [
      "frozenset({1, 2, 3, 4, 5, 6})\n"
     ]
    }
   ],
   "source": [
    "print(g)"
   ]
  },
  {
   "cell_type": "code",
   "execution_count": 30,
   "id": "9dd526b7-1637-43df-b067-5b64296b5090",
   "metadata": {},
   "outputs": [
    {
     "name": "stdout",
     "output_type": "stream",
     "text": [
      "frozenset({4, 5, 6, 7, 8, 9})\n"
     ]
    }
   ],
   "source": [
    "print(h)"
   ]
  },
  {
   "cell_type": "code",
   "execution_count": 31,
   "id": "a4597d1d-1be8-4f16-9dee-3ff9aeb0d459",
   "metadata": {},
   "outputs": [
    {
     "data": {
      "text/plain": [
       "False"
      ]
     },
     "execution_count": 31,
     "metadata": {},
     "output_type": "execute_result"
    }
   ],
   "source": [
    "g.isdisjoint(h)"
   ]
  },
  {
   "cell_type": "code",
   "execution_count": 32,
   "id": "6acb7dc7-58f6-4a86-9ce6-f588a3f48d1a",
   "metadata": {},
   "outputs": [
    {
     "data": {
      "text/plain": [
       "False"
      ]
     },
     "execution_count": 32,
     "metadata": {},
     "output_type": "execute_result"
    }
   ],
   "source": [
    "g.issubset(h)"
   ]
  },
  {
   "cell_type": "code",
   "execution_count": 33,
   "id": "eca574e6-d492-46f5-a5e2-33c23f8e64cc",
   "metadata": {},
   "outputs": [
    {
     "data": {
      "text/plain": [
       "False"
      ]
     },
     "execution_count": 33,
     "metadata": {},
     "output_type": "execute_result"
    }
   ],
   "source": [
    "g.issuperset(h)"
   ]
  },
  {
   "cell_type": "code",
   "execution_count": 34,
   "id": "1c1307a9-658b-4e11-bf6a-b3bfb1187311",
   "metadata": {},
   "outputs": [
    {
     "data": {
      "text/plain": [
       "True"
      ]
     },
     "execution_count": 34,
     "metadata": {},
     "output_type": "execute_result"
    }
   ],
   "source": [
    "g.issuperset(g)"
   ]
  },
  {
   "cell_type": "code",
   "execution_count": 35,
   "id": "baf6f6fe-0788-4234-98cd-59d86fa62869",
   "metadata": {},
   "outputs": [
    {
     "data": {
      "text/plain": [
       "frozenset({1, 2, 3, 7, 8, 9})"
      ]
     },
     "execution_count": 35,
     "metadata": {},
     "output_type": "execute_result"
    }
   ],
   "source": [
    "g.symmetric_difference(h)"
   ]
  },
  {
   "cell_type": "code",
   "execution_count": 36,
   "id": "df4143a4-6e42-43a9-8b40-b5889afc7a24",
   "metadata": {},
   "outputs": [
    {
     "data": {
      "text/plain": [
       "frozenset({1, 2, 3, 4, 5, 6, 7, 8, 9})"
      ]
     },
     "execution_count": 36,
     "metadata": {},
     "output_type": "execute_result"
    }
   ],
   "source": [
    "g.union(h)"
   ]
  },
  {
   "cell_type": "code",
   "execution_count": 37,
   "id": "bc479b7d-8503-4296-881a-120d8dd29aa0",
   "metadata": {},
   "outputs": [],
   "source": [
    "a={()}"
   ]
  },
  {
   "cell_type": "code",
   "execution_count": 38,
   "id": "55d88087-5c93-40a8-9899-03a7392b4877",
   "metadata": {},
   "outputs": [
    {
     "data": {
      "text/plain": [
       "1"
      ]
     },
     "execution_count": 38,
     "metadata": {},
     "output_type": "execute_result"
    }
   ],
   "source": [
    "len(a)"
   ]
  },
  {
   "cell_type": "code",
   "execution_count": 41,
   "id": "b446df9e-9f0e-4205-a5b4-158f12cc3537",
   "metadata": {},
   "outputs": [
    {
     "ename": "TypeError",
     "evalue": "unhashable type: 'list'",
     "output_type": "error",
     "traceback": [
      "\u001b[1;31m---------------------------------------------------------------------------\u001b[0m",
      "\u001b[1;31mTypeError\u001b[0m                                 Traceback (most recent call last)",
      "Cell \u001b[1;32mIn[41], line 1\u001b[0m\n\u001b[1;32m----> 1\u001b[0m b\u001b[38;5;241m=\u001b[39m{([],)}\n",
      "\u001b[1;31mTypeError\u001b[0m: unhashable type: 'list'"
     ]
    }
   ],
   "source": [
    "b={([],)}"
   ]
  },
  {
   "cell_type": "code",
   "execution_count": 45,
   "id": "92f4dcd3-a05d-4721-b908-b007e40235da",
   "metadata": {},
   "outputs": [
    {
     "ename": "TypeError",
     "evalue": "unhashable type: 'list'",
     "output_type": "error",
     "traceback": [
      "\u001b[1;31m---------------------------------------------------------------------------\u001b[0m",
      "\u001b[1;31mTypeError\u001b[0m                                 Traceback (most recent call last)",
      "Cell \u001b[1;32mIn[45], line 1\u001b[0m\n\u001b[1;32m----> 1\u001b[0m z\u001b[38;5;241m=\u001b[39m{\u001b[38;5;241m1\u001b[39m,\u001b[38;5;241m2\u001b[39m,\u001b[38;5;241m3\u001b[39m,\u001b[38;5;241m4\u001b[39m,(\u001b[38;5;241m1\u001b[39m,\u001b[38;5;241m2\u001b[39m,\u001b[38;5;241m3\u001b[39m,\u001b[38;5;241m4\u001b[39m,[\u001b[38;5;241m4\u001b[39m,\u001b[38;5;241m5\u001b[39m,\u001b[38;5;241m6\u001b[39m,\u001b[38;5;241m7\u001b[39m])}\n",
      "\u001b[1;31mTypeError\u001b[0m: unhashable type: 'list'"
     ]
    }
   ],
   "source": [
    "z={1,2,3,4,(1,2,3,4,[4,5,6,7])}"
   ]
  },
  {
   "cell_type": "code",
   "execution_count": 46,
   "id": "8544467d-65bd-44c3-853e-8ad738b27123",
   "metadata": {},
   "outputs": [
    {
     "ename": "NameError",
     "evalue": "name 'z' is not defined",
     "output_type": "error",
     "traceback": [
      "\u001b[1;31m---------------------------------------------------------------------------\u001b[0m",
      "\u001b[1;31mNameError\u001b[0m                                 Traceback (most recent call last)",
      "Cell \u001b[1;32mIn[46], line 1\u001b[0m\n\u001b[1;32m----> 1\u001b[0m \u001b[38;5;28mlen\u001b[39m(\u001b[43mz\u001b[49m)\n",
      "\u001b[1;31mNameError\u001b[0m: name 'z' is not defined"
     ]
    }
   ],
   "source": [
    "len(z)"
   ]
  },
  {
   "cell_type": "code",
   "execution_count": 47,
   "id": "6233d528-060a-41aa-8cc0-e2fbdd701c24",
   "metadata": {},
   "outputs": [
    {
     "ename": "TypeError",
     "evalue": "unhashable type: 'list'",
     "output_type": "error",
     "traceback": [
      "\u001b[1;31m---------------------------------------------------------------------------\u001b[0m",
      "\u001b[1;31mTypeError\u001b[0m                                 Traceback (most recent call last)",
      "Cell \u001b[1;32mIn[47], line 1\u001b[0m\n\u001b[1;32m----> 1\u001b[0m b\u001b[38;5;241m=\u001b[39m[{\u001b[38;5;241m1\u001b[39m,[\u001b[38;5;241m3\u001b[39m,\u001b[38;5;241m4\u001b[39m,\u001b[38;5;241m5\u001b[39m]}]\n",
      "\u001b[1;31mTypeError\u001b[0m: unhashable type: 'list'"
     ]
    }
   ],
   "source": [
    "b=[{1,[3,4,5]}]"
   ]
  },
  {
   "cell_type": "code",
   "execution_count": 48,
   "id": "5405024d-cd7a-412d-b167-f795746339ec",
   "metadata": {},
   "outputs": [],
   "source": [
    "a=2e10"
   ]
  },
  {
   "cell_type": "code",
   "execution_count": 49,
   "id": "545a0141-db22-4bcf-86ae-5f911ed72c25",
   "metadata": {},
   "outputs": [
    {
     "name": "stdout",
     "output_type": "stream",
     "text": [
      "20000000000.0\n"
     ]
    }
   ],
   "source": [
    "print(a)"
   ]
  },
  {
   "cell_type": "code",
   "execution_count": 50,
   "id": "0c379318-252c-484b-bb3b-0881112f3eda",
   "metadata": {},
   "outputs": [
    {
     "data": {
      "text/plain": [
       "20000000000.0"
      ]
     },
     "execution_count": 50,
     "metadata": {},
     "output_type": "execute_result"
    }
   ],
   "source": [
    "2*10.0**10"
   ]
  },
  {
   "cell_type": "code",
   "execution_count": null,
   "id": "4a87b11d-374e-44cf-ab9c-f4a883a5d02e",
   "metadata": {},
   "outputs": [],
   "source": []
  }
 ],
 "metadata": {
  "kernelspec": {
   "display_name": "Python 3 (ipykernel)",
   "language": "python",
   "name": "python3"
  },
  "language_info": {
   "codemirror_mode": {
    "name": "ipython",
    "version": 3
   },
   "file_extension": ".py",
   "mimetype": "text/x-python",
   "name": "python",
   "nbconvert_exporter": "python",
   "pygments_lexer": "ipython3",
   "version": "3.11.4"
  }
 },
 "nbformat": 4,
 "nbformat_minor": 5
}
