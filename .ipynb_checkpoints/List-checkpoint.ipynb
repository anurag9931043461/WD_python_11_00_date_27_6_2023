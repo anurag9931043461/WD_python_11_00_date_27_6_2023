{
 "cells": [
  {
   "cell_type": "markdown",
   "id": "abe5da4d-fe38-41a1-8504-676f0b236080",
   "metadata": {},
   "source": [
    "# List\n",
    "\n",
    "> List constructor is list()\n",
    "\n",
    "> List literal is []\n",
    "\n",
    "> List is a set of sequence of elements(datatypes)\n",
    "\n",
    "> List is mutable(unhashable)\n",
    "\n",
    "> List support indexing \n",
    "\n",
    "> List support slicing\n",
    "\n",
    "> List support concatination\n",
    "\n",
    "> List support nested list\n",
    "\n",
    "> List methods."
   ]
  },
  {
   "cell_type": "code",
   "execution_count": 1,
   "id": "75ae597d-153b-4e46-addd-208992ca3c22",
   "metadata": {},
   "outputs": [],
   "source": [
    "a=10\n",
    "b=10.0\n",
    "c=\"10\""
   ]
  },
  {
   "cell_type": "code",
   "execution_count": 2,
   "id": "f1c0d698-f1d0-4916-9879-2fa46b78655a",
   "metadata": {},
   "outputs": [],
   "source": [
    "e=[a,b,c]"
   ]
  },
  {
   "cell_type": "code",
   "execution_count": 3,
   "id": "37a25e79-ae9d-4c90-a2db-d56ba2de6770",
   "metadata": {},
   "outputs": [
    {
     "name": "stdout",
     "output_type": "stream",
     "text": [
      "[10, 10.0, '10']\n"
     ]
    }
   ],
   "source": [
    "print(e)"
   ]
  },
  {
   "cell_type": "code",
   "execution_count": 4,
   "id": "840a5248-b6cb-42e5-a1b4-527cbf9f27b7",
   "metadata": {},
   "outputs": [],
   "source": [
    "f=[10,10.0,\"10\"]"
   ]
  },
  {
   "cell_type": "code",
   "execution_count": 5,
   "id": "595c6c9c-cbbd-402a-b076-81ea93c48df6",
   "metadata": {},
   "outputs": [
    {
     "data": {
      "text/plain": [
       "[10, 10.0, '10']"
      ]
     },
     "execution_count": 5,
     "metadata": {},
     "output_type": "execute_result"
    }
   ],
   "source": [
    "f"
   ]
  },
  {
   "cell_type": "code",
   "execution_count": 7,
   "id": "502fadc1-5cf6-4e6b-bda6-c7488dbb69a8",
   "metadata": {},
   "outputs": [
    {
     "data": {
      "text/plain": [
       "10"
      ]
     },
     "execution_count": 7,
     "metadata": {},
     "output_type": "execute_result"
    }
   ],
   "source": [
    "g=f[0]\n",
    "g"
   ]
  },
  {
   "cell_type": "code",
   "execution_count": 8,
   "id": "3291181e-b722-4bde-96c4-021f3e5798d1",
   "metadata": {},
   "outputs": [
    {
     "data": {
      "text/plain": [
       "int"
      ]
     },
     "execution_count": 8,
     "metadata": {},
     "output_type": "execute_result"
    }
   ],
   "source": [
    "type(g)"
   ]
  },
  {
   "cell_type": "code",
   "execution_count": 9,
   "id": "03b640b2-8117-437b-9dab-c5f8ef023007",
   "metadata": {},
   "outputs": [
    {
     "name": "stdout",
     "output_type": "stream",
     "text": [
      "[10.0, '10']\n"
     ]
    }
   ],
   "source": [
    "print(f[1:3:1])"
   ]
  },
  {
   "cell_type": "code",
   "execution_count": 10,
   "id": "b7c3f0ec-f045-4f15-98bb-5022af265f9e",
   "metadata": {},
   "outputs": [],
   "source": [
    "a=[2,3,4,1,32,4]"
   ]
  },
  {
   "cell_type": "code",
   "execution_count": 11,
   "id": "184601a3-d813-4291-b740-41efc82eb6fd",
   "metadata": {},
   "outputs": [
    {
     "name": "stdout",
     "output_type": "stream",
     "text": [
      "[3, 4, 1]\n"
     ]
    }
   ],
   "source": [
    "print(a[1:4:1])"
   ]
  },
  {
   "cell_type": "code",
   "execution_count": 12,
   "id": "2af3bea2-4bc6-4edf-81ef-0f4804d5d076",
   "metadata": {},
   "outputs": [
    {
     "name": "stdout",
     "output_type": "stream",
     "text": [
      "[2, 3, 4, 1, 32, 4]\n"
     ]
    }
   ],
   "source": [
    "print(a)"
   ]
  },
  {
   "cell_type": "code",
   "execution_count": 13,
   "id": "8c4dc263-9be1-4cdb-a344-4f4d8efa583a",
   "metadata": {},
   "outputs": [
    {
     "data": {
      "text/plain": [
       "[2, 3, 4, 1, 32]"
      ]
     },
     "execution_count": 13,
     "metadata": {},
     "output_type": "execute_result"
    }
   ],
   "source": [
    "a[0:5:1]"
   ]
  },
  {
   "cell_type": "code",
   "execution_count": 14,
   "id": "0f0857b0-763c-42d0-bc31-649bf3cdaaaa",
   "metadata": {},
   "outputs": [
    {
     "data": {
      "text/plain": [
       "[2, 4, 32]"
      ]
     },
     "execution_count": 14,
     "metadata": {},
     "output_type": "execute_result"
    }
   ],
   "source": [
    "a[0:5:2]"
   ]
  },
  {
   "cell_type": "code",
   "execution_count": 17,
   "id": "2912b6ff-7dde-4d3c-bda7-ea31f5a17468",
   "metadata": {},
   "outputs": [
    {
     "data": {
      "text/plain": [
       "[2, 3, 4]"
      ]
     },
     "execution_count": 17,
     "metadata": {},
     "output_type": "execute_result"
    }
   ],
   "source": [
    "a[0:3:1]"
   ]
  },
  {
   "cell_type": "code",
   "execution_count": 18,
   "id": "deb66a9a-c060-4f0b-9b0a-875679773b7a",
   "metadata": {},
   "outputs": [
    {
     "data": {
      "text/plain": [
       "[2, 3, 4, 1]"
      ]
     },
     "execution_count": 18,
     "metadata": {},
     "output_type": "execute_result"
    }
   ],
   "source": [
    "a[0:4:1]"
   ]
  },
  {
   "cell_type": "code",
   "execution_count": 19,
   "id": "e90ebbc4-936f-44f8-aa74-7b12d29abc59",
   "metadata": {},
   "outputs": [
    {
     "data": {
      "text/plain": [
       "[2, 4]"
      ]
     },
     "execution_count": 19,
     "metadata": {},
     "output_type": "execute_result"
    }
   ],
   "source": [
    "a[0:4:2]"
   ]
  },
  {
   "cell_type": "code",
   "execution_count": 20,
   "id": "83debb7e-93f2-4ba0-aef5-933f93f1e020",
   "metadata": {},
   "outputs": [
    {
     "name": "stdout",
     "output_type": "stream",
     "text": [
      "[2, 3, 4, 1]\n"
     ]
    }
   ],
   "source": [
    "print(a[0:4:1])"
   ]
  },
  {
   "cell_type": "code",
   "execution_count": 21,
   "id": "41322ead-1c57-4ef0-92d4-7ae7ae32ae2d",
   "metadata": {},
   "outputs": [
    {
     "name": "stdout",
     "output_type": "stream",
     "text": [
      "[2, 3, 4, 1, 32, 4]\n"
     ]
    }
   ],
   "source": [
    "print(a[0:6:1])"
   ]
  },
  {
   "cell_type": "code",
   "execution_count": 22,
   "id": "56409f0a-9dee-45b6-927d-0bb2b5b93ef2",
   "metadata": {},
   "outputs": [
    {
     "name": "stdout",
     "output_type": "stream",
     "text": [
      "[2, 3, 4, 1, 32, 4]\n"
     ]
    }
   ],
   "source": [
    "print(a[0::1])"
   ]
  },
  {
   "cell_type": "code",
   "execution_count": 23,
   "id": "a4096a5f-c35c-4a25-bf62-6e3d7718294e",
   "metadata": {},
   "outputs": [
    {
     "name": "stdout",
     "output_type": "stream",
     "text": [
      "[2, 3, 4, 1, 32, 4]\n"
     ]
    }
   ],
   "source": [
    "print(a[::1])"
   ]
  },
  {
   "cell_type": "code",
   "execution_count": 24,
   "id": "e2e31419-d36d-4cd8-a749-ede12b1f5f0f",
   "metadata": {},
   "outputs": [
    {
     "name": "stdout",
     "output_type": "stream",
     "text": [
      "[2, 3, 4, 1, 32, 4]\n"
     ]
    }
   ],
   "source": [
    "print(a[::])"
   ]
  },
  {
   "cell_type": "code",
   "execution_count": 25,
   "id": "76f0a140-7e2e-443f-ac60-e99626348b9d",
   "metadata": {},
   "outputs": [
    {
     "name": "stdout",
     "output_type": "stream",
     "text": [
      "[2, 3, 4, 1, 32, 4]\n"
     ]
    }
   ],
   "source": [
    "print(a[:])"
   ]
  },
  {
   "cell_type": "code",
   "execution_count": null,
   "id": "28e34df1-ef0c-45f4-b052-87f3d8c66385",
   "metadata": {},
   "outputs": [],
   "source": []
  }
 ],
 "metadata": {
  "kernelspec": {
   "display_name": "Python 3 (ipykernel)",
   "language": "python",
   "name": "python3"
  },
  "language_info": {
   "codemirror_mode": {
    "name": "ipython",
    "version": 3
   },
   "file_extension": ".py",
   "mimetype": "text/x-python",
   "name": "python",
   "nbconvert_exporter": "python",
   "pygments_lexer": "ipython3",
   "version": "3.10.9"
  }
 },
 "nbformat": 4,
 "nbformat_minor": 5
}
