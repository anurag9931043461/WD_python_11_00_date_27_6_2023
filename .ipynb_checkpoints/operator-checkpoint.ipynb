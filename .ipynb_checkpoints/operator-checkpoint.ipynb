{
 "cells": [
  {
   "cell_type": "markdown",
   "id": "3fc04507-8d0c-4cec-9599-be260addd957",
   "metadata": {},
   "source": [
    "# operator\n",
    "\n",
    "> Arithmetic operators\n",
    "\n",
    "> Assignment operators\n",
    "\n",
    "> Comparison operators\n",
    "\n",
    "> Logical operators\n",
    "\n",
    "> Identity operators\n",
    "\n",
    "> Membership operators\n",
    "\n",
    "> Bitwise operators"
   ]
  },
  {
   "cell_type": "markdown",
   "id": "b90d9c68-a482-409c-aa7c-b199ce2dac5c",
   "metadata": {},
   "source": [
    "# Arithmetic operators\n",
    "\n",
    "+,-,/,//,%, * ,* *"
   ]
  },
  {
   "cell_type": "code",
   "execution_count": 1,
   "id": "bb07a9ed-89be-43fc-952e-a0c8b8a72d2a",
   "metadata": {},
   "outputs": [],
   "source": [
    "a=10\n",
    "b=20"
   ]
  },
  {
   "cell_type": "code",
   "execution_count": 2,
   "id": "fedfa9e5-c275-4890-85b4-f1839044b001",
   "metadata": {},
   "outputs": [
    {
     "name": "stdout",
     "output_type": "stream",
     "text": [
      "30\n"
     ]
    }
   ],
   "source": [
    "print(a+b)"
   ]
  },
  {
   "cell_type": "code",
   "execution_count": 3,
   "id": "36a3364e-801f-4f05-b179-e3899e5c1ffa",
   "metadata": {},
   "outputs": [
    {
     "name": "stdout",
     "output_type": "stream",
     "text": [
      "-10\n"
     ]
    }
   ],
   "source": [
    "print(a-b)"
   ]
  },
  {
   "cell_type": "code",
   "execution_count": 4,
   "id": "32c399a3-cc75-4c18-829a-c14eed3a2072",
   "metadata": {},
   "outputs": [
    {
     "name": "stdout",
     "output_type": "stream",
     "text": [
      "200\n"
     ]
    }
   ],
   "source": [
    "print(a*b)"
   ]
  },
  {
   "cell_type": "code",
   "execution_count": 5,
   "id": "7c56e17e-79b8-4b85-a603-e54813c0b642",
   "metadata": {},
   "outputs": [
    {
     "name": "stdout",
     "output_type": "stream",
     "text": [
      "100000000000000000000\n"
     ]
    }
   ],
   "source": [
    "print(a**b)"
   ]
  },
  {
   "cell_type": "code",
   "execution_count": 6,
   "id": "b6ada1ce-de9f-448f-84fb-e03453217e3b",
   "metadata": {},
   "outputs": [
    {
     "name": "stdout",
     "output_type": "stream",
     "text": [
      "2.0\n"
     ]
    }
   ],
   "source": [
    "print(b/a)"
   ]
  },
  {
   "cell_type": "code",
   "execution_count": 7,
   "id": "ab62b9c8-2612-48c2-bc71-0862ea02a905",
   "metadata": {},
   "outputs": [
    {
     "data": {
      "text/plain": [
       "3.3333333333333335"
      ]
     },
     "execution_count": 7,
     "metadata": {},
     "output_type": "execute_result"
    }
   ],
   "source": [
    "10/3"
   ]
  },
  {
   "cell_type": "code",
   "execution_count": 8,
   "id": "2d169906-e64d-4ac0-8673-0b1ddb9cf3e9",
   "metadata": {},
   "outputs": [
    {
     "data": {
      "text/plain": [
       "1"
      ]
     },
     "execution_count": 8,
     "metadata": {},
     "output_type": "execute_result"
    }
   ],
   "source": [
    "10%3"
   ]
  },
  {
   "cell_type": "code",
   "execution_count": 9,
   "id": "32d59877-3a73-4611-b73d-673488cbbfe1",
   "metadata": {},
   "outputs": [
    {
     "data": {
      "text/plain": [
       "3"
      ]
     },
     "execution_count": 9,
     "metadata": {},
     "output_type": "execute_result"
    }
   ],
   "source": [
    "10//3"
   ]
  },
  {
   "cell_type": "code",
   "execution_count": 10,
   "id": "f0fa9db0-f59b-4ea9-aeef-17064712c8e4",
   "metadata": {},
   "outputs": [
    {
     "data": {
      "text/plain": [
       "3.0"
      ]
     },
     "execution_count": 10,
     "metadata": {},
     "output_type": "execute_result"
    }
   ],
   "source": [
    "10//3.0"
   ]
  },
  {
   "cell_type": "markdown",
   "id": "4ae764b2-5e68-4f6b-8596-88965162594d",
   "metadata": {},
   "source": [
    "# Assignment operators\n",
    "\n",
    "=,+=,-=,/=,*=,**=,//=,%="
   ]
  },
  {
   "cell_type": "code",
   "execution_count": 13,
   "id": "6f237ee3-f4d3-4357-8b2a-7442930ad3df",
   "metadata": {},
   "outputs": [],
   "source": [
    "divy=10"
   ]
  },
  {
   "cell_type": "code",
   "execution_count": 14,
   "id": "135d0e17-62b7-4062-88f0-191cce2b4d6d",
   "metadata": {},
   "outputs": [
    {
     "ename": "SyntaxError",
     "evalue": "invalid syntax (4099706594.py, line 1)",
     "output_type": "error",
     "traceback": [
      "\u001b[1;36m  Cell \u001b[1;32mIn[14], line 1\u001b[1;36m\u001b[0m\n\u001b[1;33m    divy++\u001b[0m\n\u001b[1;37m          ^\u001b[0m\n\u001b[1;31mSyntaxError\u001b[0m\u001b[1;31m:\u001b[0m invalid syntax\n"
     ]
    }
   ],
   "source": [
    "divy++"
   ]
  },
  {
   "cell_type": "code",
   "execution_count": 15,
   "id": "1368c7d9-b7ee-4b48-a477-d36244377e8e",
   "metadata": {},
   "outputs": [],
   "source": [
    "divy=divy+1"
   ]
  },
  {
   "cell_type": "code",
   "execution_count": 16,
   "id": "61a4138b-eebe-46de-a42b-b20c949e4552",
   "metadata": {},
   "outputs": [
    {
     "data": {
      "text/plain": [
       "11"
      ]
     },
     "execution_count": 16,
     "metadata": {},
     "output_type": "execute_result"
    }
   ],
   "source": [
    "divy"
   ]
  },
  {
   "cell_type": "code",
   "execution_count": 18,
   "id": "32be98b5-c792-4158-aad7-60553cfe045b",
   "metadata": {},
   "outputs": [],
   "source": [
    "krishna=10"
   ]
  },
  {
   "cell_type": "code",
   "execution_count": 23,
   "id": "6d681582-796f-4c04-b6bc-20026ec2b5d2",
   "metadata": {},
   "outputs": [],
   "source": [
    "krishna+=1  # krishna=krishna+1"
   ]
  },
  {
   "cell_type": "code",
   "execution_count": 24,
   "id": "f07f6ebb-74b2-4b82-aad7-dc41215526a1",
   "metadata": {},
   "outputs": [
    {
     "data": {
      "text/plain": [
       "13"
      ]
     },
     "execution_count": 24,
     "metadata": {},
     "output_type": "execute_result"
    }
   ],
   "source": [
    "krishna"
   ]
  },
  {
   "cell_type": "code",
   "execution_count": 27,
   "id": "6a1fb03b-42d7-4131-aed0-957c777322fb",
   "metadata": {},
   "outputs": [],
   "source": [
    "krishna+=10"
   ]
  },
  {
   "cell_type": "code",
   "execution_count": 28,
   "id": "9fc50d25-d5f4-4d97-ab36-fc3d7d49a026",
   "metadata": {},
   "outputs": [
    {
     "data": {
      "text/plain": [
       "25"
      ]
     },
     "execution_count": 28,
     "metadata": {},
     "output_type": "execute_result"
    }
   ],
   "source": [
    "krishna"
   ]
  },
  {
   "cell_type": "code",
   "execution_count": 30,
   "id": "461f0bff-482f-442a-8f6a-c100ffb0b7d4",
   "metadata": {},
   "outputs": [],
   "source": [
    "krishna-=10    #krishna=krishna-10"
   ]
  },
  {
   "cell_type": "code",
   "execution_count": 31,
   "id": "699a6297-7751-406d-9b96-0617f33b0d5e",
   "metadata": {},
   "outputs": [
    {
     "data": {
      "text/plain": [
       "15"
      ]
     },
     "execution_count": 31,
     "metadata": {},
     "output_type": "execute_result"
    }
   ],
   "source": [
    "krishna"
   ]
  },
  {
   "cell_type": "code",
   "execution_count": 32,
   "id": "a47f7db2-e33c-4f71-9535-b965aafdde63",
   "metadata": {},
   "outputs": [],
   "source": [
    "krishna*=2       #krishna=krishna*2"
   ]
  },
  {
   "cell_type": "code",
   "execution_count": 33,
   "id": "7c0128d0-452b-4e4c-b958-b1bad58eec3d",
   "metadata": {},
   "outputs": [
    {
     "data": {
      "text/plain": [
       "30"
      ]
     },
     "execution_count": 33,
     "metadata": {},
     "output_type": "execute_result"
    }
   ],
   "source": [
    "krishna"
   ]
  },
  {
   "cell_type": "code",
   "execution_count": 34,
   "id": "cfea4665-61f9-4ac7-8543-7637ca76904f",
   "metadata": {},
   "outputs": [],
   "source": [
    "krishna/=3     #krishna=krishna/3"
   ]
  },
  {
   "cell_type": "code",
   "execution_count": 35,
   "id": "a6e350c3-a9f5-4754-b84f-dbcaf4c4c3a9",
   "metadata": {},
   "outputs": [
    {
     "data": {
      "text/plain": [
       "10.0"
      ]
     },
     "execution_count": 35,
     "metadata": {},
     "output_type": "execute_result"
    }
   ],
   "source": [
    "krishna"
   ]
  },
  {
   "cell_type": "code",
   "execution_count": 36,
   "id": "5403fdee-989c-4950-83b0-0d6462964da3",
   "metadata": {},
   "outputs": [],
   "source": [
    "krishna//=3    #krishna=krishna//3"
   ]
  },
  {
   "cell_type": "code",
   "execution_count": 37,
   "id": "92b18818-5578-45d5-9fd4-a9d179141dae",
   "metadata": {},
   "outputs": [
    {
     "data": {
      "text/plain": [
       "3.0"
      ]
     },
     "execution_count": 37,
     "metadata": {},
     "output_type": "execute_result"
    }
   ],
   "source": [
    "krishna"
   ]
  },
  {
   "cell_type": "code",
   "execution_count": 38,
   "id": "06094002-764e-44b1-a906-0c8add5a0279",
   "metadata": {},
   "outputs": [],
   "source": [
    "krishna=int(krishna)"
   ]
  },
  {
   "cell_type": "code",
   "execution_count": 39,
   "id": "2bd9d054-f71e-441c-9a3a-1a5e5aab92ec",
   "metadata": {},
   "outputs": [
    {
     "data": {
      "text/plain": [
       "3"
      ]
     },
     "execution_count": 39,
     "metadata": {},
     "output_type": "execute_result"
    }
   ],
   "source": [
    "krishna"
   ]
  },
  {
   "cell_type": "code",
   "execution_count": 40,
   "id": "76b62ba2-e098-4894-a979-171d52fdd4b3",
   "metadata": {},
   "outputs": [],
   "source": [
    "krishna%=2    #krishna=krishna%2"
   ]
  },
  {
   "cell_type": "code",
   "execution_count": 41,
   "id": "d35ef309-811d-4da2-af8e-5ce01d8a3597",
   "metadata": {},
   "outputs": [
    {
     "data": {
      "text/plain": [
       "1"
      ]
     },
     "execution_count": 41,
     "metadata": {},
     "output_type": "execute_result"
    }
   ],
   "source": [
    "krishna"
   ]
  },
  {
   "cell_type": "code",
   "execution_count": 44,
   "id": "fd905ae7-b044-4243-a8eb-35d6347569d2",
   "metadata": {},
   "outputs": [],
   "source": [
    "krishna**=1000        #krishna=krishna**1000"
   ]
  },
  {
   "cell_type": "code",
   "execution_count": 45,
   "id": "7647740c-3aaf-4d58-83ef-7ebdff7110f7",
   "metadata": {},
   "outputs": [
    {
     "data": {
      "text/plain": [
       "1"
      ]
     },
     "execution_count": 45,
     "metadata": {},
     "output_type": "execute_result"
    }
   ],
   "source": [
    "krishna"
   ]
  },
  {
   "cell_type": "markdown",
   "id": "f2780f69-63e2-4b84-a669-ce5304207e6e",
   "metadata": {},
   "source": [
    "# Comparison operators\n",
    "### > , <,>=,<=,==,!="
   ]
  },
  {
   "cell_type": "code",
   "execution_count": 46,
   "id": "a655d0ad-097d-4939-a09d-896e76a95194",
   "metadata": {},
   "outputs": [
    {
     "data": {
      "text/plain": [
       "False"
      ]
     },
     "execution_count": 46,
     "metadata": {},
     "output_type": "execute_result"
    }
   ],
   "source": [
    "10<10"
   ]
  },
  {
   "cell_type": "code",
   "execution_count": 47,
   "id": "446560c5-0f75-4734-9f53-b6ae79253cc6",
   "metadata": {},
   "outputs": [
    {
     "data": {
      "text/plain": [
       "True"
      ]
     },
     "execution_count": 47,
     "metadata": {},
     "output_type": "execute_result"
    }
   ],
   "source": [
    "10<=10"
   ]
  },
  {
   "cell_type": "code",
   "execution_count": 48,
   "id": "f4b8021d-4622-4137-9519-9ab2c0272495",
   "metadata": {},
   "outputs": [
    {
     "data": {
      "text/plain": [
       "False"
      ]
     },
     "execution_count": 48,
     "metadata": {},
     "output_type": "execute_result"
    }
   ],
   "source": [
    "10>10"
   ]
  },
  {
   "cell_type": "code",
   "execution_count": 49,
   "id": "01ec5c36-21a2-472e-b279-6400961f410f",
   "metadata": {},
   "outputs": [
    {
     "data": {
      "text/plain": [
       "True"
      ]
     },
     "execution_count": 49,
     "metadata": {},
     "output_type": "execute_result"
    }
   ],
   "source": [
    "10>=10"
   ]
  },
  {
   "cell_type": "code",
   "execution_count": 50,
   "id": "be979ec0-3d89-4eea-a623-cec05891a827",
   "metadata": {},
   "outputs": [
    {
     "data": {
      "text/plain": [
       "True"
      ]
     },
     "execution_count": 50,
     "metadata": {},
     "output_type": "execute_result"
    }
   ],
   "source": [
    "10==10"
   ]
  },
  {
   "cell_type": "code",
   "execution_count": 51,
   "id": "03d82ac7-cd52-4feb-bd5e-839440d58a51",
   "metadata": {},
   "outputs": [
    {
     "data": {
      "text/plain": [
       "False"
      ]
     },
     "execution_count": 51,
     "metadata": {},
     "output_type": "execute_result"
    }
   ],
   "source": [
    "10!=10"
   ]
  },
  {
   "cell_type": "markdown",
   "id": "1d8159a5-96d6-44b8-925e-0d13bbc5fafb",
   "metadata": {},
   "source": [
    "# Logical operators\n",
    "\n",
    "and , or, not"
   ]
  },
  {
   "cell_type": "code",
   "execution_count": 59,
   "id": "a78a5c60-9895-46d5-ba73-db6fd167cac2",
   "metadata": {},
   "outputs": [
    {
     "data": {
      "text/plain": [
       "False"
      ]
     },
     "execution_count": 59,
     "metadata": {},
     "output_type": "execute_result"
    }
   ],
   "source": [
    "10==10 and 20!=20"
   ]
  },
  {
   "cell_type": "code",
   "execution_count": 60,
   "id": "e280a840-41db-459b-842f-244841cea64b",
   "metadata": {},
   "outputs": [
    {
     "data": {
      "text/plain": [
       "True"
      ]
     },
     "execution_count": 60,
     "metadata": {},
     "output_type": "execute_result"
    }
   ],
   "source": [
    "10==10 or 20!=20"
   ]
  },
  {
   "cell_type": "code",
   "execution_count": 61,
   "id": "b68ff587-56d2-4585-a3fb-782752ce97f9",
   "metadata": {},
   "outputs": [
    {
     "data": {
      "text/plain": [
       "True"
      ]
     },
     "execution_count": 61,
     "metadata": {},
     "output_type": "execute_result"
    }
   ],
   "source": [
    "10==10 and 20==20 or 20!=20"
   ]
  },
  {
   "cell_type": "code",
   "execution_count": 62,
   "id": "6490ba66-c826-459d-8a0c-1dcc68ba4a13",
   "metadata": {},
   "outputs": [
    {
     "data": {
      "text/plain": [
       "True"
      ]
     },
     "execution_count": 62,
     "metadata": {},
     "output_type": "execute_result"
    }
   ],
   "source": [
    "10==10 or 20==20"
   ]
  },
  {
   "cell_type": "code",
   "execution_count": 63,
   "id": "fcc46c98-a4e8-4fa8-86b6-4b8dc97bb407",
   "metadata": {},
   "outputs": [
    {
     "data": {
      "text/plain": [
       "True"
      ]
     },
     "execution_count": 63,
     "metadata": {},
     "output_type": "execute_result"
    }
   ],
   "source": [
    "not 10!=10 and 20==20 or 20!=20"
   ]
  },
  {
   "cell_type": "code",
   "execution_count": 64,
   "id": "ce8a6462-fecb-4af8-a4be-763ebaee26c7",
   "metadata": {},
   "outputs": [
    {
     "data": {
      "text/plain": [
       "False"
      ]
     },
     "execution_count": 64,
     "metadata": {},
     "output_type": "execute_result"
    }
   ],
   "source": [
    "not 10!=10 and 20!=20 or 20!=20"
   ]
  },
  {
   "cell_type": "code",
   "execution_count": 65,
   "id": "c787112c-ce91-47c5-91fc-779779bf5d25",
   "metadata": {},
   "outputs": [
    {
     "data": {
      "text/plain": [
       "False"
      ]
     },
     "execution_count": 65,
     "metadata": {},
     "output_type": "execute_result"
    }
   ],
   "source": [
    "(10!=10 and 20!=20 or 20!=20)"
   ]
  },
  {
   "cell_type": "code",
   "execution_count": 66,
   "id": "7aabb8f7-9008-4b3d-aab7-77c327ce78e4",
   "metadata": {},
   "outputs": [
    {
     "data": {
      "text/plain": [
       "True"
      ]
     },
     "execution_count": 66,
     "metadata": {},
     "output_type": "execute_result"
    }
   ],
   "source": [
    "not(10!=10 and 20!=20 or 20!=20)"
   ]
  },
  {
   "cell_type": "markdown",
   "id": "242e3c49-ee54-4213-99a2-2847096aa120",
   "metadata": {},
   "source": [
    "# Identity operators\n",
    "\n",
    "is, is not"
   ]
  },
  {
   "cell_type": "code",
   "execution_count": 1,
   "id": "97a9ef10-ed15-4ad1-916f-0289c439d96f",
   "metadata": {},
   "outputs": [
    {
     "name": "stderr",
     "output_type": "stream",
     "text": [
      "<>:1: SyntaxWarning: \"is\" with a literal. Did you mean \"==\"?\n",
      "<>:1: SyntaxWarning: \"is\" with a literal. Did you mean \"==\"?\n",
      "C:\\Users\\Ducat\\AppData\\Local\\Temp\\ipykernel_7932\\3938569512.py:1: SyntaxWarning: \"is\" with a literal. Did you mean \"==\"?\n",
      "  10 is 10\n"
     ]
    },
    {
     "data": {
      "text/plain": [
       "True"
      ]
     },
     "execution_count": 1,
     "metadata": {},
     "output_type": "execute_result"
    }
   ],
   "source": [
    "10 is 10"
   ]
  },
  {
   "cell_type": "code",
   "execution_count": 2,
   "id": "032ae123-fa4f-4658-840d-6d3d7b1d8452",
   "metadata": {},
   "outputs": [
    {
     "data": {
      "text/plain": [
       "True"
      ]
     },
     "execution_count": 2,
     "metadata": {},
     "output_type": "execute_result"
    }
   ],
   "source": [
    "10==10"
   ]
  },
  {
   "cell_type": "code",
   "execution_count": 3,
   "id": "5536d1d2-aaba-4dcf-88ac-af2a85ed9260",
   "metadata": {},
   "outputs": [
    {
     "name": "stderr",
     "output_type": "stream",
     "text": [
      "<>:1: SyntaxWarning: \"is not\" with a literal. Did you mean \"!=\"?\n",
      "<>:1: SyntaxWarning: \"is not\" with a literal. Did you mean \"!=\"?\n",
      "C:\\Users\\Ducat\\AppData\\Local\\Temp\\ipykernel_7932\\3919734364.py:1: SyntaxWarning: \"is not\" with a literal. Did you mean \"!=\"?\n",
      "  10 is not 10\n"
     ]
    },
    {
     "data": {
      "text/plain": [
       "False"
      ]
     },
     "execution_count": 3,
     "metadata": {},
     "output_type": "execute_result"
    }
   ],
   "source": [
    "10 is not 10"
   ]
  },
  {
   "cell_type": "code",
   "execution_count": 4,
   "id": "623906e7-bc9d-4de7-b22c-ed34886b2537",
   "metadata": {},
   "outputs": [
    {
     "data": {
      "text/plain": [
       "False"
      ]
     },
     "execution_count": 4,
     "metadata": {},
     "output_type": "execute_result"
    }
   ],
   "source": [
    "10!=10"
   ]
  },
  {
   "cell_type": "markdown",
   "id": "64b7d279-4747-4f66-ae55-1f3da40003f6",
   "metadata": {},
   "source": [
    "# Membership operators\n",
    "in, not in "
   ]
  },
  {
   "cell_type": "code",
   "execution_count": 5,
   "id": "5538f957-3abc-4869-97ef-ab29f1558b17",
   "metadata": {},
   "outputs": [
    {
     "data": {
      "text/plain": [
       "True"
      ]
     },
     "execution_count": 5,
     "metadata": {},
     "output_type": "execute_result"
    }
   ],
   "source": [
    "\"krishna\" in (\"krishna\",\"Mohan\",\"Sohan\")"
   ]
  },
  {
   "cell_type": "code",
   "execution_count": 6,
   "id": "80aa32cf-c645-4dac-8647-dc544ce56633",
   "metadata": {},
   "outputs": [
    {
     "data": {
      "text/plain": [
       "True"
      ]
     },
     "execution_count": 6,
     "metadata": {},
     "output_type": "execute_result"
    }
   ],
   "source": [
    "\"python\" in \"python is funny language\""
   ]
  },
  {
   "cell_type": "code",
   "execution_count": 7,
   "id": "0749aa37-b46f-4ce1-a2bb-5ae706cc83b5",
   "metadata": {},
   "outputs": [
    {
     "data": {
      "text/plain": [
       "False"
      ]
     },
     "execution_count": 7,
     "metadata": {},
     "output_type": "execute_result"
    }
   ],
   "source": [
    "\"Python\" in \"python is funny language\""
   ]
  },
  {
   "cell_type": "code",
   "execution_count": 8,
   "id": "57c7b718-3d00-438a-94e3-77b35620c479",
   "metadata": {},
   "outputs": [
    {
     "data": {
      "text/plain": [
       "True"
      ]
     },
     "execution_count": 8,
     "metadata": {},
     "output_type": "execute_result"
    }
   ],
   "source": [
    "\"Python\" not in \"python is funny language\""
   ]
  },
  {
   "cell_type": "markdown",
   "id": "96419baf-41bf-40cb-a988-5f513487ecdd",
   "metadata": {},
   "source": [
    "# Bitwise operators\n",
    "~,|, &,>>,<<"
   ]
  },
  {
   "cell_type": "code",
   "execution_count": 10,
   "id": "ab764dd7-5418-44db-a2bb-94f2f99b3114",
   "metadata": {},
   "outputs": [
    {
     "data": {
      "text/plain": [
       "'0b1010'"
      ]
     },
     "execution_count": 10,
     "metadata": {},
     "output_type": "execute_result"
    }
   ],
   "source": [
    "bin(10)"
   ]
  },
  {
   "cell_type": "code",
   "execution_count": 11,
   "id": "a9cebecf-22d4-4c76-9688-035279db1340",
   "metadata": {},
   "outputs": [
    {
     "data": {
      "text/plain": [
       "-11"
      ]
     },
     "execution_count": 11,
     "metadata": {},
     "output_type": "execute_result"
    }
   ],
   "source": [
    "~10"
   ]
  },
  {
   "cell_type": "code",
   "execution_count": 12,
   "id": "6fd21468-e773-444c-a201-ac3e6b8e4cd3",
   "metadata": {},
   "outputs": [
    {
     "data": {
      "text/plain": [
       "'0b1010'"
      ]
     },
     "execution_count": 12,
     "metadata": {},
     "output_type": "execute_result"
    }
   ],
   "source": [
    "bin(10)"
   ]
  },
  {
   "cell_type": "code",
   "execution_count": 13,
   "id": "20992cd4-ceb2-463e-bf19-569dc094b943",
   "metadata": {},
   "outputs": [
    {
     "data": {
      "text/plain": [
       "'0b1011'"
      ]
     },
     "execution_count": 13,
     "metadata": {},
     "output_type": "execute_result"
    }
   ],
   "source": [
    "bin(11)"
   ]
  },
  {
   "cell_type": "code",
   "execution_count": 14,
   "id": "c97571ce-eace-4476-be2d-0c8efecf08ae",
   "metadata": {},
   "outputs": [
    {
     "data": {
      "text/plain": [
       "10"
      ]
     },
     "execution_count": 14,
     "metadata": {},
     "output_type": "execute_result"
    }
   ],
   "source": [
    "10&11"
   ]
  },
  {
   "cell_type": "code",
   "execution_count": 15,
   "id": "f1559828-b0a7-4060-a48e-d7ca63c890bf",
   "metadata": {},
   "outputs": [
    {
     "data": {
      "text/plain": [
       "11"
      ]
     },
     "execution_count": 15,
     "metadata": {},
     "output_type": "execute_result"
    }
   ],
   "source": [
    "10|11"
   ]
  },
  {
   "cell_type": "code",
   "execution_count": 16,
   "id": "6ec3413a-042d-4e74-9f37-03466472d0a0",
   "metadata": {},
   "outputs": [
    {
     "data": {
      "text/plain": [
       "2"
      ]
     },
     "execution_count": 16,
     "metadata": {},
     "output_type": "execute_result"
    }
   ],
   "source": [
    "10>>2"
   ]
  },
  {
   "cell_type": "code",
   "execution_count": 17,
   "id": "60599e2f-0b3c-4ba1-a48d-cd967139f231",
   "metadata": {},
   "outputs": [
    {
     "data": {
      "text/plain": [
       "40"
      ]
     },
     "execution_count": 17,
     "metadata": {},
     "output_type": "execute_result"
    }
   ],
   "source": [
    "10<<2"
   ]
  },
  {
   "cell_type": "code",
   "execution_count": null,
   "id": "db2f9d39-6c2a-4a09-bb59-1606bfbc92e7",
   "metadata": {},
   "outputs": [],
   "source": []
  },
  {
   "cell_type": "code",
   "execution_count": null,
   "id": "7fc87a2f-4e1c-4584-b4ab-9926aa50febf",
   "metadata": {},
   "outputs": [],
   "source": []
  }
 ],
 "metadata": {
  "kernelspec": {
   "display_name": "Python 3 (ipykernel)",
   "language": "python",
   "name": "python3"
  },
  "language_info": {
   "codemirror_mode": {
    "name": "ipython",
    "version": 3
   },
   "file_extension": ".py",
   "mimetype": "text/x-python",
   "name": "python",
   "nbconvert_exporter": "python",
   "pygments_lexer": "ipython3",
   "version": "3.11.4"
  }
 },
 "nbformat": 4,
 "nbformat_minor": 5
}
