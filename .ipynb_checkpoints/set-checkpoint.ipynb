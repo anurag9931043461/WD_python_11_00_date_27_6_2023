{
 "cells": [
  {
   "cell_type": "markdown",
   "id": "b02d8ee6-d36e-4db0-9e03-bbacab951546",
   "metadata": {},
   "source": [
    "# set\n",
    "\n",
    "> set constructor is set()\n",
    "\n",
    "> set literal is not available \n",
    "\n",
    "> set is unordered set of sequence of elements.\n",
    "\n",
    "> set does not support indexing\n",
    "\n",
    "> set does not support slicing \n",
    "\n",
    "> set does not support concatination\n",
    "\n",
    "> set does not support duplicate values.\n",
    "\n",
    "> set remove duplicate values using hashing table.\n",
    "\n",
    "> set is mutable(unhashable)\n",
    "\n",
    "> set always support immutable datatype.\n",
    "\n",
    "> set does not support nested set.\n",
    "\n",
    "> set methods.--> 16"
   ]
  },
  {
   "cell_type": "code",
   "execution_count": 13,
   "id": "e7f98f8b-3d1a-4f10-9165-3f3a1337dc2a",
   "metadata": {
    "tags": []
   },
   "outputs": [],
   "source": [
    "a={1,1,1,1,2,2,2,23,3,3,3,3,4,4,4,7,7,7,6,6,6}"
   ]
  },
  {
   "cell_type": "code",
   "execution_count": 14,
   "id": "e6704f67-9dbe-4fcb-a578-a6fec10b522d",
   "metadata": {
    "tags": []
   },
   "outputs": [
    {
     "name": "stdout",
     "output_type": "stream",
     "text": [
      "{1, 2, 3, 4, 23, 6, 7}\n"
     ]
    }
   ],
   "source": [
    "print(a)"
   ]
  },
  {
   "cell_type": "code",
   "execution_count": 15,
   "id": "ca9fe387-31f7-4f55-a8c9-0ef287b59c8e",
   "metadata": {
    "tags": []
   },
   "outputs": [
    {
     "ename": "TypeError",
     "evalue": "'set' object is not subscriptable",
     "output_type": "error",
     "traceback": [
      "\u001b[1;31m---------------------------------------------------------------------------\u001b[0m",
      "\u001b[1;31mTypeError\u001b[0m                                 Traceback (most recent call last)",
      "Cell \u001b[1;32mIn[15], line 1\u001b[0m\n\u001b[1;32m----> 1\u001b[0m a[\u001b[38;5;241m0\u001b[39m]\n",
      "\u001b[1;31mTypeError\u001b[0m: 'set' object is not subscriptable"
     ]
    }
   ],
   "source": [
    "a[0]  # set doesnot support indexing"
   ]
  },
  {
   "cell_type": "code",
   "execution_count": 16,
   "id": "fba83c1f-e608-4f92-b8bc-3b332a8643ce",
   "metadata": {
    "tags": []
   },
   "outputs": [
    {
     "name": "stdout",
     "output_type": "stream",
     "text": [
      "140718092293192\n"
     ]
    }
   ],
   "source": [
    "c=10\n",
    "print(id(c))"
   ]
  },
  {
   "cell_type": "code",
   "execution_count": 17,
   "id": "ae61cb53-00e9-42c4-ae59-27385d9663c7",
   "metadata": {
    "tags": []
   },
   "outputs": [
    {
     "name": "stdout",
     "output_type": "stream",
     "text": [
      "140718092293192\n"
     ]
    }
   ],
   "source": [
    "d=10\n",
    "print(id(d))"
   ]
  },
  {
   "cell_type": "code",
   "execution_count": 18,
   "id": "d36c66e6-86cc-4a15-903c-69d9151d0f66",
   "metadata": {
    "tags": []
   },
   "outputs": [
    {
     "data": {
      "text/plain": [
       "{1, 2, 3, 4, 6, 7, 23}"
      ]
     },
     "execution_count": 18,
     "metadata": {},
     "output_type": "execute_result"
    }
   ],
   "source": [
    "a"
   ]
  },
  {
   "cell_type": "code",
   "execution_count": 31,
   "id": "21bccea6-a1e8-4536-98dd-c91c11934d2b",
   "metadata": {
    "tags": []
   },
   "outputs": [
    {
     "ename": "TypeError",
     "evalue": "unhashable type: 'list'",
     "output_type": "error",
     "traceback": [
      "\u001b[1;31m---------------------------------------------------------------------------\u001b[0m",
      "\u001b[1;31mTypeError\u001b[0m                                 Traceback (most recent call last)",
      "Cell \u001b[1;32mIn[31], line 1\u001b[0m\n\u001b[1;32m----> 1\u001b[0m a\u001b[38;5;241m=\u001b[39m{[\u001b[38;5;241m10.0\u001b[39m]}\n",
      "\u001b[1;31mTypeError\u001b[0m: unhashable type: 'list'"
     ]
    }
   ],
   "source": [
    "a={[10.0]}"
   ]
  },
  {
   "cell_type": "code",
   "execution_count": 32,
   "id": "45e05a63-5f74-4879-b5c8-7855f8b1dc19",
   "metadata": {
    "tags": []
   },
   "outputs": [
    {
     "name": "stdout",
     "output_type": "stream",
     "text": [
      "{'10.0'}\n"
     ]
    }
   ],
   "source": [
    "print(a)"
   ]
  },
  {
   "cell_type": "code",
   "execution_count": null,
   "id": "024d63bf-9e67-476b-a286-3af9e713c82f",
   "metadata": {},
   "outputs": [],
   "source": [
    "> mutable datatype(unhashable): A datatype whose struture and id doesnot get \n",
    "change after applying any methods called mutable datatype, example: list, set\n",
    "\n",
    "> immutable datatype(hashable): A datatype whose struture doesnot change but id get \n",
    "change after applying any methods called immutable datatype, example: int, float, str, tuple,\n"
   ]
  },
  {
   "cell_type": "code",
   "execution_count": 34,
   "id": "ab6ece84-5fcb-47eb-9466-ef66d65bf627",
   "metadata": {
    "tags": []
   },
   "outputs": [
    {
     "ename": "TypeError",
     "evalue": "unhashable type: 'set'",
     "output_type": "error",
     "traceback": [
      "\u001b[1;31m---------------------------------------------------------------------------\u001b[0m",
      "\u001b[1;31mTypeError\u001b[0m                                 Traceback (most recent call last)",
      "Cell \u001b[1;32mIn[34], line 1\u001b[0m\n\u001b[1;32m----> 1\u001b[0m a\u001b[38;5;241m=\u001b[39m{\u001b[38;5;241m1\u001b[39m,\u001b[38;5;241m2\u001b[39m,\u001b[38;5;241m3\u001b[39m,\u001b[38;5;241m4\u001b[39m,{\u001b[38;5;241m1\u001b[39m,\u001b[38;5;241m3\u001b[39m,\u001b[38;5;241m4\u001b[39m,\u001b[38;5;241m56\u001b[39m}}\n",
      "\u001b[1;31mTypeError\u001b[0m: unhashable type: 'set'"
     ]
    }
   ],
   "source": [
    "a={1,2,3,4,{1,3,4,56}}  # set doesnot support nested set"
   ]
  },
  {
   "cell_type": "code",
   "execution_count": 35,
   "id": "609e2489-1731-4490-b9a8-eb68f860a8da",
   "metadata": {
    "tags": []
   },
   "outputs": [],
   "source": [
    "a=set()"
   ]
  },
  {
   "cell_type": "code",
   "execution_count": 39,
   "id": "3619efec-4085-4549-89a5-f303ff97001c",
   "metadata": {
    "tags": []
   },
   "outputs": [
    {
     "name": "stdout",
     "output_type": "stream",
     "text": [
      "set()\n"
     ]
    },
    {
     "data": {
      "text/plain": [
       "0"
      ]
     },
     "execution_count": 39,
     "metadata": {},
     "output_type": "execute_result"
    }
   ],
   "source": [
    "print(a)\n",
    "len(a)"
   ]
  },
  {
   "cell_type": "code",
   "execution_count": 38,
   "id": "8ce3423e-cf9f-4f83-ae5f-48d9b3805bbd",
   "metadata": {
    "tags": []
   },
   "outputs": [
    {
     "data": {
      "text/plain": [
       "0"
      ]
     },
     "execution_count": 38,
     "metadata": {},
     "output_type": "execute_result"
    }
   ],
   "source": [
    "c=[]\n",
    "len(c)"
   ]
  },
  {
   "cell_type": "code",
   "execution_count": 40,
   "id": "f3f9d784-986f-4ed6-b0bb-b25797c3170b",
   "metadata": {
    "tags": []
   },
   "outputs": [],
   "source": [
    "# Methods of set"
   ]
  },
  {
   "cell_type": "markdown",
   "id": "1ad45a27-016e-4070-aa0d-beccc67dc46c",
   "metadata": {},
   "source": [
    "# methods to add elements in set"
   ]
  },
  {
   "cell_type": "code",
   "execution_count": 41,
   "id": "64cfad6d-b5c2-4457-885c-d263ab8389b8",
   "metadata": {
    "tags": []
   },
   "outputs": [
    {
     "data": {
      "text/plain": [
       "set()"
      ]
     },
     "execution_count": 41,
     "metadata": {},
     "output_type": "execute_result"
    }
   ],
   "source": [
    "a"
   ]
  },
  {
   "cell_type": "code",
   "execution_count": 42,
   "id": "633e1472-ad43-475b-bc13-88824a21d804",
   "metadata": {
    "tags": []
   },
   "outputs": [],
   "source": [
    "a.add(10)"
   ]
  },
  {
   "cell_type": "code",
   "execution_count": 43,
   "id": "eccec121-625e-44ae-82fe-a9dd77cd0a16",
   "metadata": {
    "tags": []
   },
   "outputs": [
    {
     "name": "stdout",
     "output_type": "stream",
     "text": [
      "{10}\n"
     ]
    }
   ],
   "source": [
    "print(a)"
   ]
  },
  {
   "cell_type": "code",
   "execution_count": 44,
   "id": "8186650f-4856-46e2-ab8a-edab82c43d77",
   "metadata": {
    "tags": []
   },
   "outputs": [],
   "source": [
    "a.add(10.55)"
   ]
  },
  {
   "cell_type": "code",
   "execution_count": 45,
   "id": "146f50d1-46a2-4d8c-a6f1-5fd9abe57ce9",
   "metadata": {
    "tags": []
   },
   "outputs": [
    {
     "name": "stdout",
     "output_type": "stream",
     "text": [
      "{10, 10.55}\n"
     ]
    }
   ],
   "source": [
    "print(a)"
   ]
  },
  {
   "cell_type": "code",
   "execution_count": 46,
   "id": "d33d7b08-0527-48b4-bced-2f3fd78c9fb7",
   "metadata": {
    "tags": []
   },
   "outputs": [],
   "source": [
    "a.add(\"krishna\")"
   ]
  },
  {
   "cell_type": "code",
   "execution_count": 47,
   "id": "f36123d8-65d5-4dc7-bb40-a40231b1332e",
   "metadata": {
    "tags": []
   },
   "outputs": [
    {
     "name": "stdout",
     "output_type": "stream",
     "text": [
      "{10, 10.55, 'krishna'}\n"
     ]
    }
   ],
   "source": [
    "print(a)"
   ]
  },
  {
   "cell_type": "code",
   "execution_count": 48,
   "id": "53bca1e5-cbff-462d-9363-db93e83b3944",
   "metadata": {
    "tags": []
   },
   "outputs": [],
   "source": [
    "a.add((1,))"
   ]
  },
  {
   "cell_type": "code",
   "execution_count": 49,
   "id": "80ea2358-5d61-479b-bfe2-01d9fac0e561",
   "metadata": {
    "tags": []
   },
   "outputs": [
    {
     "name": "stdout",
     "output_type": "stream",
     "text": [
      "{(1,), 10, 10.55, 'krishna'}\n"
     ]
    }
   ],
   "source": [
    "print(a)"
   ]
  },
  {
   "cell_type": "code",
   "execution_count": 50,
   "id": "062cd7a1-ef11-491c-8088-7ae2abc7895e",
   "metadata": {
    "tags": []
   },
   "outputs": [
    {
     "ename": "TypeError",
     "evalue": "unhashable type: 'list'",
     "output_type": "error",
     "traceback": [
      "\u001b[1;31m---------------------------------------------------------------------------\u001b[0m",
      "\u001b[1;31mTypeError\u001b[0m                                 Traceback (most recent call last)",
      "Cell \u001b[1;32mIn[50], line 1\u001b[0m\n\u001b[1;32m----> 1\u001b[0m a\u001b[38;5;241m.\u001b[39madd([\u001b[38;5;241m1\u001b[39m,\u001b[38;5;241m2\u001b[39m,\u001b[38;5;241m3\u001b[39m,\u001b[38;5;241m4\u001b[39m])\n",
      "\u001b[1;31mTypeError\u001b[0m: unhashable type: 'list'"
     ]
    }
   ],
   "source": [
    "a.add([1,2,3,4])"
   ]
  },
  {
   "cell_type": "code",
   "execution_count": 51,
   "id": "976b2596-0efa-4cc2-9f1a-37a38bdc6e1c",
   "metadata": {
    "tags": []
   },
   "outputs": [],
   "source": [
    "a.add((1,2,3,4,5,6))"
   ]
  },
  {
   "cell_type": "code",
   "execution_count": 52,
   "id": "82f89466-657a-42ee-bf14-48b376fa3c8b",
   "metadata": {
    "tags": []
   },
   "outputs": [
    {
     "name": "stdout",
     "output_type": "stream",
     "text": [
      "{10, 10.55, 'krishna', (1,), (1, 2, 3, 4, 5, 6)}\n"
     ]
    }
   ],
   "source": [
    "print(a)"
   ]
  },
  {
   "cell_type": "code",
   "execution_count": 53,
   "id": "963a729c-c7ad-47bb-9819-70e4feb45908",
   "metadata": {
    "tags": []
   },
   "outputs": [],
   "source": [
    "a.update((1, 2, 3, 4, 5, 6))"
   ]
  },
  {
   "cell_type": "code",
   "execution_count": 54,
   "id": "0c3bf3e0-5959-4fc6-9a65-ffc8b2aea4a3",
   "metadata": {
    "tags": []
   },
   "outputs": [
    {
     "name": "stdout",
     "output_type": "stream",
     "text": [
      "{1, 2, 3, 4, 5, 6, 10, 10.55, 'krishna', (1,), (1, 2, 3, 4, 5, 6)}\n"
     ]
    }
   ],
   "source": [
    "print(a)"
   ]
  },
  {
   "cell_type": "code",
   "execution_count": 55,
   "id": "7069cc60-b1b1-4d23-834d-898a63087df7",
   "metadata": {
    "tags": []
   },
   "outputs": [],
   "source": [
    "a.update([65,6,7,8,8,9,0])"
   ]
  },
  {
   "cell_type": "code",
   "execution_count": 56,
   "id": "65ace582-9c33-4a8d-bd95-464a1d20a271",
   "metadata": {
    "tags": []
   },
   "outputs": [
    {
     "name": "stdout",
     "output_type": "stream",
     "text": [
      "{0, 1, 2, 3, 4, 5, 6, 65, 7, 8, 10, 10.55, 'krishna', 9, (1,), (1, 2, 3, 4, 5, 6)}\n"
     ]
    }
   ],
   "source": [
    "print(a)"
   ]
  },
  {
   "cell_type": "code",
   "execution_count": null,
   "id": "d1c4cff9-4473-4c5c-aaca-6697e758070c",
   "metadata": {},
   "outputs": [],
   "source": []
  }
 ],
 "metadata": {
  "kernelspec": {
   "display_name": "Python 3 (ipykernel)",
   "language": "python",
   "name": "python3"
  },
  "language_info": {
   "codemirror_mode": {
    "name": "ipython",
    "version": 3
   },
   "file_extension": ".py",
   "mimetype": "text/x-python",
   "name": "python",
   "nbconvert_exporter": "python",
   "pygments_lexer": "ipython3",
   "version": "3.11.3"
  }
 },
 "nbformat": 4,
 "nbformat_minor": 5
}
