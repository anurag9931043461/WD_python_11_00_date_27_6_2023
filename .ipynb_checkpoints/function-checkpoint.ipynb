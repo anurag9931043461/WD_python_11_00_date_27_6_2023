{
 "cells": [
  {
   "cell_type": "raw",
   "id": "7e152663-f328-4f1a-b1e2-9079c9a6c279",
   "metadata": {},
   "source": [
    "> def \n",
    "    > local variable\n",
    "    > global variable\n",
    "    > local scope \n",
    "    > global scope\n",
    "    > return\n",
    "    > arguments:\n",
    "        > default argument\n",
    "        > positional argument\n",
    "        > keyword argument(it use while calling a function only)\n",
    "        > arbitrary positional argument\n",
    "        > arbitrary keyword argument\n",
    "> lambda function(anonymous function)\n",
    "> nested function\n",
    "> decorator\n",
    "> generator\n",
    "> yield"
   ]
  },
  {
   "cell_type": "code",
   "execution_count": 1,
   "id": "bab64e57-df16-49f6-9bdd-6f59d9f28d05",
   "metadata": {},
   "outputs": [
    {
     "name": "stdout",
     "output_type": "stream",
     "text": [
      "Hello world\n",
      "Hello world\n",
      "Hello world\n",
      "Hello world\n",
      "Hello world\n"
     ]
    }
   ],
   "source": [
    "print(\"Hello world\")\n",
    "print(\"Hello world\")\n",
    "print(\"Hello world\")\n",
    "print(\"Hello world\")\n",
    "print(\"Hello world\")"
   ]
  },
  {
   "cell_type": "code",
   "execution_count": 2,
   "id": "62bfe896-8f49-4f6a-99ee-6e8dab474282",
   "metadata": {},
   "outputs": [
    {
     "name": "stdout",
     "output_type": "stream",
     "text": [
      "Hello world\n",
      "Hello world\n",
      "Hello world\n",
      "Hello world\n",
      "Hello world\n"
     ]
    }
   ],
   "source": [
    "for i in range(5):\n",
    "    print(\"Hello world\")"
   ]
  },
  {
   "cell_type": "code",
   "execution_count": 3,
   "id": "8bbdc0fd-b947-4b0c-8f12-c8d23f941f21",
   "metadata": {},
   "outputs": [
    {
     "name": "stdout",
     "output_type": "stream",
     "text": [
      "I am krishna kumar\n"
     ]
    }
   ],
   "source": [
    "print(\"I am krishna kumar\")"
   ]
  },
  {
   "cell_type": "code",
   "execution_count": 4,
   "id": "246e43b3-9f72-40a1-b28a-25a5e99f133b",
   "metadata": {},
   "outputs": [
    {
     "name": "stdout",
     "output_type": "stream",
     "text": [
      "Hello world\n",
      "Hello world\n",
      "Hello world\n",
      "Hello world\n",
      "Hello world\n"
     ]
    }
   ],
   "source": [
    "for i in range(5):\n",
    "    print(\"Hello world\")"
   ]
  },
  {
   "cell_type": "code",
   "execution_count": 4,
   "id": "a1f94206-9ac8-430c-9bfd-de421ece3749",
   "metadata": {},
   "outputs": [],
   "source": [
    "def hello():\n",
    "    for i in range(5):\n",
    "        print(\"Hello world\")"
   ]
  },
  {
   "cell_type": "code",
   "execution_count": 5,
   "id": "83a79696-e7c2-48f7-9bff-393217bb2210",
   "metadata": {},
   "outputs": [
    {
     "name": "stdout",
     "output_type": "stream",
     "text": [
      "Hello world\n",
      "Hello world\n",
      "Hello world\n",
      "Hello world\n",
      "Hello world\n"
     ]
    }
   ],
   "source": [
    "hello()"
   ]
  },
  {
   "cell_type": "code",
   "execution_count": 6,
   "id": "3b844255-4617-4890-9e90-ca19873c77bb",
   "metadata": {},
   "outputs": [
    {
     "name": "stdout",
     "output_type": "stream",
     "text": [
      "Hello world\n",
      "Hello world\n",
      "Hello world\n",
      "Hello world\n",
      "Hello world\n"
     ]
    }
   ],
   "source": [
    "hello()"
   ]
  },
  {
   "cell_type": "code",
   "execution_count": 7,
   "id": "e6814860-b887-48bd-a4c9-f7bea73692b2",
   "metadata": {},
   "outputs": [],
   "source": [
    "def hello(a):\n",
    "    for i in range(a):\n",
    "        print(\"Hello world\")"
   ]
  },
  {
   "cell_type": "code",
   "execution_count": 8,
   "id": "2b1d1663-40fa-4c1f-b01c-0f211d5c85a0",
   "metadata": {},
   "outputs": [
    {
     "ename": "TypeError",
     "evalue": "hello() missing 1 required positional argument: 'a'",
     "output_type": "error",
     "traceback": [
      "\u001b[1;31m---------------------------------------------------------------------------\u001b[0m",
      "\u001b[1;31mTypeError\u001b[0m                                 Traceback (most recent call last)",
      "Cell \u001b[1;32mIn[8], line 1\u001b[0m\n\u001b[1;32m----> 1\u001b[0m \u001b[43mhello\u001b[49m\u001b[43m(\u001b[49m\u001b[43m)\u001b[49m\n",
      "\u001b[1;31mTypeError\u001b[0m: hello() missing 1 required positional argument: 'a'"
     ]
    }
   ],
   "source": [
    "hello()"
   ]
  },
  {
   "cell_type": "code",
   "execution_count": 9,
   "id": "66443e16-8b41-427b-a87e-61d6bedcf376",
   "metadata": {},
   "outputs": [
    {
     "name": "stdout",
     "output_type": "stream",
     "text": [
      "Hello world\n",
      "Hello world\n",
      "Hello world\n",
      "Hello world\n",
      "Hello world\n",
      "Hello world\n",
      "Hello world\n",
      "Hello world\n",
      "Hello world\n",
      "Hello world\n"
     ]
    }
   ],
   "source": [
    "hello(10)"
   ]
  },
  {
   "cell_type": "code",
   "execution_count": 11,
   "id": "8786ceaa-b3ba-4ad9-a64d-5e5a99c9254c",
   "metadata": {},
   "outputs": [],
   "source": [
    "def intro():\n",
    "    print(\"I am krishna\")"
   ]
  },
  {
   "cell_type": "code",
   "execution_count": 12,
   "id": "253f1a9c-66bc-4a3f-bb90-753282212a4e",
   "metadata": {},
   "outputs": [
    {
     "name": "stdout",
     "output_type": "stream",
     "text": [
      "I am krishna\n"
     ]
    }
   ],
   "source": [
    "intro()"
   ]
  },
  {
   "cell_type": "code",
   "execution_count": 20,
   "id": "6e62d2a5-5095-4b35-851f-32ad4a6aec79",
   "metadata": {},
   "outputs": [],
   "source": [
    "def hello2(a,b):\n",
    "    for i in range(a,b+1):\n",
    "        print(i,\"Hello world\")"
   ]
  },
  {
   "cell_type": "code",
   "execution_count": 22,
   "id": "83a9b553-baa6-4c6c-bf78-5b9873127c67",
   "metadata": {},
   "outputs": [
    {
     "name": "stdout",
     "output_type": "stream",
     "text": [
      "1 Hello world\n",
      "2 Hello world\n",
      "3 Hello world\n",
      "4 Hello world\n",
      "5 Hello world\n"
     ]
    }
   ],
   "source": [
    "hello2(1,5)"
   ]
  },
  {
   "cell_type": "code",
   "execution_count": 23,
   "id": "25197e5c-127f-487f-ba02-37dab5fc80cb",
   "metadata": {},
   "outputs": [
    {
     "name": "stdout",
     "output_type": "stream",
     "text": [
      "3 Hello world\n",
      "4 Hello world\n",
      "5 Hello world\n",
      "6 Hello world\n"
     ]
    }
   ],
   "source": [
    "hello2(3,6)"
   ]
  },
  {
   "cell_type": "code",
   "execution_count": 24,
   "id": "e3f6d157-a7c9-4664-bea0-0936d3b4183c",
   "metadata": {},
   "outputs": [
    {
     "name": "stdout",
     "output_type": "stream",
     "text": [
      "0 Hello world\n",
      "1 Hello world\n",
      "2 Hello world\n",
      "3 Hello world\n",
      "4 Hello world\n"
     ]
    }
   ],
   "source": [
    "hello(5)"
   ]
  },
  {
   "cell_type": "code",
   "execution_count": 25,
   "id": "a956e34b-a896-40d3-a59a-e8dd7c4b4c3a",
   "metadata": {},
   "outputs": [
    {
     "name": "stdout",
     "output_type": "stream",
     "text": [
      "1 Hello world\n",
      "2 Hello world\n",
      "3 Hello world\n",
      "4 Hello world\n",
      "5 Hello world\n"
     ]
    }
   ],
   "source": [
    "hello2(1,5)"
   ]
  },
  {
   "cell_type": "code",
   "execution_count": 30,
   "id": "6bf0d6de-7280-465b-ba17-5e8399fe19ec",
   "metadata": {},
   "outputs": [],
   "source": [
    "def hello3(a,b,c):\n",
    "    for i in range(a,b+1,c):\n",
    "        print(i,\"Hello world\")"
   ]
  },
  {
   "cell_type": "code",
   "execution_count": 31,
   "id": "5b350dc8-e771-4899-855e-8040a8cae23c",
   "metadata": {},
   "outputs": [
    {
     "name": "stdout",
     "output_type": "stream",
     "text": [
      "1 Hello world\n",
      "2 Hello world\n",
      "3 Hello world\n",
      "4 Hello world\n",
      "5 Hello world\n",
      "6 Hello world\n"
     ]
    }
   ],
   "source": [
    "hello3(1,6,1)"
   ]
  },
  {
   "cell_type": "code",
   "execution_count": 32,
   "id": "fc466ac2-59ea-41ba-85ee-5c40c4cde634",
   "metadata": {},
   "outputs": [
    {
     "name": "stdout",
     "output_type": "stream",
     "text": [
      "1 Hello world\n",
      "3 Hello world\n",
      "5 Hello world\n"
     ]
    }
   ],
   "source": [
    "hello3(1,6,2)"
   ]
  },
  {
   "cell_type": "markdown",
   "id": "8a507e18-e2ac-4d58-8399-9a0b00ed4ec0",
   "metadata": {},
   "source": [
    "# return "
   ]
  },
  {
   "cell_type": "code",
   "execution_count": 33,
   "id": "fc6a5a0e-f281-42d4-bc65-a2b747856c39",
   "metadata": {},
   "outputs": [],
   "source": [
    "def new(a,b):\n",
    "    print(a+b)"
   ]
  },
  {
   "cell_type": "code",
   "execution_count": 39,
   "id": "d17bf01f-0b30-40d2-b686-b4a715b1f521",
   "metadata": {},
   "outputs": [
    {
     "name": "stdout",
     "output_type": "stream",
     "text": [
      "30\n",
      "None\n"
     ]
    }
   ],
   "source": [
    "print(new(10,20))"
   ]
  },
  {
   "cell_type": "code",
   "execution_count": 37,
   "id": "8a285e19-9674-47d4-b293-0638f1ee971c",
   "metadata": {},
   "outputs": [
    {
     "name": "stdout",
     "output_type": "stream",
     "text": [
      "hello world\n",
      "None\n"
     ]
    }
   ],
   "source": [
    "print(print(\"hello world\"))"
   ]
  },
  {
   "cell_type": "code",
   "execution_count": 40,
   "id": "c8b23bf1-7289-4581-9de6-336933f3b248",
   "metadata": {},
   "outputs": [],
   "source": [
    "def new2(a,b):\n",
    "    return(a+b)"
   ]
  },
  {
   "cell_type": "code",
   "execution_count": 42,
   "id": "7c1f27c4-20c3-412d-b1cd-0bc1237e062b",
   "metadata": {},
   "outputs": [
    {
     "name": "stdout",
     "output_type": "stream",
     "text": [
      "30\n",
      "krishna\n"
     ]
    }
   ],
   "source": [
    "a=new2(10,20)\n",
    "print(a)\n",
    "print(\"krishna\")"
   ]
  },
  {
   "cell_type": "code",
   "execution_count": 43,
   "id": "0d250dcf-b9f1-4df3-9af4-35948696679d",
   "metadata": {},
   "outputs": [
    {
     "name": "stdout",
     "output_type": "stream",
     "text": [
      "30\n",
      "krishna\n"
     ]
    }
   ],
   "source": [
    "print(new2(10,20))\n",
    "print(\"krishna\")"
   ]
  },
  {
   "cell_type": "code",
   "execution_count": null,
   "id": "fd0fac35-bbf5-42fc-b975-777b028caec0",
   "metadata": {},
   "outputs": [],
   "source": [
    "2/3*4-5"
   ]
  },
  {
   "cell_type": "code",
   "execution_count": 48,
   "id": "d94df9d8-cb36-4344-9d9a-f24cd131db56",
   "metadata": {},
   "outputs": [],
   "source": [
    "def div(a,b):\n",
    "    return(a/b)"
   ]
  },
  {
   "cell_type": "code",
   "execution_count": 49,
   "id": "6e311fd6-70d5-4918-8a89-c78e81c8b00a",
   "metadata": {},
   "outputs": [],
   "source": [
    "a=div(2,3)"
   ]
  },
  {
   "cell_type": "code",
   "execution_count": 52,
   "id": "c8cf6317-8b78-4daa-a0b7-cde44389851a",
   "metadata": {},
   "outputs": [],
   "source": [
    "b=a*4"
   ]
  },
  {
   "cell_type": "code",
   "execution_count": 58,
   "id": "e87c56db-5807-43a6-9da8-b514e200696d",
   "metadata": {},
   "outputs": [],
   "source": [
    "def sum(a,b):\n",
    "    return(a+b)"
   ]
  },
  {
   "cell_type": "code",
   "execution_count": 59,
   "id": "c037a6aa-65ef-446a-b8cf-b8d60aa71b35",
   "metadata": {},
   "outputs": [
    {
     "data": {
      "text/plain": [
       "130"
      ]
     },
     "execution_count": 59,
     "metadata": {},
     "output_type": "execute_result"
    }
   ],
   "source": [
    "sum(10,20)+100"
   ]
  },
  {
   "cell_type": "code",
   "execution_count": 60,
   "id": "8c77d6ec-eca5-4421-87dd-5060345b01b9",
   "metadata": {},
   "outputs": [],
   "source": [
    "def sum2(a,b):\n",
    "    return a\n",
    "    return b"
   ]
  },
  {
   "cell_type": "code",
   "execution_count": 61,
   "id": "2bc921a3-76d0-4240-b4f8-46f6bed89854",
   "metadata": {},
   "outputs": [
    {
     "data": {
      "text/plain": [
       "10"
      ]
     },
     "execution_count": 61,
     "metadata": {},
     "output_type": "execute_result"
    }
   ],
   "source": [
    "sum2(10,20)"
   ]
  },
  {
   "cell_type": "markdown",
   "id": "10270cac-035a-478d-8d87-de63e69c3028",
   "metadata": {},
   "source": [
    "local variable\n",
    "\n",
    "global variable\n",
    "\n",
    "local scope \n",
    "\n",
    "global scope\n"
   ]
  },
  {
   "cell_type": "code",
   "execution_count": 9,
   "id": "ad96fd68-9335-46a8-994d-2959cabf35e5",
   "metadata": {},
   "outputs": [],
   "source": [
    "def add():\n",
    "    global a,b\n",
    "    a=10\n",
    "    b=20\n",
    "    print(a+b)"
   ]
  },
  {
   "cell_type": "code",
   "execution_count": 10,
   "id": "3e940fad-3243-4e3f-846e-93434921bd5f",
   "metadata": {},
   "outputs": [
    {
     "name": "stdout",
     "output_type": "stream",
     "text": [
      "30\n"
     ]
    }
   ],
   "source": [
    "add()"
   ]
  },
  {
   "cell_type": "code",
   "execution_count": 11,
   "id": "cdf435d2-d7bf-4966-b6db-23125f10d9d1",
   "metadata": {},
   "outputs": [
    {
     "name": "stdout",
     "output_type": "stream",
     "text": [
      "10\n"
     ]
    }
   ],
   "source": [
    "print(a)"
   ]
  },
  {
   "cell_type": "code",
   "execution_count": 12,
   "id": "8c1e386a-5ac7-478b-9cf7-48d49b353643",
   "metadata": {},
   "outputs": [
    {
     "name": "stdout",
     "output_type": "stream",
     "text": [
      "20\n"
     ]
    }
   ],
   "source": [
    "print(b)"
   ]
  },
  {
   "cell_type": "code",
   "execution_count": 13,
   "id": "373716f2-d843-4c08-b6a1-01841de4e75f",
   "metadata": {},
   "outputs": [],
   "source": [
    "x=10"
   ]
  },
  {
   "cell_type": "code",
   "execution_count": 14,
   "id": "6f273fa1-5a32-4d3e-a45b-bd5b0574a9bd",
   "metadata": {},
   "outputs": [],
   "source": [
    "y=20"
   ]
  },
  {
   "cell_type": "code",
   "execution_count": 15,
   "id": "9d359d36-1334-4b5b-b11f-00a45c5dfebc",
   "metadata": {},
   "outputs": [],
   "source": [
    "def add2():\n",
    "    print(x+y)"
   ]
  },
  {
   "cell_type": "code",
   "execution_count": 16,
   "id": "998b89dc-4f42-439e-bfb7-7d6901f8d703",
   "metadata": {},
   "outputs": [
    {
     "name": "stdout",
     "output_type": "stream",
     "text": [
      "30\n"
     ]
    }
   ],
   "source": [
    "add2()"
   ]
  },
  {
   "cell_type": "raw",
   "id": "bf4d00a5-4d9c-4dd4-8ee0-4a90f0f2f7fd",
   "metadata": {},
   "source": [
    "    > arguments:\n",
    "        > default argument\n",
    "        > positional argument\n",
    "        > keyword argument(it use while calling a function only)\n",
    "        > arbitrary positional argument\n",
    "        > arbitrary keyword argument"
   ]
  },
  {
   "cell_type": "code",
   "execution_count": null,
   "id": "5756901d-6b40-4761-9fa0-60e37c763f5d",
   "metadata": {},
   "outputs": [],
   "source": [
    "#default argument"
   ]
  },
  {
   "cell_type": "code",
   "execution_count": 18,
   "id": "78ba246e-8923-4959-acea-78ca93b6b4a2",
   "metadata": {},
   "outputs": [],
   "source": [
    "def add3(a=10,b=20):     \n",
    "    print(a+b)"
   ]
  },
  {
   "cell_type": "code",
   "execution_count": 19,
   "id": "4d8e77ac-f584-48a9-92b1-c243a36c6bf2",
   "metadata": {},
   "outputs": [
    {
     "name": "stdout",
     "output_type": "stream",
     "text": [
      "30\n"
     ]
    }
   ],
   "source": [
    "add3()"
   ]
  },
  {
   "cell_type": "code",
   "execution_count": 20,
   "id": "dbf9eeba-54ec-48ca-9694-2c82a2c11a0d",
   "metadata": {},
   "outputs": [
    {
     "name": "stdout",
     "output_type": "stream",
     "text": [
      "120\n"
     ]
    }
   ],
   "source": [
    "add3(100)"
   ]
  },
  {
   "cell_type": "code",
   "execution_count": 22,
   "id": "4b93c381-4546-4b1e-99ec-024590fdbbda",
   "metadata": {},
   "outputs": [
    {
     "name": "stdout",
     "output_type": "stream",
     "text": [
      "300\n"
     ]
    }
   ],
   "source": [
    "add3(100,200)"
   ]
  },
  {
   "cell_type": "markdown",
   "id": "c4fa27c8-edc1-434a-a708-b3451d98bf14",
   "metadata": {},
   "source": [
    "# positional arguments"
   ]
  },
  {
   "cell_type": "code",
   "execution_count": 25,
   "id": "211780d9-f3ef-4164-9bc4-93aff6ce0229",
   "metadata": {},
   "outputs": [],
   "source": [
    "def add4(a,b):\n",
    "    print(\"a :\",a)\n",
    "    print(\"b :\",b)\n",
    "    print(a+b)"
   ]
  },
  {
   "cell_type": "code",
   "execution_count": 26,
   "id": "fd86d030-62c3-4f62-99b4-f10e93184c16",
   "metadata": {},
   "outputs": [
    {
     "name": "stdout",
     "output_type": "stream",
     "text": [
      "a : 10\n",
      "b : 20\n",
      "30\n"
     ]
    }
   ],
   "source": [
    "add4(10,20)"
   ]
  },
  {
   "cell_type": "code",
   "execution_count": 27,
   "id": "43850c5f-56a1-43e9-9cc0-fb6525415437",
   "metadata": {},
   "outputs": [
    {
     "name": "stdout",
     "output_type": "stream",
     "text": [
      "a : 20\n",
      "b : 10\n",
      "30\n"
     ]
    }
   ],
   "source": [
    "add4(20,10)"
   ]
  },
  {
   "cell_type": "markdown",
   "id": "fd7115a7-474f-40b5-a31f-cc3624af94d6",
   "metadata": {},
   "source": [
    "> keyword argument(it use while calling a function only)"
   ]
  },
  {
   "cell_type": "code",
   "execution_count": 28,
   "id": "2a9c0aed-67d2-41b2-9ab4-a88903aa37e7",
   "metadata": {},
   "outputs": [],
   "source": [
    "def add5(a,b):\n",
    "    print(\"a :\",a)\n",
    "    print(\"b :\",b)\n",
    "    print(a+b)"
   ]
  },
  {
   "cell_type": "code",
   "execution_count": 29,
   "id": "056cd7e8-a265-426d-9d98-330c841d73cf",
   "metadata": {},
   "outputs": [
    {
     "name": "stdout",
     "output_type": "stream",
     "text": [
      "a : 10\n",
      "b : 20\n",
      "30\n"
     ]
    }
   ],
   "source": [
    "add5(b=20,a=10)"
   ]
  },
  {
   "cell_type": "markdown",
   "id": "2fcd27a3-5cd5-4f83-8b3a-6fa1f03b4394",
   "metadata": {},
   "source": [
    " > arbitrary positional argument"
   ]
  },
  {
   "cell_type": "code",
   "execution_count": 30,
   "id": "73667192-d744-43bc-95b3-3955f4103faf",
   "metadata": {},
   "outputs": [],
   "source": [
    "import builtins"
   ]
  },
  {
   "cell_type": "code",
   "execution_count": 31,
   "id": "44feac54-5d1b-4c7b-a5b4-a11d639bb3a5",
   "metadata": {},
   "outputs": [
    {
     "name": "stdout",
     "output_type": "stream",
     "text": [
      "hello world\n"
     ]
    }
   ],
   "source": [
    "builtins.print(\"hello world\")"
   ]
  },
  {
   "cell_type": "code",
   "execution_count": 32,
   "id": "5e2aeecd-522e-48c3-9e9a-7353704a1841",
   "metadata": {},
   "outputs": [
    {
     "data": {
      "text/plain": [
       "7"
      ]
     },
     "execution_count": 32,
     "metadata": {},
     "output_type": "execute_result"
    }
   ],
   "source": [
    "builtins.len(\"krishna\")"
   ]
  },
  {
   "cell_type": "code",
   "execution_count": 34,
   "id": "2eb1b397-b092-48c5-b1ad-86eccdf6d3ac",
   "metadata": {},
   "outputs": [
    {
     "name": "stdout",
     "output_type": "stream",
     "text": [
      "<class 'str'>\n"
     ]
    }
   ],
   "source": [
    "builtins.print(builtins.type(\"krishna\"))"
   ]
  },
  {
   "cell_type": "code",
   "execution_count": 35,
   "id": "a8f65b52-6215-48c8-a419-5970b1c806f6",
   "metadata": {},
   "outputs": [
    {
     "data": {
      "text/plain": [
       "10.54"
      ]
     },
     "execution_count": 35,
     "metadata": {},
     "output_type": "execute_result"
    }
   ],
   "source": [
    "builtins.sum([1,2,3,4.54])"
   ]
  },
  {
   "cell_type": "code",
   "execution_count": 37,
   "id": "fe4f91a8-ebbc-4e73-b57d-7934a4a20531",
   "metadata": {},
   "outputs": [
    {
     "data": {
      "text/plain": [
       "10.54"
      ]
     },
     "execution_count": 37,
     "metadata": {},
     "output_type": "execute_result"
    }
   ],
   "source": [
    "sum([1,2,3,4.54])"
   ]
  },
  {
   "cell_type": "code",
   "execution_count": 38,
   "id": "3a0f236b-e2c8-4956-b3a8-3ccfcf4e9cb7",
   "metadata": {},
   "outputs": [
    {
     "data": {
      "text/plain": [
       "['ArithmeticError',\n",
       " 'AssertionError',\n",
       " 'AttributeError',\n",
       " 'BaseException',\n",
       " 'BaseExceptionGroup',\n",
       " 'BlockingIOError',\n",
       " 'BrokenPipeError',\n",
       " 'BufferError',\n",
       " 'BytesWarning',\n",
       " 'ChildProcessError',\n",
       " 'ConnectionAbortedError',\n",
       " 'ConnectionError',\n",
       " 'ConnectionRefusedError',\n",
       " 'ConnectionResetError',\n",
       " 'DeprecationWarning',\n",
       " 'EOFError',\n",
       " 'Ellipsis',\n",
       " 'EncodingWarning',\n",
       " 'EnvironmentError',\n",
       " 'Exception',\n",
       " 'ExceptionGroup',\n",
       " 'False',\n",
       " 'FileExistsError',\n",
       " 'FileNotFoundError',\n",
       " 'FloatingPointError',\n",
       " 'FutureWarning',\n",
       " 'GeneratorExit',\n",
       " 'IOError',\n",
       " 'ImportError',\n",
       " 'ImportWarning',\n",
       " 'IndentationError',\n",
       " 'IndexError',\n",
       " 'InterruptedError',\n",
       " 'IsADirectoryError',\n",
       " 'KeyError',\n",
       " 'KeyboardInterrupt',\n",
       " 'LookupError',\n",
       " 'MemoryError',\n",
       " 'ModuleNotFoundError',\n",
       " 'NameError',\n",
       " 'None',\n",
       " 'NotADirectoryError',\n",
       " 'NotImplemented',\n",
       " 'NotImplementedError',\n",
       " 'OSError',\n",
       " 'OverflowError',\n",
       " 'PendingDeprecationWarning',\n",
       " 'PermissionError',\n",
       " 'ProcessLookupError',\n",
       " 'RecursionError',\n",
       " 'ReferenceError',\n",
       " 'ResourceWarning',\n",
       " 'RuntimeError',\n",
       " 'RuntimeWarning',\n",
       " 'StopAsyncIteration',\n",
       " 'StopIteration',\n",
       " 'SyntaxError',\n",
       " 'SyntaxWarning',\n",
       " 'SystemError',\n",
       " 'SystemExit',\n",
       " 'TabError',\n",
       " 'TimeoutError',\n",
       " 'True',\n",
       " 'TypeError',\n",
       " 'UnboundLocalError',\n",
       " 'UnicodeDecodeError',\n",
       " 'UnicodeEncodeError',\n",
       " 'UnicodeError',\n",
       " 'UnicodeTranslateError',\n",
       " 'UnicodeWarning',\n",
       " 'UserWarning',\n",
       " 'ValueError',\n",
       " 'Warning',\n",
       " 'WindowsError',\n",
       " 'ZeroDivisionError',\n",
       " '__IPYTHON__',\n",
       " '__build_class__',\n",
       " '__debug__',\n",
       " '__doc__',\n",
       " '__import__',\n",
       " '__loader__',\n",
       " '__name__',\n",
       " '__package__',\n",
       " '__spec__',\n",
       " 'abs',\n",
       " 'aiter',\n",
       " 'all',\n",
       " 'anext',\n",
       " 'any',\n",
       " 'ascii',\n",
       " 'bin',\n",
       " 'bool',\n",
       " 'breakpoint',\n",
       " 'bytearray',\n",
       " 'bytes',\n",
       " 'callable',\n",
       " 'chr',\n",
       " 'classmethod',\n",
       " 'compile',\n",
       " 'complex',\n",
       " 'copyright',\n",
       " 'credits',\n",
       " 'delattr',\n",
       " 'dict',\n",
       " 'dir',\n",
       " 'display',\n",
       " 'divmod',\n",
       " 'enumerate',\n",
       " 'eval',\n",
       " 'exec',\n",
       " 'execfile',\n",
       " 'filter',\n",
       " 'float',\n",
       " 'format',\n",
       " 'frozenset',\n",
       " 'get_ipython',\n",
       " 'getattr',\n",
       " 'globals',\n",
       " 'hasattr',\n",
       " 'hash',\n",
       " 'help',\n",
       " 'hex',\n",
       " 'id',\n",
       " 'input',\n",
       " 'int',\n",
       " 'isinstance',\n",
       " 'issubclass',\n",
       " 'iter',\n",
       " 'len',\n",
       " 'license',\n",
       " 'list',\n",
       " 'locals',\n",
       " 'map',\n",
       " 'max',\n",
       " 'memoryview',\n",
       " 'min',\n",
       " 'next',\n",
       " 'object',\n",
       " 'oct',\n",
       " 'open',\n",
       " 'ord',\n",
       " 'pow',\n",
       " 'print',\n",
       " 'property',\n",
       " 'range',\n",
       " 'repr',\n",
       " 'reversed',\n",
       " 'round',\n",
       " 'runfile',\n",
       " 'set',\n",
       " 'setattr',\n",
       " 'slice',\n",
       " 'sorted',\n",
       " 'staticmethod',\n",
       " 'str',\n",
       " 'sum',\n",
       " 'super',\n",
       " 'tuple',\n",
       " 'type',\n",
       " 'vars',\n",
       " 'zip']"
      ]
     },
     "execution_count": 38,
     "metadata": {},
     "output_type": "execute_result"
    }
   ],
   "source": [
    "dir(builtins)"
   ]
  },
  {
   "cell_type": "code",
   "execution_count": 41,
   "id": "b614a8f1-9302-406f-b24c-b4aa44d3e34d",
   "metadata": {},
   "outputs": [],
   "source": [
    "def add6(*n):\n",
    "    print(n)"
   ]
  },
  {
   "cell_type": "code",
   "execution_count": 39,
   "id": "7fa17787-52da-4ba5-9675-70dd2e8f30a1",
   "metadata": {},
   "outputs": [],
   "source": [
    "a=10,20,30,40,50"
   ]
  },
  {
   "cell_type": "code",
   "execution_count": 40,
   "id": "6ae175b6-8c65-4c1e-a33b-5acfd95cd814",
   "metadata": {},
   "outputs": [
    {
     "name": "stdout",
     "output_type": "stream",
     "text": [
      "(10, 20, 30, 40, 50)\n"
     ]
    }
   ],
   "source": [
    "print(a)"
   ]
  },
  {
   "cell_type": "code",
   "execution_count": 42,
   "id": "fe19bcc0-561d-409a-97da-412d1449581a",
   "metadata": {},
   "outputs": [
    {
     "name": "stdout",
     "output_type": "stream",
     "text": [
      "(1, 2, 3, 4, 5, 6, 7)\n"
     ]
    }
   ],
   "source": [
    "add6(1,2,3,4,5,6,7)"
   ]
  },
  {
   "cell_type": "code",
   "execution_count": 43,
   "id": "db6382f2-04d3-4024-b40e-cb9098f20388",
   "metadata": {},
   "outputs": [
    {
     "name": "stdout",
     "output_type": "stream",
     "text": [
      "28\n"
     ]
    }
   ],
   "source": [
    "def add7():\n",
    "    a=(1, 2, 3, 4, 5, 6, 7)\n",
    "    d=0\n",
    "    for i in a:\n",
    "        d=d+i\n",
    "    print(d)"
   ]
  },
  {
   "cell_type": "code",
   "execution_count": 46,
   "id": "75053bbd-67a6-4958-a12f-1243c98e55a6",
   "metadata": {},
   "outputs": [],
   "source": [
    "def add8(*n):\n",
    "    d=0\n",
    "    for i in n:\n",
    "        d=d+i\n",
    "    print(d)"
   ]
  },
  {
   "cell_type": "code",
   "execution_count": 47,
   "id": "b8ad1e79-bf15-41eb-b8d1-93717f1d1bc6",
   "metadata": {},
   "outputs": [
    {
     "name": "stdout",
     "output_type": "stream",
     "text": [
      "36844\n"
     ]
    }
   ],
   "source": [
    "add7(1,2,3,4,5,6,7,8,9,0,43,4324,32432)"
   ]
  },
  {
   "cell_type": "code",
   "execution_count": 48,
   "id": "0fb3fcff-4ee7-419e-906a-ab36b0a60195",
   "metadata": {},
   "outputs": [
    {
     "name": "stdout",
     "output_type": "stream",
     "text": [
      "32505373\n"
     ]
    }
   ],
   "source": [
    "add8(4324,4324,23423,44534,5345,32423423)"
   ]
  },
  {
   "cell_type": "markdown",
   "id": "69da3ec5-dde1-4aa7-81fa-329d52cff813",
   "metadata": {},
   "source": [
    "# arbitrary keyword argument"
   ]
  },
  {
   "cell_type": "code",
   "execution_count": 1,
   "id": "1dcda041-9093-4635-bf29-8545b9ab97f0",
   "metadata": {},
   "outputs": [],
   "source": [
    "def add(**n):\n",
    "    print(n)"
   ]
  },
  {
   "cell_type": "code",
   "execution_count": 2,
   "id": "06898749-d7e6-4c7c-bcd2-6fcb060307f3",
   "metadata": {},
   "outputs": [
    {
     "name": "stdout",
     "output_type": "stream",
     "text": [
      "{'name': 'krishna', 'name2': 'bharat', 'name3': 'prince'}\n"
     ]
    }
   ],
   "source": [
    "add(name=\"krishna\",name2=\"bharat\",name3=\"prince\")"
   ]
  },
  {
   "cell_type": "code",
   "execution_count": 5,
   "id": "6111a506-49dc-4f35-9fe2-c3965cc28b1d",
   "metadata": {},
   "outputs": [],
   "source": [
    "def add(**n):\n",
    "    for i in n.values():\n",
    "        print(i)"
   ]
  },
  {
   "cell_type": "code",
   "execution_count": 6,
   "id": "e842b431-f912-44c9-b972-3b7b2c1e52a7",
   "metadata": {},
   "outputs": [
    {
     "name": "stdout",
     "output_type": "stream",
     "text": [
      "krishna\n",
      "bharat\n",
      "prince\n"
     ]
    }
   ],
   "source": [
    "add(name=\"krishna\",name2=\"bharat\",name3=\"prince\")"
   ]
  },
  {
   "cell_type": "markdown",
   "id": "9eb157d0-3b32-4a40-af41-2b631bbcab26",
   "metadata": {},
   "source": [
    "# nested function"
   ]
  },
  {
   "cell_type": "code",
   "execution_count": 7,
   "id": "7cce38c2-d03f-4add-8411-aa02cebe7dae",
   "metadata": {},
   "outputs": [],
   "source": [
    "def new():\n",
    "    print(\"I am AI trainer\")"
   ]
  },
  {
   "cell_type": "code",
   "execution_count": 8,
   "id": "be14c274-43ff-47e1-93bb-e22d2768c13a",
   "metadata": {},
   "outputs": [
    {
     "name": "stdout",
     "output_type": "stream",
     "text": [
      "I am AI trainer\n"
     ]
    }
   ],
   "source": [
    "new()"
   ]
  },
  {
   "cell_type": "code",
   "execution_count": 9,
   "id": "9c9892b0-cf7b-4bce-880f-3886d5a59ca9",
   "metadata": {},
   "outputs": [
    {
     "name": "stdout",
     "output_type": "stream",
     "text": [
      "I am krishna\n",
      "I am AI trainer\n"
     ]
    }
   ],
   "source": [
    "print(\"I am krishna\")\n",
    "new()"
   ]
  },
  {
   "cell_type": "code",
   "execution_count": 22,
   "id": "b36e5c1a-1d56-49c4-b9eb-3e630c7f4b7c",
   "metadata": {},
   "outputs": [],
   "source": [
    "def krishna(arg):\n",
    "    def arjun():\n",
    "        print(\"I am krishna\")\n",
    "        arg()\n",
    "    return arjun"
   ]
  },
  {
   "cell_type": "code",
   "execution_count": 23,
   "id": "1e6954ea-1f74-4e34-a97a-0c9b63aeaf1d",
   "metadata": {},
   "outputs": [],
   "source": [
    "val=krishna(new)"
   ]
  },
  {
   "cell_type": "code",
   "execution_count": 24,
   "id": "b3ef1a4c-981a-42b5-a014-25e9f1d2cd6b",
   "metadata": {},
   "outputs": [
    {
     "name": "stdout",
     "output_type": "stream",
     "text": [
      "I am krishna\n",
      "I am AI trainer\n"
     ]
    }
   ],
   "source": [
    "val()"
   ]
  },
  {
   "cell_type": "code",
   "execution_count": null,
   "id": "da79e57e-4922-401b-92d3-f734dc7391c4",
   "metadata": {},
   "outputs": [],
   "source": []
  },
  {
   "cell_type": "markdown",
   "id": "a2098759-5cbf-4c8e-a01c-ab48924a090a",
   "metadata": {},
   "source": [
    "# decorator"
   ]
  },
  {
   "cell_type": "code",
   "execution_count": 25,
   "id": "f450ad0d-ccba-4af0-acc1-8d35e21567d0",
   "metadata": {},
   "outputs": [],
   "source": [
    "def krishna(arg):\n",
    "    def arjun():\n",
    "        print(\"I am krishna\")\n",
    "        arg()\n",
    "    return arjun"
   ]
  },
  {
   "cell_type": "code",
   "execution_count": 27,
   "id": "5a76ad29-0640-48f5-b59f-7037d4b33bdb",
   "metadata": {},
   "outputs": [],
   "source": [
    "# val=krishna(new)\n",
    "# val()\n",
    "@krishna\n",
    "def new():\n",
    "    print(\"I am AI trainer\")"
   ]
  },
  {
   "cell_type": "code",
   "execution_count": 28,
   "id": "bfee5272-0d26-43d5-b624-6ca6797a9d74",
   "metadata": {},
   "outputs": [
    {
     "name": "stdout",
     "output_type": "stream",
     "text": [
      "I am krishna\n",
      "I am AI trainer\n"
     ]
    }
   ],
   "source": [
    "new()"
   ]
  },
  {
   "cell_type": "code",
   "execution_count": null,
   "id": "ead8be1f-e674-41ea-b359-ecc3024281c1",
   "metadata": {},
   "outputs": [],
   "source": []
  },
  {
   "cell_type": "code",
   "execution_count": null,
   "id": "fb574195-8787-4e7f-af7e-f17c64b7c79f",
   "metadata": {},
   "outputs": [],
   "source": []
  },
  {
   "cell_type": "markdown",
   "id": "7af15603-17fa-4bd0-ad15-0cbbac88fb47",
   "metadata": {},
   "source": [
    "# generator(yield)"
   ]
  },
  {
   "cell_type": "code",
   "execution_count": 30,
   "id": "95cb2ff5-a04a-466e-a6f1-3f10f72dbf2a",
   "metadata": {},
   "outputs": [],
   "source": [
    "def step():\n",
    "    yield 1\n",
    "    yield 2\n",
    "    yield 3"
   ]
  },
  {
   "cell_type": "code",
   "execution_count": 31,
   "id": "7f610b0c-b557-49c6-8e83-40cb3f224411",
   "metadata": {},
   "outputs": [],
   "source": [
    "x=step()"
   ]
  },
  {
   "cell_type": "code",
   "execution_count": 32,
   "id": "bf37874a-13dd-4d15-8e72-0bd4b9f1e6bb",
   "metadata": {},
   "outputs": [
    {
     "data": {
      "text/plain": [
       "1"
      ]
     },
     "execution_count": 32,
     "metadata": {},
     "output_type": "execute_result"
    }
   ],
   "source": [
    "next(x)"
   ]
  },
  {
   "cell_type": "code",
   "execution_count": 33,
   "id": "c57fb04a-5ab3-42fa-ac59-c886f1764c6d",
   "metadata": {},
   "outputs": [
    {
     "data": {
      "text/plain": [
       "2"
      ]
     },
     "execution_count": 33,
     "metadata": {},
     "output_type": "execute_result"
    }
   ],
   "source": [
    "next(x)"
   ]
  },
  {
   "cell_type": "code",
   "execution_count": 34,
   "id": "4ae8bda8-476e-4730-9dd5-caf0d73fd08b",
   "metadata": {},
   "outputs": [
    {
     "data": {
      "text/plain": [
       "3"
      ]
     },
     "execution_count": 34,
     "metadata": {},
     "output_type": "execute_result"
    }
   ],
   "source": [
    "next(x)"
   ]
  },
  {
   "cell_type": "code",
   "execution_count": 35,
   "id": "f8c498a2-8c08-444b-be65-c79667a972c7",
   "metadata": {},
   "outputs": [
    {
     "ename": "StopIteration",
     "evalue": "",
     "output_type": "error",
     "traceback": [
      "\u001b[1;31m---------------------------------------------------------------------------\u001b[0m",
      "\u001b[1;31mStopIteration\u001b[0m                             Traceback (most recent call last)",
      "Cell \u001b[1;32mIn[35], line 1\u001b[0m\n\u001b[1;32m----> 1\u001b[0m \u001b[38;5;28;43mnext\u001b[39;49m\u001b[43m(\u001b[49m\u001b[43mx\u001b[49m\u001b[43m)\u001b[49m\n",
      "\u001b[1;31mStopIteration\u001b[0m: "
     ]
    }
   ],
   "source": [
    "next(x)"
   ]
  },
  {
   "cell_type": "code",
   "execution_count": 36,
   "id": "aeb24ac1-7311-42a3-a44a-6b126c6123ba",
   "metadata": {},
   "outputs": [],
   "source": [
    "y=step()"
   ]
  },
  {
   "cell_type": "code",
   "execution_count": 37,
   "id": "0dac615f-a6a2-465f-9174-30f219e88115",
   "metadata": {},
   "outputs": [
    {
     "data": {
      "text/plain": [
       "1"
      ]
     },
     "execution_count": 37,
     "metadata": {},
     "output_type": "execute_result"
    }
   ],
   "source": [
    "y.__next__()"
   ]
  },
  {
   "cell_type": "code",
   "execution_count": 38,
   "id": "83f0fc9e-7e10-45d6-96c3-cfca45da4ade",
   "metadata": {},
   "outputs": [
    {
     "data": {
      "text/plain": [
       "2"
      ]
     },
     "execution_count": 38,
     "metadata": {},
     "output_type": "execute_result"
    }
   ],
   "source": [
    "y.__next__()"
   ]
  },
  {
   "cell_type": "code",
   "execution_count": 39,
   "id": "049a609e-8c37-4337-aa46-9e72a3a27e35",
   "metadata": {},
   "outputs": [
    {
     "data": {
      "text/plain": [
       "3"
      ]
     },
     "execution_count": 39,
     "metadata": {},
     "output_type": "execute_result"
    }
   ],
   "source": [
    "y.__next__()"
   ]
  },
  {
   "cell_type": "code",
   "execution_count": 40,
   "id": "133df6df-3c3d-4f28-88ae-5b56dafd26f2",
   "metadata": {},
   "outputs": [
    {
     "ename": "StopIteration",
     "evalue": "",
     "output_type": "error",
     "traceback": [
      "\u001b[1;31m---------------------------------------------------------------------------\u001b[0m",
      "\u001b[1;31mStopIteration\u001b[0m                             Traceback (most recent call last)",
      "Cell \u001b[1;32mIn[40], line 1\u001b[0m\n\u001b[1;32m----> 1\u001b[0m \u001b[43my\u001b[49m\u001b[38;5;241;43m.\u001b[39;49m\u001b[38;5;21;43m__next__\u001b[39;49m\u001b[43m(\u001b[49m\u001b[43m)\u001b[49m\n",
      "\u001b[1;31mStopIteration\u001b[0m: "
     ]
    }
   ],
   "source": [
    "y.__next__()"
   ]
  },
  {
   "cell_type": "code",
   "execution_count": null,
   "id": "8277c4e7-d367-4243-a27f-6b4b8ff9a561",
   "metadata": {},
   "outputs": [],
   "source": []
  }
 ],
 "metadata": {
  "kernelspec": {
   "display_name": "Python 3 (ipykernel)",
   "language": "python",
   "name": "python3"
  },
  "language_info": {
   "codemirror_mode": {
    "name": "ipython",
    "version": 3
   },
   "file_extension": ".py",
   "mimetype": "text/x-python",
   "name": "python",
   "nbconvert_exporter": "python",
   "pygments_lexer": "ipython3",
   "version": "3.11.4"
  }
 },
 "nbformat": 4,
 "nbformat_minor": 5
}
