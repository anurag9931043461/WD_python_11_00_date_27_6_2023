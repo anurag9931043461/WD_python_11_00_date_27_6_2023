{
 "cells": [
  {
   "cell_type": "markdown",
   "id": "56772e0f-d875-45eb-ac69-f5451a45fe0f",
   "metadata": {},
   "source": [
    "# String\n",
    "\n",
    "> string constructor is str()\n",
    "\n",
    "> string literal is '',\"\",\"\"\"\"\"\",''''''\n",
    "\n",
    "> string is a set of sequence of character\n",
    "\n",
    "> string support indexing \n",
    "\n",
    "> string support slicing \n",
    "\n",
    "> string support concatination \n",
    "\n",
    "> string is immutable(also known as hashable)\n",
    "\n",
    "> string methods"
   ]
  },
  {
   "cell_type": "code",
   "execution_count": 4,
   "id": "4a3c3c4c-91d5-47a1-94f8-bec21be8958d",
   "metadata": {},
   "outputs": [],
   "source": [
    "a=\"KRISHNA\""
   ]
  },
  {
   "cell_type": "code",
   "execution_count": 5,
   "id": "28c7af97-b855-41f6-a9f6-75b5b2a9dcfd",
   "metadata": {},
   "outputs": [
    {
     "name": "stdout",
     "output_type": "stream",
     "text": [
      "KRISHNA\n"
     ]
    }
   ],
   "source": [
    "print(a)"
   ]
  },
  {
   "cell_type": "code",
   "execution_count": null,
   "id": "1590c8ff-ad1c-437a-a36d-e15dc71c7dc6",
   "metadata": {},
   "outputs": [],
   "source": [
    "a[]"
   ]
  }
 ],
 "metadata": {
  "kernelspec": {
   "display_name": "Python 3 (ipykernel)",
   "language": "python",
   "name": "python3"
  },
  "language_info": {
   "codemirror_mode": {
    "name": "ipython",
    "version": 3
   },
   "file_extension": ".py",
   "mimetype": "text/x-python",
   "name": "python",
   "nbconvert_exporter": "python",
   "pygments_lexer": "ipython3",
   "version": "3.10.9"
  }
 },
 "nbformat": 4,
 "nbformat_minor": 5
}
