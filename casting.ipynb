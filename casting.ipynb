{
 "cells": [
  {
   "cell_type": "markdown",
   "id": "40cde355-f68f-4177-b1d3-adf7a76ffce0",
   "metadata": {},
   "source": [
    "# Casting:\n",
    "\n",
    "> conversion of one datatype to another datatype called casting."
   ]
  },
  {
   "cell_type": "markdown",
   "id": "ff030c02-f9a5-4423-8381-07a0571b4c93",
   "metadata": {},
   "source": [
    "int(),float(),str(),list(),tuple(),set(),frozenset(),dict(),bool(),complex()"
   ]
  },
  {
   "cell_type": "code",
   "execution_count": 3,
   "id": "4133e9e9-860e-4a4f-9a9b-c74c4866d2d4",
   "metadata": {},
   "outputs": [
    {
     "name": "stdout",
     "output_type": "stream",
     "text": [
      "<class 'int'> 10\n"
     ]
    }
   ],
   "source": [
    "a=10\n",
    "print(type(a),a)"
   ]
  },
  {
   "cell_type": "markdown",
   "id": "857e2505-ac96-4851-b9cb-36e7d869d1ad",
   "metadata": {},
   "source": [
    "# int to float and string"
   ]
  },
  {
   "cell_type": "code",
   "execution_count": 7,
   "id": "377970f0-28e7-4769-86fb-deac634811c1",
   "metadata": {},
   "outputs": [
    {
     "data": {
      "text/plain": [
       "10.0"
      ]
     },
     "execution_count": 7,
     "metadata": {},
     "output_type": "execute_result"
    }
   ],
   "source": [
    "b=float(a)\n",
    "b"
   ]
  },
  {
   "cell_type": "code",
   "execution_count": 8,
   "id": "6c1519bd-bf96-47e5-a773-9a975f3a3759",
   "metadata": {},
   "outputs": [
    {
     "name": "stdout",
     "output_type": "stream",
     "text": [
      "10\n"
     ]
    }
   ],
   "source": [
    "print(a)"
   ]
  },
  {
   "cell_type": "code",
   "execution_count": 10,
   "id": "0d4a9e36-1fbb-4cf0-a0ac-b046d7300bed",
   "metadata": {},
   "outputs": [
    {
     "data": {
      "text/plain": [
       "'10'"
      ]
     },
     "execution_count": 10,
     "metadata": {},
     "output_type": "execute_result"
    }
   ],
   "source": [
    "c=str(a)\n",
    "c"
   ]
  },
  {
   "cell_type": "code",
   "execution_count": 11,
   "id": "2256c992-f32d-409f-a06f-c85c230e47a9",
   "metadata": {},
   "outputs": [
    {
     "name": "stdout",
     "output_type": "stream",
     "text": [
      "10\n"
     ]
    }
   ],
   "source": [
    "print(a)"
   ]
  },
  {
   "cell_type": "markdown",
   "id": "09526379-ce20-4b80-aeae-03733ffe24c5",
   "metadata": {},
   "source": [
    "# float to int and string"
   ]
  },
  {
   "cell_type": "code",
   "execution_count": 14,
   "id": "14b16727-cfda-4126-a9fe-e66c440fba64",
   "metadata": {},
   "outputs": [
    {
     "name": "stdout",
     "output_type": "stream",
     "text": [
      "<class 'float'> 10.99\n"
     ]
    }
   ],
   "source": [
    "a=10.99\n",
    "print(type(a),a)"
   ]
  },
  {
   "cell_type": "code",
   "execution_count": 16,
   "id": "56f3c3ab-1800-4515-a8f9-478f821cd2de",
   "metadata": {},
   "outputs": [
    {
     "data": {
      "text/plain": [
       "10"
      ]
     },
     "execution_count": 16,
     "metadata": {},
     "output_type": "execute_result"
    }
   ],
   "source": [
    "b=int(a)\n",
    "b"
   ]
  },
  {
   "cell_type": "code",
   "execution_count": 18,
   "id": "bf571f86-b17d-49f5-9d3a-87235c08c406",
   "metadata": {},
   "outputs": [],
   "source": [
    "c=str(a)"
   ]
  },
  {
   "cell_type": "code",
   "execution_count": 19,
   "id": "97c443a5-56f3-4306-aacf-cc073bac3399",
   "metadata": {},
   "outputs": [
    {
     "data": {
      "text/plain": [
       "'10.99'"
      ]
     },
     "execution_count": 19,
     "metadata": {},
     "output_type": "execute_result"
    }
   ],
   "source": [
    "c"
   ]
  },
  {
   "cell_type": "markdown",
   "id": "ef8dc76b-c539-476d-b557-42372ee1fb62",
   "metadata": {},
   "source": [
    "# string to int and float"
   ]
  },
  {
   "cell_type": "code",
   "execution_count": 20,
   "id": "a169d176-7326-456c-8a7a-f18b72050ec4",
   "metadata": {},
   "outputs": [],
   "source": [
    "a=\"10\""
   ]
  },
  {
   "cell_type": "code",
   "execution_count": 21,
   "id": "0ad25705-80f4-46ef-9be0-dc1a0ba30054",
   "metadata": {},
   "outputs": [
    {
     "data": {
      "text/plain": [
       "10"
      ]
     },
     "execution_count": 21,
     "metadata": {},
     "output_type": "execute_result"
    }
   ],
   "source": [
    "int(a)"
   ]
  },
  {
   "cell_type": "code",
   "execution_count": 23,
   "id": "94c845f1-5433-4382-be3b-c76efd44d5a8",
   "metadata": {},
   "outputs": [
    {
     "data": {
      "text/plain": [
       "10.0"
      ]
     },
     "execution_count": 23,
     "metadata": {},
     "output_type": "execute_result"
    }
   ],
   "source": [
    "float(a)"
   ]
  },
  {
   "cell_type": "code",
   "execution_count": 24,
   "id": "0cd60d60-686a-4962-a354-898c706e506d",
   "metadata": {},
   "outputs": [],
   "source": [
    "z=\"10.99\""
   ]
  },
  {
   "cell_type": "code",
   "execution_count": 25,
   "id": "27d61cad-f6c7-43f6-a5aa-03745ecee54a",
   "metadata": {},
   "outputs": [
    {
     "ename": "ValueError",
     "evalue": "invalid literal for int() with base 10: '10.99'",
     "output_type": "error",
     "traceback": [
      "\u001b[1;31m---------------------------------------------------------------------------\u001b[0m",
      "\u001b[1;31mValueError\u001b[0m                                Traceback (most recent call last)",
      "Cell \u001b[1;32mIn[25], line 1\u001b[0m\n\u001b[1;32m----> 1\u001b[0m \u001b[38;5;28;43mint\u001b[39;49m\u001b[43m(\u001b[49m\u001b[43mz\u001b[49m\u001b[43m)\u001b[49m\n",
      "\u001b[1;31mValueError\u001b[0m: invalid literal for int() with base 10: '10.99'"
     ]
    }
   ],
   "source": [
    "int(z)"
   ]
  },
  {
   "cell_type": "code",
   "execution_count": 28,
   "id": "50b2e249-11f3-445c-a875-7f0f619c7526",
   "metadata": {},
   "outputs": [
    {
     "data": {
      "text/plain": [
       "10.99"
      ]
     },
     "execution_count": 28,
     "metadata": {},
     "output_type": "execute_result"
    }
   ],
   "source": [
    "b=float(z)\n",
    "b"
   ]
  },
  {
   "cell_type": "code",
   "execution_count": 29,
   "id": "28a9c681-6119-4929-a61b-d6a8dcabe468",
   "metadata": {},
   "outputs": [
    {
     "data": {
      "text/plain": [
       "10"
      ]
     },
     "execution_count": 29,
     "metadata": {},
     "output_type": "execute_result"
    }
   ],
   "source": [
    "int(b)"
   ]
  },
  {
   "cell_type": "code",
   "execution_count": 30,
   "id": "3ffe6bd1-fbc0-4487-9686-65c66ba8f1bb",
   "metadata": {},
   "outputs": [],
   "source": [
    "# list, tuple, set, frozenset"
   ]
  },
  {
   "cell_type": "code",
   "execution_count": 32,
   "id": "4eb5aed6-3a8a-4752-9631-1b00b2aa2846",
   "metadata": {},
   "outputs": [],
   "source": [
    "a=[1,2,3,4,5,6,6]"
   ]
  },
  {
   "cell_type": "code",
   "execution_count": 33,
   "id": "98a588db-68f6-413d-86ac-7e422e2a7c84",
   "metadata": {},
   "outputs": [
    {
     "data": {
      "text/plain": [
       "(1, 2, 3, 4, 5, 6, 6)"
      ]
     },
     "execution_count": 33,
     "metadata": {},
     "output_type": "execute_result"
    }
   ],
   "source": [
    "tuple(a)"
   ]
  },
  {
   "cell_type": "code",
   "execution_count": 34,
   "id": "3f131c21-546c-46f2-b073-14949537a553",
   "metadata": {},
   "outputs": [
    {
     "data": {
      "text/plain": [
       "{1, 2, 3, 4, 5, 6}"
      ]
     },
     "execution_count": 34,
     "metadata": {},
     "output_type": "execute_result"
    }
   ],
   "source": [
    "set(a)"
   ]
  },
  {
   "cell_type": "code",
   "execution_count": 35,
   "id": "87fde45a-8264-4e69-b42e-03be48c0b8c3",
   "metadata": {},
   "outputs": [
    {
     "data": {
      "text/plain": [
       "frozenset({1, 2, 3, 4, 5, 6})"
      ]
     },
     "execution_count": 35,
     "metadata": {},
     "output_type": "execute_result"
    }
   ],
   "source": [
    "frozenset(a)"
   ]
  },
  {
   "cell_type": "code",
   "execution_count": 36,
   "id": "e11f76d9-c827-4824-9cdf-fc70ae5889b1",
   "metadata": {},
   "outputs": [],
   "source": [
    "a=(1,2,3,4,5,6,7,8)"
   ]
  },
  {
   "cell_type": "code",
   "execution_count": 39,
   "id": "8cf68b8f-f478-4686-8508-f82d0024f349",
   "metadata": {},
   "outputs": [
    {
     "data": {
      "text/plain": [
       "[1, 2, 3, 4, 5, 6, 7, 8]"
      ]
     },
     "execution_count": 39,
     "metadata": {},
     "output_type": "execute_result"
    }
   ],
   "source": [
    "b=list(a)\n",
    "b"
   ]
  },
  {
   "cell_type": "code",
   "execution_count": 40,
   "id": "f5f5921e-7510-427a-b569-ddb2bbeb36f6",
   "metadata": {},
   "outputs": [],
   "source": [
    "b.append(10)"
   ]
  },
  {
   "cell_type": "code",
   "execution_count": 41,
   "id": "9fab9600-40a8-411d-8025-a774b232f451",
   "metadata": {},
   "outputs": [
    {
     "data": {
      "text/plain": [
       "[1, 2, 3, 4, 5, 6, 7, 8, 10]"
      ]
     },
     "execution_count": 41,
     "metadata": {},
     "output_type": "execute_result"
    }
   ],
   "source": [
    "b"
   ]
  },
  {
   "cell_type": "code",
   "execution_count": 42,
   "id": "b2dcb762-5b3a-4fb8-80d2-05f3ff8b1477",
   "metadata": {},
   "outputs": [],
   "source": [
    "a=tuple(b)"
   ]
  },
  {
   "cell_type": "code",
   "execution_count": 43,
   "id": "69612c91-0f8d-4f59-80a1-e6e53b3935cb",
   "metadata": {},
   "outputs": [
    {
     "data": {
      "text/plain": [
       "(1, 2, 3, 4, 5, 6, 7, 8, 10)"
      ]
     },
     "execution_count": 43,
     "metadata": {},
     "output_type": "execute_result"
    }
   ],
   "source": [
    "a"
   ]
  },
  {
   "cell_type": "code",
   "execution_count": null,
   "id": "c211da46-2666-4353-a07d-5309e95d4d83",
   "metadata": {},
   "outputs": [],
   "source": []
  }
 ],
 "metadata": {
  "kernelspec": {
   "display_name": "Python 3 (ipykernel)",
   "language": "python",
   "name": "python3"
  },
  "language_info": {
   "codemirror_mode": {
    "name": "ipython",
    "version": 3
   },
   "file_extension": ".py",
   "mimetype": "text/x-python",
   "name": "python",
   "nbconvert_exporter": "python",
   "pygments_lexer": "ipython3",
   "version": "3.11.4"
  }
 },
 "nbformat": 4,
 "nbformat_minor": 5
}
