{
 "cells": [
  {
   "cell_type": "code",
   "execution_count": 1,
   "id": "f0a1c7d5-71ef-47a5-9f7f-d43c85d99e19",
   "metadata": {},
   "outputs": [],
   "source": [
    "# Inheritance"
   ]
  },
  {
   "cell_type": "code",
   "execution_count": 3,
   "id": "542af5fe-83bb-4f58-a7c1-1f99bee3ed00",
   "metadata": {},
   "outputs": [],
   "source": [
    "class Buyer:\n",
    "    def register(self):\n",
    "        print(\"Welcome to register section\")\n",
    "    def login(self):\n",
    "        print(\"Welcome to login section\")\n",
    "    def payment(self):\n",
    "        print(\"Welcome to payment section\")"
   ]
  },
  {
   "cell_type": "code",
   "execution_count": 4,
   "id": "4014ebca-5ded-43e3-b55d-56008ddc9f69",
   "metadata": {},
   "outputs": [],
   "source": [
    "class Seller:\n",
    "    def register(self):\n",
    "        print(\"Welcome to register section\")\n",
    "    def login(self):\n",
    "        print(\"Welcome to login section\")\n",
    "    def collection(self):\n",
    "        print(\"Welcome to payment collection\")"
   ]
  },
  {
   "cell_type": "code",
   "execution_count": 5,
   "id": "ca75f7ae-eb07-4612-aa5e-d143882f7a59",
   "metadata": {},
   "outputs": [],
   "source": [
    "krishna=Buyer()"
   ]
  },
  {
   "cell_type": "code",
   "execution_count": 7,
   "id": "40ec9bad-f8f5-46fb-bd0e-2576bcc6be1a",
   "metadata": {},
   "outputs": [],
   "source": [
    "Rohan=Seller()"
   ]
  },
  {
   "cell_type": "markdown",
   "id": "63f4102f-2e22-440c-a89d-bebaa496d23e",
   "metadata": {},
   "source": [
    "# After inheritance"
   ]
  },
  {
   "cell_type": "code",
   "execution_count": 14,
   "id": "0da741c9-c1dd-4178-854e-80261a46ece8",
   "metadata": {},
   "outputs": [],
   "source": [
    "class Login_register:\n",
    "    def register(self):\n",
    "        print(\"Welcome to register section\")\n",
    "    def login(self):\n",
    "        print(\"Welcome to login section\")\n",
    "        \n",
    "class Buyer(Login_register):\n",
    "    def payment(self):\n",
    "        print(\"Welcome to payment section\")\n",
    "\n",
    "class Seller(Login_register):\n",
    "    def collection(self):\n",
    "        print(\"Welcome to payment collection\")"
   ]
  },
  {
   "cell_type": "code",
   "execution_count": 15,
   "id": "a60d412b-cfa6-4ad9-8263-5a52ecfd488a",
   "metadata": {},
   "outputs": [],
   "source": [
    "krishna=Buyer()"
   ]
  },
  {
   "cell_type": "code",
   "execution_count": 17,
   "id": "d0b9898c-13bf-44b3-88b6-8d414db8c51a",
   "metadata": {},
   "outputs": [],
   "source": [
    "Rohan=Seller()"
   ]
  },
  {
   "cell_type": "markdown",
   "id": "bb7ad2f7-b8ab-4ee6-ab7e-69e3d7f4707a",
   "metadata": {},
   "source": [
    "# Single level Inheritance"
   ]
  },
  {
   "cell_type": "code",
   "execution_count": 19,
   "id": "fa77c121-e9c7-4689-acd3-29b42f703c0b",
   "metadata": {},
   "outputs": [],
   "source": [
    "class A:\n",
    "    def x(self):\n",
    "        print(\"I am A\")\n",
    "class B(A):\n",
    "    def y(self):\n",
    "        print(\"I am B\")"
   ]
  },
  {
   "cell_type": "code",
   "execution_count": 20,
   "id": "eab2b5a8-44b4-4b00-bf04-f12988b54d2d",
   "metadata": {},
   "outputs": [],
   "source": [
    "abc=B()"
   ]
  },
  {
   "cell_type": "code",
   "execution_count": 21,
   "id": "cb5d1915-d67b-4332-a41c-e3a2a61e7210",
   "metadata": {},
   "outputs": [
    {
     "name": "stdout",
     "output_type": "stream",
     "text": [
      "I am A\n"
     ]
    }
   ],
   "source": [
    "abc.x()"
   ]
  },
  {
   "cell_type": "code",
   "execution_count": 25,
   "id": "e6f40da0-69aa-48bf-a678-65333ef610be",
   "metadata": {},
   "outputs": [
    {
     "name": "stdout",
     "output_type": "stream",
     "text": [
      "I am B\n"
     ]
    }
   ],
   "source": [
    "abc.y()"
   ]
  },
  {
   "cell_type": "markdown",
   "id": "c422e95f-6bb5-4266-bc8f-cbf985fff423",
   "metadata": {},
   "source": [
    "# Multi level inheritance"
   ]
  },
  {
   "cell_type": "code",
   "execution_count": 28,
   "id": "85a53db0-8a40-45c2-b75b-e7dcaf6fc01b",
   "metadata": {},
   "outputs": [],
   "source": [
    "class A:\n",
    "    def x(self):\n",
    "        print(\"I am A\")\n",
    "class B(A):\n",
    "    def y(self):\n",
    "        print(\"I am B\")\n",
    "class C(B):\n",
    "    def z(self):\n",
    "        print(\"I am C\")"
   ]
  },
  {
   "cell_type": "code",
   "execution_count": 29,
   "id": "f7ba3036-46e3-4027-9b31-149d5c3f7585",
   "metadata": {},
   "outputs": [],
   "source": [
    "Rana=C()"
   ]
  },
  {
   "cell_type": "code",
   "execution_count": 30,
   "id": "eac1d91b-dbd5-460c-9fee-b3174af64286",
   "metadata": {},
   "outputs": [
    {
     "name": "stdout",
     "output_type": "stream",
     "text": [
      "I am A\n"
     ]
    }
   ],
   "source": [
    "Rana.x()"
   ]
  },
  {
   "cell_type": "code",
   "execution_count": 31,
   "id": "be9ea834-e7a3-43ce-b355-57a64ae3e673",
   "metadata": {},
   "outputs": [
    {
     "name": "stdout",
     "output_type": "stream",
     "text": [
      "I am B\n"
     ]
    }
   ],
   "source": [
    "Rana.y()"
   ]
  },
  {
   "cell_type": "code",
   "execution_count": 32,
   "id": "f2005aa9-48bb-47f3-a83b-d971a08b5343",
   "metadata": {},
   "outputs": [
    {
     "name": "stdout",
     "output_type": "stream",
     "text": [
      "I am C\n"
     ]
    }
   ],
   "source": [
    "Rana.z()"
   ]
  },
  {
   "cell_type": "markdown",
   "id": "c6fbb754-267d-47c4-80a2-642466d80da4",
   "metadata": {},
   "source": [
    "# Hierarchical Inheritance"
   ]
  },
  {
   "cell_type": "code",
   "execution_count": 34,
   "id": "3f122ffc-8428-41a1-84e3-e0ed3928529d",
   "metadata": {},
   "outputs": [],
   "source": [
    "class A:\n",
    "    def login(self):\n",
    "        print(\"welcome to login section\")\n",
    "class Balance(A):\n",
    "    def enquiry(self):\n",
    "        print(\"Welcome to balance enquiry section\")\n",
    "class Collection(A):\n",
    "    def withdrawal(self):\n",
    "        print(\"Welcome to withdrawal section\")\n"
   ]
  },
  {
   "cell_type": "code",
   "execution_count": 35,
   "id": "56bfcdb0-0a39-4616-8f4f-a1e750721891",
   "metadata": {},
   "outputs": [],
   "source": [
    "Rana=Balance()"
   ]
  },
  {
   "cell_type": "code",
   "execution_count": 37,
   "id": "5bac58be-ca10-429b-bc3a-cb034fe35b62",
   "metadata": {},
   "outputs": [],
   "source": [
    "Rana=Collection()"
   ]
  },
  {
   "cell_type": "markdown",
   "id": "d27e1f66-29b8-421f-92b8-6448241e1dfe",
   "metadata": {},
   "source": [
    "# Multiple inheritance"
   ]
  },
  {
   "cell_type": "code",
   "execution_count": 39,
   "id": "bd9b5e66-f58b-415e-b8b0-cfea7b7a3bcf",
   "metadata": {},
   "outputs": [],
   "source": [
    "class A:\n",
    "    def a(self):\n",
    "        print(\"I am A\")\n",
    "class D:\n",
    "    def d(self):\n",
    "        print(\"I am d\")\n",
    "class E:\n",
    "    def e(self):\n",
    "        print(\"I am e\")\n",
    "\n",
    "class Rana(A,D,E):\n",
    "    pass"
   ]
  },
  {
   "cell_type": "code",
   "execution_count": 40,
   "id": "bb7873cf-965a-4a7a-8da7-b14f5764780d",
   "metadata": {},
   "outputs": [],
   "source": [
    "Himanshu=Rana()"
   ]
  },
  {
   "cell_type": "code",
   "execution_count": 41,
   "id": "81899947-a226-45ed-bdce-19078c91f11d",
   "metadata": {},
   "outputs": [
    {
     "name": "stdout",
     "output_type": "stream",
     "text": [
      "I am A\n"
     ]
    }
   ],
   "source": [
    "Himanshu.a()"
   ]
  },
  {
   "cell_type": "code",
   "execution_count": 42,
   "id": "14184ca7-cc22-48c3-b349-fdf1e98dfe08",
   "metadata": {},
   "outputs": [
    {
     "name": "stdout",
     "output_type": "stream",
     "text": [
      "I am d\n"
     ]
    }
   ],
   "source": [
    "Himanshu.d()"
   ]
  },
  {
   "cell_type": "code",
   "execution_count": null,
   "id": "a5672869-26de-4241-aa20-eed95fab5b2c",
   "metadata": {},
   "outputs": [],
   "source": [
    "> overriding in inheritance\n",
    "> hybrid inheritance"
   ]
  }
 ],
 "metadata": {
  "kernelspec": {
   "display_name": "Python 3 (ipykernel)",
   "language": "python",
   "name": "python3"
  },
  "language_info": {
   "codemirror_mode": {
    "name": "ipython",
    "version": 3
   },
   "file_extension": ".py",
   "mimetype": "text/x-python",
   "name": "python",
   "nbconvert_exporter": "python",
   "pygments_lexer": "ipython3",
   "version": "3.11.5"
  }
 },
 "nbformat": 4,
 "nbformat_minor": 5
}
