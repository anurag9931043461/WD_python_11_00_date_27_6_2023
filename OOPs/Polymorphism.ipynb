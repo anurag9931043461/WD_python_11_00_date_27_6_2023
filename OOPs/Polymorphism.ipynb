{
 "cells": [
  {
   "cell_type": "markdown",
   "id": "e7f464ab-803e-4336-b8ca-fcc0ea600d33",
   "metadata": {},
   "source": [
    "# Polymorphism\n",
    "\n",
    "> Overloading  #java\n",
    "\n",
    "    > constructor overloading\n",
    "\n",
    "    > method overloading\n",
    "\n",
    "> Overriding   #python"
   ]
  },
  {
   "cell_type": "code",
   "execution_count": 2,
   "id": "e08cffc9-3644-4001-90ec-620791f9694d",
   "metadata": {},
   "outputs": [],
   "source": [
    "class A:\n",
    "    def add(self,a,b):\n",
    "        print(a+b)\n",
    "\n",
    "    def add(self,a,b,c):\n",
    "        print(a+b+c)"
   ]
  },
  {
   "cell_type": "code",
   "execution_count": 3,
   "id": "58592e2b-7c6b-408f-8a95-effe271e3627",
   "metadata": {},
   "outputs": [],
   "source": [
    "krishna=A()"
   ]
  },
  {
   "cell_type": "code",
   "execution_count": 4,
   "id": "a26c9a59-a654-4eb5-af6a-41774be837db",
   "metadata": {},
   "outputs": [
    {
     "name": "stdout",
     "output_type": "stream",
     "text": [
      "60\n"
     ]
    }
   ],
   "source": [
    "krishna.add(10,20,30)"
   ]
  },
  {
   "cell_type": "code",
   "execution_count": 5,
   "id": "6ad1c860-5cf6-4208-a590-c34c52251953",
   "metadata": {},
   "outputs": [],
   "source": [
    "class A:\n",
    "    def add1(self,a,b):\n",
    "        print(a+b)\n",
    "\n",
    "    def add(self,a,b,c):\n",
    "        print(a+b+c)"
   ]
  },
  {
   "cell_type": "code",
   "execution_count": 6,
   "id": "914e39d9-f9a5-4836-b725-f86801fef147",
   "metadata": {},
   "outputs": [],
   "source": [
    "vikram=A()"
   ]
  },
  {
   "cell_type": "code",
   "execution_count": 7,
   "id": "3c716dbb-a85f-481f-b84d-01d9f9bec2be",
   "metadata": {},
   "outputs": [
    {
     "name": "stdout",
     "output_type": "stream",
     "text": [
      "60\n"
     ]
    }
   ],
   "source": [
    "vikram.add(10,20,30)"
   ]
  },
  {
   "cell_type": "code",
   "execution_count": 8,
   "id": "74326001-181e-4e90-9852-60f91348f611",
   "metadata": {},
   "outputs": [
    {
     "name": "stdout",
     "output_type": "stream",
     "text": [
      "30\n"
     ]
    }
   ],
   "source": [
    "vikram.add1(10,20)"
   ]
  },
  {
   "cell_type": "code",
   "execution_count": 9,
   "id": "ccd7dae5-1fec-449a-b3fb-0a0014f99571",
   "metadata": {},
   "outputs": [],
   "source": [
    "class A:\n",
    "    def add(self,a,b,c=0):\n",
    "        if c==0:\n",
    "            print(a+b)\n",
    "        else:\n",
    "            print(a+b+c)"
   ]
  },
  {
   "cell_type": "code",
   "execution_count": 10,
   "id": "e538b86b-5ff0-4942-b19d-b92ed9977a94",
   "metadata": {},
   "outputs": [],
   "source": [
    "krishna=A()"
   ]
  },
  {
   "cell_type": "code",
   "execution_count": 11,
   "id": "e93e5e2a-fbe2-4e6f-afe0-c40d89170371",
   "metadata": {},
   "outputs": [
    {
     "name": "stdout",
     "output_type": "stream",
     "text": [
      "30\n"
     ]
    }
   ],
   "source": [
    "krishna.add(10,20)"
   ]
  },
  {
   "cell_type": "code",
   "execution_count": 12,
   "id": "5229420a-8a48-4348-b584-cfdc6f5cb5d0",
   "metadata": {},
   "outputs": [
    {
     "name": "stdout",
     "output_type": "stream",
     "text": [
      "60\n"
     ]
    }
   ],
   "source": [
    "krishna.add(10,20,30)"
   ]
  },
  {
   "cell_type": "code",
   "execution_count": 13,
   "id": "d346006e-e557-4a96-ba5a-6c80e974d2f2",
   "metadata": {},
   "outputs": [],
   "source": [
    "class A:\n",
    "    def add(self,a,b,c=0):\n",
    "            print(a+b+c)"
   ]
  },
  {
   "cell_type": "code",
   "execution_count": 14,
   "id": "9e8429e4-6487-4bfa-a8f1-691af757312c",
   "metadata": {},
   "outputs": [],
   "source": [
    "vikram=A()"
   ]
  },
  {
   "cell_type": "code",
   "execution_count": 15,
   "id": "a0912c82-3005-453a-ad01-1c0c21091fd2",
   "metadata": {},
   "outputs": [
    {
     "name": "stdout",
     "output_type": "stream",
     "text": [
      "30\n"
     ]
    }
   ],
   "source": [
    "vikram.add(10,20)"
   ]
  },
  {
   "cell_type": "code",
   "execution_count": 16,
   "id": "ac78a5a1-9850-4e3d-acaf-ae51dc56cb23",
   "metadata": {},
   "outputs": [
    {
     "name": "stdout",
     "output_type": "stream",
     "text": [
      "60\n"
     ]
    }
   ],
   "source": [
    "vikram.add(10,20,30)"
   ]
  },
  {
   "cell_type": "code",
   "execution_count": 17,
   "id": "59536464-236e-4940-9265-00632e19ec84",
   "metadata": {},
   "outputs": [],
   "source": [
    "class Shape:\n",
    "    def Pattern(self,a,b=0):\n",
    "        if b==0:\n",
    "            print(\"area of square:\",a*a) \n",
    "        else:\n",
    "            print(\"area of triangle:\",0.5*a*b)"
   ]
  },
  {
   "cell_type": "code",
   "execution_count": 18,
   "id": "5c7769ca-9a62-427f-86ef-d028be741360",
   "metadata": {},
   "outputs": [],
   "source": [
    "abc=Shape()"
   ]
  },
  {
   "cell_type": "code",
   "execution_count": 19,
   "id": "e1a98419-8e29-4881-8999-2ee9cbe480ee",
   "metadata": {},
   "outputs": [
    {
     "name": "stdout",
     "output_type": "stream",
     "text": [
      "area of square: 100\n"
     ]
    }
   ],
   "source": [
    "abc.Pattern(10)"
   ]
  },
  {
   "cell_type": "code",
   "execution_count": 21,
   "id": "60c63022-0640-4663-8d50-cb36f562953b",
   "metadata": {},
   "outputs": [
    {
     "name": "stdout",
     "output_type": "stream",
     "text": [
      "area of triangle: 25.0\n"
     ]
    }
   ],
   "source": [
    "abc.Pattern(5,10)"
   ]
  },
  {
   "cell_type": "code",
   "execution_count": 32,
   "id": "38bbbd7e-e4bd-498b-93f3-aa37c2399147",
   "metadata": {},
   "outputs": [],
   "source": [
    "import math\n",
    "class ABC:\n",
    "    def circle(self,area_of_circle):\n",
    "        r=math.sqrt((area_of_circle*7)/22)\n",
    "        print(\"radius of circle:\",r)\n",
    "        circumferance=2*(22/7)*r\n",
    "        print(\"circumference of circle: \",circumferance)"
   ]
  },
  {
   "cell_type": "code",
   "execution_count": 33,
   "id": "c76d2e3d-6680-4f64-b4c6-3c97194bbab2",
   "metadata": {},
   "outputs": [],
   "source": [
    "a=ABC()"
   ]
  },
  {
   "cell_type": "code",
   "execution_count": 34,
   "id": "02ab979e-4203-40a3-809e-8e0ec5fc69c8",
   "metadata": {},
   "outputs": [
    {
     "name": "stdout",
     "output_type": "stream",
     "text": [
      "radius of circle: 22160537500.809116\n",
      "circumference of circle:  139294807147.94302\n"
     ]
    }
   ],
   "source": [
    "a.circle(1543423898734982374923)"
   ]
  },
  {
   "cell_type": "code",
   "execution_count": null,
   "id": "c6b4e177-009e-428a-9251-6baf78c224ea",
   "metadata": {},
   "outputs": [],
   "source": []
  }
 ],
 "metadata": {
  "kernelspec": {
   "display_name": "Python 3 (ipykernel)",
   "language": "python",
   "name": "python3"
  },
  "language_info": {
   "codemirror_mode": {
    "name": "ipython",
    "version": 3
   },
   "file_extension": ".py",
   "mimetype": "text/x-python",
   "name": "python",
   "nbconvert_exporter": "python",
   "pygments_lexer": "ipython3",
   "version": "3.11.5"
  }
 },
 "nbformat": 4,
 "nbformat_minor": 5
}
