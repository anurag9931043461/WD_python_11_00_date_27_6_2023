{
 "cells": [
  {
   "cell_type": "code",
   "execution_count": 2,
   "id": "8a80f7a4-3745-420f-ad93-1b1a53a7b046",
   "metadata": {},
   "outputs": [],
   "source": [
    "class Ola:\n",
    "    def __init__(self):\n",
    "        pass\n",
    "    def register(self):   #krishna\n",
    "        pass\n",
    "    def login(self):  # kunal\n",
    "        pass\n",
    "    def payment(self):  # manpreet\n",
    "        pass\n",
    "    def location(self): #Rawat\n",
    "        pass"
   ]
  },
  {
   "cell_type": "code",
   "execution_count": 3,
   "id": "b35400bf-77ec-4e99-baa3-2c592b9588ff",
   "metadata": {},
   "outputs": [],
   "source": [
    "krishna=Ola()"
   ]
  },
  {
   "cell_type": "code",
   "execution_count": 4,
   "id": "e47920b3-c412-43c7-955b-3d0cb5da68d2",
   "metadata": {},
   "outputs": [],
   "source": [
    "krishna.location()"
   ]
  },
  {
   "cell_type": "markdown",
   "id": "72f7ea21-9d8d-4f08-b4e7-8a01c6ed7970",
   "metadata": {},
   "source": [
    "# Abstraction:\n",
    "\n",
    "> child class must inherite ABC class \n",
    "\n",
    "> at least one method must be a abstract method."
   ]
  },
  {
   "cell_type": "code",
   "execution_count": null,
   "id": "3949bc04-9a6f-4bfb-b874-2510865ad84e",
   "metadata": {},
   "outputs": [],
   "source": [
    "class Ola:\n",
    "    def __init__(self):\n",
    "        pass\n",
    "    def register(self):   #krishna\n",
    "        pass\n",
    "    def login(self):  # kunal\n",
    "        pass\n",
    "    def payment(self):  # manpreet\n",
    "        pass\n",
    "    def location(self): #Rawat\n",
    "        pass"
   ]
  }
 ],
 "metadata": {
  "kernelspec": {
   "display_name": "Python 3 (ipykernel)",
   "language": "python",
   "name": "python3"
  },
  "language_info": {
   "codemirror_mode": {
    "name": "ipython",
    "version": 3
   },
   "file_extension": ".py",
   "mimetype": "text/x-python",
   "name": "python",
   "nbconvert_exporter": "python",
   "pygments_lexer": "ipython3",
   "version": "3.11.5"
  }
 },
 "nbformat": 4,
 "nbformat_minor": 5
}
