{
 "cells": [
  {
   "cell_type": "code",
   "execution_count": 36,
   "id": "c3a14343-cfc5-4758-8b00-b2e0a8069359",
   "metadata": {},
   "outputs": [],
   "source": [
    "class ATM:\n",
    "    def __init__(self):\n",
    "        self.__pin=1234\n",
    "        self.__balance=10000\n",
    "    def __show_pin(self):\n",
    "        print(\"your account pin is : \",self.__pin)\n",
    "\n",
    "    def show_balance(self):\n",
    "        print(\"your account balance is :\",self.__balance)"
   ]
  },
  {
   "cell_type": "code",
   "execution_count": 37,
   "id": "876ce4ec-de7a-4d1b-b8a5-6f3772ded8e2",
   "metadata": {},
   "outputs": [],
   "source": [
    "krishna=ATM()"
   ]
  },
  {
   "cell_type": "code",
   "execution_count": 38,
   "id": "532057f9-863b-47e0-80da-8d458aa57ee6",
   "metadata": {},
   "outputs": [
    {
     "name": "stdout",
     "output_type": "stream",
     "text": [
      "your account pin is :  1234\n"
     ]
    }
   ],
   "source": [
    "krishna._ATM__show_pin()"
   ]
  },
  {
   "cell_type": "code",
   "execution_count": 65,
   "id": "144f44ed-bcf1-40b7-ad0d-136c24c9e203",
   "metadata": {},
   "outputs": [],
   "source": [
    "import random\n",
    "class ATM:\n",
    "    def __init__(self):\n",
    "        self.__pin=\"1234\"\n",
    "        self.__balance=10000\n",
    "        self.__mobile=\"8700103696\"\n",
    "        self.__otp=str(random.randint(1000,9999))\n",
    "    def change_pin(self):\n",
    "        user=input(\"kindly enter your old pin:\")\n",
    "        mob=input(\"Enter your register mobile number:\")\n",
    "        if mob==self.__mobile:\n",
    "            print(\"your otp is:\",self.__otp)     \n",
    "            otp=input(\"Kindly enter your 4 digit otp:\")\n",
    "            if otp==self.__otp:\n",
    "                if self.__pin==user:\n",
    "                    user1=input(\"Kindly enter your new pin:\")\n",
    "                    user2=input(\"Kindly re-enter your pin:\")\n",
    "                    if user1==user2:\n",
    "                        print(\"your pin change successfully\")\n",
    "                        self.__pin=user1\n",
    "                    else:\n",
    "                        print(\"miss match pin\")\n",
    "                else:\n",
    "                    print(\"Kindly try again\")\n",
    "            else:\n",
    "                print(\"invalid otp\")\n",
    "    def show_balance(self):\n",
    "        user=int(input(\"Enter your pin:\"))\n",
    "        if user==self.__pin:\n",
    "            print(\"your account balance is :\",self.__balance)\n",
    "        else:\n",
    "            print(\"Try again\")"
   ]
  },
  {
   "cell_type": "code",
   "execution_count": 66,
   "id": "a414e28c-7db7-41e3-a73c-b207bc0e4d56",
   "metadata": {},
   "outputs": [],
   "source": [
    "krishna=ATM()"
   ]
  },
  {
   "cell_type": "code",
   "execution_count": 67,
   "id": "efd1f137-f61f-4a95-87ef-7afc5f69babd",
   "metadata": {},
   "outputs": [
    {
     "name": "stdin",
     "output_type": "stream",
     "text": [
      "kindly enter your old pin: 1234\n",
      "Enter your register mobile number: 8700103696\n"
     ]
    },
    {
     "name": "stdout",
     "output_type": "stream",
     "text": [
      "your otp is: 7788\n"
     ]
    },
    {
     "name": "stdin",
     "output_type": "stream",
     "text": [
      "Kindly enter your 4 digit otp: 7788\n",
      "Kindly enter your new pin: 9807\n",
      "Kindly re-enter your pin: 9807\n"
     ]
    },
    {
     "name": "stdout",
     "output_type": "stream",
     "text": [
      "your pin change successfully\n"
     ]
    }
   ],
   "source": [
    "krishna.change_pin()"
   ]
  },
  {
   "cell_type": "code",
   "execution_count": 55,
   "id": "1bde8cbe-515f-4448-b083-0be97e57077f",
   "metadata": {},
   "outputs": [
    {
     "name": "stdin",
     "output_type": "stream",
     "text": [
      "kindly enter your old pin: 1234\n"
     ]
    },
    {
     "name": "stdout",
     "output_type": "stream",
     "text": [
      "Kindly try again\n"
     ]
    }
   ],
   "source": [
    "krishna.change_pin()"
   ]
  },
  {
   "cell_type": "code",
   "execution_count": 56,
   "id": "e6f46f63-7d78-4aa9-b797-cc94b588fe98",
   "metadata": {},
   "outputs": [
    {
     "name": "stdin",
     "output_type": "stream",
     "text": [
      "kindly enter your old pin: 9807\n",
      "Kindly enter your new pin: 12345\n",
      "Kindly re-enter your pin: 12346\n"
     ]
    },
    {
     "name": "stdout",
     "output_type": "stream",
     "text": [
      "miss match pin\n"
     ]
    }
   ],
   "source": [
    "krishna.change_pin()"
   ]
  },
  {
   "cell_type": "code",
   "execution_count": 58,
   "id": "318b4cb0-5856-4f93-a084-4cc95673718f",
   "metadata": {},
   "outputs": [
    {
     "data": {
      "text/plain": [
       "6883"
      ]
     },
     "execution_count": 58,
     "metadata": {},
     "output_type": "execute_result"
    }
   ],
   "source": [
    "\n",
    "import random\n",
    "\n",
    "random.randint(1000,9999)"
   ]
  },
  {
   "cell_type": "code",
   "execution_count": null,
   "id": "fd6729bf-94dd-4bd2-8426-eb6e532d77d9",
   "metadata": {},
   "outputs": [],
   "source": []
  }
 ],
 "metadata": {
  "kernelspec": {
   "display_name": "Python 3 (ipykernel)",
   "language": "python",
   "name": "python3"
  },
  "language_info": {
   "codemirror_mode": {
    "name": "ipython",
    "version": 3
   },
   "file_extension": ".py",
   "mimetype": "text/x-python",
   "name": "python",
   "nbconvert_exporter": "python",
   "pygments_lexer": "ipython3",
   "version": "3.11.5"
  }
 },
 "nbformat": 4,
 "nbformat_minor": 5
}
