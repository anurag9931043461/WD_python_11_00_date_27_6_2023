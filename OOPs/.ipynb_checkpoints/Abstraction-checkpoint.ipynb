{
 "cells": [
  {
   "cell_type": "markdown",
   "id": "7c694fb7-a286-43e8-814f-51326faed335",
   "metadata": {},
   "source": [
    "# Abstraction"
   ]
  },
  {
   "cell_type": "code",
   "execution_count": null,
   "id": "9dd94b47-625b-4c0c-9825-24b4840baf07",
   "metadata": {},
   "outputs": [],
   "source": [
    "class are of two type:\n",
    "\n",
    "# concrete class:\n",
    "\n",
    "    > A class whose instantiation is possible(we can create object)\n",
    "\n",
    "# Abstract class \n",
    "    \n",
    "    > A class whose instantiation is not possible(we cannot create object)\n",
    "    \n",
    "    > a class must inherite ABC class as parent class\n",
    "    \n",
    "    > at least one method of child class must be abstract method\n",
    "\n"
   ]
  },
  {
   "cell_type": "code",
   "execution_count": 7,
   "id": "1d3882e0-d855-48ba-bee1-4c81f0fafbfa",
   "metadata": {},
   "outputs": [],
   "source": [
    "# krishna's class\n",
    "from abc import ABC, abstractmethod\n",
    "class Lanko(ABC):\n",
    "    @abstractmethod\n",
    "    def registration(self):    # Manpreet\n",
    "        pass\n",
    "    def Login(self):      #Kashish\n",
    "        pass\n",
    "    def payment(self):    #kunal\n",
    "        pass \n",
    "    def location(self):    #Rana\n",
    "        pass"
   ]
  },
  {
   "cell_type": "code",
   "execution_count": 8,
   "id": "8ac799df-d456-450e-a671-bf7785ed77b2",
   "metadata": {},
   "outputs": [
    {
     "ename": "TypeError",
     "evalue": "Can't instantiate abstract class Lanko with abstract method registration",
     "output_type": "error",
     "traceback": [
      "\u001b[1;31m---------------------------------------------------------------------------\u001b[0m",
      "\u001b[1;31mTypeError\u001b[0m                                 Traceback (most recent call last)",
      "Cell \u001b[1;32mIn[8], line 1\u001b[0m\n\u001b[1;32m----> 1\u001b[0m krishna\u001b[38;5;241m=\u001b[39m\u001b[43mLanko\u001b[49m\u001b[43m(\u001b[49m\u001b[43m)\u001b[49m\n",
      "\u001b[1;31mTypeError\u001b[0m: Can't instantiate abstract class Lanko with abstract method registration"
     ]
    }
   ],
   "source": [
    "krishna=Lanko()"
   ]
  },
  {
   "cell_type": "code",
   "execution_count": 9,
   "id": "0e03dc9f-fb51-4f42-8e35-00ba6bf7ce79",
   "metadata": {},
   "outputs": [],
   "source": [
    "# krishna's class\n",
    "from abc import ABC, abstractmethod\n",
    "class Lanko(ABC):\n",
    "    @abstractmethod\n",
    "    def registration(self):    # Manpreet\n",
    "        pass\n",
    "    def Login(self):      #Kashish\n",
    "        pass\n",
    "    def payment(self):    #kunal\n",
    "        pass \n",
    "    def location(self):    #Rana\n",
    "        pass"
   ]
  },
  {
   "cell_type": "code",
   "execution_count": 12,
   "id": "bb661e0a-5005-4234-8450-b71ed0d69dad",
   "metadata": {},
   "outputs": [],
   "source": [
    "class Manpreet_Lanko(Lanko):\n",
    "    def registration(self):\n",
    "        print(\"Welcome to registration system\")"
   ]
  },
  {
   "cell_type": "code",
   "execution_count": 13,
   "id": "195b5da4-9957-42d7-b961-c25e0d6bdd24",
   "metadata": {},
   "outputs": [],
   "source": [
    "man=Manpreet_Lanko()"
   ]
  },
  {
   "cell_type": "code",
   "execution_count": 14,
   "id": "4614b15c-56fd-44bb-8656-38a7fea59749",
   "metadata": {},
   "outputs": [],
   "source": [
    "# krishna's class\n",
    "from abc import ABC, abstractmethod\n",
    "class Lanko(ABC):\n",
    "    @abstractmethod\n",
    "    def registration(self):    # Manpreet\n",
    "        pass\n",
    "    @abstractmethod\n",
    "    def Login(self):      #Kashish\n",
    "        pass\n",
    "    @abstractmethod\n",
    "    def payment(self):    #kunal\n",
    "        pass \n",
    "    @abstractmethod\n",
    "    def location(self):    #Rana\n",
    "        pass"
   ]
  },
  {
   "cell_type": "code",
   "execution_count": 17,
   "id": "00843029-2cf0-4a64-a6a9-45f145c50f3f",
   "metadata": {},
   "outputs": [],
   "source": [
    "class kashish_Lanko(Lanko):\n",
    "    def registration(self):\n",
    "        pass\n",
    "    def Login(self):\n",
    "        print(\"Welcome to login section\")\n",
    "    def payment(self):\n",
    "        pass\n",
    "    def location(self):\n",
    "        pass"
   ]
  },
  {
   "cell_type": "code",
   "execution_count": 16,
   "id": "2e497265-62eb-4b4f-ac6b-0f333a2e9da0",
   "metadata": {},
   "outputs": [],
   "source": [
    "kashish=kashish_Lanko()"
   ]
  },
  {
   "cell_type": "code",
   "execution_count": 18,
   "id": "2c084e8e-a959-4cf7-a204-7276c0df8cf2",
   "metadata": {},
   "outputs": [],
   "source": [
    "class kunal_Lanko(Lanko):\n",
    "    def registration(self):\n",
    "        pass\n",
    "    def Login(self):\n",
    "        pass\n",
    "    def payment(self):\n",
    "        print(\"Welcome to payment section\")\n",
    "    def location(self):\n",
    "        pass"
   ]
  },
  {
   "cell_type": "code",
   "execution_count": 20,
   "id": "7aa704df-1918-457c-940b-e63641db1122",
   "metadata": {},
   "outputs": [],
   "source": [
    "kunal=kunal_Lanko()"
   ]
  },
  {
   "cell_type": "code",
   "execution_count": 21,
   "id": "68941ead-f2f1-4f71-b10b-a4e08d70dd16",
   "metadata": {},
   "outputs": [],
   "source": [
    "class Rana_Lanko(Lanko):\n",
    "    def registration(self):\n",
    "        pass\n",
    "    def Login(self):\n",
    "        pass\n",
    "    def payment(self):\n",
    "        pass\n",
    "    def location(self):\n",
    "        print(\"Welcome to location section\")"
   ]
  },
  {
   "cell_type": "code",
   "execution_count": 22,
   "id": "fc5d1474-10be-40e8-9dc0-f8109c94725b",
   "metadata": {},
   "outputs": [],
   "source": [
    "rana=Rana_Lanko()"
   ]
  },
  {
   "cell_type": "code",
   "execution_count": 24,
   "id": "ffbfbddb-1ae0-4441-9836-2e48801d49ea",
   "metadata": {},
   "outputs": [],
   "source": [
    "# krishna's class\n",
    "class Lanko:\n",
    "    def registration(self):\n",
    "        print(\"Welcome to registration system\")\n",
    "    def Login(self):\n",
    "        print(\"Welcome to login section\")\n",
    "    def payment(self):\n",
    "        print(\"Welcome to payment section\")\n",
    "    def location(self):\n",
    "        print(\"Welcome to location section\")"
   ]
  },
  {
   "cell_type": "code",
   "execution_count": 25,
   "id": "d947f8d5-c6cd-4148-9722-16cc6cb395df",
   "metadata": {},
   "outputs": [],
   "source": [
    "krishna=Lanko()"
   ]
  },
  {
   "cell_type": "code",
   "execution_count": 26,
   "id": "d163df1a-acd3-469f-8ca6-25033f4aae15",
   "metadata": {},
   "outputs": [
    {
     "name": "stdout",
     "output_type": "stream",
     "text": [
      "Welcome to location section\n"
     ]
    }
   ],
   "source": [
    "krishna.location()"
   ]
  },
  {
   "cell_type": "code",
   "execution_count": 27,
   "id": "f71ea1ef-74bf-477d-8a81-2ac087242a2d",
   "metadata": {},
   "outputs": [
    {
     "name": "stdout",
     "output_type": "stream",
     "text": [
      "Welcome to login section\n"
     ]
    }
   ],
   "source": [
    "krishna.Login()"
   ]
  },
  {
   "cell_type": "code",
   "execution_count": 28,
   "id": "abd75060-6309-4c93-9d2d-ad3d258073ea",
   "metadata": {},
   "outputs": [
    {
     "name": "stdout",
     "output_type": "stream",
     "text": [
      "Welcome to payment section\n"
     ]
    }
   ],
   "source": [
    "krishna.payment()"
   ]
  },
  {
   "cell_type": "code",
   "execution_count": 29,
   "id": "764e8803-a8a0-46f0-943d-e9dba1f6dc2b",
   "metadata": {},
   "outputs": [
    {
     "name": "stdout",
     "output_type": "stream",
     "text": [
      "Welcome to registration system\n"
     ]
    }
   ],
   "source": [
    "krishna.registration()"
   ]
  },
  {
   "cell_type": "code",
   "execution_count": null,
   "id": "838d01e4-67a1-4fb3-94cf-f2d7a37868ea",
   "metadata": {},
   "outputs": [],
   "source": []
  }
 ],
 "metadata": {
  "kernelspec": {
   "display_name": "Python 3 (ipykernel)",
   "language": "python",
   "name": "python3"
  },
  "language_info": {
   "codemirror_mode": {
    "name": "ipython",
    "version": 3
   },
   "file_extension": ".py",
   "mimetype": "text/x-python",
   "name": "python",
   "nbconvert_exporter": "python",
   "pygments_lexer": "ipython3",
   "version": "3.11.5"
  }
 },
 "nbformat": 4,
 "nbformat_minor": 5
}
